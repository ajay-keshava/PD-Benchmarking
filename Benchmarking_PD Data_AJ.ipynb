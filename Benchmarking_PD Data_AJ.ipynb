{
 "cells": [
  {
   "cell_type": "code",
   "execution_count": 1,
   "metadata": {
    "scrolled": true
   },
   "outputs": [],
   "source": [
    "# Importing required packages\n",
    "# Importing sqlalchemy as snowflake connector\n",
    "\n",
    "\n",
    "import pandas as pd\n",
    "import numpy as np\n",
    "import os\n",
    "\n",
    "from dateutil import parser\n",
    "import datetime\n",
    "\n",
    "import pandas_profiling as pp\n",
    "\n",
    "import matplotlib.pyplot as plt\n",
    "from matplotlib.dates import AutoDateFormatter, AutoDateLocator\n",
    "import seaborn as sns\n",
    "sns.set()\n",
    "\n",
    "from statsmodels.stats.multicomp import pairwise_tukeyhsd"
   ]
  },
  {
   "cell_type": "code",
   "execution_count": 2,
   "metadata": {},
   "outputs": [],
   "source": [
    "# helper function to establish snowflake credentials\n",
    "# NOTE to reader: assumes you are using environment vars\n",
    "    # SNOWFLAKE_USERNAME = USERNAME\n",
    "    # SNOWFLAKE_PASSWORD = PASSWORD\n",
    "\n",
    "from snowflake.sqlalchemy import URL\n",
    "from sqlalchemy import create_engine\n",
    "import logging\n",
    "import os\n",
    "\n",
    "def cmic_connection(schema='DBT'):\n",
    "    \"\"\"\n",
    "    Establish connection to Snowflake DB using SQLAlchemy\n",
    "    \"\"\"\n",
    "    user = dict(os.environ)['SNOWFLAKE_USERNAME']\n",
    "    password = dict(os.environ)['SNOWFLAKE_PASSWORD']\n",
    "    \n",
    "    # turn off Snowflake logging\n",
    "    # https://stackoverflow.com/questions/56525319/turning-off-snowflake-db-logging-while-still-keeping-log-level-as-debug\n",
    "    for name in logging.Logger.manager.loggerDict.keys():\n",
    "        if 'snowflake' in name:\n",
    "            logging.getLogger(name).setLevel(logging.WARNING)\n",
    "            logging.getLogger(name).propagate = False\n",
    "\n",
    "    \n",
    "    engine = create_engine(URL(\n",
    "    account = 'yk42692.us-east-1',\n",
    "    user = user,\n",
    "    password = password,\n",
    "    database = 'CMIC_HISTORICAL',\n",
    "    schema = schema,\n",
    "    warehouse = 'DS_DL_WH_01',\n",
    "    role='READ_WRITE_USER_CMIC_HISTORICAL',\n",
    "    ))\n",
    "\n",
    "    return engine\n",
    "\n",
    "\n",
    "def pxl_connection(schema='RAW_DATA'):\n",
    "    \"\"\"\n",
    "    Establish connection to Snowflake DB using SQLAlchemy\n",
    "\n",
    "    Requires a local config.py file with user='USER_NAME' \n",
    "    and password='PASSWORD'\n",
    "    \"\"\"\n",
    "    user = dict(os.environ)['SNOWFLAKE_USERNAME']\n",
    "    password = dict(os.environ)['SNOWFLAKE_PASSWORD']\n",
    "    \n",
    "    # turn off Snowflake logging\n",
    "    # https://stackoverflow.com/questions/56525319/turning-off-snowflake-db-logging-while-still-keeping-log-level-as-debug\n",
    "    for name in logging.Logger.manager.loggerDict.keys():\n",
    "        if 'snowflake' in name:\n",
    "            logging.getLogger(name).setLevel(logging.WARNING)\n",
    "            logging.getLogger(name).propagate = False\n",
    "\n",
    "    \n",
    "    engine = create_engine(URL(\n",
    "    account = 'yk42692.us-east-1',\n",
    "    user = user,\n",
    "    password = password,\n",
    "    database = 'PAREXEL_DEV',\n",
    "    schema = schema,\n",
    "    warehouse = 'DS_DL_WH_01',\n",
    "    role='DATA_SCIENCE',\n",
    "    ))\n",
    "\n",
    "    return engine"
   ]
  },
  {
   "cell_type": "code",
   "execution_count": 3,
   "metadata": {},
   "outputs": [],
   "source": [
    "cmic = cmic_connection()\n",
    "pxl  = pxl_connection()\n",
    "\n",
    "# create excel sheet. we will populate tabs in the functions\n",
    "writer = pd.ExcelWriter('~/Downloads/Benchmarking_data/Benchmarking_PD_data.xlsx', engine='xlsxwriter')\n",
    "#writer = pd.ExcelWriter('cmic_exports/benchmarking_enrollment_stats/Benchmarking_enrollment_stats_v2.xlsx', engine='xlsxwriter')"
   ]
  },
  {
   "cell_type": "markdown",
   "metadata": {},
   "source": [
    "## LOKAVANT "
   ]
  },
  {
   "cell_type": "markdown",
   "metadata": {},
   "source": [
    "### Global"
   ]
  },
  {
   "cell_type": "code",
   "execution_count": 4,
   "metadata": {
    "scrolled": false
   },
   "outputs": [],
   "source": [
    "sql = \"SELECT * FROM TRANSFORMED.SUBJECT_DAYS\" \n",
    "\n",
    "lkvt_gb_sub_days = pd.read_sql(sql,pxl)"
   ]
  },
  {
   "cell_type": "code",
   "execution_count": 5,
   "metadata": {
    "scrolled": false
   },
   "outputs": [
    {
     "data": {
      "text/html": [
       "<div>\n",
       "<style scoped>\n",
       "    .dataframe tbody tr th:only-of-type {\n",
       "        vertical-align: middle;\n",
       "    }\n",
       "\n",
       "    .dataframe tbody tr th {\n",
       "        vertical-align: top;\n",
       "    }\n",
       "\n",
       "    .dataframe thead th {\n",
       "        text-align: right;\n",
       "    }\n",
       "</style>\n",
       "<table border=\"1\" class=\"dataframe\">\n",
       "  <thead>\n",
       "    <tr style=\"text-align: right;\">\n",
       "      <th></th>\n",
       "      <th>cmdm_location_id</th>\n",
       "      <th>cmdm_study_id</th>\n",
       "      <th>country_cd</th>\n",
       "      <th>country_name</th>\n",
       "      <th>crs_current_status</th>\n",
       "      <th>cmdm_subject_id</th>\n",
       "      <th>subject_id</th>\n",
       "      <th>curr_cmdm_location_id</th>\n",
       "      <th>hist_cmdm_location_id</th>\n",
       "      <th>first_event_date_id</th>\n",
       "      <th>last_event_date_id</th>\n",
       "      <th>last_status_date_id</th>\n",
       "      <th>used_last_date_id</th>\n",
       "      <th>start_date</th>\n",
       "      <th>stop_date</th>\n",
       "      <th>subject_days</th>\n",
       "    </tr>\n",
       "  </thead>\n",
       "  <tbody>\n",
       "    <tr>\n",
       "      <th>0</th>\n",
       "      <td>647678</td>\n",
       "      <td>29132</td>\n",
       "      <td>TUR</td>\n",
       "      <td>Turkey</td>\n",
       "      <td>Completed</td>\n",
       "      <td>1047143</td>\n",
       "      <td>E7603002----</td>\n",
       "      <td>647678</td>\n",
       "      <td>647678</td>\n",
       "      <td>6338.0</td>\n",
       "      <td>7559.0</td>\n",
       "      <td>7559</td>\n",
       "      <td>7559.0</td>\n",
       "      <td>6338.0</td>\n",
       "      <td>7559.0</td>\n",
       "      <td>1221.0</td>\n",
       "    </tr>\n",
       "    <tr>\n",
       "      <th>1</th>\n",
       "      <td>1098169</td>\n",
       "      <td>39812</td>\n",
       "      <td>AUS</td>\n",
       "      <td>Australia</td>\n",
       "      <td>Completed</td>\n",
       "      <td>1511491</td>\n",
       "      <td>05186</td>\n",
       "      <td>1098169</td>\n",
       "      <td>1098169</td>\n",
       "      <td>6446.0</td>\n",
       "      <td>6850.0</td>\n",
       "      <td>6850</td>\n",
       "      <td>6850.0</td>\n",
       "      <td>6446.0</td>\n",
       "      <td>6850.0</td>\n",
       "      <td>404.0</td>\n",
       "    </tr>\n",
       "    <tr>\n",
       "      <th>2</th>\n",
       "      <td>1163143</td>\n",
       "      <td>43592</td>\n",
       "      <td>KOR</td>\n",
       "      <td>Korea, Republic Of</td>\n",
       "      <td>Maintenance</td>\n",
       "      <td>1816426</td>\n",
       "      <td>E6004007</td>\n",
       "      <td>1163143</td>\n",
       "      <td>1163143</td>\n",
       "      <td>7193.0</td>\n",
       "      <td>7697.0</td>\n",
       "      <td>7193</td>\n",
       "      <td>7697.0</td>\n",
       "      <td>7193.0</td>\n",
       "      <td>7697.0</td>\n",
       "      <td>504.0</td>\n",
       "    </tr>\n",
       "    <tr>\n",
       "      <th>3</th>\n",
       "      <td>767514</td>\n",
       "      <td>31872</td>\n",
       "      <td>POL</td>\n",
       "      <td>Poland</td>\n",
       "      <td>Closeout</td>\n",
       "      <td>1371685</td>\n",
       "      <td>09712</td>\n",
       "      <td>767514</td>\n",
       "      <td>767514</td>\n",
       "      <td>6835.0</td>\n",
       "      <td>7109.0</td>\n",
       "      <td>6864</td>\n",
       "      <td>7109.0</td>\n",
       "      <td>6835.0</td>\n",
       "      <td>7109.0</td>\n",
       "      <td>274.0</td>\n",
       "    </tr>\n",
       "    <tr>\n",
       "      <th>4</th>\n",
       "      <td>1109699</td>\n",
       "      <td>37972</td>\n",
       "      <td>BGR</td>\n",
       "      <td>Bulgaria</td>\n",
       "      <td>Maintenance</td>\n",
       "      <td>1949638</td>\n",
       "      <td>18395</td>\n",
       "      <td>1109699</td>\n",
       "      <td>1109699</td>\n",
       "      <td>7390.0</td>\n",
       "      <td>7712.0</td>\n",
       "      <td>7404</td>\n",
       "      <td>7712.0</td>\n",
       "      <td>7390.0</td>\n",
       "      <td>7712.0</td>\n",
       "      <td>322.0</td>\n",
       "    </tr>\n",
       "  </tbody>\n",
       "</table>\n",
       "</div>"
      ],
      "text/plain": [
       "  cmdm_location_id cmdm_study_id country_cd        country_name  \\\n",
       "0           647678         29132        TUR              Turkey   \n",
       "1          1098169         39812        AUS           Australia   \n",
       "2          1163143         43592        KOR  Korea, Republic Of   \n",
       "3           767514         31872        POL              Poland   \n",
       "4          1109699         37972        BGR            Bulgaria   \n",
       "\n",
       "  crs_current_status cmdm_subject_id    subject_id curr_cmdm_location_id  \\\n",
       "0          Completed         1047143  E7603002----                647678   \n",
       "1          Completed         1511491         05186               1098169   \n",
       "2        Maintenance         1816426      E6004007               1163143   \n",
       "3           Closeout         1371685         09712                767514   \n",
       "4        Maintenance         1949638         18395               1109699   \n",
       "\n",
       "  hist_cmdm_location_id  first_event_date_id  last_event_date_id  \\\n",
       "0                647678               6338.0              7559.0   \n",
       "1               1098169               6446.0              6850.0   \n",
       "2               1163143               7193.0              7697.0   \n",
       "3                767514               6835.0              7109.0   \n",
       "4               1109699               7390.0              7712.0   \n",
       "\n",
       "   last_status_date_id  used_last_date_id  start_date  stop_date  subject_days  \n",
       "0                 7559             7559.0      6338.0     7559.0        1221.0  \n",
       "1                 6850             6850.0      6446.0     6850.0         404.0  \n",
       "2                 7193             7697.0      7193.0     7697.0         504.0  \n",
       "3                 6864             7109.0      6835.0     7109.0         274.0  \n",
       "4                 7404             7712.0      7390.0     7712.0         322.0  "
      ]
     },
     "execution_count": 5,
     "metadata": {},
     "output_type": "execute_result"
    }
   ],
   "source": [
    "lkvt_gb_sub_days.head()"
   ]
  },
  {
   "cell_type": "code",
   "execution_count": 6,
   "metadata": {},
   "outputs": [
    {
     "data": {
      "text/plain": [
       "cmdm_location_id         88363\n",
       "cmdm_study_id            88363\n",
       "country_cd               88363\n",
       "country_name             88363\n",
       "crs_current_status       88363\n",
       "cmdm_subject_id          88363\n",
       "subject_id               88347\n",
       "curr_cmdm_location_id    88363\n",
       "hist_cmdm_location_id    88363\n",
       "first_event_date_id      88363\n",
       "last_event_date_id       88363\n",
       "last_status_date_id      88363\n",
       "used_last_date_id        88363\n",
       "start_date               88363\n",
       "stop_date                88363\n",
       "subject_days             88363\n",
       "dtype: int64"
      ]
     },
     "execution_count": 6,
     "metadata": {},
     "output_type": "execute_result"
    }
   ],
   "source": [
    "lkvt_gb_sub_days.count()"
   ]
  },
  {
   "cell_type": "markdown",
   "metadata": {},
   "source": [
    "### Getting sum of subject days per cmdm_study_id"
   ]
  },
  {
   "cell_type": "code",
   "execution_count": 19,
   "metadata": {},
   "outputs": [],
   "source": [
    "sql = \"Select cmdm_study_id, sum(subject_days) from TRANSFORMED.SUBJECT_DAYS group by cmdm_study_id\"\n",
    "    \n",
    "lkvt_gb_sub_days_per_study =  pd.read_sql(sql,pxl)  "
   ]
  },
  {
   "cell_type": "code",
   "execution_count": 20,
   "metadata": {
    "scrolled": true
   },
   "outputs": [
    {
     "data": {
      "text/html": [
       "<div>\n",
       "<style scoped>\n",
       "    .dataframe tbody tr th:only-of-type {\n",
       "        vertical-align: middle;\n",
       "    }\n",
       "\n",
       "    .dataframe tbody tr th {\n",
       "        vertical-align: top;\n",
       "    }\n",
       "\n",
       "    .dataframe thead th {\n",
       "        text-align: right;\n",
       "    }\n",
       "</style>\n",
       "<table border=\"1\" class=\"dataframe\">\n",
       "  <thead>\n",
       "    <tr style=\"text-align: right;\">\n",
       "      <th></th>\n",
       "      <th>cmdm_study_id</th>\n",
       "      <th>SUM(SUBJECT_DAYS)</th>\n",
       "    </tr>\n",
       "  </thead>\n",
       "  <tbody>\n",
       "    <tr>\n",
       "      <th>0</th>\n",
       "      <td>32312</td>\n",
       "      <td>659782.0</td>\n",
       "    </tr>\n",
       "    <tr>\n",
       "      <th>1</th>\n",
       "      <td>46952</td>\n",
       "      <td>56344.0</td>\n",
       "    </tr>\n",
       "    <tr>\n",
       "      <th>2</th>\n",
       "      <td>3239</td>\n",
       "      <td>84717.0</td>\n",
       "    </tr>\n",
       "    <tr>\n",
       "      <th>3</th>\n",
       "      <td>38352</td>\n",
       "      <td>84390.0</td>\n",
       "    </tr>\n",
       "    <tr>\n",
       "      <th>4</th>\n",
       "      <td>41332</td>\n",
       "      <td>3086.0</td>\n",
       "    </tr>\n",
       "  </tbody>\n",
       "</table>\n",
       "</div>"
      ],
      "text/plain": [
       "  cmdm_study_id  SUM(SUBJECT_DAYS)\n",
       "0         32312           659782.0\n",
       "1         46952            56344.0\n",
       "2          3239            84717.0\n",
       "3         38352            84390.0\n",
       "4         41332             3086.0"
      ]
     },
     "execution_count": 20,
     "metadata": {},
     "output_type": "execute_result"
    }
   ],
   "source": [
    "lkvt_gb_sub_days_per_study.head()"
   ]
  },
  {
   "cell_type": "code",
   "execution_count": 21,
   "metadata": {
    "scrolled": false
   },
   "outputs": [
    {
     "data": {
      "text/plain": [
       "cmdm_study_id        92\n",
       "SUM(SUBJECT_DAYS)    92\n",
       "dtype: int64"
      ]
     },
     "execution_count": 21,
     "metadata": {},
     "output_type": "execute_result"
    }
   ],
   "source": [
    "lkvt_gb_sub_days_per_study.count()"
   ]
  },
  {
   "cell_type": "markdown",
   "metadata": {},
   "source": [
    "### Getting total_pd and cmdm_study_id"
   ]
  },
  {
   "cell_type": "code",
   "execution_count": 22,
   "metadata": {},
   "outputs": [],
   "source": [
    "sql = \"Select cmdm_study_id,total_pd from TRANSFORMED.STUDY_PROTOCOL_DEVIATION_METRICS \"\n",
    "       \n",
    "lkvt_gb_study_pro_dev_pd =  pd.read_sql(sql,pxl)  "
   ]
  },
  {
   "cell_type": "code",
   "execution_count": 23,
   "metadata": {
    "scrolled": true
   },
   "outputs": [
    {
     "data": {
      "text/html": [
       "<div>\n",
       "<style scoped>\n",
       "    .dataframe tbody tr th:only-of-type {\n",
       "        vertical-align: middle;\n",
       "    }\n",
       "\n",
       "    .dataframe tbody tr th {\n",
       "        vertical-align: top;\n",
       "    }\n",
       "\n",
       "    .dataframe thead th {\n",
       "        text-align: right;\n",
       "    }\n",
       "</style>\n",
       "<table border=\"1\" class=\"dataframe\">\n",
       "  <thead>\n",
       "    <tr style=\"text-align: right;\">\n",
       "      <th></th>\n",
       "      <th>cmdm_study_id</th>\n",
       "      <th>total_pd</th>\n",
       "    </tr>\n",
       "  </thead>\n",
       "  <tbody>\n",
       "    <tr>\n",
       "      <th>0</th>\n",
       "      <td>29772</td>\n",
       "      <td>49</td>\n",
       "    </tr>\n",
       "    <tr>\n",
       "      <th>1</th>\n",
       "      <td>35792</td>\n",
       "      <td>518</td>\n",
       "    </tr>\n",
       "    <tr>\n",
       "      <th>2</th>\n",
       "      <td>3239</td>\n",
       "      <td>256</td>\n",
       "    </tr>\n",
       "    <tr>\n",
       "      <th>3</th>\n",
       "      <td>3390</td>\n",
       "      <td>1239</td>\n",
       "    </tr>\n",
       "    <tr>\n",
       "      <th>4</th>\n",
       "      <td>3793</td>\n",
       "      <td>19</td>\n",
       "    </tr>\n",
       "  </tbody>\n",
       "</table>\n",
       "</div>"
      ],
      "text/plain": [
       "  cmdm_study_id  total_pd\n",
       "0         29772        49\n",
       "1         35792       518\n",
       "2          3239       256\n",
       "3          3390      1239\n",
       "4          3793        19"
      ]
     },
     "execution_count": 23,
     "metadata": {},
     "output_type": "execute_result"
    }
   ],
   "source": [
    "lkvt_gb_study_pro_dev_pd.head()"
   ]
  },
  {
   "cell_type": "code",
   "execution_count": 24,
   "metadata": {
    "scrolled": true
   },
   "outputs": [
    {
     "data": {
      "text/plain": [
       "cmdm_study_id    222\n",
       "total_pd         222\n",
       "dtype: int64"
      ]
     },
     "execution_count": 24,
     "metadata": {},
     "output_type": "execute_result"
    }
   ],
   "source": [
    "lkvt_gb_study_pro_dev_pd.count()"
   ]
  },
  {
   "cell_type": "code",
   "execution_count": 25,
   "metadata": {},
   "outputs": [],
   "source": [
    "## Joining both total pd and sum(subject_days) keeping cmdm_study_id as primary key"
   ]
  },
  {
   "cell_type": "code",
   "execution_count": 26,
   "metadata": {},
   "outputs": [],
   "source": [
    "lkvt_gb_tps = pd.merge(lkvt_gb_sub_days_per_study,lkvt_gb_study_pro_dev_pd,on='cmdm_study_id',how='inner')"
   ]
  },
  {
   "cell_type": "code",
   "execution_count": 27,
   "metadata": {
    "scrolled": true
   },
   "outputs": [
    {
     "data": {
      "text/html": [
       "<div>\n",
       "<style scoped>\n",
       "    .dataframe tbody tr th:only-of-type {\n",
       "        vertical-align: middle;\n",
       "    }\n",
       "\n",
       "    .dataframe tbody tr th {\n",
       "        vertical-align: top;\n",
       "    }\n",
       "\n",
       "    .dataframe thead th {\n",
       "        text-align: right;\n",
       "    }\n",
       "</style>\n",
       "<table border=\"1\" class=\"dataframe\">\n",
       "  <thead>\n",
       "    <tr style=\"text-align: right;\">\n",
       "      <th></th>\n",
       "      <th>cmdm_study_id</th>\n",
       "      <th>SUM(SUBJECT_DAYS)</th>\n",
       "      <th>total_pd</th>\n",
       "    </tr>\n",
       "  </thead>\n",
       "  <tbody>\n",
       "    <tr>\n",
       "      <th>0</th>\n",
       "      <td>32312</td>\n",
       "      <td>659782.0</td>\n",
       "      <td>5671</td>\n",
       "    </tr>\n",
       "    <tr>\n",
       "      <th>1</th>\n",
       "      <td>46952</td>\n",
       "      <td>56344.0</td>\n",
       "      <td>1235</td>\n",
       "    </tr>\n",
       "    <tr>\n",
       "      <th>2</th>\n",
       "      <td>3239</td>\n",
       "      <td>84717.0</td>\n",
       "      <td>256</td>\n",
       "    </tr>\n",
       "    <tr>\n",
       "      <th>3</th>\n",
       "      <td>38352</td>\n",
       "      <td>84390.0</td>\n",
       "      <td>2867</td>\n",
       "    </tr>\n",
       "    <tr>\n",
       "      <th>4</th>\n",
       "      <td>41332</td>\n",
       "      <td>3086.0</td>\n",
       "      <td>317</td>\n",
       "    </tr>\n",
       "  </tbody>\n",
       "</table>\n",
       "</div>"
      ],
      "text/plain": [
       "  cmdm_study_id  SUM(SUBJECT_DAYS)  total_pd\n",
       "0         32312           659782.0      5671\n",
       "1         46952            56344.0      1235\n",
       "2          3239            84717.0       256\n",
       "3         38352            84390.0      2867\n",
       "4         41332             3086.0       317"
      ]
     },
     "execution_count": 27,
     "metadata": {},
     "output_type": "execute_result"
    }
   ],
   "source": [
    "lkvt_gb_tps.head()"
   ]
  },
  {
   "cell_type": "code",
   "execution_count": 28,
   "metadata": {
    "scrolled": false
   },
   "outputs": [
    {
     "data": {
      "text/plain": [
       "cmdm_study_id        92\n",
       "SUM(SUBJECT_DAYS)    92\n",
       "total_pd             92\n",
       "dtype: int64"
      ]
     },
     "execution_count": 28,
     "metadata": {},
     "output_type": "execute_result"
    }
   ],
   "source": [
    "lkvt_gb_tps.count()"
   ]
  },
  {
   "cell_type": "markdown",
   "metadata": {},
   "source": [
    "### getting major_pd, total_pd and cmdm_study_id"
   ]
  },
  {
   "cell_type": "code",
   "execution_count": 29,
   "metadata": {},
   "outputs": [],
   "source": [
    "sql = \"Select cmdm_study_id,count_major_pd,total_pd from TRANSFORMED.STUDY_PROTOCOL_DEVIATION_METRICS \"\n",
    "       \n",
    "lkvt_gb_study_pro_dev_mp =  pd.read_sql(sql,pxl) "
   ]
  },
  {
   "cell_type": "code",
   "execution_count": 30,
   "metadata": {
    "scrolled": true
   },
   "outputs": [
    {
     "data": {
      "text/html": [
       "<div>\n",
       "<style scoped>\n",
       "    .dataframe tbody tr th:only-of-type {\n",
       "        vertical-align: middle;\n",
       "    }\n",
       "\n",
       "    .dataframe tbody tr th {\n",
       "        vertical-align: top;\n",
       "    }\n",
       "\n",
       "    .dataframe thead th {\n",
       "        text-align: right;\n",
       "    }\n",
       "</style>\n",
       "<table border=\"1\" class=\"dataframe\">\n",
       "  <thead>\n",
       "    <tr style=\"text-align: right;\">\n",
       "      <th></th>\n",
       "      <th>cmdm_study_id</th>\n",
       "      <th>count_major_pd</th>\n",
       "      <th>total_pd</th>\n",
       "    </tr>\n",
       "  </thead>\n",
       "  <tbody>\n",
       "    <tr>\n",
       "      <th>0</th>\n",
       "      <td>3793</td>\n",
       "      <td>0</td>\n",
       "      <td>19</td>\n",
       "    </tr>\n",
       "    <tr>\n",
       "      <th>1</th>\n",
       "      <td>41332</td>\n",
       "      <td>5</td>\n",
       "      <td>317</td>\n",
       "    </tr>\n",
       "    <tr>\n",
       "      <th>2</th>\n",
       "      <td>32312</td>\n",
       "      <td>60</td>\n",
       "      <td>5671</td>\n",
       "    </tr>\n",
       "    <tr>\n",
       "      <th>3</th>\n",
       "      <td>3390</td>\n",
       "      <td>0</td>\n",
       "      <td>1239</td>\n",
       "    </tr>\n",
       "    <tr>\n",
       "      <th>4</th>\n",
       "      <td>3239</td>\n",
       "      <td>31</td>\n",
       "      <td>256</td>\n",
       "    </tr>\n",
       "  </tbody>\n",
       "</table>\n",
       "</div>"
      ],
      "text/plain": [
       "  cmdm_study_id  count_major_pd  total_pd\n",
       "0          3793               0        19\n",
       "1         41332               5       317\n",
       "2         32312              60      5671\n",
       "3          3390               0      1239\n",
       "4          3239              31       256"
      ]
     },
     "execution_count": 30,
     "metadata": {},
     "output_type": "execute_result"
    }
   ],
   "source": [
    "lkvt_gb_study_pro_dev_mp.head()"
   ]
  },
  {
   "cell_type": "code",
   "execution_count": 31,
   "metadata": {
    "scrolled": true
   },
   "outputs": [
    {
     "data": {
      "text/plain": [
       "cmdm_study_id     222\n",
       "count_major_pd    222\n",
       "total_pd          222\n",
       "dtype: int64"
      ]
     },
     "execution_count": 31,
     "metadata": {},
     "output_type": "execute_result"
    }
   ],
   "source": [
    "lkvt_gb_study_pro_dev_mp.count()"
   ]
  },
  {
   "cell_type": "markdown",
   "metadata": {},
   "source": [
    "## 1. Total pd / Total (subject days) "
   ]
  },
  {
   "cell_type": "code",
   "execution_count": 32,
   "metadata": {},
   "outputs": [],
   "source": [
    "lkvt_gb_tps['totalpd_by_sum_subdays'] = lkvt_gb_tps['total_pd'] / lkvt_gb_tps['SUM(SUBJECT_DAYS)']"
   ]
  },
  {
   "cell_type": "code",
   "execution_count": 33,
   "metadata": {
    "scrolled": true
   },
   "outputs": [],
   "source": [
    "lkvt_gb_pd_by_sd_rate = lkvt_gb_tps"
   ]
  },
  {
   "cell_type": "code",
   "execution_count": 34,
   "metadata": {
    "scrolled": true
   },
   "outputs": [
    {
     "data": {
      "text/html": [
       "<div>\n",
       "<style scoped>\n",
       "    .dataframe tbody tr th:only-of-type {\n",
       "        vertical-align: middle;\n",
       "    }\n",
       "\n",
       "    .dataframe tbody tr th {\n",
       "        vertical-align: top;\n",
       "    }\n",
       "\n",
       "    .dataframe thead th {\n",
       "        text-align: right;\n",
       "    }\n",
       "</style>\n",
       "<table border=\"1\" class=\"dataframe\">\n",
       "  <thead>\n",
       "    <tr style=\"text-align: right;\">\n",
       "      <th></th>\n",
       "      <th>cmdm_study_id</th>\n",
       "      <th>SUM(SUBJECT_DAYS)</th>\n",
       "      <th>total_pd</th>\n",
       "      <th>totalpd_by_sum_subdays</th>\n",
       "    </tr>\n",
       "  </thead>\n",
       "  <tbody>\n",
       "    <tr>\n",
       "      <th>0</th>\n",
       "      <td>32312</td>\n",
       "      <td>659782.0</td>\n",
       "      <td>5671</td>\n",
       "      <td>0.008595</td>\n",
       "    </tr>\n",
       "    <tr>\n",
       "      <th>1</th>\n",
       "      <td>46952</td>\n",
       "      <td>56344.0</td>\n",
       "      <td>1235</td>\n",
       "      <td>0.021919</td>\n",
       "    </tr>\n",
       "    <tr>\n",
       "      <th>2</th>\n",
       "      <td>3239</td>\n",
       "      <td>84717.0</td>\n",
       "      <td>256</td>\n",
       "      <td>0.003022</td>\n",
       "    </tr>\n",
       "    <tr>\n",
       "      <th>3</th>\n",
       "      <td>38352</td>\n",
       "      <td>84390.0</td>\n",
       "      <td>2867</td>\n",
       "      <td>0.033973</td>\n",
       "    </tr>\n",
       "    <tr>\n",
       "      <th>4</th>\n",
       "      <td>41332</td>\n",
       "      <td>3086.0</td>\n",
       "      <td>317</td>\n",
       "      <td>0.102722</td>\n",
       "    </tr>\n",
       "  </tbody>\n",
       "</table>\n",
       "</div>"
      ],
      "text/plain": [
       "  cmdm_study_id  SUM(SUBJECT_DAYS)  total_pd  totalpd_by_sum_subdays\n",
       "0         32312           659782.0      5671                0.008595\n",
       "1         46952            56344.0      1235                0.021919\n",
       "2          3239            84717.0       256                0.003022\n",
       "3         38352            84390.0      2867                0.033973\n",
       "4         41332             3086.0       317                0.102722"
      ]
     },
     "execution_count": 34,
     "metadata": {},
     "output_type": "execute_result"
    }
   ],
   "source": [
    "lkvt_gb_pd_by_sd_rate.head()"
   ]
  },
  {
   "cell_type": "code",
   "execution_count": 35,
   "metadata": {
    "scrolled": false
   },
   "outputs": [
    {
     "data": {
      "text/plain": [
       "cmdm_study_id             92\n",
       "SUM(SUBJECT_DAYS)         92\n",
       "total_pd                  92\n",
       "totalpd_by_sum_subdays    92\n",
       "dtype: int64"
      ]
     },
     "execution_count": 35,
     "metadata": {},
     "output_type": "execute_result"
    }
   ],
   "source": [
    "lkvt_gb_pd_by_sd_rate.count()"
   ]
  },
  {
   "cell_type": "code",
   "execution_count": 36,
   "metadata": {
    "scrolled": true
   },
   "outputs": [
    {
     "data": {
      "text/plain": [
       "cmdm_study_id              True\n",
       "SUM(SUBJECT_DAYS)          True\n",
       "total_pd                  False\n",
       "totalpd_by_sum_subdays    False\n",
       "dtype: bool"
      ]
     },
     "execution_count": 36,
     "metadata": {},
     "output_type": "execute_result"
    }
   ],
   "source": [
    "lkvt_gb_pd_by_sd_rate.all()"
   ]
  },
  {
   "cell_type": "code",
   "execution_count": 37,
   "metadata": {},
   "outputs": [],
   "source": [
    "## removing the zero values in the total_pd"
   ]
  },
  {
   "cell_type": "code",
   "execution_count": 38,
   "metadata": {},
   "outputs": [],
   "source": [
    "lkvt_gb_pd_by_sd_rate = lkvt_gb_pd_by_sd_rate[lkvt_gb_pd_by_sd_rate['total_pd']> 0]"
   ]
  },
  {
   "cell_type": "code",
   "execution_count": 41,
   "metadata": {
    "scrolled": true
   },
   "outputs": [
    {
     "data": {
      "text/plain": [
       "cmdm_study_id             90\n",
       "SUM(SUBJECT_DAYS)         90\n",
       "total_pd                  90\n",
       "totalpd_by_sum_subdays    90\n",
       "dtype: int64"
      ]
     },
     "execution_count": 41,
     "metadata": {},
     "output_type": "execute_result"
    }
   ],
   "source": [
    "lkvt_gb_pd_by_sd_rate.count()"
   ]
  },
  {
   "cell_type": "code",
   "execution_count": 42,
   "metadata": {
    "scrolled": false
   },
   "outputs": [
    {
     "data": {
      "text/html": [
       "<div>\n",
       "<style scoped>\n",
       "    .dataframe tbody tr th:only-of-type {\n",
       "        vertical-align: middle;\n",
       "    }\n",
       "\n",
       "    .dataframe tbody tr th {\n",
       "        vertical-align: top;\n",
       "    }\n",
       "\n",
       "    .dataframe thead th {\n",
       "        text-align: right;\n",
       "    }\n",
       "</style>\n",
       "<table border=\"1\" class=\"dataframe\">\n",
       "  <thead>\n",
       "    <tr style=\"text-align: right;\">\n",
       "      <th></th>\n",
       "      <th>cmdm_study_id</th>\n",
       "      <th>SUM(SUBJECT_DAYS)</th>\n",
       "      <th>total_pd</th>\n",
       "      <th>totalpd_by_sum_subdays</th>\n",
       "    </tr>\n",
       "  </thead>\n",
       "  <tbody>\n",
       "    <tr>\n",
       "      <th>0</th>\n",
       "      <td>32312</td>\n",
       "      <td>659782.0</td>\n",
       "      <td>5671</td>\n",
       "      <td>0.008595</td>\n",
       "    </tr>\n",
       "    <tr>\n",
       "      <th>1</th>\n",
       "      <td>46952</td>\n",
       "      <td>56344.0</td>\n",
       "      <td>1235</td>\n",
       "      <td>0.021919</td>\n",
       "    </tr>\n",
       "    <tr>\n",
       "      <th>2</th>\n",
       "      <td>3239</td>\n",
       "      <td>84717.0</td>\n",
       "      <td>256</td>\n",
       "      <td>0.003022</td>\n",
       "    </tr>\n",
       "    <tr>\n",
       "      <th>3</th>\n",
       "      <td>38352</td>\n",
       "      <td>84390.0</td>\n",
       "      <td>2867</td>\n",
       "      <td>0.033973</td>\n",
       "    </tr>\n",
       "    <tr>\n",
       "      <th>4</th>\n",
       "      <td>41332</td>\n",
       "      <td>3086.0</td>\n",
       "      <td>317</td>\n",
       "      <td>0.102722</td>\n",
       "    </tr>\n",
       "  </tbody>\n",
       "</table>\n",
       "</div>"
      ],
      "text/plain": [
       "  cmdm_study_id  SUM(SUBJECT_DAYS)  total_pd  totalpd_by_sum_subdays\n",
       "0         32312           659782.0      5671                0.008595\n",
       "1         46952            56344.0      1235                0.021919\n",
       "2          3239            84717.0       256                0.003022\n",
       "3         38352            84390.0      2867                0.033973\n",
       "4         41332             3086.0       317                0.102722"
      ]
     },
     "execution_count": 42,
     "metadata": {},
     "output_type": "execute_result"
    }
   ],
   "source": [
    "lkvt_gb_pd_by_sd_rate.head()"
   ]
  },
  {
   "cell_type": "code",
   "execution_count": 43,
   "metadata": {},
   "outputs": [],
   "source": [
    "## Multiplying the metric by 1000 so that the metric value will not be low."
   ]
  },
  {
   "cell_type": "code",
   "execution_count": 44,
   "metadata": {
    "scrolled": false
   },
   "outputs": [
    {
     "name": "stderr",
     "output_type": "stream",
     "text": [
      "/tmp/ipykernel_24187/3505192646.py:1: SettingWithCopyWarning: \n",
      "A value is trying to be set on a copy of a slice from a DataFrame.\n",
      "Try using .loc[row_indexer,col_indexer] = value instead\n",
      "\n",
      "See the caveats in the documentation: https://pandas.pydata.org/pandas-docs/stable/user_guide/indexing.html#returning-a-view-versus-a-copy\n",
      "  lkvt_gb_pd_by_sd_rate['totalpd_by_sum_subdays'] = lkvt_gb_pd_by_sd_rate['totalpd_by_sum_subdays']*1000\n"
     ]
    }
   ],
   "source": [
    "lkvt_gb_pd_by_sd_rate['totalpd_by_sum_subdays'] = lkvt_gb_pd_by_sd_rate['totalpd_by_sum_subdays']*1000"
   ]
  },
  {
   "cell_type": "code",
   "execution_count": 45,
   "metadata": {
    "scrolled": false
   },
   "outputs": [
    {
     "data": {
      "text/html": [
       "<div>\n",
       "<style scoped>\n",
       "    .dataframe tbody tr th:only-of-type {\n",
       "        vertical-align: middle;\n",
       "    }\n",
       "\n",
       "    .dataframe tbody tr th {\n",
       "        vertical-align: top;\n",
       "    }\n",
       "\n",
       "    .dataframe thead th {\n",
       "        text-align: right;\n",
       "    }\n",
       "</style>\n",
       "<table border=\"1\" class=\"dataframe\">\n",
       "  <thead>\n",
       "    <tr style=\"text-align: right;\">\n",
       "      <th></th>\n",
       "      <th>cmdm_study_id</th>\n",
       "      <th>SUM(SUBJECT_DAYS)</th>\n",
       "      <th>total_pd</th>\n",
       "      <th>totalpd_by_sum_subdays</th>\n",
       "    </tr>\n",
       "  </thead>\n",
       "  <tbody>\n",
       "    <tr>\n",
       "      <th>0</th>\n",
       "      <td>32312</td>\n",
       "      <td>659782.0</td>\n",
       "      <td>5671</td>\n",
       "      <td>8.595263</td>\n",
       "    </tr>\n",
       "    <tr>\n",
       "      <th>1</th>\n",
       "      <td>46952</td>\n",
       "      <td>56344.0</td>\n",
       "      <td>1235</td>\n",
       "      <td>21.918927</td>\n",
       "    </tr>\n",
       "    <tr>\n",
       "      <th>2</th>\n",
       "      <td>3239</td>\n",
       "      <td>84717.0</td>\n",
       "      <td>256</td>\n",
       "      <td>3.021826</td>\n",
       "    </tr>\n",
       "    <tr>\n",
       "      <th>3</th>\n",
       "      <td>38352</td>\n",
       "      <td>84390.0</td>\n",
       "      <td>2867</td>\n",
       "      <td>33.973220</td>\n",
       "    </tr>\n",
       "    <tr>\n",
       "      <th>4</th>\n",
       "      <td>41332</td>\n",
       "      <td>3086.0</td>\n",
       "      <td>317</td>\n",
       "      <td>102.721970</td>\n",
       "    </tr>\n",
       "  </tbody>\n",
       "</table>\n",
       "</div>"
      ],
      "text/plain": [
       "  cmdm_study_id  SUM(SUBJECT_DAYS)  total_pd  totalpd_by_sum_subdays\n",
       "0         32312           659782.0      5671                8.595263\n",
       "1         46952            56344.0      1235               21.918927\n",
       "2          3239            84717.0       256                3.021826\n",
       "3         38352            84390.0      2867               33.973220\n",
       "4         41332             3086.0       317              102.721970"
      ]
     },
     "execution_count": 45,
     "metadata": {},
     "output_type": "execute_result"
    }
   ],
   "source": [
    "lkvt_gb_pd_by_sd_rate.head()"
   ]
  },
  {
   "cell_type": "code",
   "execution_count": 46,
   "metadata": {},
   "outputs": [
    {
     "data": {
      "text/plain": [
       "cmdm_study_id             90\n",
       "SUM(SUBJECT_DAYS)         90\n",
       "total_pd                  90\n",
       "totalpd_by_sum_subdays    90\n",
       "dtype: int64"
      ]
     },
     "execution_count": 46,
     "metadata": {},
     "output_type": "execute_result"
    }
   ],
   "source": [
    "lkvt_gb_pd_by_sd_rate.count()"
   ]
  },
  {
   "cell_type": "markdown",
   "metadata": {},
   "source": [
    "## 2. Total major pd / Total pd"
   ]
  },
  {
   "cell_type": "code",
   "execution_count": 47,
   "metadata": {
    "scrolled": true
   },
   "outputs": [],
   "source": [
    "lkvt_gb_study_pro_dev_mp['totalmajpd_by_totpd'] = lkvt_gb_study_pro_dev_mp['count_major_pd']/lkvt_gb_study_pro_dev_mp['total_pd']"
   ]
  },
  {
   "cell_type": "code",
   "execution_count": 48,
   "metadata": {},
   "outputs": [],
   "source": [
    "lkvt_gb_mp_by_tp_rate = lkvt_gb_study_pro_dev_mp"
   ]
  },
  {
   "cell_type": "code",
   "execution_count": 49,
   "metadata": {
    "scrolled": true
   },
   "outputs": [
    {
     "data": {
      "text/html": [
       "<div>\n",
       "<style scoped>\n",
       "    .dataframe tbody tr th:only-of-type {\n",
       "        vertical-align: middle;\n",
       "    }\n",
       "\n",
       "    .dataframe tbody tr th {\n",
       "        vertical-align: top;\n",
       "    }\n",
       "\n",
       "    .dataframe thead th {\n",
       "        text-align: right;\n",
       "    }\n",
       "</style>\n",
       "<table border=\"1\" class=\"dataframe\">\n",
       "  <thead>\n",
       "    <tr style=\"text-align: right;\">\n",
       "      <th></th>\n",
       "      <th>cmdm_study_id</th>\n",
       "      <th>count_major_pd</th>\n",
       "      <th>total_pd</th>\n",
       "      <th>totalmajpd_by_totpd</th>\n",
       "    </tr>\n",
       "  </thead>\n",
       "  <tbody>\n",
       "    <tr>\n",
       "      <th>0</th>\n",
       "      <td>3793</td>\n",
       "      <td>0</td>\n",
       "      <td>19</td>\n",
       "      <td>0.000000</td>\n",
       "    </tr>\n",
       "    <tr>\n",
       "      <th>1</th>\n",
       "      <td>41332</td>\n",
       "      <td>5</td>\n",
       "      <td>317</td>\n",
       "      <td>0.015773</td>\n",
       "    </tr>\n",
       "    <tr>\n",
       "      <th>2</th>\n",
       "      <td>32312</td>\n",
       "      <td>60</td>\n",
       "      <td>5671</td>\n",
       "      <td>0.010580</td>\n",
       "    </tr>\n",
       "    <tr>\n",
       "      <th>3</th>\n",
       "      <td>3390</td>\n",
       "      <td>0</td>\n",
       "      <td>1239</td>\n",
       "      <td>0.000000</td>\n",
       "    </tr>\n",
       "    <tr>\n",
       "      <th>4</th>\n",
       "      <td>3239</td>\n",
       "      <td>31</td>\n",
       "      <td>256</td>\n",
       "      <td>0.121094</td>\n",
       "    </tr>\n",
       "  </tbody>\n",
       "</table>\n",
       "</div>"
      ],
      "text/plain": [
       "  cmdm_study_id  count_major_pd  total_pd  totalmajpd_by_totpd\n",
       "0          3793               0        19             0.000000\n",
       "1         41332               5       317             0.015773\n",
       "2         32312              60      5671             0.010580\n",
       "3          3390               0      1239             0.000000\n",
       "4          3239              31       256             0.121094"
      ]
     },
     "execution_count": 49,
     "metadata": {},
     "output_type": "execute_result"
    }
   ],
   "source": [
    "lkvt_gb_mp_by_tp_rate.head()"
   ]
  },
  {
   "cell_type": "code",
   "execution_count": 50,
   "metadata": {
    "scrolled": false
   },
   "outputs": [
    {
     "data": {
      "text/plain": [
       "cmdm_study_id          222\n",
       "count_major_pd         222\n",
       "total_pd               222\n",
       "totalmajpd_by_totpd    183\n",
       "dtype: int64"
      ]
     },
     "execution_count": 50,
     "metadata": {},
     "output_type": "execute_result"
    }
   ],
   "source": [
    "lkvt_gb_mp_by_tp_rate.count()"
   ]
  },
  {
   "cell_type": "code",
   "execution_count": 51,
   "metadata": {},
   "outputs": [],
   "source": [
    "## Deleting the zero values from count_major_pd"
   ]
  },
  {
   "cell_type": "code",
   "execution_count": 52,
   "metadata": {},
   "outputs": [],
   "source": [
    "lkvt_gb_mp_by_tp_rate = lkvt_gb_mp_by_tp_rate[lkvt_gb_mp_by_tp_rate['count_major_pd']> 0] ##using greater than zero"
   ]
  },
  {
   "cell_type": "code",
   "execution_count": 53,
   "metadata": {
    "scrolled": true
   },
   "outputs": [
    {
     "data": {
      "text/plain": [
       "cmdm_study_id          76\n",
       "count_major_pd         76\n",
       "total_pd               76\n",
       "totalmajpd_by_totpd    76\n",
       "dtype: int64"
      ]
     },
     "execution_count": 53,
     "metadata": {},
     "output_type": "execute_result"
    }
   ],
   "source": [
    "lkvt_gb_mp_by_tp_rate.count()"
   ]
  },
  {
   "cell_type": "code",
   "execution_count": 54,
   "metadata": {
    "scrolled": false
   },
   "outputs": [
    {
     "data": {
      "text/plain": [
       "cmdm_study_id          0\n",
       "count_major_pd         0\n",
       "total_pd               0\n",
       "totalmajpd_by_totpd    0\n",
       "dtype: int64"
      ]
     },
     "execution_count": 54,
     "metadata": {},
     "output_type": "execute_result"
    }
   ],
   "source": [
    "lkvt_gb_mp_by_tp_rate.isnull().sum() "
   ]
  },
  {
   "cell_type": "code",
   "execution_count": 55,
   "metadata": {},
   "outputs": [],
   "source": [
    "# Now there are no null values nor NAN's."
   ]
  },
  {
   "cell_type": "code",
   "execution_count": 56,
   "metadata": {
    "scrolled": true
   },
   "outputs": [
    {
     "data": {
      "text/html": [
       "<div>\n",
       "<style scoped>\n",
       "    .dataframe tbody tr th:only-of-type {\n",
       "        vertical-align: middle;\n",
       "    }\n",
       "\n",
       "    .dataframe tbody tr th {\n",
       "        vertical-align: top;\n",
       "    }\n",
       "\n",
       "    .dataframe thead th {\n",
       "        text-align: right;\n",
       "    }\n",
       "</style>\n",
       "<table border=\"1\" class=\"dataframe\">\n",
       "  <thead>\n",
       "    <tr style=\"text-align: right;\">\n",
       "      <th></th>\n",
       "      <th>cmdm_study_id</th>\n",
       "      <th>count_major_pd</th>\n",
       "      <th>total_pd</th>\n",
       "      <th>totalmajpd_by_totpd</th>\n",
       "    </tr>\n",
       "  </thead>\n",
       "  <tbody>\n",
       "    <tr>\n",
       "      <th>1</th>\n",
       "      <td>41332</td>\n",
       "      <td>5</td>\n",
       "      <td>317</td>\n",
       "      <td>0.015773</td>\n",
       "    </tr>\n",
       "    <tr>\n",
       "      <th>2</th>\n",
       "      <td>32312</td>\n",
       "      <td>60</td>\n",
       "      <td>5671</td>\n",
       "      <td>0.010580</td>\n",
       "    </tr>\n",
       "    <tr>\n",
       "      <th>4</th>\n",
       "      <td>3239</td>\n",
       "      <td>31</td>\n",
       "      <td>256</td>\n",
       "      <td>0.121094</td>\n",
       "    </tr>\n",
       "    <tr>\n",
       "      <th>6</th>\n",
       "      <td>35792</td>\n",
       "      <td>116</td>\n",
       "      <td>518</td>\n",
       "      <td>0.223938</td>\n",
       "    </tr>\n",
       "    <tr>\n",
       "      <th>8</th>\n",
       "      <td>46952</td>\n",
       "      <td>113</td>\n",
       "      <td>1235</td>\n",
       "      <td>0.091498</td>\n",
       "    </tr>\n",
       "  </tbody>\n",
       "</table>\n",
       "</div>"
      ],
      "text/plain": [
       "  cmdm_study_id  count_major_pd  total_pd  totalmajpd_by_totpd\n",
       "1         41332               5       317             0.015773\n",
       "2         32312              60      5671             0.010580\n",
       "4          3239              31       256             0.121094\n",
       "6         35792             116       518             0.223938\n",
       "8         46952             113      1235             0.091498"
      ]
     },
     "execution_count": 56,
     "metadata": {},
     "output_type": "execute_result"
    }
   ],
   "source": [
    "lkvt_gb_mp_by_tp_rate.head()"
   ]
  },
  {
   "cell_type": "code",
   "execution_count": 57,
   "metadata": {},
   "outputs": [],
   "source": [
    "## ## Multiplying the metric by 1000 so that the metric value will not be low."
   ]
  },
  {
   "cell_type": "code",
   "execution_count": 58,
   "metadata": {
    "scrolled": true
   },
   "outputs": [
    {
     "name": "stderr",
     "output_type": "stream",
     "text": [
      "/tmp/ipykernel_24187/3676777450.py:1: SettingWithCopyWarning: \n",
      "A value is trying to be set on a copy of a slice from a DataFrame.\n",
      "Try using .loc[row_indexer,col_indexer] = value instead\n",
      "\n",
      "See the caveats in the documentation: https://pandas.pydata.org/pandas-docs/stable/user_guide/indexing.html#returning-a-view-versus-a-copy\n",
      "  lkvt_gb_mp_by_tp_rate['totalmajpd_by_totpd'] = lkvt_gb_mp_by_tp_rate['totalmajpd_by_totpd']*1000\n"
     ]
    }
   ],
   "source": [
    "lkvt_gb_mp_by_tp_rate['totalmajpd_by_totpd'] = lkvt_gb_mp_by_tp_rate['totalmajpd_by_totpd']*1000"
   ]
  },
  {
   "cell_type": "code",
   "execution_count": 59,
   "metadata": {
    "scrolled": true
   },
   "outputs": [
    {
     "data": {
      "text/html": [
       "<div>\n",
       "<style scoped>\n",
       "    .dataframe tbody tr th:only-of-type {\n",
       "        vertical-align: middle;\n",
       "    }\n",
       "\n",
       "    .dataframe tbody tr th {\n",
       "        vertical-align: top;\n",
       "    }\n",
       "\n",
       "    .dataframe thead th {\n",
       "        text-align: right;\n",
       "    }\n",
       "</style>\n",
       "<table border=\"1\" class=\"dataframe\">\n",
       "  <thead>\n",
       "    <tr style=\"text-align: right;\">\n",
       "      <th></th>\n",
       "      <th>cmdm_study_id</th>\n",
       "      <th>count_major_pd</th>\n",
       "      <th>total_pd</th>\n",
       "      <th>totalmajpd_by_totpd</th>\n",
       "    </tr>\n",
       "  </thead>\n",
       "  <tbody>\n",
       "    <tr>\n",
       "      <th>1</th>\n",
       "      <td>41332</td>\n",
       "      <td>5</td>\n",
       "      <td>317</td>\n",
       "      <td>15.772871</td>\n",
       "    </tr>\n",
       "    <tr>\n",
       "      <th>2</th>\n",
       "      <td>32312</td>\n",
       "      <td>60</td>\n",
       "      <td>5671</td>\n",
       "      <td>10.580145</td>\n",
       "    </tr>\n",
       "    <tr>\n",
       "      <th>4</th>\n",
       "      <td>3239</td>\n",
       "      <td>31</td>\n",
       "      <td>256</td>\n",
       "      <td>121.093750</td>\n",
       "    </tr>\n",
       "    <tr>\n",
       "      <th>6</th>\n",
       "      <td>35792</td>\n",
       "      <td>116</td>\n",
       "      <td>518</td>\n",
       "      <td>223.938224</td>\n",
       "    </tr>\n",
       "    <tr>\n",
       "      <th>8</th>\n",
       "      <td>46952</td>\n",
       "      <td>113</td>\n",
       "      <td>1235</td>\n",
       "      <td>91.497976</td>\n",
       "    </tr>\n",
       "  </tbody>\n",
       "</table>\n",
       "</div>"
      ],
      "text/plain": [
       "  cmdm_study_id  count_major_pd  total_pd  totalmajpd_by_totpd\n",
       "1         41332               5       317            15.772871\n",
       "2         32312              60      5671            10.580145\n",
       "4          3239              31       256           121.093750\n",
       "6         35792             116       518           223.938224\n",
       "8         46952             113      1235            91.497976"
      ]
     },
     "execution_count": 59,
     "metadata": {},
     "output_type": "execute_result"
    }
   ],
   "source": [
    "lkvt_gb_mp_by_tp_rate.head()"
   ]
  },
  {
   "cell_type": "markdown",
   "metadata": {},
   "source": [
    "## LOKAVANT"
   ]
  },
  {
   "cell_type": "markdown",
   "metadata": {},
   "source": [
    "### Japan"
   ]
  },
  {
   "cell_type": "code",
   "execution_count": 60,
   "metadata": {
    "scrolled": true
   },
   "outputs": [
    {
     "data": {
      "text/html": [
       "<div>\n",
       "<style scoped>\n",
       "    .dataframe tbody tr th:only-of-type {\n",
       "        vertical-align: middle;\n",
       "    }\n",
       "\n",
       "    .dataframe tbody tr th {\n",
       "        vertical-align: top;\n",
       "    }\n",
       "\n",
       "    .dataframe thead th {\n",
       "        text-align: right;\n",
       "    }\n",
       "</style>\n",
       "<table border=\"1\" class=\"dataframe\">\n",
       "  <thead>\n",
       "    <tr style=\"text-align: right;\">\n",
       "      <th></th>\n",
       "      <th>cmdm_location_id</th>\n",
       "      <th>cmdm_study_id</th>\n",
       "      <th>country_cd</th>\n",
       "      <th>country_name</th>\n",
       "      <th>crs_current_status</th>\n",
       "      <th>cmdm_subject_id</th>\n",
       "      <th>subject_id</th>\n",
       "      <th>curr_cmdm_location_id</th>\n",
       "      <th>hist_cmdm_location_id</th>\n",
       "      <th>first_event_date_id</th>\n",
       "      <th>last_event_date_id</th>\n",
       "      <th>last_status_date_id</th>\n",
       "      <th>used_last_date_id</th>\n",
       "      <th>start_date</th>\n",
       "      <th>stop_date</th>\n",
       "      <th>subject_days</th>\n",
       "    </tr>\n",
       "  </thead>\n",
       "  <tbody>\n",
       "    <tr>\n",
       "      <th>0</th>\n",
       "      <td>1109708</td>\n",
       "      <td>37972</td>\n",
       "      <td>BGR</td>\n",
       "      <td>Bulgaria</td>\n",
       "      <td>Maintenance</td>\n",
       "      <td>1890421</td>\n",
       "      <td>18264</td>\n",
       "      <td>1109708</td>\n",
       "      <td>1109708</td>\n",
       "      <td>7325.0</td>\n",
       "      <td>7703.0</td>\n",
       "      <td>7348</td>\n",
       "      <td>7703.0</td>\n",
       "      <td>7325.0</td>\n",
       "      <td>7703.0</td>\n",
       "      <td>378.0</td>\n",
       "    </tr>\n",
       "    <tr>\n",
       "      <th>1</th>\n",
       "      <td>1140734</td>\n",
       "      <td>41652</td>\n",
       "      <td>USA</td>\n",
       "      <td>United States</td>\n",
       "      <td>Completed</td>\n",
       "      <td>1711187</td>\n",
       "      <td>10070-005</td>\n",
       "      <td>1140734</td>\n",
       "      <td>1140734</td>\n",
       "      <td>7113.0</td>\n",
       "      <td>7329.0</td>\n",
       "      <td>7329</td>\n",
       "      <td>7329.0</td>\n",
       "      <td>7113.0</td>\n",
       "      <td>7329.0</td>\n",
       "      <td>216.0</td>\n",
       "    </tr>\n",
       "    <tr>\n",
       "      <th>2</th>\n",
       "      <td>1120775</td>\n",
       "      <td>39652</td>\n",
       "      <td>CZE</td>\n",
       "      <td>Czech Republic</td>\n",
       "      <td>Recruiting</td>\n",
       "      <td>2108618</td>\n",
       "      <td>11565</td>\n",
       "      <td>1120775</td>\n",
       "      <td>1120775</td>\n",
       "      <td>7620.0</td>\n",
       "      <td>7704.0</td>\n",
       "      <td>7620</td>\n",
       "      <td>7704.0</td>\n",
       "      <td>7620.0</td>\n",
       "      <td>7704.0</td>\n",
       "      <td>84.0</td>\n",
       "    </tr>\n",
       "    <tr>\n",
       "      <th>3</th>\n",
       "      <td>827424</td>\n",
       "      <td>37092</td>\n",
       "      <td>POL</td>\n",
       "      <td>Poland</td>\n",
       "      <td>Recruiting</td>\n",
       "      <td>1800418</td>\n",
       "      <td>09597</td>\n",
       "      <td>827424</td>\n",
       "      <td>827424</td>\n",
       "      <td>7212.0</td>\n",
       "      <td>7716.0</td>\n",
       "      <td>7212</td>\n",
       "      <td>7716.0</td>\n",
       "      <td>7212.0</td>\n",
       "      <td>7716.0</td>\n",
       "      <td>504.0</td>\n",
       "    </tr>\n",
       "    <tr>\n",
       "      <th>4</th>\n",
       "      <td>748370</td>\n",
       "      <td>33672</td>\n",
       "      <td>JPN</td>\n",
       "      <td>Japan</td>\n",
       "      <td>Completed</td>\n",
       "      <td>1136154</td>\n",
       "      <td>E4301005</td>\n",
       "      <td>748370</td>\n",
       "      <td>748370</td>\n",
       "      <td>6625.0</td>\n",
       "      <td>6688.0</td>\n",
       "      <td>6681</td>\n",
       "      <td>6681.0</td>\n",
       "      <td>6625.0</td>\n",
       "      <td>6681.0</td>\n",
       "      <td>56.0</td>\n",
       "    </tr>\n",
       "  </tbody>\n",
       "</table>\n",
       "</div>"
      ],
      "text/plain": [
       "  cmdm_location_id cmdm_study_id country_cd    country_name  \\\n",
       "0          1109708         37972        BGR        Bulgaria   \n",
       "1          1140734         41652        USA   United States   \n",
       "2          1120775         39652        CZE  Czech Republic   \n",
       "3           827424         37092        POL          Poland   \n",
       "4           748370         33672        JPN           Japan   \n",
       "\n",
       "  crs_current_status cmdm_subject_id subject_id curr_cmdm_location_id  \\\n",
       "0        Maintenance         1890421      18264               1109708   \n",
       "1          Completed         1711187  10070-005               1140734   \n",
       "2         Recruiting         2108618      11565               1120775   \n",
       "3         Recruiting         1800418      09597                827424   \n",
       "4          Completed         1136154   E4301005                748370   \n",
       "\n",
       "  hist_cmdm_location_id  first_event_date_id  last_event_date_id  \\\n",
       "0               1109708               7325.0              7703.0   \n",
       "1               1140734               7113.0              7329.0   \n",
       "2               1120775               7620.0              7704.0   \n",
       "3                827424               7212.0              7716.0   \n",
       "4                748370               6625.0              6688.0   \n",
       "\n",
       "   last_status_date_id  used_last_date_id  start_date  stop_date  subject_days  \n",
       "0                 7348             7703.0      7325.0     7703.0         378.0  \n",
       "1                 7329             7329.0      7113.0     7329.0         216.0  \n",
       "2                 7620             7704.0      7620.0     7704.0          84.0  \n",
       "3                 7212             7716.0      7212.0     7716.0         504.0  \n",
       "4                 6681             6681.0      6625.0     6681.0          56.0  "
      ]
     },
     "execution_count": 60,
     "metadata": {},
     "output_type": "execute_result"
    }
   ],
   "source": [
    "# Segregating Japan country data from the the subject days table.\n",
    "# We already have lokavant Global data in the data frame - lkvt_gb_sub_days\n",
    "\n",
    "\n",
    "lkvt_gb_sub_days.head()"
   ]
  },
  {
   "cell_type": "code",
   "execution_count": 61,
   "metadata": {
    "scrolled": false
   },
   "outputs": [
    {
     "data": {
      "text/plain": [
       "cmdm_location_id         88329\n",
       "cmdm_study_id            88329\n",
       "country_cd               88329\n",
       "country_name             88329\n",
       "crs_current_status       88329\n",
       "cmdm_subject_id          88329\n",
       "subject_id               88313\n",
       "curr_cmdm_location_id    88329\n",
       "hist_cmdm_location_id    88329\n",
       "first_event_date_id      88329\n",
       "last_event_date_id       88329\n",
       "last_status_date_id      88329\n",
       "used_last_date_id        88329\n",
       "start_date               88329\n",
       "stop_date                88329\n",
       "subject_days             88329\n",
       "dtype: int64"
      ]
     },
     "execution_count": 61,
     "metadata": {},
     "output_type": "execute_result"
    }
   ],
   "source": [
    "lkvt_gb_sub_days.count()"
   ]
  },
  {
   "cell_type": "markdown",
   "metadata": {},
   "source": [
    "### Getting sum of subject days per cmdm_study_id"
   ]
  },
  {
   "cell_type": "code",
   "execution_count": 62,
   "metadata": {
    "scrolled": false
   },
   "outputs": [],
   "source": [
    "# So we filter only Japan country using Country_cd = JPN  and grouping by site id and study id\n",
    "\n",
    "sql = \"select cmdm_location_id,cmdm_study_id,sum(subject_days) as sum_subdays from TRANSFORMED.SUBJECT_DAYS where country_cd ='JPN' group by cmdm_location_id,cmdm_study_id\"\n",
    "\n",
    "lkvt_jp_sub_days_per_study =  pd.read_sql(sql,pxl) "
   ]
  },
  {
   "cell_type": "code",
   "execution_count": 63,
   "metadata": {
    "scrolled": true
   },
   "outputs": [
    {
     "data": {
      "text/html": [
       "<div>\n",
       "<style scoped>\n",
       "    .dataframe tbody tr th:only-of-type {\n",
       "        vertical-align: middle;\n",
       "    }\n",
       "\n",
       "    .dataframe tbody tr th {\n",
       "        vertical-align: top;\n",
       "    }\n",
       "\n",
       "    .dataframe thead th {\n",
       "        text-align: right;\n",
       "    }\n",
       "</style>\n",
       "<table border=\"1\" class=\"dataframe\">\n",
       "  <thead>\n",
       "    <tr style=\"text-align: right;\">\n",
       "      <th></th>\n",
       "      <th>cmdm_location_id</th>\n",
       "      <th>cmdm_study_id</th>\n",
       "      <th>sum_subdays</th>\n",
       "    </tr>\n",
       "  </thead>\n",
       "  <tbody>\n",
       "    <tr>\n",
       "      <th>0</th>\n",
       "      <td>863878</td>\n",
       "      <td>25465</td>\n",
       "      <td>665.0</td>\n",
       "    </tr>\n",
       "    <tr>\n",
       "      <th>1</th>\n",
       "      <td>931430</td>\n",
       "      <td>38973</td>\n",
       "      <td>898.0</td>\n",
       "    </tr>\n",
       "    <tr>\n",
       "      <th>2</th>\n",
       "      <td>748370</td>\n",
       "      <td>33672</td>\n",
       "      <td>623.0</td>\n",
       "    </tr>\n",
       "    <tr>\n",
       "      <th>3</th>\n",
       "      <td>738532</td>\n",
       "      <td>33552</td>\n",
       "      <td>1482.0</td>\n",
       "    </tr>\n",
       "    <tr>\n",
       "      <th>4</th>\n",
       "      <td>791742</td>\n",
       "      <td>36192</td>\n",
       "      <td>573.0</td>\n",
       "    </tr>\n",
       "  </tbody>\n",
       "</table>\n",
       "</div>"
      ],
      "text/plain": [
       "  cmdm_location_id cmdm_study_id  sum_subdays\n",
       "0           863878         25465        665.0\n",
       "1           931430         38973        898.0\n",
       "2           748370         33672        623.0\n",
       "3           738532         33552       1482.0\n",
       "4           791742         36192        573.0"
      ]
     },
     "execution_count": 63,
     "metadata": {},
     "output_type": "execute_result"
    }
   ],
   "source": [
    "lkvt_jp_sub_days_per_study.head()"
   ]
  },
  {
   "cell_type": "code",
   "execution_count": 64,
   "metadata": {
    "scrolled": true
   },
   "outputs": [
    {
     "data": {
      "text/plain": [
       "cmdm_location_id    602\n",
       "cmdm_study_id       602\n",
       "sum_subdays         602\n",
       "dtype: int64"
      ]
     },
     "execution_count": 64,
     "metadata": {},
     "output_type": "execute_result"
    }
   ],
   "source": [
    "lkvt_jp_sub_days_per_study.count()"
   ]
  },
  {
   "cell_type": "markdown",
   "metadata": {},
   "source": [
    "### Getting total_pd,sum(subject_days) and cmdm_study_id"
   ]
  },
  {
   "cell_type": "code",
   "execution_count": 65,
   "metadata": {},
   "outputs": [],
   "source": [
    "# Now we take the Lokavant SITE_PROTOCOL_DEVIATION_METRICS (we pull from SITE and not from STUDY since we need \n",
    "# the total PD'S from only JPN)\n",
    "\n",
    "sql = \"select cmdm_location_id,cmdm_study_id,sum(total_pd) as sum_pd from TRANSFORMED.SITE_PROTOCOL_DEVIATION_METRICS group by cmdm_location_id,cmdm_study_id\"\n",
    "       \n",
    "lkvt_jp_study_pro_dev_pd =  pd.read_sql(sql,pxl)  "
   ]
  },
  {
   "cell_type": "code",
   "execution_count": 66,
   "metadata": {
    "scrolled": true
   },
   "outputs": [
    {
     "data": {
      "text/html": [
       "<div>\n",
       "<style scoped>\n",
       "    .dataframe tbody tr th:only-of-type {\n",
       "        vertical-align: middle;\n",
       "    }\n",
       "\n",
       "    .dataframe tbody tr th {\n",
       "        vertical-align: top;\n",
       "    }\n",
       "\n",
       "    .dataframe thead th {\n",
       "        text-align: right;\n",
       "    }\n",
       "</style>\n",
       "<table border=\"1\" class=\"dataframe\">\n",
       "  <thead>\n",
       "    <tr style=\"text-align: right;\">\n",
       "      <th></th>\n",
       "      <th>cmdm_location_id</th>\n",
       "      <th>cmdm_study_id</th>\n",
       "      <th>sum_pd</th>\n",
       "    </tr>\n",
       "  </thead>\n",
       "  <tbody>\n",
       "    <tr>\n",
       "      <th>0</th>\n",
       "      <td>580313</td>\n",
       "      <td>2812</td>\n",
       "      <td>80</td>\n",
       "    </tr>\n",
       "    <tr>\n",
       "      <th>1</th>\n",
       "      <td>655359</td>\n",
       "      <td>29132</td>\n",
       "      <td>19</td>\n",
       "    </tr>\n",
       "    <tr>\n",
       "      <th>2</th>\n",
       "      <td>663475</td>\n",
       "      <td>29652</td>\n",
       "      <td>45</td>\n",
       "    </tr>\n",
       "    <tr>\n",
       "      <th>3</th>\n",
       "      <td>663444</td>\n",
       "      <td>29652</td>\n",
       "      <td>51</td>\n",
       "    </tr>\n",
       "    <tr>\n",
       "      <th>4</th>\n",
       "      <td>1115418</td>\n",
       "      <td>29792</td>\n",
       "      <td>1</td>\n",
       "    </tr>\n",
       "  </tbody>\n",
       "</table>\n",
       "</div>"
      ],
      "text/plain": [
       "  cmdm_location_id cmdm_study_id  sum_pd\n",
       "0           580313          2812      80\n",
       "1           655359         29132      19\n",
       "2           663475         29652      45\n",
       "3           663444         29652      51\n",
       "4          1115418         29792       1"
      ]
     },
     "execution_count": 66,
     "metadata": {},
     "output_type": "execute_result"
    }
   ],
   "source": [
    "lkvt_jp_study_pro_dev_pd.head()"
   ]
  },
  {
   "cell_type": "code",
   "execution_count": 67,
   "metadata": {
    "scrolled": true
   },
   "outputs": [
    {
     "data": {
      "text/plain": [
       "cmdm_location_id    13894\n",
       "cmdm_study_id       13894\n",
       "sum_pd              13894\n",
       "dtype: int64"
      ]
     },
     "execution_count": 67,
     "metadata": {},
     "output_type": "execute_result"
    }
   ],
   "source": [
    "lkvt_jp_study_pro_dev_pd.count()"
   ]
  },
  {
   "cell_type": "code",
   "execution_count": 68,
   "metadata": {},
   "outputs": [],
   "source": [
    "##Now out of 13905 we need to filter only japaneese sites. \n",
    "##This we do by doing inner join lkvt_jp_sub_days_per_study(which has subject days only of japan) \n",
    "##and lkvt_jp_study_pro_dev_pd keeping cmdm_location_id as primary key(since its the site_id)\n",
    "## Both the tables are on site lvl now"
   ]
  },
  {
   "cell_type": "code",
   "execution_count": 69,
   "metadata": {},
   "outputs": [],
   "source": [
    "temp2 = pd.merge(lkvt_jp_sub_days_per_study,lkvt_jp_study_pro_dev_pd,on='cmdm_location_id',how='inner')"
   ]
  },
  {
   "cell_type": "code",
   "execution_count": 70,
   "metadata": {
    "scrolled": false
   },
   "outputs": [
    {
     "data": {
      "text/html": [
       "<div>\n",
       "<style scoped>\n",
       "    .dataframe tbody tr th:only-of-type {\n",
       "        vertical-align: middle;\n",
       "    }\n",
       "\n",
       "    .dataframe tbody tr th {\n",
       "        vertical-align: top;\n",
       "    }\n",
       "\n",
       "    .dataframe thead th {\n",
       "        text-align: right;\n",
       "    }\n",
       "</style>\n",
       "<table border=\"1\" class=\"dataframe\">\n",
       "  <thead>\n",
       "    <tr style=\"text-align: right;\">\n",
       "      <th></th>\n",
       "      <th>cmdm_location_id</th>\n",
       "      <th>cmdm_study_id_x</th>\n",
       "      <th>sum_subdays</th>\n",
       "      <th>cmdm_study_id_y</th>\n",
       "      <th>sum_pd</th>\n",
       "    </tr>\n",
       "  </thead>\n",
       "  <tbody>\n",
       "    <tr>\n",
       "      <th>0</th>\n",
       "      <td>863878</td>\n",
       "      <td>25465</td>\n",
       "      <td>665.0</td>\n",
       "      <td>25465</td>\n",
       "      <td>1</td>\n",
       "    </tr>\n",
       "    <tr>\n",
       "      <th>1</th>\n",
       "      <td>931430</td>\n",
       "      <td>38973</td>\n",
       "      <td>898.0</td>\n",
       "      <td>38973</td>\n",
       "      <td>2</td>\n",
       "    </tr>\n",
       "    <tr>\n",
       "      <th>2</th>\n",
       "      <td>748370</td>\n",
       "      <td>33672</td>\n",
       "      <td>623.0</td>\n",
       "      <td>33672</td>\n",
       "      <td>5</td>\n",
       "    </tr>\n",
       "    <tr>\n",
       "      <th>3</th>\n",
       "      <td>738532</td>\n",
       "      <td>33552</td>\n",
       "      <td>1482.0</td>\n",
       "      <td>33552</td>\n",
       "      <td>2</td>\n",
       "    </tr>\n",
       "    <tr>\n",
       "      <th>4</th>\n",
       "      <td>791742</td>\n",
       "      <td>36192</td>\n",
       "      <td>573.0</td>\n",
       "      <td>36192</td>\n",
       "      <td>6</td>\n",
       "    </tr>\n",
       "  </tbody>\n",
       "</table>\n",
       "</div>"
      ],
      "text/plain": [
       "  cmdm_location_id cmdm_study_id_x  sum_subdays cmdm_study_id_y  sum_pd\n",
       "0           863878           25465        665.0           25465       1\n",
       "1           931430           38973        898.0           38973       2\n",
       "2           748370           33672        623.0           33672       5\n",
       "3           738532           33552       1482.0           33552       2\n",
       "4           791742           36192        573.0           36192       6"
      ]
     },
     "execution_count": 70,
     "metadata": {},
     "output_type": "execute_result"
    }
   ],
   "source": [
    "temp2.head()"
   ]
  },
  {
   "cell_type": "code",
   "execution_count": 71,
   "metadata": {},
   "outputs": [],
   "source": [
    "# Now we have study id's only of JPN. Now we do groupby study_id"
   ]
  },
  {
   "cell_type": "code",
   "execution_count": 72,
   "metadata": {
    "scrolled": true
   },
   "outputs": [
    {
     "data": {
      "text/plain": [
       "cmdm_location_id    602\n",
       "cmdm_study_id_x     602\n",
       "sum_subdays         602\n",
       "cmdm_study_id_y     602\n",
       "sum_pd              602\n",
       "dtype: int64"
      ]
     },
     "execution_count": 72,
     "metadata": {},
     "output_type": "execute_result"
    }
   ],
   "source": [
    "temp2.count()"
   ]
  },
  {
   "cell_type": "code",
   "execution_count": 73,
   "metadata": {},
   "outputs": [],
   "source": [
    "## Renaming cmdm_study_id_x(can be cmdm_study_id_y too) to cmdm_study_id so that we can join the tables."
   ]
  },
  {
   "cell_type": "code",
   "execution_count": 74,
   "metadata": {},
   "outputs": [],
   "source": [
    "temp2 = temp2.rename(columns={\"cmdm_study_id_x\":\"cmdm_study_id\"})"
   ]
  },
  {
   "cell_type": "code",
   "execution_count": 75,
   "metadata": {
    "scrolled": false
   },
   "outputs": [
    {
     "data": {
      "text/html": [
       "<div>\n",
       "<style scoped>\n",
       "    .dataframe tbody tr th:only-of-type {\n",
       "        vertical-align: middle;\n",
       "    }\n",
       "\n",
       "    .dataframe tbody tr th {\n",
       "        vertical-align: top;\n",
       "    }\n",
       "\n",
       "    .dataframe thead th {\n",
       "        text-align: right;\n",
       "    }\n",
       "</style>\n",
       "<table border=\"1\" class=\"dataframe\">\n",
       "  <thead>\n",
       "    <tr style=\"text-align: right;\">\n",
       "      <th></th>\n",
       "      <th>cmdm_location_id</th>\n",
       "      <th>cmdm_study_id</th>\n",
       "      <th>sum_subdays</th>\n",
       "      <th>cmdm_study_id_y</th>\n",
       "      <th>sum_pd</th>\n",
       "    </tr>\n",
       "  </thead>\n",
       "  <tbody>\n",
       "    <tr>\n",
       "      <th>0</th>\n",
       "      <td>863878</td>\n",
       "      <td>25465</td>\n",
       "      <td>665.0</td>\n",
       "      <td>25465</td>\n",
       "      <td>1</td>\n",
       "    </tr>\n",
       "    <tr>\n",
       "      <th>1</th>\n",
       "      <td>931430</td>\n",
       "      <td>38973</td>\n",
       "      <td>898.0</td>\n",
       "      <td>38973</td>\n",
       "      <td>2</td>\n",
       "    </tr>\n",
       "    <tr>\n",
       "      <th>2</th>\n",
       "      <td>748370</td>\n",
       "      <td>33672</td>\n",
       "      <td>623.0</td>\n",
       "      <td>33672</td>\n",
       "      <td>5</td>\n",
       "    </tr>\n",
       "    <tr>\n",
       "      <th>3</th>\n",
       "      <td>738532</td>\n",
       "      <td>33552</td>\n",
       "      <td>1482.0</td>\n",
       "      <td>33552</td>\n",
       "      <td>2</td>\n",
       "    </tr>\n",
       "    <tr>\n",
       "      <th>4</th>\n",
       "      <td>791742</td>\n",
       "      <td>36192</td>\n",
       "      <td>573.0</td>\n",
       "      <td>36192</td>\n",
       "      <td>6</td>\n",
       "    </tr>\n",
       "  </tbody>\n",
       "</table>\n",
       "</div>"
      ],
      "text/plain": [
       "  cmdm_location_id cmdm_study_id  sum_subdays cmdm_study_id_y  sum_pd\n",
       "0           863878         25465        665.0           25465       1\n",
       "1           931430         38973        898.0           38973       2\n",
       "2           748370         33672        623.0           33672       5\n",
       "3           738532         33552       1482.0           33552       2\n",
       "4           791742         36192        573.0           36192       6"
      ]
     },
     "execution_count": 75,
     "metadata": {},
     "output_type": "execute_result"
    }
   ],
   "source": [
    "temp2.head()"
   ]
  },
  {
   "cell_type": "code",
   "execution_count": 76,
   "metadata": {},
   "outputs": [],
   "source": [
    "sum_subdays_study_id = temp2.groupby('cmdm_study_id').sum_subdays.sum().to_frame(name='total_subdays').reset_index() "
   ]
  },
  {
   "cell_type": "code",
   "execution_count": 77,
   "metadata": {
    "scrolled": true
   },
   "outputs": [
    {
     "data": {
      "text/html": [
       "<div>\n",
       "<style scoped>\n",
       "    .dataframe tbody tr th:only-of-type {\n",
       "        vertical-align: middle;\n",
       "    }\n",
       "\n",
       "    .dataframe tbody tr th {\n",
       "        vertical-align: top;\n",
       "    }\n",
       "\n",
       "    .dataframe thead th {\n",
       "        text-align: right;\n",
       "    }\n",
       "</style>\n",
       "<table border=\"1\" class=\"dataframe\">\n",
       "  <thead>\n",
       "    <tr style=\"text-align: right;\">\n",
       "      <th></th>\n",
       "      <th>cmdm_study_id</th>\n",
       "      <th>total_subdays</th>\n",
       "    </tr>\n",
       "  </thead>\n",
       "  <tbody>\n",
       "    <tr>\n",
       "      <th>0</th>\n",
       "      <td>2472</td>\n",
       "      <td>65013.0</td>\n",
       "    </tr>\n",
       "    <tr>\n",
       "      <th>1</th>\n",
       "      <td>25465</td>\n",
       "      <td>63465.0</td>\n",
       "    </tr>\n",
       "    <tr>\n",
       "      <th>2</th>\n",
       "      <td>27272</td>\n",
       "      <td>8140.0</td>\n",
       "    </tr>\n",
       "    <tr>\n",
       "      <th>3</th>\n",
       "      <td>28312</td>\n",
       "      <td>16170.0</td>\n",
       "    </tr>\n",
       "    <tr>\n",
       "      <th>4</th>\n",
       "      <td>28372</td>\n",
       "      <td>40617.0</td>\n",
       "    </tr>\n",
       "  </tbody>\n",
       "</table>\n",
       "</div>"
      ],
      "text/plain": [
       "  cmdm_study_id  total_subdays\n",
       "0          2472        65013.0\n",
       "1         25465        63465.0\n",
       "2         27272         8140.0\n",
       "3         28312        16170.0\n",
       "4         28372        40617.0"
      ]
     },
     "execution_count": 77,
     "metadata": {},
     "output_type": "execute_result"
    }
   ],
   "source": [
    "sum_subdays_study_id.head()"
   ]
  },
  {
   "cell_type": "code",
   "execution_count": 78,
   "metadata": {
    "scrolled": true
   },
   "outputs": [
    {
     "data": {
      "text/plain": [
       "cmdm_study_id    35\n",
       "total_subdays    35\n",
       "dtype: int64"
      ]
     },
     "execution_count": 78,
     "metadata": {},
     "output_type": "execute_result"
    }
   ],
   "source": [
    "sum_subdays_study_id.count()"
   ]
  },
  {
   "cell_type": "code",
   "execution_count": 79,
   "metadata": {},
   "outputs": [],
   "source": [
    "totalpd_study_id = temp2.groupby('cmdm_study_id').sum_pd.sum().to_frame(name='total_pd').reset_index() "
   ]
  },
  {
   "cell_type": "code",
   "execution_count": 80,
   "metadata": {
    "scrolled": true
   },
   "outputs": [
    {
     "data": {
      "text/html": [
       "<div>\n",
       "<style scoped>\n",
       "    .dataframe tbody tr th:only-of-type {\n",
       "        vertical-align: middle;\n",
       "    }\n",
       "\n",
       "    .dataframe tbody tr th {\n",
       "        vertical-align: top;\n",
       "    }\n",
       "\n",
       "    .dataframe thead th {\n",
       "        text-align: right;\n",
       "    }\n",
       "</style>\n",
       "<table border=\"1\" class=\"dataframe\">\n",
       "  <thead>\n",
       "    <tr style=\"text-align: right;\">\n",
       "      <th></th>\n",
       "      <th>cmdm_study_id</th>\n",
       "      <th>total_pd</th>\n",
       "    </tr>\n",
       "  </thead>\n",
       "  <tbody>\n",
       "    <tr>\n",
       "      <th>0</th>\n",
       "      <td>2472</td>\n",
       "      <td>45</td>\n",
       "    </tr>\n",
       "    <tr>\n",
       "      <th>1</th>\n",
       "      <td>25465</td>\n",
       "      <td>92</td>\n",
       "    </tr>\n",
       "    <tr>\n",
       "      <th>2</th>\n",
       "      <td>27272</td>\n",
       "      <td>39</td>\n",
       "    </tr>\n",
       "    <tr>\n",
       "      <th>3</th>\n",
       "      <td>28312</td>\n",
       "      <td>110</td>\n",
       "    </tr>\n",
       "    <tr>\n",
       "      <th>4</th>\n",
       "      <td>28372</td>\n",
       "      <td>76</td>\n",
       "    </tr>\n",
       "  </tbody>\n",
       "</table>\n",
       "</div>"
      ],
      "text/plain": [
       "  cmdm_study_id  total_pd\n",
       "0          2472        45\n",
       "1         25465        92\n",
       "2         27272        39\n",
       "3         28312       110\n",
       "4         28372        76"
      ]
     },
     "execution_count": 80,
     "metadata": {},
     "output_type": "execute_result"
    }
   ],
   "source": [
    "totalpd_study_id.head()"
   ]
  },
  {
   "cell_type": "code",
   "execution_count": 81,
   "metadata": {
    "scrolled": false
   },
   "outputs": [
    {
     "data": {
      "text/plain": [
       "cmdm_study_id    35\n",
       "total_pd         35\n",
       "dtype: int64"
      ]
     },
     "execution_count": 81,
     "metadata": {},
     "output_type": "execute_result"
    }
   ],
   "source": [
    "totalpd_study_id.count()"
   ]
  },
  {
   "cell_type": "markdown",
   "metadata": {},
   "source": [
    "### Getting total_major_pd and cmdm_study_id"
   ]
  },
  {
   "cell_type": "code",
   "execution_count": 82,
   "metadata": {},
   "outputs": [],
   "source": [
    "# Now we take the Lokavant SITE_PROTOCOL_DEVIATION_METRICS (we pull from SITE and not from STUDY since we need \n",
    "# the total PD'S from only JPN)\n",
    "\n",
    "sql = \"select cmdm_location_id,cmdm_study_id,sum(count_major_pd) as sum_majorpd from TRANSFORMED.SITE_PROTOCOL_DEVIATION_METRICS group by cmdm_location_id,cmdm_study_id\"\n",
    "       \n",
    "majorpd_study_id = pd.read_sql(sql,pxl) "
   ]
  },
  {
   "cell_type": "code",
   "execution_count": 83,
   "metadata": {
    "scrolled": true
   },
   "outputs": [
    {
     "data": {
      "text/html": [
       "<div>\n",
       "<style scoped>\n",
       "    .dataframe tbody tr th:only-of-type {\n",
       "        vertical-align: middle;\n",
       "    }\n",
       "\n",
       "    .dataframe tbody tr th {\n",
       "        vertical-align: top;\n",
       "    }\n",
       "\n",
       "    .dataframe thead th {\n",
       "        text-align: right;\n",
       "    }\n",
       "</style>\n",
       "<table border=\"1\" class=\"dataframe\">\n",
       "  <thead>\n",
       "    <tr style=\"text-align: right;\">\n",
       "      <th></th>\n",
       "      <th>cmdm_location_id</th>\n",
       "      <th>cmdm_study_id</th>\n",
       "      <th>sum_majorpd</th>\n",
       "    </tr>\n",
       "  </thead>\n",
       "  <tbody>\n",
       "    <tr>\n",
       "      <th>0</th>\n",
       "      <td>580313</td>\n",
       "      <td>2812</td>\n",
       "      <td>4</td>\n",
       "    </tr>\n",
       "    <tr>\n",
       "      <th>1</th>\n",
       "      <td>655359</td>\n",
       "      <td>29132</td>\n",
       "      <td>5</td>\n",
       "    </tr>\n",
       "    <tr>\n",
       "      <th>2</th>\n",
       "      <td>663475</td>\n",
       "      <td>29652</td>\n",
       "      <td>8</td>\n",
       "    </tr>\n",
       "    <tr>\n",
       "      <th>3</th>\n",
       "      <td>663444</td>\n",
       "      <td>29652</td>\n",
       "      <td>7</td>\n",
       "    </tr>\n",
       "    <tr>\n",
       "      <th>4</th>\n",
       "      <td>1115418</td>\n",
       "      <td>29792</td>\n",
       "      <td>0</td>\n",
       "    </tr>\n",
       "  </tbody>\n",
       "</table>\n",
       "</div>"
      ],
      "text/plain": [
       "  cmdm_location_id cmdm_study_id  sum_majorpd\n",
       "0           580313          2812            4\n",
       "1           655359         29132            5\n",
       "2           663475         29652            8\n",
       "3           663444         29652            7\n",
       "4          1115418         29792            0"
      ]
     },
     "execution_count": 83,
     "metadata": {},
     "output_type": "execute_result"
    }
   ],
   "source": [
    "majorpd_study_id.head()"
   ]
  },
  {
   "cell_type": "code",
   "execution_count": 84,
   "metadata": {
    "scrolled": true
   },
   "outputs": [
    {
     "data": {
      "text/plain": [
       "cmdm_location_id    13894\n",
       "cmdm_study_id       13894\n",
       "sum_majorpd         13894\n",
       "dtype: int64"
      ]
     },
     "execution_count": 84,
     "metadata": {},
     "output_type": "execute_result"
    }
   ],
   "source": [
    "majorpd_study_id.count()"
   ]
  },
  {
   "cell_type": "code",
   "execution_count": 85,
   "metadata": {},
   "outputs": [],
   "source": [
    "##Now out of 13905 we need to filter only japaneese sites. \n",
    "##This we do by doing inner join lkvt_jp_sub_days_per_study(which has subject days only of japan) \n",
    "##and majorpd_study_id keeping cmdm_location_id as primary key(since its the site_id)\n",
    "## Both the tables are on site lvl now"
   ]
  },
  {
   "cell_type": "code",
   "execution_count": 86,
   "metadata": {},
   "outputs": [],
   "source": [
    "temp3 = pd.merge(lkvt_jp_sub_days_per_study,majorpd_study_id,on='cmdm_location_id',how='inner') ##need to be pulled from total.pd data and filter by country"
   ]
  },
  {
   "cell_type": "code",
   "execution_count": 87,
   "metadata": {
    "scrolled": true
   },
   "outputs": [
    {
     "data": {
      "text/html": [
       "<div>\n",
       "<style scoped>\n",
       "    .dataframe tbody tr th:only-of-type {\n",
       "        vertical-align: middle;\n",
       "    }\n",
       "\n",
       "    .dataframe tbody tr th {\n",
       "        vertical-align: top;\n",
       "    }\n",
       "\n",
       "    .dataframe thead th {\n",
       "        text-align: right;\n",
       "    }\n",
       "</style>\n",
       "<table border=\"1\" class=\"dataframe\">\n",
       "  <thead>\n",
       "    <tr style=\"text-align: right;\">\n",
       "      <th></th>\n",
       "      <th>cmdm_location_id</th>\n",
       "      <th>cmdm_study_id_x</th>\n",
       "      <th>sum_subdays</th>\n",
       "      <th>cmdm_study_id_y</th>\n",
       "      <th>sum_majorpd</th>\n",
       "    </tr>\n",
       "  </thead>\n",
       "  <tbody>\n",
       "    <tr>\n",
       "      <th>0</th>\n",
       "      <td>863878</td>\n",
       "      <td>25465</td>\n",
       "      <td>665.0</td>\n",
       "      <td>25465</td>\n",
       "      <td>0</td>\n",
       "    </tr>\n",
       "    <tr>\n",
       "      <th>1</th>\n",
       "      <td>931430</td>\n",
       "      <td>38973</td>\n",
       "      <td>898.0</td>\n",
       "      <td>38973</td>\n",
       "      <td>0</td>\n",
       "    </tr>\n",
       "    <tr>\n",
       "      <th>2</th>\n",
       "      <td>748370</td>\n",
       "      <td>33672</td>\n",
       "      <td>623.0</td>\n",
       "      <td>33672</td>\n",
       "      <td>0</td>\n",
       "    </tr>\n",
       "    <tr>\n",
       "      <th>3</th>\n",
       "      <td>738532</td>\n",
       "      <td>33552</td>\n",
       "      <td>1482.0</td>\n",
       "      <td>33552</td>\n",
       "      <td>0</td>\n",
       "    </tr>\n",
       "    <tr>\n",
       "      <th>4</th>\n",
       "      <td>791742</td>\n",
       "      <td>36192</td>\n",
       "      <td>573.0</td>\n",
       "      <td>36192</td>\n",
       "      <td>3</td>\n",
       "    </tr>\n",
       "  </tbody>\n",
       "</table>\n",
       "</div>"
      ],
      "text/plain": [
       "  cmdm_location_id cmdm_study_id_x  sum_subdays cmdm_study_id_y  sum_majorpd\n",
       "0           863878           25465        665.0           25465            0\n",
       "1           931430           38973        898.0           38973            0\n",
       "2           748370           33672        623.0           33672            0\n",
       "3           738532           33552       1482.0           33552            0\n",
       "4           791742           36192        573.0           36192            3"
      ]
     },
     "execution_count": 87,
     "metadata": {},
     "output_type": "execute_result"
    }
   ],
   "source": [
    "temp3.head()"
   ]
  },
  {
   "cell_type": "code",
   "execution_count": 88,
   "metadata": {
    "scrolled": false
   },
   "outputs": [
    {
     "data": {
      "text/plain": [
       "cmdm_location_id    602\n",
       "cmdm_study_id_x     602\n",
       "sum_subdays         602\n",
       "cmdm_study_id_y     602\n",
       "sum_majorpd         602\n",
       "dtype: int64"
      ]
     },
     "execution_count": 88,
     "metadata": {},
     "output_type": "execute_result"
    }
   ],
   "source": [
    "temp3.count()"
   ]
  },
  {
   "cell_type": "code",
   "execution_count": 89,
   "metadata": {},
   "outputs": [],
   "source": [
    "# Now we have study id's only of JPN. Now we do groupby study_id"
   ]
  },
  {
   "cell_type": "code",
   "execution_count": 90,
   "metadata": {},
   "outputs": [],
   "source": [
    "## Renaming cmdm_study_id_x(can be cmdm_study_id_y too) to cmdm_study_id so that we can join the tables."
   ]
  },
  {
   "cell_type": "code",
   "execution_count": 91,
   "metadata": {},
   "outputs": [],
   "source": [
    "temp3 = temp3.rename(columns={\"cmdm_study_id_x\":\"cmdm_study_id\"})"
   ]
  },
  {
   "cell_type": "code",
   "execution_count": 92,
   "metadata": {
    "scrolled": false
   },
   "outputs": [
    {
     "data": {
      "text/html": [
       "<div>\n",
       "<style scoped>\n",
       "    .dataframe tbody tr th:only-of-type {\n",
       "        vertical-align: middle;\n",
       "    }\n",
       "\n",
       "    .dataframe tbody tr th {\n",
       "        vertical-align: top;\n",
       "    }\n",
       "\n",
       "    .dataframe thead th {\n",
       "        text-align: right;\n",
       "    }\n",
       "</style>\n",
       "<table border=\"1\" class=\"dataframe\">\n",
       "  <thead>\n",
       "    <tr style=\"text-align: right;\">\n",
       "      <th></th>\n",
       "      <th>cmdm_location_id</th>\n",
       "      <th>cmdm_study_id</th>\n",
       "      <th>sum_subdays</th>\n",
       "      <th>cmdm_study_id_y</th>\n",
       "      <th>sum_majorpd</th>\n",
       "    </tr>\n",
       "  </thead>\n",
       "  <tbody>\n",
       "    <tr>\n",
       "      <th>0</th>\n",
       "      <td>863878</td>\n",
       "      <td>25465</td>\n",
       "      <td>665.0</td>\n",
       "      <td>25465</td>\n",
       "      <td>0</td>\n",
       "    </tr>\n",
       "    <tr>\n",
       "      <th>1</th>\n",
       "      <td>931430</td>\n",
       "      <td>38973</td>\n",
       "      <td>898.0</td>\n",
       "      <td>38973</td>\n",
       "      <td>0</td>\n",
       "    </tr>\n",
       "    <tr>\n",
       "      <th>2</th>\n",
       "      <td>748370</td>\n",
       "      <td>33672</td>\n",
       "      <td>623.0</td>\n",
       "      <td>33672</td>\n",
       "      <td>0</td>\n",
       "    </tr>\n",
       "    <tr>\n",
       "      <th>3</th>\n",
       "      <td>738532</td>\n",
       "      <td>33552</td>\n",
       "      <td>1482.0</td>\n",
       "      <td>33552</td>\n",
       "      <td>0</td>\n",
       "    </tr>\n",
       "    <tr>\n",
       "      <th>4</th>\n",
       "      <td>791742</td>\n",
       "      <td>36192</td>\n",
       "      <td>573.0</td>\n",
       "      <td>36192</td>\n",
       "      <td>3</td>\n",
       "    </tr>\n",
       "  </tbody>\n",
       "</table>\n",
       "</div>"
      ],
      "text/plain": [
       "  cmdm_location_id cmdm_study_id  sum_subdays cmdm_study_id_y  sum_majorpd\n",
       "0           863878         25465        665.0           25465            0\n",
       "1           931430         38973        898.0           38973            0\n",
       "2           748370         33672        623.0           33672            0\n",
       "3           738532         33552       1482.0           33552            0\n",
       "4           791742         36192        573.0           36192            3"
      ]
     },
     "execution_count": 92,
     "metadata": {},
     "output_type": "execute_result"
    }
   ],
   "source": [
    "temp3.head()"
   ]
  },
  {
   "cell_type": "code",
   "execution_count": 93,
   "metadata": {
    "scrolled": true
   },
   "outputs": [],
   "source": [
    "totmajorpd_study_id = temp3.groupby('cmdm_study_id').sum_majorpd.sum().to_frame(name='total_majorpd').reset_index() "
   ]
  },
  {
   "cell_type": "code",
   "execution_count": 94,
   "metadata": {
    "scrolled": true
   },
   "outputs": [
    {
     "data": {
      "text/html": [
       "<div>\n",
       "<style scoped>\n",
       "    .dataframe tbody tr th:only-of-type {\n",
       "        vertical-align: middle;\n",
       "    }\n",
       "\n",
       "    .dataframe tbody tr th {\n",
       "        vertical-align: top;\n",
       "    }\n",
       "\n",
       "    .dataframe thead th {\n",
       "        text-align: right;\n",
       "    }\n",
       "</style>\n",
       "<table border=\"1\" class=\"dataframe\">\n",
       "  <thead>\n",
       "    <tr style=\"text-align: right;\">\n",
       "      <th></th>\n",
       "      <th>cmdm_study_id</th>\n",
       "      <th>total_majorpd</th>\n",
       "    </tr>\n",
       "  </thead>\n",
       "  <tbody>\n",
       "    <tr>\n",
       "      <th>0</th>\n",
       "      <td>2472</td>\n",
       "      <td>6</td>\n",
       "    </tr>\n",
       "    <tr>\n",
       "      <th>1</th>\n",
       "      <td>25465</td>\n",
       "      <td>0</td>\n",
       "    </tr>\n",
       "    <tr>\n",
       "      <th>2</th>\n",
       "      <td>27272</td>\n",
       "      <td>11</td>\n",
       "    </tr>\n",
       "    <tr>\n",
       "      <th>3</th>\n",
       "      <td>28312</td>\n",
       "      <td>0</td>\n",
       "    </tr>\n",
       "    <tr>\n",
       "      <th>4</th>\n",
       "      <td>28372</td>\n",
       "      <td>0</td>\n",
       "    </tr>\n",
       "  </tbody>\n",
       "</table>\n",
       "</div>"
      ],
      "text/plain": [
       "  cmdm_study_id  total_majorpd\n",
       "0          2472              6\n",
       "1         25465              0\n",
       "2         27272             11\n",
       "3         28312              0\n",
       "4         28372              0"
      ]
     },
     "execution_count": 94,
     "metadata": {},
     "output_type": "execute_result"
    }
   ],
   "source": [
    "totmajorpd_study_id.head()"
   ]
  },
  {
   "cell_type": "code",
   "execution_count": 95,
   "metadata": {
    "scrolled": false
   },
   "outputs": [
    {
     "data": {
      "text/plain": [
       "cmdm_study_id    35\n",
       "total_majorpd    35\n",
       "dtype: int64"
      ]
     },
     "execution_count": 95,
     "metadata": {},
     "output_type": "execute_result"
    }
   ],
   "source": [
    "totmajorpd_study_id.count()"
   ]
  },
  {
   "cell_type": "markdown",
   "metadata": {},
   "source": [
    "### 1. Total pd/ total subject days"
   ]
  },
  {
   "cell_type": "code",
   "execution_count": 96,
   "metadata": {},
   "outputs": [],
   "source": [
    "## joining total pd and subject days table"
   ]
  },
  {
   "cell_type": "code",
   "execution_count": 97,
   "metadata": {},
   "outputs": [],
   "source": [
    "temp6 = pd.merge(totalpd_study_id,sum_subdays_study_id,on='cmdm_study_id',how='inner')"
   ]
  },
  {
   "cell_type": "code",
   "execution_count": 98,
   "metadata": {},
   "outputs": [
    {
     "data": {
      "text/html": [
       "<div>\n",
       "<style scoped>\n",
       "    .dataframe tbody tr th:only-of-type {\n",
       "        vertical-align: middle;\n",
       "    }\n",
       "\n",
       "    .dataframe tbody tr th {\n",
       "        vertical-align: top;\n",
       "    }\n",
       "\n",
       "    .dataframe thead th {\n",
       "        text-align: right;\n",
       "    }\n",
       "</style>\n",
       "<table border=\"1\" class=\"dataframe\">\n",
       "  <thead>\n",
       "    <tr style=\"text-align: right;\">\n",
       "      <th></th>\n",
       "      <th>cmdm_study_id</th>\n",
       "      <th>total_pd</th>\n",
       "      <th>total_subdays</th>\n",
       "    </tr>\n",
       "  </thead>\n",
       "  <tbody>\n",
       "    <tr>\n",
       "      <th>0</th>\n",
       "      <td>2472</td>\n",
       "      <td>45</td>\n",
       "      <td>65013.0</td>\n",
       "    </tr>\n",
       "    <tr>\n",
       "      <th>1</th>\n",
       "      <td>25465</td>\n",
       "      <td>92</td>\n",
       "      <td>63465.0</td>\n",
       "    </tr>\n",
       "    <tr>\n",
       "      <th>2</th>\n",
       "      <td>27272</td>\n",
       "      <td>39</td>\n",
       "      <td>8140.0</td>\n",
       "    </tr>\n",
       "    <tr>\n",
       "      <th>3</th>\n",
       "      <td>28312</td>\n",
       "      <td>110</td>\n",
       "      <td>16170.0</td>\n",
       "    </tr>\n",
       "    <tr>\n",
       "      <th>4</th>\n",
       "      <td>28372</td>\n",
       "      <td>76</td>\n",
       "      <td>40617.0</td>\n",
       "    </tr>\n",
       "  </tbody>\n",
       "</table>\n",
       "</div>"
      ],
      "text/plain": [
       "  cmdm_study_id  total_pd  total_subdays\n",
       "0          2472        45        65013.0\n",
       "1         25465        92        63465.0\n",
       "2         27272        39         8140.0\n",
       "3         28312       110        16170.0\n",
       "4         28372        76        40617.0"
      ]
     },
     "execution_count": 98,
     "metadata": {},
     "output_type": "execute_result"
    }
   ],
   "source": [
    "temp6.head()"
   ]
  },
  {
   "cell_type": "code",
   "execution_count": 99,
   "metadata": {},
   "outputs": [],
   "source": [
    "temp6['totalpd_by_sum_subdays'] = temp6['total_pd']/temp6['total_subdays']"
   ]
  },
  {
   "cell_type": "code",
   "execution_count": 100,
   "metadata": {
    "scrolled": false
   },
   "outputs": [
    {
     "data": {
      "text/html": [
       "<div>\n",
       "<style scoped>\n",
       "    .dataframe tbody tr th:only-of-type {\n",
       "        vertical-align: middle;\n",
       "    }\n",
       "\n",
       "    .dataframe tbody tr th {\n",
       "        vertical-align: top;\n",
       "    }\n",
       "\n",
       "    .dataframe thead th {\n",
       "        text-align: right;\n",
       "    }\n",
       "</style>\n",
       "<table border=\"1\" class=\"dataframe\">\n",
       "  <thead>\n",
       "    <tr style=\"text-align: right;\">\n",
       "      <th></th>\n",
       "      <th>cmdm_study_id</th>\n",
       "      <th>total_pd</th>\n",
       "      <th>total_subdays</th>\n",
       "      <th>totalpd_by_sum_subdays</th>\n",
       "    </tr>\n",
       "  </thead>\n",
       "  <tbody>\n",
       "    <tr>\n",
       "      <th>0</th>\n",
       "      <td>2472</td>\n",
       "      <td>45</td>\n",
       "      <td>65013.0</td>\n",
       "      <td>0.000692</td>\n",
       "    </tr>\n",
       "    <tr>\n",
       "      <th>1</th>\n",
       "      <td>25465</td>\n",
       "      <td>92</td>\n",
       "      <td>63465.0</td>\n",
       "      <td>0.001450</td>\n",
       "    </tr>\n",
       "    <tr>\n",
       "      <th>2</th>\n",
       "      <td>27272</td>\n",
       "      <td>39</td>\n",
       "      <td>8140.0</td>\n",
       "      <td>0.004791</td>\n",
       "    </tr>\n",
       "    <tr>\n",
       "      <th>3</th>\n",
       "      <td>28312</td>\n",
       "      <td>110</td>\n",
       "      <td>16170.0</td>\n",
       "      <td>0.006803</td>\n",
       "    </tr>\n",
       "    <tr>\n",
       "      <th>4</th>\n",
       "      <td>28372</td>\n",
       "      <td>76</td>\n",
       "      <td>40617.0</td>\n",
       "      <td>0.001871</td>\n",
       "    </tr>\n",
       "  </tbody>\n",
       "</table>\n",
       "</div>"
      ],
      "text/plain": [
       "  cmdm_study_id  total_pd  total_subdays  totalpd_by_sum_subdays\n",
       "0          2472        45        65013.0                0.000692\n",
       "1         25465        92        63465.0                0.001450\n",
       "2         27272        39         8140.0                0.004791\n",
       "3         28312       110        16170.0                0.006803\n",
       "4         28372        76        40617.0                0.001871"
      ]
     },
     "execution_count": 100,
     "metadata": {},
     "output_type": "execute_result"
    }
   ],
   "source": [
    "temp6.head()"
   ]
  },
  {
   "cell_type": "code",
   "execution_count": 101,
   "metadata": {},
   "outputs": [],
   "source": [
    "## Renaming the table\n",
    "\n",
    "lkvt_jp_pd_by_sd_rate = temp6"
   ]
  },
  {
   "cell_type": "code",
   "execution_count": 102,
   "metadata": {
    "scrolled": true
   },
   "outputs": [
    {
     "data": {
      "text/plain": [
       "cmdm_study_id             35\n",
       "total_pd                  35\n",
       "total_subdays             35\n",
       "totalpd_by_sum_subdays    35\n",
       "dtype: int64"
      ]
     },
     "execution_count": 102,
     "metadata": {},
     "output_type": "execute_result"
    }
   ],
   "source": [
    "lkvt_jp_pd_by_sd_rate.count()"
   ]
  },
  {
   "cell_type": "code",
   "execution_count": 103,
   "metadata": {},
   "outputs": [],
   "source": [
    "## chking for zeros"
   ]
  },
  {
   "cell_type": "code",
   "execution_count": 104,
   "metadata": {
    "scrolled": false
   },
   "outputs": [
    {
     "data": {
      "text/plain": [
       "cmdm_study_id              True\n",
       "total_pd                  False\n",
       "total_subdays              True\n",
       "totalpd_by_sum_subdays    False\n",
       "dtype: bool"
      ]
     },
     "execution_count": 104,
     "metadata": {},
     "output_type": "execute_result"
    }
   ],
   "source": [
    "lkvt_jp_pd_by_sd_rate.all()"
   ]
  },
  {
   "cell_type": "code",
   "execution_count": 105,
   "metadata": {},
   "outputs": [],
   "source": [
    "## Removing the zero values from total_pd"
   ]
  },
  {
   "cell_type": "code",
   "execution_count": 106,
   "metadata": {
    "scrolled": true
   },
   "outputs": [],
   "source": [
    "lkvt_jp_pd_by_sd_rate = lkvt_jp_pd_by_sd_rate[lkvt_jp_pd_by_sd_rate['total_pd']> 0]"
   ]
  },
  {
   "cell_type": "code",
   "execution_count": 107,
   "metadata": {
    "scrolled": false
   },
   "outputs": [
    {
     "data": {
      "text/plain": [
       "cmdm_study_id             33\n",
       "total_pd                  33\n",
       "total_subdays             33\n",
       "totalpd_by_sum_subdays    33\n",
       "dtype: int64"
      ]
     },
     "execution_count": 107,
     "metadata": {},
     "output_type": "execute_result"
    }
   ],
   "source": [
    "lkvt_jp_pd_by_sd_rate.count()"
   ]
  },
  {
   "cell_type": "code",
   "execution_count": 108,
   "metadata": {},
   "outputs": [],
   "source": [
    "## we had only 2 zero entries"
   ]
  },
  {
   "cell_type": "code",
   "execution_count": 109,
   "metadata": {},
   "outputs": [],
   "source": [
    "## Multiplying the metric by 1000 so that the metric value will not be low."
   ]
  },
  {
   "cell_type": "code",
   "execution_count": 110,
   "metadata": {
    "scrolled": false
   },
   "outputs": [
    {
     "name": "stderr",
     "output_type": "stream",
     "text": [
      "/tmp/ipykernel_24187/3311752865.py:1: SettingWithCopyWarning: \n",
      "A value is trying to be set on a copy of a slice from a DataFrame.\n",
      "Try using .loc[row_indexer,col_indexer] = value instead\n",
      "\n",
      "See the caveats in the documentation: https://pandas.pydata.org/pandas-docs/stable/user_guide/indexing.html#returning-a-view-versus-a-copy\n",
      "  lkvt_jp_pd_by_sd_rate['totalpd_by_sum_subdays'] = lkvt_jp_pd_by_sd_rate['totalpd_by_sum_subdays']*1000\n"
     ]
    }
   ],
   "source": [
    "lkvt_jp_pd_by_sd_rate['totalpd_by_sum_subdays'] = lkvt_jp_pd_by_sd_rate['totalpd_by_sum_subdays']*1000"
   ]
  },
  {
   "cell_type": "code",
   "execution_count": 111,
   "metadata": {
    "scrolled": true
   },
   "outputs": [
    {
     "data": {
      "text/html": [
       "<div>\n",
       "<style scoped>\n",
       "    .dataframe tbody tr th:only-of-type {\n",
       "        vertical-align: middle;\n",
       "    }\n",
       "\n",
       "    .dataframe tbody tr th {\n",
       "        vertical-align: top;\n",
       "    }\n",
       "\n",
       "    .dataframe thead th {\n",
       "        text-align: right;\n",
       "    }\n",
       "</style>\n",
       "<table border=\"1\" class=\"dataframe\">\n",
       "  <thead>\n",
       "    <tr style=\"text-align: right;\">\n",
       "      <th></th>\n",
       "      <th>cmdm_study_id</th>\n",
       "      <th>total_pd</th>\n",
       "      <th>total_subdays</th>\n",
       "      <th>totalpd_by_sum_subdays</th>\n",
       "    </tr>\n",
       "  </thead>\n",
       "  <tbody>\n",
       "    <tr>\n",
       "      <th>0</th>\n",
       "      <td>2472</td>\n",
       "      <td>45</td>\n",
       "      <td>65013.0</td>\n",
       "      <td>0.692169</td>\n",
       "    </tr>\n",
       "    <tr>\n",
       "      <th>1</th>\n",
       "      <td>25465</td>\n",
       "      <td>92</td>\n",
       "      <td>63465.0</td>\n",
       "      <td>1.449618</td>\n",
       "    </tr>\n",
       "    <tr>\n",
       "      <th>2</th>\n",
       "      <td>27272</td>\n",
       "      <td>39</td>\n",
       "      <td>8140.0</td>\n",
       "      <td>4.791155</td>\n",
       "    </tr>\n",
       "    <tr>\n",
       "      <th>3</th>\n",
       "      <td>28312</td>\n",
       "      <td>110</td>\n",
       "      <td>16170.0</td>\n",
       "      <td>6.802721</td>\n",
       "    </tr>\n",
       "    <tr>\n",
       "      <th>4</th>\n",
       "      <td>28372</td>\n",
       "      <td>76</td>\n",
       "      <td>40617.0</td>\n",
       "      <td>1.871138</td>\n",
       "    </tr>\n",
       "  </tbody>\n",
       "</table>\n",
       "</div>"
      ],
      "text/plain": [
       "  cmdm_study_id  total_pd  total_subdays  totalpd_by_sum_subdays\n",
       "0          2472        45        65013.0                0.692169\n",
       "1         25465        92        63465.0                1.449618\n",
       "2         27272        39         8140.0                4.791155\n",
       "3         28312       110        16170.0                6.802721\n",
       "4         28372        76        40617.0                1.871138"
      ]
     },
     "execution_count": 111,
     "metadata": {},
     "output_type": "execute_result"
    }
   ],
   "source": [
    "lkvt_jp_pd_by_sd_rate.head()"
   ]
  },
  {
   "cell_type": "markdown",
   "metadata": {},
   "source": [
    "### 2. major pd / total pd"
   ]
  },
  {
   "cell_type": "code",
   "execution_count": 112,
   "metadata": {},
   "outputs": [],
   "source": [
    "temp7 = pd.merge(totalpd_study_id,totmajorpd_study_id,on='cmdm_study_id',how='inner')"
   ]
  },
  {
   "cell_type": "code",
   "execution_count": 113,
   "metadata": {
    "scrolled": true
   },
   "outputs": [
    {
     "data": {
      "text/html": [
       "<div>\n",
       "<style scoped>\n",
       "    .dataframe tbody tr th:only-of-type {\n",
       "        vertical-align: middle;\n",
       "    }\n",
       "\n",
       "    .dataframe tbody tr th {\n",
       "        vertical-align: top;\n",
       "    }\n",
       "\n",
       "    .dataframe thead th {\n",
       "        text-align: right;\n",
       "    }\n",
       "</style>\n",
       "<table border=\"1\" class=\"dataframe\">\n",
       "  <thead>\n",
       "    <tr style=\"text-align: right;\">\n",
       "      <th></th>\n",
       "      <th>cmdm_study_id</th>\n",
       "      <th>total_pd</th>\n",
       "      <th>total_majorpd</th>\n",
       "    </tr>\n",
       "  </thead>\n",
       "  <tbody>\n",
       "    <tr>\n",
       "      <th>0</th>\n",
       "      <td>2472</td>\n",
       "      <td>45</td>\n",
       "      <td>6</td>\n",
       "    </tr>\n",
       "    <tr>\n",
       "      <th>1</th>\n",
       "      <td>25465</td>\n",
       "      <td>92</td>\n",
       "      <td>0</td>\n",
       "    </tr>\n",
       "    <tr>\n",
       "      <th>2</th>\n",
       "      <td>27272</td>\n",
       "      <td>39</td>\n",
       "      <td>11</td>\n",
       "    </tr>\n",
       "    <tr>\n",
       "      <th>3</th>\n",
       "      <td>28312</td>\n",
       "      <td>110</td>\n",
       "      <td>0</td>\n",
       "    </tr>\n",
       "    <tr>\n",
       "      <th>4</th>\n",
       "      <td>28372</td>\n",
       "      <td>76</td>\n",
       "      <td>0</td>\n",
       "    </tr>\n",
       "  </tbody>\n",
       "</table>\n",
       "</div>"
      ],
      "text/plain": [
       "  cmdm_study_id  total_pd  total_majorpd\n",
       "0          2472        45              6\n",
       "1         25465        92              0\n",
       "2         27272        39             11\n",
       "3         28312       110              0\n",
       "4         28372        76              0"
      ]
     },
     "execution_count": 113,
     "metadata": {},
     "output_type": "execute_result"
    }
   ],
   "source": [
    "temp7.head()"
   ]
  },
  {
   "cell_type": "code",
   "execution_count": 114,
   "metadata": {},
   "outputs": [],
   "source": [
    "temp7['totalmajpd_by_totpd'] = temp7['total_majorpd']/temp7['total_pd']"
   ]
  },
  {
   "cell_type": "code",
   "execution_count": 115,
   "metadata": {
    "scrolled": false
   },
   "outputs": [
    {
     "data": {
      "text/html": [
       "<div>\n",
       "<style scoped>\n",
       "    .dataframe tbody tr th:only-of-type {\n",
       "        vertical-align: middle;\n",
       "    }\n",
       "\n",
       "    .dataframe tbody tr th {\n",
       "        vertical-align: top;\n",
       "    }\n",
       "\n",
       "    .dataframe thead th {\n",
       "        text-align: right;\n",
       "    }\n",
       "</style>\n",
       "<table border=\"1\" class=\"dataframe\">\n",
       "  <thead>\n",
       "    <tr style=\"text-align: right;\">\n",
       "      <th></th>\n",
       "      <th>cmdm_study_id</th>\n",
       "      <th>total_pd</th>\n",
       "      <th>total_majorpd</th>\n",
       "      <th>totalmajpd_by_totpd</th>\n",
       "    </tr>\n",
       "  </thead>\n",
       "  <tbody>\n",
       "    <tr>\n",
       "      <th>0</th>\n",
       "      <td>2472</td>\n",
       "      <td>45</td>\n",
       "      <td>6</td>\n",
       "      <td>0.133333</td>\n",
       "    </tr>\n",
       "    <tr>\n",
       "      <th>1</th>\n",
       "      <td>25465</td>\n",
       "      <td>92</td>\n",
       "      <td>0</td>\n",
       "      <td>0.000000</td>\n",
       "    </tr>\n",
       "    <tr>\n",
       "      <th>2</th>\n",
       "      <td>27272</td>\n",
       "      <td>39</td>\n",
       "      <td>11</td>\n",
       "      <td>0.282051</td>\n",
       "    </tr>\n",
       "    <tr>\n",
       "      <th>3</th>\n",
       "      <td>28312</td>\n",
       "      <td>110</td>\n",
       "      <td>0</td>\n",
       "      <td>0.000000</td>\n",
       "    </tr>\n",
       "    <tr>\n",
       "      <th>4</th>\n",
       "      <td>28372</td>\n",
       "      <td>76</td>\n",
       "      <td>0</td>\n",
       "      <td>0.000000</td>\n",
       "    </tr>\n",
       "  </tbody>\n",
       "</table>\n",
       "</div>"
      ],
      "text/plain": [
       "  cmdm_study_id  total_pd  total_majorpd  totalmajpd_by_totpd\n",
       "0          2472        45              6             0.133333\n",
       "1         25465        92              0             0.000000\n",
       "2         27272        39             11             0.282051\n",
       "3         28312       110              0             0.000000\n",
       "4         28372        76              0             0.000000"
      ]
     },
     "execution_count": 115,
     "metadata": {},
     "output_type": "execute_result"
    }
   ],
   "source": [
    "temp7.head()"
   ]
  },
  {
   "cell_type": "code",
   "execution_count": 116,
   "metadata": {},
   "outputs": [],
   "source": [
    "## Renaming the table"
   ]
  },
  {
   "cell_type": "code",
   "execution_count": 117,
   "metadata": {},
   "outputs": [],
   "source": [
    "lkvt_jp_mp_by_tp_rate = temp7"
   ]
  },
  {
   "cell_type": "code",
   "execution_count": 118,
   "metadata": {
    "scrolled": true
   },
   "outputs": [
    {
     "data": {
      "text/plain": [
       "cmdm_study_id          35\n",
       "total_pd               35\n",
       "total_majorpd          35\n",
       "totalmajpd_by_totpd    33\n",
       "dtype: int64"
      ]
     },
     "execution_count": 118,
     "metadata": {},
     "output_type": "execute_result"
    }
   ],
   "source": [
    "lkvt_jp_mp_by_tp_rate.count()"
   ]
  },
  {
   "cell_type": "code",
   "execution_count": 119,
   "metadata": {},
   "outputs": [],
   "source": [
    "lkvt_jp_mp_by_tp_rate = lkvt_jp_mp_by_tp_rate[lkvt_jp_mp_by_tp_rate['total_majorpd']> 0]"
   ]
  },
  {
   "cell_type": "code",
   "execution_count": 120,
   "metadata": {
    "scrolled": false
   },
   "outputs": [
    {
     "data": {
      "text/plain": [
       "cmdm_study_id          19\n",
       "total_pd               19\n",
       "total_majorpd          19\n",
       "totalmajpd_by_totpd    19\n",
       "dtype: int64"
      ]
     },
     "execution_count": 120,
     "metadata": {},
     "output_type": "execute_result"
    }
   ],
   "source": [
    "lkvt_jp_mp_by_tp_rate.count()"
   ]
  },
  {
   "cell_type": "code",
   "execution_count": 121,
   "metadata": {},
   "outputs": [],
   "source": [
    "## There were 16 total major pd's with zero values"
   ]
  },
  {
   "cell_type": "code",
   "execution_count": 122,
   "metadata": {},
   "outputs": [],
   "source": [
    "## Multiplying the metric by 1000 so that the metric value will not be low."
   ]
  },
  {
   "cell_type": "code",
   "execution_count": 123,
   "metadata": {
    "scrolled": false
   },
   "outputs": [
    {
     "name": "stderr",
     "output_type": "stream",
     "text": [
      "/tmp/ipykernel_24187/3144236267.py:1: SettingWithCopyWarning: \n",
      "A value is trying to be set on a copy of a slice from a DataFrame.\n",
      "Try using .loc[row_indexer,col_indexer] = value instead\n",
      "\n",
      "See the caveats in the documentation: https://pandas.pydata.org/pandas-docs/stable/user_guide/indexing.html#returning-a-view-versus-a-copy\n",
      "  lkvt_jp_mp_by_tp_rate['totalmajpd_by_totpd'] = lkvt_jp_mp_by_tp_rate['totalmajpd_by_totpd']*1000\n"
     ]
    }
   ],
   "source": [
    "lkvt_jp_mp_by_tp_rate['totalmajpd_by_totpd'] = lkvt_jp_mp_by_tp_rate['totalmajpd_by_totpd']*1000"
   ]
  },
  {
   "cell_type": "code",
   "execution_count": 124,
   "metadata": {
    "scrolled": true
   },
   "outputs": [
    {
     "data": {
      "text/html": [
       "<div>\n",
       "<style scoped>\n",
       "    .dataframe tbody tr th:only-of-type {\n",
       "        vertical-align: middle;\n",
       "    }\n",
       "\n",
       "    .dataframe tbody tr th {\n",
       "        vertical-align: top;\n",
       "    }\n",
       "\n",
       "    .dataframe thead th {\n",
       "        text-align: right;\n",
       "    }\n",
       "</style>\n",
       "<table border=\"1\" class=\"dataframe\">\n",
       "  <thead>\n",
       "    <tr style=\"text-align: right;\">\n",
       "      <th></th>\n",
       "      <th>cmdm_study_id</th>\n",
       "      <th>total_pd</th>\n",
       "      <th>total_majorpd</th>\n",
       "      <th>totalmajpd_by_totpd</th>\n",
       "    </tr>\n",
       "  </thead>\n",
       "  <tbody>\n",
       "    <tr>\n",
       "      <th>0</th>\n",
       "      <td>2472</td>\n",
       "      <td>45</td>\n",
       "      <td>6</td>\n",
       "      <td>133.333333</td>\n",
       "    </tr>\n",
       "    <tr>\n",
       "      <th>2</th>\n",
       "      <td>27272</td>\n",
       "      <td>39</td>\n",
       "      <td>11</td>\n",
       "      <td>282.051282</td>\n",
       "    </tr>\n",
       "    <tr>\n",
       "      <th>9</th>\n",
       "      <td>31112</td>\n",
       "      <td>14</td>\n",
       "      <td>1</td>\n",
       "      <td>71.428571</td>\n",
       "    </tr>\n",
       "    <tr>\n",
       "      <th>10</th>\n",
       "      <td>31854</td>\n",
       "      <td>15</td>\n",
       "      <td>1</td>\n",
       "      <td>66.666667</td>\n",
       "    </tr>\n",
       "    <tr>\n",
       "      <th>11</th>\n",
       "      <td>31872</td>\n",
       "      <td>67</td>\n",
       "      <td>12</td>\n",
       "      <td>179.104478</td>\n",
       "    </tr>\n",
       "  </tbody>\n",
       "</table>\n",
       "</div>"
      ],
      "text/plain": [
       "   cmdm_study_id  total_pd  total_majorpd  totalmajpd_by_totpd\n",
       "0           2472        45              6           133.333333\n",
       "2          27272        39             11           282.051282\n",
       "9          31112        14              1            71.428571\n",
       "10         31854        15              1            66.666667\n",
       "11         31872        67             12           179.104478"
      ]
     },
     "execution_count": 124,
     "metadata": {},
     "output_type": "execute_result"
    }
   ],
   "source": [
    "lkvt_jp_mp_by_tp_rate.head()"
   ]
  },
  {
   "cell_type": "markdown",
   "metadata": {},
   "source": [
    "## CMIC"
   ]
  },
  {
   "cell_type": "code",
   "execution_count": 125,
   "metadata": {
    "scrolled": true
   },
   "outputs": [],
   "source": [
    "sql = \"SELECT * FROM DBT.I_SITE_SUBJECT_DAYS where study_id not in ('BYP0027','NBI0027','CAP0011', 'BYP0032','VQV0010','BYP0042')\"\n",
    "\n",
    "cmic_temp4 = pd.read_sql(sql,cmic)"
   ]
  },
  {
   "cell_type": "code",
   "execution_count": 126,
   "metadata": {
    "scrolled": false
   },
   "outputs": [
    {
     "data": {
      "text/html": [
       "<div>\n",
       "<style scoped>\n",
       "    .dataframe tbody tr th:only-of-type {\n",
       "        vertical-align: middle;\n",
       "    }\n",
       "\n",
       "    .dataframe tbody tr th {\n",
       "        vertical-align: top;\n",
       "    }\n",
       "\n",
       "    .dataframe thead th {\n",
       "        text-align: right;\n",
       "    }\n",
       "</style>\n",
       "<table border=\"1\" class=\"dataframe\">\n",
       "  <thead>\n",
       "    <tr style=\"text-align: right;\">\n",
       "      <th></th>\n",
       "      <th>study_id</th>\n",
       "      <th>site_id</th>\n",
       "      <th>num_subjects</th>\n",
       "      <th>site_subject_days</th>\n",
       "    </tr>\n",
       "  </thead>\n",
       "  <tbody>\n",
       "    <tr>\n",
       "      <th>0</th>\n",
       "      <td>AST0018</td>\n",
       "      <td>008</td>\n",
       "      <td>1</td>\n",
       "      <td>92.0</td>\n",
       "    </tr>\n",
       "    <tr>\n",
       "      <th>1</th>\n",
       "      <td>AST0018</td>\n",
       "      <td>054</td>\n",
       "      <td>1</td>\n",
       "      <td>182.0</td>\n",
       "    </tr>\n",
       "    <tr>\n",
       "      <th>2</th>\n",
       "      <td>AST0018</td>\n",
       "      <td>077</td>\n",
       "      <td>2</td>\n",
       "      <td>319.0</td>\n",
       "    </tr>\n",
       "    <tr>\n",
       "      <th>3</th>\n",
       "      <td>AST0018</td>\n",
       "      <td>113</td>\n",
       "      <td>1</td>\n",
       "      <td>161.0</td>\n",
       "    </tr>\n",
       "    <tr>\n",
       "      <th>4</th>\n",
       "      <td>AST0018</td>\n",
       "      <td>064</td>\n",
       "      <td>3</td>\n",
       "      <td>992.0</td>\n",
       "    </tr>\n",
       "  </tbody>\n",
       "</table>\n",
       "</div>"
      ],
      "text/plain": [
       "  study_id site_id  num_subjects  site_subject_days\n",
       "0  AST0018     008             1               92.0\n",
       "1  AST0018     054             1              182.0\n",
       "2  AST0018     077             2              319.0\n",
       "3  AST0018     113             1              161.0\n",
       "4  AST0018     064             3              992.0"
      ]
     },
     "execution_count": 126,
     "metadata": {},
     "output_type": "execute_result"
    }
   ],
   "source": [
    "cmic_temp4.head()"
   ]
  },
  {
   "cell_type": "code",
   "execution_count": 127,
   "metadata": {},
   "outputs": [],
   "source": [
    "## Now we will extract total subject days per study id"
   ]
  },
  {
   "cell_type": "code",
   "execution_count": 128,
   "metadata": {},
   "outputs": [],
   "source": [
    "sql = \"select study_id, sum(site_subject_days) as tot_sub_days from DBT.I_SITE_SUBJECT_DAYS group by study_id\"\n",
    "\n",
    "cmic_glb_subdays_study_in = pd.read_sql(sql,cmic)"
   ]
  },
  {
   "cell_type": "code",
   "execution_count": 129,
   "metadata": {
    "scrolled": true
   },
   "outputs": [
    {
     "data": {
      "text/html": [
       "<div>\n",
       "<style scoped>\n",
       "    .dataframe tbody tr th:only-of-type {\n",
       "        vertical-align: middle;\n",
       "    }\n",
       "\n",
       "    .dataframe tbody tr th {\n",
       "        vertical-align: top;\n",
       "    }\n",
       "\n",
       "    .dataframe thead th {\n",
       "        text-align: right;\n",
       "    }\n",
       "</style>\n",
       "<table border=\"1\" class=\"dataframe\">\n",
       "  <thead>\n",
       "    <tr style=\"text-align: right;\">\n",
       "      <th></th>\n",
       "      <th>study_id</th>\n",
       "      <th>tot_sub_days</th>\n",
       "    </tr>\n",
       "  </thead>\n",
       "  <tbody>\n",
       "    <tr>\n",
       "      <th>0</th>\n",
       "      <td>AST0018</td>\n",
       "      <td>21435.0</td>\n",
       "    </tr>\n",
       "    <tr>\n",
       "      <th>1</th>\n",
       "      <td>BNP0026</td>\n",
       "      <td>11473.0</td>\n",
       "    </tr>\n",
       "    <tr>\n",
       "      <th>2</th>\n",
       "      <td>BYP0026</td>\n",
       "      <td>709428.0</td>\n",
       "    </tr>\n",
       "    <tr>\n",
       "      <th>3</th>\n",
       "      <td>CGS0014</td>\n",
       "      <td>15997.0</td>\n",
       "    </tr>\n",
       "    <tr>\n",
       "      <th>4</th>\n",
       "      <td>FJY0011</td>\n",
       "      <td>22131.0</td>\n",
       "    </tr>\n",
       "  </tbody>\n",
       "</table>\n",
       "</div>"
      ],
      "text/plain": [
       "  study_id  tot_sub_days\n",
       "0  AST0018       21435.0\n",
       "1  BNP0026       11473.0\n",
       "2  BYP0026      709428.0\n",
       "3  CGS0014       15997.0\n",
       "4  FJY0011       22131.0"
      ]
     },
     "execution_count": 129,
     "metadata": {},
     "output_type": "execute_result"
    }
   ],
   "source": [
    "cmic_glb_subdays_study_in.head()"
   ]
  },
  {
   "cell_type": "code",
   "execution_count": 130,
   "metadata": {
    "scrolled": true
   },
   "outputs": [
    {
     "data": {
      "text/plain": [
       "study_id        71\n",
       "tot_sub_days    71\n",
       "dtype: int64"
      ]
     },
     "execution_count": 130,
     "metadata": {},
     "output_type": "execute_result"
    }
   ],
   "source": [
    "cmic_glb_subdays_study_in.count()"
   ]
  },
  {
   "cell_type": "code",
   "execution_count": 131,
   "metadata": {
    "scrolled": true
   },
   "outputs": [
    {
     "data": {
      "text/plain": [
       "study_id        0\n",
       "tot_sub_days    0\n",
       "dtype: int64"
      ]
     },
     "execution_count": 131,
     "metadata": {},
     "output_type": "execute_result"
    }
   ],
   "source": [
    "cmic_glb_subdays_study_in.isna().sum()"
   ]
  },
  {
   "cell_type": "code",
   "execution_count": 132,
   "metadata": {},
   "outputs": [],
   "source": [
    "## All the study id's have values"
   ]
  },
  {
   "cell_type": "code",
   "execution_count": 133,
   "metadata": {},
   "outputs": [],
   "source": [
    "## Now lets get the Pd's"
   ]
  },
  {
   "cell_type": "code",
   "execution_count": 134,
   "metadata": {},
   "outputs": [],
   "source": [
    "sql = \"select study_id, count(pd_id) as total_pd from DBT.I_pd group by study_id\"\n",
    "\n",
    "cmic_glb_tot_pd_in = pd.read_sql(sql,cmic)"
   ]
  },
  {
   "cell_type": "code",
   "execution_count": 135,
   "metadata": {
    "scrolled": true
   },
   "outputs": [
    {
     "data": {
      "text/html": [
       "<div>\n",
       "<style scoped>\n",
       "    .dataframe tbody tr th:only-of-type {\n",
       "        vertical-align: middle;\n",
       "    }\n",
       "\n",
       "    .dataframe tbody tr th {\n",
       "        vertical-align: top;\n",
       "    }\n",
       "\n",
       "    .dataframe thead th {\n",
       "        text-align: right;\n",
       "    }\n",
       "</style>\n",
       "<table border=\"1\" class=\"dataframe\">\n",
       "  <thead>\n",
       "    <tr style=\"text-align: right;\">\n",
       "      <th></th>\n",
       "      <th>study_id</th>\n",
       "      <th>total_pd</th>\n",
       "    </tr>\n",
       "  </thead>\n",
       "  <tbody>\n",
       "    <tr>\n",
       "      <th>0</th>\n",
       "      <td>BNP0013</td>\n",
       "      <td>0</td>\n",
       "    </tr>\n",
       "    <tr>\n",
       "      <th>1</th>\n",
       "      <td>CAP0011</td>\n",
       "      <td>4</td>\n",
       "    </tr>\n",
       "    <tr>\n",
       "      <th>2</th>\n",
       "      <td>IJX0001</td>\n",
       "      <td>21</td>\n",
       "    </tr>\n",
       "    <tr>\n",
       "      <th>3</th>\n",
       "      <td>BNP0033</td>\n",
       "      <td>82</td>\n",
       "    </tr>\n",
       "    <tr>\n",
       "      <th>4</th>\n",
       "      <td>BYP0032</td>\n",
       "      <td>0</td>\n",
       "    </tr>\n",
       "  </tbody>\n",
       "</table>\n",
       "</div>"
      ],
      "text/plain": [
       "  study_id  total_pd\n",
       "0  BNP0013         0\n",
       "1  CAP0011         4\n",
       "2  IJX0001        21\n",
       "3  BNP0033        82\n",
       "4  BYP0032         0"
      ]
     },
     "execution_count": 135,
     "metadata": {},
     "output_type": "execute_result"
    }
   ],
   "source": [
    "cmic_glb_tot_pd_in.head()"
   ]
  },
  {
   "cell_type": "code",
   "execution_count": 136,
   "metadata": {
    "scrolled": false
   },
   "outputs": [
    {
     "data": {
      "text/plain": [
       "study_id    101\n",
       "total_pd    101\n",
       "dtype: int64"
      ]
     },
     "execution_count": 136,
     "metadata": {},
     "output_type": "execute_result"
    }
   ],
   "source": [
    "cmic_glb_tot_pd_in.count()"
   ]
  },
  {
   "cell_type": "code",
   "execution_count": 137,
   "metadata": {},
   "outputs": [],
   "source": [
    "## Joining both total pd and sum(subject_days) keeping study_id as primary key"
   ]
  },
  {
   "cell_type": "code",
   "execution_count": 138,
   "metadata": {},
   "outputs": [],
   "source": [
    "cmic_gb_tps_in = pd.merge(cmic_glb_subdays_study_in,cmic_glb_tot_pd_in,on='study_id',how='inner')"
   ]
  },
  {
   "cell_type": "code",
   "execution_count": 139,
   "metadata": {
    "scrolled": true
   },
   "outputs": [
    {
     "data": {
      "text/html": [
       "<div>\n",
       "<style scoped>\n",
       "    .dataframe tbody tr th:only-of-type {\n",
       "        vertical-align: middle;\n",
       "    }\n",
       "\n",
       "    .dataframe tbody tr th {\n",
       "        vertical-align: top;\n",
       "    }\n",
       "\n",
       "    .dataframe thead th {\n",
       "        text-align: right;\n",
       "    }\n",
       "</style>\n",
       "<table border=\"1\" class=\"dataframe\">\n",
       "  <thead>\n",
       "    <tr style=\"text-align: right;\">\n",
       "      <th></th>\n",
       "      <th>study_id</th>\n",
       "      <th>tot_sub_days</th>\n",
       "      <th>total_pd</th>\n",
       "    </tr>\n",
       "  </thead>\n",
       "  <tbody>\n",
       "    <tr>\n",
       "      <th>0</th>\n",
       "      <td>AST0018</td>\n",
       "      <td>21435.0</td>\n",
       "      <td>163</td>\n",
       "    </tr>\n",
       "    <tr>\n",
       "      <th>1</th>\n",
       "      <td>BNP0026</td>\n",
       "      <td>11473.0</td>\n",
       "      <td>57</td>\n",
       "    </tr>\n",
       "    <tr>\n",
       "      <th>2</th>\n",
       "      <td>BYP0026</td>\n",
       "      <td>709428.0</td>\n",
       "      <td>0</td>\n",
       "    </tr>\n",
       "    <tr>\n",
       "      <th>3</th>\n",
       "      <td>CGS0014</td>\n",
       "      <td>15997.0</td>\n",
       "      <td>94</td>\n",
       "    </tr>\n",
       "    <tr>\n",
       "      <th>4</th>\n",
       "      <td>FJY0011</td>\n",
       "      <td>22131.0</td>\n",
       "      <td>4</td>\n",
       "    </tr>\n",
       "  </tbody>\n",
       "</table>\n",
       "</div>"
      ],
      "text/plain": [
       "  study_id  tot_sub_days  total_pd\n",
       "0  AST0018       21435.0       163\n",
       "1  BNP0026       11473.0        57\n",
       "2  BYP0026      709428.0         0\n",
       "3  CGS0014       15997.0        94\n",
       "4  FJY0011       22131.0         4"
      ]
     },
     "execution_count": 139,
     "metadata": {},
     "output_type": "execute_result"
    }
   ],
   "source": [
    "cmic_gb_tps_in.head()"
   ]
  },
  {
   "cell_type": "code",
   "execution_count": 140,
   "metadata": {
    "scrolled": true
   },
   "outputs": [
    {
     "data": {
      "text/plain": [
       "study_id        64\n",
       "tot_sub_days    64\n",
       "total_pd        64\n",
       "dtype: int64"
      ]
     },
     "execution_count": 140,
     "metadata": {},
     "output_type": "execute_result"
    }
   ],
   "source": [
    "cmic_gb_tps_in.count()"
   ]
  },
  {
   "cell_type": "markdown",
   "metadata": {},
   "source": [
    "### getting major_pd and cmdm_study_id"
   ]
  },
  {
   "cell_type": "code",
   "execution_count": 141,
   "metadata": {},
   "outputs": [],
   "source": [
    "sql = \"select study_id, count(cmic_pd_severity) as Major_pd_count from I_PD where cmic_pd_severity = 'Major' group by study_id\"\n",
    "\n",
    "cmic_glb_tot_major_pd_in = pd.read_sql(sql,cmic)"
   ]
  },
  {
   "cell_type": "code",
   "execution_count": 142,
   "metadata": {
    "scrolled": false
   },
   "outputs": [
    {
     "data": {
      "text/html": [
       "<div>\n",
       "<style scoped>\n",
       "    .dataframe tbody tr th:only-of-type {\n",
       "        vertical-align: middle;\n",
       "    }\n",
       "\n",
       "    .dataframe tbody tr th {\n",
       "        vertical-align: top;\n",
       "    }\n",
       "\n",
       "    .dataframe thead th {\n",
       "        text-align: right;\n",
       "    }\n",
       "</style>\n",
       "<table border=\"1\" class=\"dataframe\">\n",
       "  <thead>\n",
       "    <tr style=\"text-align: right;\">\n",
       "      <th></th>\n",
       "      <th>study_id</th>\n",
       "      <th>major_pd_count</th>\n",
       "    </tr>\n",
       "  </thead>\n",
       "  <tbody>\n",
       "    <tr>\n",
       "      <th>0</th>\n",
       "      <td>FJY0011</td>\n",
       "      <td>1</td>\n",
       "    </tr>\n",
       "    <tr>\n",
       "      <th>1</th>\n",
       "      <td>ZLY0010</td>\n",
       "      <td>2</td>\n",
       "    </tr>\n",
       "    <tr>\n",
       "      <th>2</th>\n",
       "      <td>DIS0020</td>\n",
       "      <td>17</td>\n",
       "    </tr>\n",
       "    <tr>\n",
       "      <th>3</th>\n",
       "      <td>RTS0001</td>\n",
       "      <td>18</td>\n",
       "    </tr>\n",
       "    <tr>\n",
       "      <th>4</th>\n",
       "      <td>CFE0018</td>\n",
       "      <td>1</td>\n",
       "    </tr>\n",
       "  </tbody>\n",
       "</table>\n",
       "</div>"
      ],
      "text/plain": [
       "  study_id  major_pd_count\n",
       "0  FJY0011               1\n",
       "1  ZLY0010               2\n",
       "2  DIS0020              17\n",
       "3  RTS0001              18\n",
       "4  CFE0018               1"
      ]
     },
     "execution_count": 142,
     "metadata": {},
     "output_type": "execute_result"
    }
   ],
   "source": [
    "cmic_glb_tot_major_pd_in.head()"
   ]
  },
  {
   "cell_type": "code",
   "execution_count": 143,
   "metadata": {
    "scrolled": false
   },
   "outputs": [
    {
     "data": {
      "text/plain": [
       "study_id          36\n",
       "major_pd_count    36\n",
       "dtype: int64"
      ]
     },
     "execution_count": 143,
     "metadata": {},
     "output_type": "execute_result"
    }
   ],
   "source": [
    "cmic_glb_tot_major_pd_in.count()"
   ]
  },
  {
   "cell_type": "code",
   "execution_count": 144,
   "metadata": {},
   "outputs": [],
   "source": [
    "## Joining the pd and total major pd "
   ]
  },
  {
   "cell_type": "code",
   "execution_count": 145,
   "metadata": {},
   "outputs": [],
   "source": [
    "temp5 = pd.merge(cmic_glb_tot_major_pd_in,cmic_glb_tot_pd_in,on='study_id',how = 'inner') "
   ]
  },
  {
   "cell_type": "code",
   "execution_count": 146,
   "metadata": {
    "scrolled": true
   },
   "outputs": [
    {
     "data": {
      "text/html": [
       "<div>\n",
       "<style scoped>\n",
       "    .dataframe tbody tr th:only-of-type {\n",
       "        vertical-align: middle;\n",
       "    }\n",
       "\n",
       "    .dataframe tbody tr th {\n",
       "        vertical-align: top;\n",
       "    }\n",
       "\n",
       "    .dataframe thead th {\n",
       "        text-align: right;\n",
       "    }\n",
       "</style>\n",
       "<table border=\"1\" class=\"dataframe\">\n",
       "  <thead>\n",
       "    <tr style=\"text-align: right;\">\n",
       "      <th></th>\n",
       "      <th>study_id</th>\n",
       "      <th>major_pd_count</th>\n",
       "      <th>total_pd</th>\n",
       "    </tr>\n",
       "  </thead>\n",
       "  <tbody>\n",
       "    <tr>\n",
       "      <th>0</th>\n",
       "      <td>FJY0011</td>\n",
       "      <td>1</td>\n",
       "      <td>4</td>\n",
       "    </tr>\n",
       "    <tr>\n",
       "      <th>1</th>\n",
       "      <td>ZLY0010</td>\n",
       "      <td>2</td>\n",
       "      <td>29</td>\n",
       "    </tr>\n",
       "    <tr>\n",
       "      <th>2</th>\n",
       "      <td>DIS0020</td>\n",
       "      <td>17</td>\n",
       "      <td>337</td>\n",
       "    </tr>\n",
       "    <tr>\n",
       "      <th>3</th>\n",
       "      <td>RTS0001</td>\n",
       "      <td>18</td>\n",
       "      <td>18</td>\n",
       "    </tr>\n",
       "    <tr>\n",
       "      <th>4</th>\n",
       "      <td>CFE0018</td>\n",
       "      <td>1</td>\n",
       "      <td>49</td>\n",
       "    </tr>\n",
       "  </tbody>\n",
       "</table>\n",
       "</div>"
      ],
      "text/plain": [
       "  study_id  major_pd_count  total_pd\n",
       "0  FJY0011               1         4\n",
       "1  ZLY0010               2        29\n",
       "2  DIS0020              17       337\n",
       "3  RTS0001              18        18\n",
       "4  CFE0018               1        49"
      ]
     },
     "execution_count": 146,
     "metadata": {},
     "output_type": "execute_result"
    }
   ],
   "source": [
    "temp5.head()"
   ]
  },
  {
   "cell_type": "code",
   "execution_count": 147,
   "metadata": {
    "scrolled": false
   },
   "outputs": [
    {
     "data": {
      "text/plain": [
       "study_id          36\n",
       "major_pd_count    36\n",
       "total_pd          36\n",
       "dtype: int64"
      ]
     },
     "execution_count": 147,
     "metadata": {},
     "output_type": "execute_result"
    }
   ],
   "source": [
    "temp5.count()"
   ]
  },
  {
   "cell_type": "markdown",
   "metadata": {},
   "source": [
    "## 1. Total pd / Total subject days"
   ]
  },
  {
   "cell_type": "code",
   "execution_count": 148,
   "metadata": {},
   "outputs": [],
   "source": [
    "cmic_gb_tps_in['totalpd_by_sum_subdays'] = cmic_gb_tps_in['total_pd']/cmic_gb_tps_in['tot_sub_days']"
   ]
  },
  {
   "cell_type": "code",
   "execution_count": 149,
   "metadata": {
    "scrolled": true
   },
   "outputs": [
    {
     "data": {
      "text/html": [
       "<div>\n",
       "<style scoped>\n",
       "    .dataframe tbody tr th:only-of-type {\n",
       "        vertical-align: middle;\n",
       "    }\n",
       "\n",
       "    .dataframe tbody tr th {\n",
       "        vertical-align: top;\n",
       "    }\n",
       "\n",
       "    .dataframe thead th {\n",
       "        text-align: right;\n",
       "    }\n",
       "</style>\n",
       "<table border=\"1\" class=\"dataframe\">\n",
       "  <thead>\n",
       "    <tr style=\"text-align: right;\">\n",
       "      <th></th>\n",
       "      <th>study_id</th>\n",
       "      <th>tot_sub_days</th>\n",
       "      <th>total_pd</th>\n",
       "      <th>totalpd_by_sum_subdays</th>\n",
       "    </tr>\n",
       "  </thead>\n",
       "  <tbody>\n",
       "    <tr>\n",
       "      <th>0</th>\n",
       "      <td>AST0018</td>\n",
       "      <td>21435.0</td>\n",
       "      <td>163</td>\n",
       "      <td>0.007604</td>\n",
       "    </tr>\n",
       "    <tr>\n",
       "      <th>1</th>\n",
       "      <td>BNP0026</td>\n",
       "      <td>11473.0</td>\n",
       "      <td>57</td>\n",
       "      <td>0.004968</td>\n",
       "    </tr>\n",
       "    <tr>\n",
       "      <th>2</th>\n",
       "      <td>BYP0026</td>\n",
       "      <td>709428.0</td>\n",
       "      <td>0</td>\n",
       "      <td>0.000000</td>\n",
       "    </tr>\n",
       "    <tr>\n",
       "      <th>3</th>\n",
       "      <td>CGS0014</td>\n",
       "      <td>15997.0</td>\n",
       "      <td>94</td>\n",
       "      <td>0.005876</td>\n",
       "    </tr>\n",
       "    <tr>\n",
       "      <th>4</th>\n",
       "      <td>FJY0011</td>\n",
       "      <td>22131.0</td>\n",
       "      <td>4</td>\n",
       "      <td>0.000181</td>\n",
       "    </tr>\n",
       "  </tbody>\n",
       "</table>\n",
       "</div>"
      ],
      "text/plain": [
       "  study_id  tot_sub_days  total_pd  totalpd_by_sum_subdays\n",
       "0  AST0018       21435.0       163                0.007604\n",
       "1  BNP0026       11473.0        57                0.004968\n",
       "2  BYP0026      709428.0         0                0.000000\n",
       "3  CGS0014       15997.0        94                0.005876\n",
       "4  FJY0011       22131.0         4                0.000181"
      ]
     },
     "execution_count": 149,
     "metadata": {},
     "output_type": "execute_result"
    }
   ],
   "source": [
    "cmic_gb_tps_in.head()"
   ]
  },
  {
   "cell_type": "code",
   "execution_count": 150,
   "metadata": {
    "scrolled": true
   },
   "outputs": [
    {
     "data": {
      "text/plain": [
       "study_id                  64\n",
       "tot_sub_days              64\n",
       "total_pd                  64\n",
       "totalpd_by_sum_subdays    64\n",
       "dtype: int64"
      ]
     },
     "execution_count": 150,
     "metadata": {},
     "output_type": "execute_result"
    }
   ],
   "source": [
    "cmic_gb_tps_in.count()"
   ]
  },
  {
   "cell_type": "code",
   "execution_count": 151,
   "metadata": {},
   "outputs": [],
   "source": [
    "## Removing the zero values in total_pd"
   ]
  },
  {
   "cell_type": "code",
   "execution_count": 152,
   "metadata": {},
   "outputs": [],
   "source": [
    "cmic_gb_tps_in= cmic_gb_tps_in[cmic_gb_tps_in['total_pd']> 0]"
   ]
  },
  {
   "cell_type": "code",
   "execution_count": 153,
   "metadata": {
    "scrolled": false
   },
   "outputs": [
    {
     "data": {
      "text/plain": [
       "study_id                  50\n",
       "tot_sub_days              50\n",
       "total_pd                  50\n",
       "totalpd_by_sum_subdays    50\n",
       "dtype: int64"
      ]
     },
     "execution_count": 153,
     "metadata": {},
     "output_type": "execute_result"
    }
   ],
   "source": [
    "cmic_gb_tps_in.count()"
   ]
  },
  {
   "cell_type": "code",
   "execution_count": 154,
   "metadata": {},
   "outputs": [],
   "source": [
    "## there were 14 zero entries"
   ]
  },
  {
   "cell_type": "code",
   "execution_count": 155,
   "metadata": {},
   "outputs": [],
   "source": [
    "# Renaming the table to cmic_glb_pd_by_sd_rate"
   ]
  },
  {
   "cell_type": "code",
   "execution_count": 156,
   "metadata": {},
   "outputs": [],
   "source": [
    "cmic_glb_pd_by_sd_rate_in = cmic_gb_tps_in"
   ]
  },
  {
   "cell_type": "code",
   "execution_count": 157,
   "metadata": {
    "scrolled": false
   },
   "outputs": [
    {
     "data": {
      "text/html": [
       "<div>\n",
       "<style scoped>\n",
       "    .dataframe tbody tr th:only-of-type {\n",
       "        vertical-align: middle;\n",
       "    }\n",
       "\n",
       "    .dataframe tbody tr th {\n",
       "        vertical-align: top;\n",
       "    }\n",
       "\n",
       "    .dataframe thead th {\n",
       "        text-align: right;\n",
       "    }\n",
       "</style>\n",
       "<table border=\"1\" class=\"dataframe\">\n",
       "  <thead>\n",
       "    <tr style=\"text-align: right;\">\n",
       "      <th></th>\n",
       "      <th>study_id</th>\n",
       "      <th>tot_sub_days</th>\n",
       "      <th>total_pd</th>\n",
       "      <th>totalpd_by_sum_subdays</th>\n",
       "    </tr>\n",
       "  </thead>\n",
       "  <tbody>\n",
       "    <tr>\n",
       "      <th>0</th>\n",
       "      <td>AST0018</td>\n",
       "      <td>21435.0</td>\n",
       "      <td>163</td>\n",
       "      <td>0.007604</td>\n",
       "    </tr>\n",
       "    <tr>\n",
       "      <th>1</th>\n",
       "      <td>BNP0026</td>\n",
       "      <td>11473.0</td>\n",
       "      <td>57</td>\n",
       "      <td>0.004968</td>\n",
       "    </tr>\n",
       "    <tr>\n",
       "      <th>3</th>\n",
       "      <td>CGS0014</td>\n",
       "      <td>15997.0</td>\n",
       "      <td>94</td>\n",
       "      <td>0.005876</td>\n",
       "    </tr>\n",
       "    <tr>\n",
       "      <th>4</th>\n",
       "      <td>FJY0011</td>\n",
       "      <td>22131.0</td>\n",
       "      <td>4</td>\n",
       "      <td>0.000181</td>\n",
       "    </tr>\n",
       "    <tr>\n",
       "      <th>6</th>\n",
       "      <td>PIL0010</td>\n",
       "      <td>6420.0</td>\n",
       "      <td>1</td>\n",
       "      <td>0.000156</td>\n",
       "    </tr>\n",
       "  </tbody>\n",
       "</table>\n",
       "</div>"
      ],
      "text/plain": [
       "  study_id  tot_sub_days  total_pd  totalpd_by_sum_subdays\n",
       "0  AST0018       21435.0       163                0.007604\n",
       "1  BNP0026       11473.0        57                0.004968\n",
       "3  CGS0014       15997.0        94                0.005876\n",
       "4  FJY0011       22131.0         4                0.000181\n",
       "6  PIL0010        6420.0         1                0.000156"
      ]
     },
     "execution_count": 157,
     "metadata": {},
     "output_type": "execute_result"
    }
   ],
   "source": [
    "cmic_glb_pd_by_sd_rate_in.head()"
   ]
  },
  {
   "cell_type": "code",
   "execution_count": 158,
   "metadata": {},
   "outputs": [],
   "source": [
    "## Multiplying the metric by 1000 so that the metric value will not be low."
   ]
  },
  {
   "cell_type": "code",
   "execution_count": 159,
   "metadata": {},
   "outputs": [],
   "source": [
    "cmic_glb_pd_by_sd_rate_in['totalpd_by_sum_subdays'] = cmic_glb_pd_by_sd_rate_in['totalpd_by_sum_subdays']*1000"
   ]
  },
  {
   "cell_type": "code",
   "execution_count": 160,
   "metadata": {
    "scrolled": true
   },
   "outputs": [
    {
     "data": {
      "text/html": [
       "<div>\n",
       "<style scoped>\n",
       "    .dataframe tbody tr th:only-of-type {\n",
       "        vertical-align: middle;\n",
       "    }\n",
       "\n",
       "    .dataframe tbody tr th {\n",
       "        vertical-align: top;\n",
       "    }\n",
       "\n",
       "    .dataframe thead th {\n",
       "        text-align: right;\n",
       "    }\n",
       "</style>\n",
       "<table border=\"1\" class=\"dataframe\">\n",
       "  <thead>\n",
       "    <tr style=\"text-align: right;\">\n",
       "      <th></th>\n",
       "      <th>study_id</th>\n",
       "      <th>tot_sub_days</th>\n",
       "      <th>total_pd</th>\n",
       "      <th>totalpd_by_sum_subdays</th>\n",
       "    </tr>\n",
       "  </thead>\n",
       "  <tbody>\n",
       "    <tr>\n",
       "      <th>0</th>\n",
       "      <td>AST0018</td>\n",
       "      <td>21435.0</td>\n",
       "      <td>163</td>\n",
       "      <td>7.604385</td>\n",
       "    </tr>\n",
       "    <tr>\n",
       "      <th>1</th>\n",
       "      <td>BNP0026</td>\n",
       "      <td>11473.0</td>\n",
       "      <td>57</td>\n",
       "      <td>4.968186</td>\n",
       "    </tr>\n",
       "    <tr>\n",
       "      <th>3</th>\n",
       "      <td>CGS0014</td>\n",
       "      <td>15997.0</td>\n",
       "      <td>94</td>\n",
       "      <td>5.876102</td>\n",
       "    </tr>\n",
       "    <tr>\n",
       "      <th>4</th>\n",
       "      <td>FJY0011</td>\n",
       "      <td>22131.0</td>\n",
       "      <td>4</td>\n",
       "      <td>0.180742</td>\n",
       "    </tr>\n",
       "    <tr>\n",
       "      <th>6</th>\n",
       "      <td>PIL0010</td>\n",
       "      <td>6420.0</td>\n",
       "      <td>1</td>\n",
       "      <td>0.155763</td>\n",
       "    </tr>\n",
       "  </tbody>\n",
       "</table>\n",
       "</div>"
      ],
      "text/plain": [
       "  study_id  tot_sub_days  total_pd  totalpd_by_sum_subdays\n",
       "0  AST0018       21435.0       163                7.604385\n",
       "1  BNP0026       11473.0        57                4.968186\n",
       "3  CGS0014       15997.0        94                5.876102\n",
       "4  FJY0011       22131.0         4                0.180742\n",
       "6  PIL0010        6420.0         1                0.155763"
      ]
     },
     "execution_count": 160,
     "metadata": {},
     "output_type": "execute_result"
    }
   ],
   "source": [
    "cmic_glb_pd_by_sd_rate_in.head()"
   ]
  },
  {
   "cell_type": "code",
   "execution_count": 161,
   "metadata": {
    "scrolled": true
   },
   "outputs": [
    {
     "data": {
      "text/plain": [
       "study_id                  50\n",
       "tot_sub_days              50\n",
       "total_pd                  50\n",
       "totalpd_by_sum_subdays    50\n",
       "dtype: int64"
      ]
     },
     "execution_count": 161,
     "metadata": {},
     "output_type": "execute_result"
    }
   ],
   "source": [
    "cmic_glb_pd_by_sd_rate_in.count()"
   ]
  },
  {
   "cell_type": "markdown",
   "metadata": {},
   "source": [
    "## 2. total major pd /total pd"
   ]
  },
  {
   "cell_type": "code",
   "execution_count": 162,
   "metadata": {
    "scrolled": true
   },
   "outputs": [
    {
     "data": {
      "text/html": [
       "<div>\n",
       "<style scoped>\n",
       "    .dataframe tbody tr th:only-of-type {\n",
       "        vertical-align: middle;\n",
       "    }\n",
       "\n",
       "    .dataframe tbody tr th {\n",
       "        vertical-align: top;\n",
       "    }\n",
       "\n",
       "    .dataframe thead th {\n",
       "        text-align: right;\n",
       "    }\n",
       "</style>\n",
       "<table border=\"1\" class=\"dataframe\">\n",
       "  <thead>\n",
       "    <tr style=\"text-align: right;\">\n",
       "      <th></th>\n",
       "      <th>study_id</th>\n",
       "      <th>major_pd_count</th>\n",
       "      <th>total_pd</th>\n",
       "    </tr>\n",
       "  </thead>\n",
       "  <tbody>\n",
       "    <tr>\n",
       "      <th>0</th>\n",
       "      <td>FJY0011</td>\n",
       "      <td>1</td>\n",
       "      <td>4</td>\n",
       "    </tr>\n",
       "    <tr>\n",
       "      <th>1</th>\n",
       "      <td>ZLY0010</td>\n",
       "      <td>2</td>\n",
       "      <td>29</td>\n",
       "    </tr>\n",
       "    <tr>\n",
       "      <th>2</th>\n",
       "      <td>DIS0020</td>\n",
       "      <td>17</td>\n",
       "      <td>337</td>\n",
       "    </tr>\n",
       "    <tr>\n",
       "      <th>3</th>\n",
       "      <td>RTS0001</td>\n",
       "      <td>18</td>\n",
       "      <td>18</td>\n",
       "    </tr>\n",
       "    <tr>\n",
       "      <th>4</th>\n",
       "      <td>CFE0018</td>\n",
       "      <td>1</td>\n",
       "      <td>49</td>\n",
       "    </tr>\n",
       "  </tbody>\n",
       "</table>\n",
       "</div>"
      ],
      "text/plain": [
       "  study_id  major_pd_count  total_pd\n",
       "0  FJY0011               1         4\n",
       "1  ZLY0010               2        29\n",
       "2  DIS0020              17       337\n",
       "3  RTS0001              18        18\n",
       "4  CFE0018               1        49"
      ]
     },
     "execution_count": 162,
     "metadata": {},
     "output_type": "execute_result"
    }
   ],
   "source": [
    "temp5.head()"
   ]
  },
  {
   "cell_type": "code",
   "execution_count": 163,
   "metadata": {},
   "outputs": [],
   "source": [
    "temp5['totalmajpd_by_totpd'] = temp5['major_pd_count']/temp5['total_pd']"
   ]
  },
  {
   "cell_type": "code",
   "execution_count": 164,
   "metadata": {
    "scrolled": false
   },
   "outputs": [
    {
     "data": {
      "text/html": [
       "<div>\n",
       "<style scoped>\n",
       "    .dataframe tbody tr th:only-of-type {\n",
       "        vertical-align: middle;\n",
       "    }\n",
       "\n",
       "    .dataframe tbody tr th {\n",
       "        vertical-align: top;\n",
       "    }\n",
       "\n",
       "    .dataframe thead th {\n",
       "        text-align: right;\n",
       "    }\n",
       "</style>\n",
       "<table border=\"1\" class=\"dataframe\">\n",
       "  <thead>\n",
       "    <tr style=\"text-align: right;\">\n",
       "      <th></th>\n",
       "      <th>study_id</th>\n",
       "      <th>major_pd_count</th>\n",
       "      <th>total_pd</th>\n",
       "      <th>totalmajpd_by_totpd</th>\n",
       "    </tr>\n",
       "  </thead>\n",
       "  <tbody>\n",
       "    <tr>\n",
       "      <th>0</th>\n",
       "      <td>FJY0011</td>\n",
       "      <td>1</td>\n",
       "      <td>4</td>\n",
       "      <td>0.250000</td>\n",
       "    </tr>\n",
       "    <tr>\n",
       "      <th>1</th>\n",
       "      <td>ZLY0010</td>\n",
       "      <td>2</td>\n",
       "      <td>29</td>\n",
       "      <td>0.068966</td>\n",
       "    </tr>\n",
       "    <tr>\n",
       "      <th>2</th>\n",
       "      <td>DIS0020</td>\n",
       "      <td>17</td>\n",
       "      <td>337</td>\n",
       "      <td>0.050445</td>\n",
       "    </tr>\n",
       "    <tr>\n",
       "      <th>3</th>\n",
       "      <td>RTS0001</td>\n",
       "      <td>18</td>\n",
       "      <td>18</td>\n",
       "      <td>1.000000</td>\n",
       "    </tr>\n",
       "    <tr>\n",
       "      <th>4</th>\n",
       "      <td>CFE0018</td>\n",
       "      <td>1</td>\n",
       "      <td>49</td>\n",
       "      <td>0.020408</td>\n",
       "    </tr>\n",
       "  </tbody>\n",
       "</table>\n",
       "</div>"
      ],
      "text/plain": [
       "  study_id  major_pd_count  total_pd  totalmajpd_by_totpd\n",
       "0  FJY0011               1         4             0.250000\n",
       "1  ZLY0010               2        29             0.068966\n",
       "2  DIS0020              17       337             0.050445\n",
       "3  RTS0001              18        18             1.000000\n",
       "4  CFE0018               1        49             0.020408"
      ]
     },
     "execution_count": 164,
     "metadata": {},
     "output_type": "execute_result"
    }
   ],
   "source": [
    "temp5.head()"
   ]
  },
  {
   "cell_type": "code",
   "execution_count": 165,
   "metadata": {
    "scrolled": false
   },
   "outputs": [
    {
     "data": {
      "text/plain": [
       "study_id               36\n",
       "major_pd_count         36\n",
       "total_pd               36\n",
       "totalmajpd_by_totpd    36\n",
       "dtype: int64"
      ]
     },
     "execution_count": 165,
     "metadata": {},
     "output_type": "execute_result"
    }
   ],
   "source": [
    "temp5.count()"
   ]
  },
  {
   "cell_type": "code",
   "execution_count": 166,
   "metadata": {},
   "outputs": [],
   "source": [
    "## Removing the zero values from total_pd column"
   ]
  },
  {
   "cell_type": "code",
   "execution_count": 167,
   "metadata": {},
   "outputs": [],
   "source": [
    "temp5 = temp5[temp5['total_pd']> 0]"
   ]
  },
  {
   "cell_type": "code",
   "execution_count": 168,
   "metadata": {
    "scrolled": true
   },
   "outputs": [
    {
     "data": {
      "text/plain": [
       "study_id               27\n",
       "major_pd_count         27\n",
       "total_pd               27\n",
       "totalmajpd_by_totpd    27\n",
       "dtype: int64"
      ]
     },
     "execution_count": 168,
     "metadata": {},
     "output_type": "execute_result"
    }
   ],
   "source": [
    "temp5.count()"
   ]
  },
  {
   "cell_type": "code",
   "execution_count": 169,
   "metadata": {
    "scrolled": true
   },
   "outputs": [
    {
     "data": {
      "text/plain": [
       "study_id               0\n",
       "major_pd_count         0\n",
       "total_pd               0\n",
       "totalmajpd_by_totpd    0\n",
       "dtype: int64"
      ]
     },
     "execution_count": 169,
     "metadata": {},
     "output_type": "execute_result"
    }
   ],
   "source": [
    "temp5.isnull().sum()"
   ]
  },
  {
   "cell_type": "code",
   "execution_count": 170,
   "metadata": {},
   "outputs": [],
   "source": [
    "## there were 9 zero entries in total_pd"
   ]
  },
  {
   "cell_type": "code",
   "execution_count": 171,
   "metadata": {},
   "outputs": [],
   "source": [
    "# renaming the table to cmic_glb_mp_by_tp_rate"
   ]
  },
  {
   "cell_type": "code",
   "execution_count": 172,
   "metadata": {},
   "outputs": [],
   "source": [
    "cmic_glb_mp_by_tp_rate_in = temp5"
   ]
  },
  {
   "cell_type": "code",
   "execution_count": 173,
   "metadata": {
    "scrolled": true
   },
   "outputs": [
    {
     "data": {
      "text/html": [
       "<div>\n",
       "<style scoped>\n",
       "    .dataframe tbody tr th:only-of-type {\n",
       "        vertical-align: middle;\n",
       "    }\n",
       "\n",
       "    .dataframe tbody tr th {\n",
       "        vertical-align: top;\n",
       "    }\n",
       "\n",
       "    .dataframe thead th {\n",
       "        text-align: right;\n",
       "    }\n",
       "</style>\n",
       "<table border=\"1\" class=\"dataframe\">\n",
       "  <thead>\n",
       "    <tr style=\"text-align: right;\">\n",
       "      <th></th>\n",
       "      <th>study_id</th>\n",
       "      <th>major_pd_count</th>\n",
       "      <th>total_pd</th>\n",
       "      <th>totalmajpd_by_totpd</th>\n",
       "    </tr>\n",
       "  </thead>\n",
       "  <tbody>\n",
       "    <tr>\n",
       "      <th>0</th>\n",
       "      <td>FJY0011</td>\n",
       "      <td>1</td>\n",
       "      <td>4</td>\n",
       "      <td>0.250000</td>\n",
       "    </tr>\n",
       "    <tr>\n",
       "      <th>1</th>\n",
       "      <td>ZLY0010</td>\n",
       "      <td>2</td>\n",
       "      <td>29</td>\n",
       "      <td>0.068966</td>\n",
       "    </tr>\n",
       "    <tr>\n",
       "      <th>2</th>\n",
       "      <td>DIS0020</td>\n",
       "      <td>17</td>\n",
       "      <td>337</td>\n",
       "      <td>0.050445</td>\n",
       "    </tr>\n",
       "    <tr>\n",
       "      <th>3</th>\n",
       "      <td>RTS0001</td>\n",
       "      <td>18</td>\n",
       "      <td>18</td>\n",
       "      <td>1.000000</td>\n",
       "    </tr>\n",
       "    <tr>\n",
       "      <th>4</th>\n",
       "      <td>CFE0018</td>\n",
       "      <td>1</td>\n",
       "      <td>49</td>\n",
       "      <td>0.020408</td>\n",
       "    </tr>\n",
       "  </tbody>\n",
       "</table>\n",
       "</div>"
      ],
      "text/plain": [
       "  study_id  major_pd_count  total_pd  totalmajpd_by_totpd\n",
       "0  FJY0011               1         4             0.250000\n",
       "1  ZLY0010               2        29             0.068966\n",
       "2  DIS0020              17       337             0.050445\n",
       "3  RTS0001              18        18             1.000000\n",
       "4  CFE0018               1        49             0.020408"
      ]
     },
     "execution_count": 173,
     "metadata": {},
     "output_type": "execute_result"
    }
   ],
   "source": [
    "cmic_glb_mp_by_tp_rate_in.head()"
   ]
  },
  {
   "cell_type": "code",
   "execution_count": 174,
   "metadata": {},
   "outputs": [],
   "source": [
    "## Multiplying the metric by 1000 so that the metric value will not be low."
   ]
  },
  {
   "cell_type": "code",
   "execution_count": 175,
   "metadata": {},
   "outputs": [],
   "source": [
    "cmic_glb_mp_by_tp_rate_in['totalmajpd_by_totpd'] = cmic_glb_mp_by_tp_rate_in['totalmajpd_by_totpd']*1000"
   ]
  },
  {
   "cell_type": "code",
   "execution_count": 176,
   "metadata": {
    "scrolled": false
   },
   "outputs": [
    {
     "data": {
      "text/html": [
       "<div>\n",
       "<style scoped>\n",
       "    .dataframe tbody tr th:only-of-type {\n",
       "        vertical-align: middle;\n",
       "    }\n",
       "\n",
       "    .dataframe tbody tr th {\n",
       "        vertical-align: top;\n",
       "    }\n",
       "\n",
       "    .dataframe thead th {\n",
       "        text-align: right;\n",
       "    }\n",
       "</style>\n",
       "<table border=\"1\" class=\"dataframe\">\n",
       "  <thead>\n",
       "    <tr style=\"text-align: right;\">\n",
       "      <th></th>\n",
       "      <th>study_id</th>\n",
       "      <th>major_pd_count</th>\n",
       "      <th>total_pd</th>\n",
       "      <th>totalmajpd_by_totpd</th>\n",
       "    </tr>\n",
       "  </thead>\n",
       "  <tbody>\n",
       "    <tr>\n",
       "      <th>0</th>\n",
       "      <td>FJY0011</td>\n",
       "      <td>1</td>\n",
       "      <td>4</td>\n",
       "      <td>250.000000</td>\n",
       "    </tr>\n",
       "    <tr>\n",
       "      <th>1</th>\n",
       "      <td>ZLY0010</td>\n",
       "      <td>2</td>\n",
       "      <td>29</td>\n",
       "      <td>68.965517</td>\n",
       "    </tr>\n",
       "    <tr>\n",
       "      <th>2</th>\n",
       "      <td>DIS0020</td>\n",
       "      <td>17</td>\n",
       "      <td>337</td>\n",
       "      <td>50.445104</td>\n",
       "    </tr>\n",
       "    <tr>\n",
       "      <th>3</th>\n",
       "      <td>RTS0001</td>\n",
       "      <td>18</td>\n",
       "      <td>18</td>\n",
       "      <td>1000.000000</td>\n",
       "    </tr>\n",
       "    <tr>\n",
       "      <th>4</th>\n",
       "      <td>CFE0018</td>\n",
       "      <td>1</td>\n",
       "      <td>49</td>\n",
       "      <td>20.408163</td>\n",
       "    </tr>\n",
       "  </tbody>\n",
       "</table>\n",
       "</div>"
      ],
      "text/plain": [
       "  study_id  major_pd_count  total_pd  totalmajpd_by_totpd\n",
       "0  FJY0011               1         4           250.000000\n",
       "1  ZLY0010               2        29            68.965517\n",
       "2  DIS0020              17       337            50.445104\n",
       "3  RTS0001              18        18          1000.000000\n",
       "4  CFE0018               1        49            20.408163"
      ]
     },
     "execution_count": 176,
     "metadata": {},
     "output_type": "execute_result"
    }
   ],
   "source": [
    "cmic_glb_mp_by_tp_rate_in.head()"
   ]
  },
  {
   "cell_type": "code",
   "execution_count": 177,
   "metadata": {
    "scrolled": true
   },
   "outputs": [
    {
     "data": {
      "text/plain": [
       "study_id               27\n",
       "major_pd_count         27\n",
       "total_pd               27\n",
       "totalmajpd_by_totpd    27\n",
       "dtype: int64"
      ]
     },
     "execution_count": 177,
     "metadata": {},
     "output_type": "execute_result"
    }
   ],
   "source": [
    "cmic_glb_mp_by_tp_rate_in.count()"
   ]
  },
  {
   "cell_type": "markdown",
   "metadata": {},
   "source": [
    "## Phase wise comparision - CMIC"
   ]
  },
  {
   "cell_type": "code",
   "execution_count": 178,
   "metadata": {},
   "outputs": [],
   "source": [
    "## Getting the Cross PD data"
   ]
  },
  {
   "cell_type": "code",
   "execution_count": 179,
   "metadata": {
    "scrolled": false
   },
   "outputs": [],
   "source": [
    "sql = \"SELECT PROTOCOL_CODE, START_OF_WORK, RBM_0_1 AS RBM, BUCKETED_PHASE AS PHASE FROM DBT.I_CROSS WHERE PROTOCOL_CODE IN (SELECT PROTOCOL_CODE FROM RAW.BOX_FILE_LIST) AND PHASE NOT IN ('PK')\"\n",
    "psr_cmic = pd.read_sql(sql, cmic) ##chk i_cross view"
   ]
  },
  {
   "cell_type": "code",
   "execution_count": 180,
   "metadata": {
    "scrolled": true
   },
   "outputs": [
    {
     "data": {
      "text/html": [
       "<div>\n",
       "<style scoped>\n",
       "    .dataframe tbody tr th:only-of-type {\n",
       "        vertical-align: middle;\n",
       "    }\n",
       "\n",
       "    .dataframe tbody tr th {\n",
       "        vertical-align: top;\n",
       "    }\n",
       "\n",
       "    .dataframe thead th {\n",
       "        text-align: right;\n",
       "    }\n",
       "</style>\n",
       "<table border=\"1\" class=\"dataframe\">\n",
       "  <thead>\n",
       "    <tr style=\"text-align: right;\">\n",
       "      <th></th>\n",
       "      <th>protocol_code</th>\n",
       "      <th>start_of_work</th>\n",
       "      <th>rbm</th>\n",
       "      <th>phase</th>\n",
       "    </tr>\n",
       "  </thead>\n",
       "  <tbody>\n",
       "    <tr>\n",
       "      <th>0</th>\n",
       "      <td>BYP0023</td>\n",
       "      <td>2014-04-01</td>\n",
       "      <td>0</td>\n",
       "      <td>IV</td>\n",
       "    </tr>\n",
       "    <tr>\n",
       "      <th>1</th>\n",
       "      <td>BYP0018</td>\n",
       "      <td>2014-09-01</td>\n",
       "      <td>0</td>\n",
       "      <td>I</td>\n",
       "    </tr>\n",
       "    <tr>\n",
       "      <th>2</th>\n",
       "      <td>BNP0020</td>\n",
       "      <td>2015-09-01</td>\n",
       "      <td>0</td>\n",
       "      <td>II</td>\n",
       "    </tr>\n",
       "    <tr>\n",
       "      <th>3</th>\n",
       "      <td>ATZ0010</td>\n",
       "      <td>2011-10-01</td>\n",
       "      <td>0</td>\n",
       "      <td>III</td>\n",
       "    </tr>\n",
       "    <tr>\n",
       "      <th>4</th>\n",
       "      <td>DIS0018</td>\n",
       "      <td>2016-07-12</td>\n",
       "      <td>0</td>\n",
       "      <td>III</td>\n",
       "    </tr>\n",
       "  </tbody>\n",
       "</table>\n",
       "</div>"
      ],
      "text/plain": [
       "  protocol_code start_of_work  rbm phase\n",
       "0       BYP0023    2014-04-01    0    IV\n",
       "1       BYP0018    2014-09-01    0     I\n",
       "2       BNP0020    2015-09-01    0    II\n",
       "3       ATZ0010    2011-10-01    0   III\n",
       "4       DIS0018    2016-07-12    0   III"
      ]
     },
     "execution_count": 180,
     "metadata": {},
     "output_type": "execute_result"
    }
   ],
   "source": [
    "psr_cmic.head()"
   ]
  },
  {
   "cell_type": "code",
   "execution_count": 181,
   "metadata": {
    "scrolled": false
   },
   "outputs": [
    {
     "data": {
      "text/plain": [
       "protocol_code    327\n",
       "start_of_work    327\n",
       "rbm              327\n",
       "phase            327\n",
       "dtype: int64"
      ]
     },
     "execution_count": 181,
     "metadata": {},
     "output_type": "execute_result"
    }
   ],
   "source": [
    "psr_cmic.count()"
   ]
  },
  {
   "cell_type": "code",
   "execution_count": 182,
   "metadata": {},
   "outputs": [],
   "source": [
    "## renaming the study id to protocol id in both the tables - cmic_glb_pd_by_sd_rate and cmic_glb_mp_by_tp_rate"
   ]
  },
  {
   "cell_type": "code",
   "execution_count": 183,
   "metadata": {},
   "outputs": [],
   "source": [
    "cmic_glb_pd_by_sd_rate_in = cmic_glb_pd_by_sd_rate_in.rename(columns={\"study_id\" : \"protocol_code\"})"
   ]
  },
  {
   "cell_type": "code",
   "execution_count": 184,
   "metadata": {},
   "outputs": [],
   "source": [
    "cmic_glb_mp_by_tp_rate_in =cmic_glb_mp_by_tp_rate_in.rename(columns={\"study_id\" : \"protocol_code\"}) ## Renaming study_id to protocol_code"
   ]
  },
  {
   "cell_type": "code",
   "execution_count": 185,
   "metadata": {
    "scrolled": true
   },
   "outputs": [
    {
     "data": {
      "text/html": [
       "<div>\n",
       "<style scoped>\n",
       "    .dataframe tbody tr th:only-of-type {\n",
       "        vertical-align: middle;\n",
       "    }\n",
       "\n",
       "    .dataframe tbody tr th {\n",
       "        vertical-align: top;\n",
       "    }\n",
       "\n",
       "    .dataframe thead th {\n",
       "        text-align: right;\n",
       "    }\n",
       "</style>\n",
       "<table border=\"1\" class=\"dataframe\">\n",
       "  <thead>\n",
       "    <tr style=\"text-align: right;\">\n",
       "      <th></th>\n",
       "      <th>protocol_code</th>\n",
       "      <th>tot_sub_days</th>\n",
       "      <th>total_pd</th>\n",
       "      <th>totalpd_by_sum_subdays</th>\n",
       "    </tr>\n",
       "  </thead>\n",
       "  <tbody>\n",
       "    <tr>\n",
       "      <th>0</th>\n",
       "      <td>AST0018</td>\n",
       "      <td>21435.0</td>\n",
       "      <td>163</td>\n",
       "      <td>7.604385</td>\n",
       "    </tr>\n",
       "    <tr>\n",
       "      <th>1</th>\n",
       "      <td>BNP0026</td>\n",
       "      <td>11473.0</td>\n",
       "      <td>57</td>\n",
       "      <td>4.968186</td>\n",
       "    </tr>\n",
       "    <tr>\n",
       "      <th>3</th>\n",
       "      <td>CGS0014</td>\n",
       "      <td>15997.0</td>\n",
       "      <td>94</td>\n",
       "      <td>5.876102</td>\n",
       "    </tr>\n",
       "    <tr>\n",
       "      <th>4</th>\n",
       "      <td>FJY0011</td>\n",
       "      <td>22131.0</td>\n",
       "      <td>4</td>\n",
       "      <td>0.180742</td>\n",
       "    </tr>\n",
       "    <tr>\n",
       "      <th>6</th>\n",
       "      <td>PIL0010</td>\n",
       "      <td>6420.0</td>\n",
       "      <td>1</td>\n",
       "      <td>0.155763</td>\n",
       "    </tr>\n",
       "  </tbody>\n",
       "</table>\n",
       "</div>"
      ],
      "text/plain": [
       "  protocol_code  tot_sub_days  total_pd  totalpd_by_sum_subdays\n",
       "0       AST0018       21435.0       163                7.604385\n",
       "1       BNP0026       11473.0        57                4.968186\n",
       "3       CGS0014       15997.0        94                5.876102\n",
       "4       FJY0011       22131.0         4                0.180742\n",
       "6       PIL0010        6420.0         1                0.155763"
      ]
     },
     "execution_count": 185,
     "metadata": {},
     "output_type": "execute_result"
    }
   ],
   "source": [
    "cmic_glb_pd_by_sd_rate_in.head()"
   ]
  },
  {
   "cell_type": "code",
   "execution_count": 186,
   "metadata": {
    "scrolled": true
   },
   "outputs": [
    {
     "data": {
      "text/html": [
       "<div>\n",
       "<style scoped>\n",
       "    .dataframe tbody tr th:only-of-type {\n",
       "        vertical-align: middle;\n",
       "    }\n",
       "\n",
       "    .dataframe tbody tr th {\n",
       "        vertical-align: top;\n",
       "    }\n",
       "\n",
       "    .dataframe thead th {\n",
       "        text-align: right;\n",
       "    }\n",
       "</style>\n",
       "<table border=\"1\" class=\"dataframe\">\n",
       "  <thead>\n",
       "    <tr style=\"text-align: right;\">\n",
       "      <th></th>\n",
       "      <th>protocol_code</th>\n",
       "      <th>major_pd_count</th>\n",
       "      <th>total_pd</th>\n",
       "      <th>totalmajpd_by_totpd</th>\n",
       "    </tr>\n",
       "  </thead>\n",
       "  <tbody>\n",
       "    <tr>\n",
       "      <th>0</th>\n",
       "      <td>FJY0011</td>\n",
       "      <td>1</td>\n",
       "      <td>4</td>\n",
       "      <td>250.000000</td>\n",
       "    </tr>\n",
       "    <tr>\n",
       "      <th>1</th>\n",
       "      <td>ZLY0010</td>\n",
       "      <td>2</td>\n",
       "      <td>29</td>\n",
       "      <td>68.965517</td>\n",
       "    </tr>\n",
       "    <tr>\n",
       "      <th>2</th>\n",
       "      <td>DIS0020</td>\n",
       "      <td>17</td>\n",
       "      <td>337</td>\n",
       "      <td>50.445104</td>\n",
       "    </tr>\n",
       "    <tr>\n",
       "      <th>3</th>\n",
       "      <td>RTS0001</td>\n",
       "      <td>18</td>\n",
       "      <td>18</td>\n",
       "      <td>1000.000000</td>\n",
       "    </tr>\n",
       "    <tr>\n",
       "      <th>4</th>\n",
       "      <td>CFE0018</td>\n",
       "      <td>1</td>\n",
       "      <td>49</td>\n",
       "      <td>20.408163</td>\n",
       "    </tr>\n",
       "  </tbody>\n",
       "</table>\n",
       "</div>"
      ],
      "text/plain": [
       "  protocol_code  major_pd_count  total_pd  totalmajpd_by_totpd\n",
       "0       FJY0011               1         4           250.000000\n",
       "1       ZLY0010               2        29            68.965517\n",
       "2       DIS0020              17       337            50.445104\n",
       "3       RTS0001              18        18          1000.000000\n",
       "4       CFE0018               1        49            20.408163"
      ]
     },
     "execution_count": 186,
     "metadata": {},
     "output_type": "execute_result"
    }
   ],
   "source": [
    "cmic_glb_mp_by_tp_rate_in.head()"
   ]
  },
  {
   "cell_type": "code",
   "execution_count": 187,
   "metadata": {},
   "outputs": [],
   "source": [
    "## join both the cmic_glb_pd_by_sd_rate and cmic_glb_mp_by_tp_rate with psr_cmic keeping protocol_code as primary key"
   ]
  },
  {
   "cell_type": "markdown",
   "metadata": {},
   "source": [
    "## 1. phase wise for pd/subject days"
   ]
  },
  {
   "cell_type": "code",
   "execution_count": 188,
   "metadata": {},
   "outputs": [],
   "source": [
    "cmic_glb_met_fin_pds = pd.merge(cmic_glb_pd_by_sd_rate_in,psr_cmic,on ='protocol_code',how ='inner')"
   ]
  },
  {
   "cell_type": "code",
   "execution_count": 189,
   "metadata": {
    "scrolled": true
   },
   "outputs": [
    {
     "data": {
      "text/html": [
       "<div>\n",
       "<style scoped>\n",
       "    .dataframe tbody tr th:only-of-type {\n",
       "        vertical-align: middle;\n",
       "    }\n",
       "\n",
       "    .dataframe tbody tr th {\n",
       "        vertical-align: top;\n",
       "    }\n",
       "\n",
       "    .dataframe thead th {\n",
       "        text-align: right;\n",
       "    }\n",
       "</style>\n",
       "<table border=\"1\" class=\"dataframe\">\n",
       "  <thead>\n",
       "    <tr style=\"text-align: right;\">\n",
       "      <th></th>\n",
       "      <th>protocol_code</th>\n",
       "      <th>tot_sub_days</th>\n",
       "      <th>total_pd</th>\n",
       "      <th>totalpd_by_sum_subdays</th>\n",
       "      <th>start_of_work</th>\n",
       "      <th>rbm</th>\n",
       "      <th>phase</th>\n",
       "    </tr>\n",
       "  </thead>\n",
       "  <tbody>\n",
       "    <tr>\n",
       "      <th>0</th>\n",
       "      <td>AST0018</td>\n",
       "      <td>21435.0</td>\n",
       "      <td>163</td>\n",
       "      <td>7.604385</td>\n",
       "      <td>2014-05-01</td>\n",
       "      <td>0</td>\n",
       "      <td>III</td>\n",
       "    </tr>\n",
       "    <tr>\n",
       "      <th>1</th>\n",
       "      <td>BNP0026</td>\n",
       "      <td>11473.0</td>\n",
       "      <td>57</td>\n",
       "      <td>4.968186</td>\n",
       "      <td>2016-01-04</td>\n",
       "      <td>0</td>\n",
       "      <td>II</td>\n",
       "    </tr>\n",
       "    <tr>\n",
       "      <th>2</th>\n",
       "      <td>CGS0014</td>\n",
       "      <td>15997.0</td>\n",
       "      <td>94</td>\n",
       "      <td>5.876102</td>\n",
       "      <td>2017-11-01</td>\n",
       "      <td>1</td>\n",
       "      <td>III</td>\n",
       "    </tr>\n",
       "    <tr>\n",
       "      <th>3</th>\n",
       "      <td>FJY0011</td>\n",
       "      <td>22131.0</td>\n",
       "      <td>4</td>\n",
       "      <td>0.180742</td>\n",
       "      <td>2017-02-01</td>\n",
       "      <td>0</td>\n",
       "      <td>III</td>\n",
       "    </tr>\n",
       "    <tr>\n",
       "      <th>4</th>\n",
       "      <td>PIL0010</td>\n",
       "      <td>6420.0</td>\n",
       "      <td>1</td>\n",
       "      <td>0.155763</td>\n",
       "      <td>2018-12-03</td>\n",
       "      <td>0</td>\n",
       "      <td>II</td>\n",
       "    </tr>\n",
       "  </tbody>\n",
       "</table>\n",
       "</div>"
      ],
      "text/plain": [
       "  protocol_code  tot_sub_days  total_pd  totalpd_by_sum_subdays start_of_work  \\\n",
       "0       AST0018       21435.0       163                7.604385    2014-05-01   \n",
       "1       BNP0026       11473.0        57                4.968186    2016-01-04   \n",
       "2       CGS0014       15997.0        94                5.876102    2017-11-01   \n",
       "3       FJY0011       22131.0         4                0.180742    2017-02-01   \n",
       "4       PIL0010        6420.0         1                0.155763    2018-12-03   \n",
       "\n",
       "   rbm phase  \n",
       "0    0   III  \n",
       "1    0    II  \n",
       "2    1   III  \n",
       "3    0   III  \n",
       "4    0    II  "
      ]
     },
     "execution_count": 189,
     "metadata": {},
     "output_type": "execute_result"
    }
   ],
   "source": [
    "cmic_glb_met_fin_pds.head()"
   ]
  },
  {
   "cell_type": "code",
   "execution_count": 190,
   "metadata": {
    "scrolled": true
   },
   "outputs": [
    {
     "data": {
      "text/plain": [
       "protocol_code             50\n",
       "tot_sub_days              50\n",
       "total_pd                  50\n",
       "totalpd_by_sum_subdays    50\n",
       "start_of_work             50\n",
       "rbm                       50\n",
       "phase                     50\n",
       "dtype: int64"
      ]
     },
     "execution_count": 190,
     "metadata": {},
     "output_type": "execute_result"
    }
   ],
   "source": [
    "cmic_glb_met_fin_pds.count()"
   ]
  },
  {
   "cell_type": "code",
   "execution_count": 192,
   "metadata": {},
   "outputs": [],
   "source": [
    "# statistics of pd/subject rate"
   ]
  },
  {
   "cell_type": "code",
   "execution_count": 193,
   "metadata": {
    "scrolled": true
   },
   "outputs": [],
   "source": [
    "ph_psr_cmic_glb = cmic_glb_met_fin_pds.groupby('phase').totalpd_by_sum_subdays.describe()"
   ]
  },
  {
   "cell_type": "code",
   "execution_count": 196,
   "metadata": {
    "scrolled": true
   },
   "outputs": [
    {
     "data": {
      "text/html": [
       "<div>\n",
       "<style scoped>\n",
       "    .dataframe tbody tr th:only-of-type {\n",
       "        vertical-align: middle;\n",
       "    }\n",
       "\n",
       "    .dataframe tbody tr th {\n",
       "        vertical-align: top;\n",
       "    }\n",
       "\n",
       "    .dataframe thead th {\n",
       "        text-align: right;\n",
       "    }\n",
       "</style>\n",
       "<table border=\"1\" class=\"dataframe\">\n",
       "  <thead>\n",
       "    <tr style=\"text-align: right;\">\n",
       "      <th></th>\n",
       "      <th>count</th>\n",
       "      <th>mean</th>\n",
       "      <th>std</th>\n",
       "      <th>min</th>\n",
       "      <th>25%</th>\n",
       "      <th>50%</th>\n",
       "      <th>75%</th>\n",
       "      <th>max</th>\n",
       "    </tr>\n",
       "    <tr>\n",
       "      <th>phase</th>\n",
       "      <th></th>\n",
       "      <th></th>\n",
       "      <th></th>\n",
       "      <th></th>\n",
       "      <th></th>\n",
       "      <th></th>\n",
       "      <th></th>\n",
       "      <th></th>\n",
       "    </tr>\n",
       "  </thead>\n",
       "  <tbody>\n",
       "    <tr>\n",
       "      <th>I</th>\n",
       "      <td>5.0</td>\n",
       "      <td>85.008084</td>\n",
       "      <td>124.456150</td>\n",
       "      <td>4.816956</td>\n",
       "      <td>5.899705</td>\n",
       "      <td>23.566029</td>\n",
       "      <td>92.592593</td>\n",
       "      <td>298.165138</td>\n",
       "    </tr>\n",
       "    <tr>\n",
       "      <th>II</th>\n",
       "      <td>9.0</td>\n",
       "      <td>3.326212</td>\n",
       "      <td>2.217016</td>\n",
       "      <td>0.155763</td>\n",
       "      <td>1.768086</td>\n",
       "      <td>2.951884</td>\n",
       "      <td>4.968186</td>\n",
       "      <td>7.082780</td>\n",
       "    </tr>\n",
       "    <tr>\n",
       "      <th>III</th>\n",
       "      <td>34.0</td>\n",
       "      <td>11.268736</td>\n",
       "      <td>36.109573</td>\n",
       "      <td>0.032695</td>\n",
       "      <td>0.755498</td>\n",
       "      <td>3.069518</td>\n",
       "      <td>7.207823</td>\n",
       "      <td>212.121212</td>\n",
       "    </tr>\n",
       "    <tr>\n",
       "      <th>IV</th>\n",
       "      <td>2.0</td>\n",
       "      <td>1.240894</td>\n",
       "      <td>0.612718</td>\n",
       "      <td>0.807637</td>\n",
       "      <td>1.024266</td>\n",
       "      <td>1.240894</td>\n",
       "      <td>1.457523</td>\n",
       "      <td>1.674152</td>\n",
       "    </tr>\n",
       "  </tbody>\n",
       "</table>\n",
       "</div>"
      ],
      "text/plain": [
       "       count       mean         std       min       25%        50%        75%  \\\n",
       "phase                                                                           \n",
       "I        5.0  85.008084  124.456150  4.816956  5.899705  23.566029  92.592593   \n",
       "II       9.0   3.326212    2.217016  0.155763  1.768086   2.951884   4.968186   \n",
       "III     34.0  11.268736   36.109573  0.032695  0.755498   3.069518   7.207823   \n",
       "IV       2.0   1.240894    0.612718  0.807637  1.024266   1.240894   1.457523   \n",
       "\n",
       "              max  \n",
       "phase              \n",
       "I      298.165138  \n",
       "II       7.082780  \n",
       "III    212.121212  \n",
       "IV       1.674152  "
      ]
     },
     "execution_count": 196,
     "metadata": {},
     "output_type": "execute_result"
    }
   ],
   "source": [
    "ph_psr_cmic_glb"
   ]
  },
  {
   "cell_type": "markdown",
   "metadata": {},
   "source": [
    "## 2. phase wise for Major PD by Total PD rate"
   ]
  },
  {
   "cell_type": "code",
   "execution_count": 197,
   "metadata": {
    "scrolled": true
   },
   "outputs": [
    {
     "data": {
      "text/html": [
       "<div>\n",
       "<style scoped>\n",
       "    .dataframe tbody tr th:only-of-type {\n",
       "        vertical-align: middle;\n",
       "    }\n",
       "\n",
       "    .dataframe tbody tr th {\n",
       "        vertical-align: top;\n",
       "    }\n",
       "\n",
       "    .dataframe thead th {\n",
       "        text-align: right;\n",
       "    }\n",
       "</style>\n",
       "<table border=\"1\" class=\"dataframe\">\n",
       "  <thead>\n",
       "    <tr style=\"text-align: right;\">\n",
       "      <th></th>\n",
       "      <th>protocol_code</th>\n",
       "      <th>major_pd_count</th>\n",
       "      <th>total_pd</th>\n",
       "      <th>totalmajpd_by_totpd</th>\n",
       "    </tr>\n",
       "  </thead>\n",
       "  <tbody>\n",
       "    <tr>\n",
       "      <th>0</th>\n",
       "      <td>FJY0011</td>\n",
       "      <td>1</td>\n",
       "      <td>4</td>\n",
       "      <td>250.000000</td>\n",
       "    </tr>\n",
       "    <tr>\n",
       "      <th>1</th>\n",
       "      <td>ZLY0010</td>\n",
       "      <td>2</td>\n",
       "      <td>29</td>\n",
       "      <td>68.965517</td>\n",
       "    </tr>\n",
       "    <tr>\n",
       "      <th>2</th>\n",
       "      <td>DIS0020</td>\n",
       "      <td>17</td>\n",
       "      <td>337</td>\n",
       "      <td>50.445104</td>\n",
       "    </tr>\n",
       "    <tr>\n",
       "      <th>3</th>\n",
       "      <td>RTS0001</td>\n",
       "      <td>18</td>\n",
       "      <td>18</td>\n",
       "      <td>1000.000000</td>\n",
       "    </tr>\n",
       "    <tr>\n",
       "      <th>4</th>\n",
       "      <td>CFE0018</td>\n",
       "      <td>1</td>\n",
       "      <td>49</td>\n",
       "      <td>20.408163</td>\n",
       "    </tr>\n",
       "  </tbody>\n",
       "</table>\n",
       "</div>"
      ],
      "text/plain": [
       "  protocol_code  major_pd_count  total_pd  totalmajpd_by_totpd\n",
       "0       FJY0011               1         4           250.000000\n",
       "1       ZLY0010               2        29            68.965517\n",
       "2       DIS0020              17       337            50.445104\n",
       "3       RTS0001              18        18          1000.000000\n",
       "4       CFE0018               1        49            20.408163"
      ]
     },
     "execution_count": 197,
     "metadata": {},
     "output_type": "execute_result"
    }
   ],
   "source": [
    "## we already have the date for major pd/total pd. \n",
    "\n",
    "cmic_glb_mp_by_tp_rate_in.head()"
   ]
  },
  {
   "cell_type": "code",
   "execution_count": 198,
   "metadata": {},
   "outputs": [],
   "source": [
    "## joining cmic_glb_mp_by_tp_rate with psr_cmic "
   ]
  },
  {
   "cell_type": "code",
   "execution_count": 199,
   "metadata": {},
   "outputs": [],
   "source": [
    "cmic_glb_met_fin_mtp = pd.merge(cmic_glb_mp_by_tp_rate_in,psr_cmic,on ='protocol_code',how ='inner') "
   ]
  },
  {
   "cell_type": "code",
   "execution_count": 200,
   "metadata": {
    "scrolled": false
   },
   "outputs": [
    {
     "data": {
      "text/html": [
       "<div>\n",
       "<style scoped>\n",
       "    .dataframe tbody tr th:only-of-type {\n",
       "        vertical-align: middle;\n",
       "    }\n",
       "\n",
       "    .dataframe tbody tr th {\n",
       "        vertical-align: top;\n",
       "    }\n",
       "\n",
       "    .dataframe thead th {\n",
       "        text-align: right;\n",
       "    }\n",
       "</style>\n",
       "<table border=\"1\" class=\"dataframe\">\n",
       "  <thead>\n",
       "    <tr style=\"text-align: right;\">\n",
       "      <th></th>\n",
       "      <th>protocol_code</th>\n",
       "      <th>major_pd_count</th>\n",
       "      <th>total_pd</th>\n",
       "      <th>totalmajpd_by_totpd</th>\n",
       "      <th>start_of_work</th>\n",
       "      <th>rbm</th>\n",
       "      <th>phase</th>\n",
       "    </tr>\n",
       "  </thead>\n",
       "  <tbody>\n",
       "    <tr>\n",
       "      <th>0</th>\n",
       "      <td>FJY0011</td>\n",
       "      <td>1</td>\n",
       "      <td>4</td>\n",
       "      <td>250.000000</td>\n",
       "      <td>2017-02-01</td>\n",
       "      <td>0</td>\n",
       "      <td>III</td>\n",
       "    </tr>\n",
       "    <tr>\n",
       "      <th>1</th>\n",
       "      <td>ZLY0010</td>\n",
       "      <td>2</td>\n",
       "      <td>29</td>\n",
       "      <td>68.965517</td>\n",
       "      <td>2018-09-10</td>\n",
       "      <td>0</td>\n",
       "      <td>I</td>\n",
       "    </tr>\n",
       "    <tr>\n",
       "      <th>2</th>\n",
       "      <td>DIS0020</td>\n",
       "      <td>17</td>\n",
       "      <td>337</td>\n",
       "      <td>50.445104</td>\n",
       "      <td>2017-02-01</td>\n",
       "      <td>1</td>\n",
       "      <td>II</td>\n",
       "    </tr>\n",
       "    <tr>\n",
       "      <th>3</th>\n",
       "      <td>RTS0001</td>\n",
       "      <td>18</td>\n",
       "      <td>18</td>\n",
       "      <td>1000.000000</td>\n",
       "      <td>2020-05-19</td>\n",
       "      <td>0</td>\n",
       "      <td>I</td>\n",
       "    </tr>\n",
       "    <tr>\n",
       "      <th>4</th>\n",
       "      <td>CFE0018</td>\n",
       "      <td>1</td>\n",
       "      <td>49</td>\n",
       "      <td>20.408163</td>\n",
       "      <td>2018-07-01</td>\n",
       "      <td>0</td>\n",
       "      <td>III</td>\n",
       "    </tr>\n",
       "  </tbody>\n",
       "</table>\n",
       "</div>"
      ],
      "text/plain": [
       "  protocol_code  major_pd_count  total_pd  totalmajpd_by_totpd start_of_work  \\\n",
       "0       FJY0011               1         4           250.000000    2017-02-01   \n",
       "1       ZLY0010               2        29            68.965517    2018-09-10   \n",
       "2       DIS0020              17       337            50.445104    2017-02-01   \n",
       "3       RTS0001              18        18          1000.000000    2020-05-19   \n",
       "4       CFE0018               1        49            20.408163    2018-07-01   \n",
       "\n",
       "   rbm phase  \n",
       "0    0   III  \n",
       "1    0     I  \n",
       "2    1    II  \n",
       "3    0     I  \n",
       "4    0   III  "
      ]
     },
     "execution_count": 200,
     "metadata": {},
     "output_type": "execute_result"
    }
   ],
   "source": [
    "cmic_glb_met_fin_mtp.head()"
   ]
  },
  {
   "cell_type": "code",
   "execution_count": 201,
   "metadata": {
    "scrolled": true
   },
   "outputs": [
    {
     "data": {
      "text/plain": [
       "protocol_code          27\n",
       "major_pd_count         27\n",
       "total_pd               27\n",
       "totalmajpd_by_totpd    27\n",
       "start_of_work          27\n",
       "rbm                    27\n",
       "phase                  27\n",
       "dtype: int64"
      ]
     },
     "execution_count": 201,
     "metadata": {},
     "output_type": "execute_result"
    }
   ],
   "source": [
    " cmic_glb_met_fin_mtp.count()"
   ]
  },
  {
   "cell_type": "code",
   "execution_count": 203,
   "metadata": {},
   "outputs": [],
   "source": [
    "# stats of majorpd/total_pd_rate"
   ]
  },
  {
   "cell_type": "code",
   "execution_count": 204,
   "metadata": {
    "scrolled": true
   },
   "outputs": [],
   "source": [
    "ph_mtr_cmic_glb = cmic_glb_met_fin_mtp.groupby('phase').totalmajpd_by_totpd.describe()"
   ]
  },
  {
   "cell_type": "code",
   "execution_count": 206,
   "metadata": {
    "scrolled": true
   },
   "outputs": [
    {
     "data": {
      "text/html": [
       "<div>\n",
       "<style scoped>\n",
       "    .dataframe tbody tr th:only-of-type {\n",
       "        vertical-align: middle;\n",
       "    }\n",
       "\n",
       "    .dataframe tbody tr th {\n",
       "        vertical-align: top;\n",
       "    }\n",
       "\n",
       "    .dataframe thead th {\n",
       "        text-align: right;\n",
       "    }\n",
       "</style>\n",
       "<table border=\"1\" class=\"dataframe\">\n",
       "  <thead>\n",
       "    <tr style=\"text-align: right;\">\n",
       "      <th></th>\n",
       "      <th>count</th>\n",
       "      <th>mean</th>\n",
       "      <th>std</th>\n",
       "      <th>min</th>\n",
       "      <th>25%</th>\n",
       "      <th>50%</th>\n",
       "      <th>75%</th>\n",
       "      <th>max</th>\n",
       "    </tr>\n",
       "    <tr>\n",
       "      <th>phase</th>\n",
       "      <th></th>\n",
       "      <th></th>\n",
       "      <th></th>\n",
       "      <th></th>\n",
       "      <th></th>\n",
       "      <th></th>\n",
       "      <th></th>\n",
       "      <th></th>\n",
       "    </tr>\n",
       "  </thead>\n",
       "  <tbody>\n",
       "    <tr>\n",
       "      <th>I</th>\n",
       "      <td>3.0</td>\n",
       "      <td>436.321839</td>\n",
       "      <td>495.593584</td>\n",
       "      <td>68.965517</td>\n",
       "      <td>154.482759</td>\n",
       "      <td>240.000000</td>\n",
       "      <td>620.000000</td>\n",
       "      <td>1000.000000</td>\n",
       "    </tr>\n",
       "    <tr>\n",
       "      <th>II</th>\n",
       "      <td>6.0</td>\n",
       "      <td>340.291575</td>\n",
       "      <td>354.153544</td>\n",
       "      <td>50.445104</td>\n",
       "      <td>106.250000</td>\n",
       "      <td>250.000000</td>\n",
       "      <td>387.228261</td>\n",
       "      <td>1000.000000</td>\n",
       "    </tr>\n",
       "    <tr>\n",
       "      <th>III</th>\n",
       "      <td>17.0</td>\n",
       "      <td>270.547673</td>\n",
       "      <td>254.315470</td>\n",
       "      <td>20.408163</td>\n",
       "      <td>92.024540</td>\n",
       "      <td>180.851064</td>\n",
       "      <td>320.000000</td>\n",
       "      <td>1000.000000</td>\n",
       "    </tr>\n",
       "    <tr>\n",
       "      <th>IV</th>\n",
       "      <td>1.0</td>\n",
       "      <td>230.769231</td>\n",
       "      <td>NaN</td>\n",
       "      <td>230.769231</td>\n",
       "      <td>230.769231</td>\n",
       "      <td>230.769231</td>\n",
       "      <td>230.769231</td>\n",
       "      <td>230.769231</td>\n",
       "    </tr>\n",
       "  </tbody>\n",
       "</table>\n",
       "</div>"
      ],
      "text/plain": [
       "       count        mean         std         min         25%         50%  \\\n",
       "phase                                                                      \n",
       "I        3.0  436.321839  495.593584   68.965517  154.482759  240.000000   \n",
       "II       6.0  340.291575  354.153544   50.445104  106.250000  250.000000   \n",
       "III     17.0  270.547673  254.315470   20.408163   92.024540  180.851064   \n",
       "IV       1.0  230.769231         NaN  230.769231  230.769231  230.769231   \n",
       "\n",
       "              75%          max  \n",
       "phase                           \n",
       "I      620.000000  1000.000000  \n",
       "II     387.228261  1000.000000  \n",
       "III    320.000000  1000.000000  \n",
       "IV     230.769231   230.769231  "
      ]
     },
     "execution_count": 206,
     "metadata": {},
     "output_type": "execute_result"
    }
   ],
   "source": [
    "ph_mtr_cmic_glb"
   ]
  },
  {
   "cell_type": "markdown",
   "metadata": {},
   "source": [
    "## Phase wise comparision Lokavant Global Rate"
   ]
  },
  {
   "cell_type": "markdown",
   "metadata": {},
   "source": [
    "#### Total PD/Subject days Rate"
   ]
  },
  {
   "cell_type": "code",
   "execution_count": 207,
   "metadata": {
    "scrolled": false
   },
   "outputs": [
    {
     "data": {
      "text/html": [
       "<div>\n",
       "<style scoped>\n",
       "    .dataframe tbody tr th:only-of-type {\n",
       "        vertical-align: middle;\n",
       "    }\n",
       "\n",
       "    .dataframe tbody tr th {\n",
       "        vertical-align: top;\n",
       "    }\n",
       "\n",
       "    .dataframe thead th {\n",
       "        text-align: right;\n",
       "    }\n",
       "</style>\n",
       "<table border=\"1\" class=\"dataframe\">\n",
       "  <thead>\n",
       "    <tr style=\"text-align: right;\">\n",
       "      <th></th>\n",
       "      <th>cmdm_study_id</th>\n",
       "      <th>SUM(SUBJECT_DAYS)</th>\n",
       "      <th>total_pd</th>\n",
       "      <th>totalpd_by_sum_subdays</th>\n",
       "    </tr>\n",
       "  </thead>\n",
       "  <tbody>\n",
       "    <tr>\n",
       "      <th>0</th>\n",
       "      <td>32312</td>\n",
       "      <td>659782.0</td>\n",
       "      <td>5671</td>\n",
       "      <td>8.595263</td>\n",
       "    </tr>\n",
       "    <tr>\n",
       "      <th>1</th>\n",
       "      <td>46952</td>\n",
       "      <td>56344.0</td>\n",
       "      <td>1235</td>\n",
       "      <td>21.918927</td>\n",
       "    </tr>\n",
       "    <tr>\n",
       "      <th>2</th>\n",
       "      <td>3239</td>\n",
       "      <td>84717.0</td>\n",
       "      <td>256</td>\n",
       "      <td>3.021826</td>\n",
       "    </tr>\n",
       "    <tr>\n",
       "      <th>3</th>\n",
       "      <td>38352</td>\n",
       "      <td>84390.0</td>\n",
       "      <td>2867</td>\n",
       "      <td>33.973220</td>\n",
       "    </tr>\n",
       "    <tr>\n",
       "      <th>4</th>\n",
       "      <td>41332</td>\n",
       "      <td>3086.0</td>\n",
       "      <td>317</td>\n",
       "      <td>102.721970</td>\n",
       "    </tr>\n",
       "  </tbody>\n",
       "</table>\n",
       "</div>"
      ],
      "text/plain": [
       "  cmdm_study_id  SUM(SUBJECT_DAYS)  total_pd  totalpd_by_sum_subdays\n",
       "0         32312           659782.0      5671                8.595263\n",
       "1         46952            56344.0      1235               21.918927\n",
       "2          3239            84717.0       256                3.021826\n",
       "3         38352            84390.0      2867               33.973220\n",
       "4         41332             3086.0       317              102.721970"
      ]
     },
     "execution_count": 207,
     "metadata": {},
     "output_type": "execute_result"
    }
   ],
   "source": [
    "lkvt_gb_pd_by_sd_rate.head()"
   ]
  },
  {
   "cell_type": "code",
   "execution_count": 208,
   "metadata": {
    "scrolled": true
   },
   "outputs": [
    {
     "data": {
      "text/plain": [
       "cmdm_study_id             90\n",
       "SUM(SUBJECT_DAYS)         90\n",
       "total_pd                  90\n",
       "totalpd_by_sum_subdays    90\n",
       "dtype: int64"
      ]
     },
     "execution_count": 208,
     "metadata": {},
     "output_type": "execute_result"
    }
   ],
   "source": [
    "lkvt_gb_pd_by_sd_rate.count()"
   ]
  },
  {
   "cell_type": "markdown",
   "metadata": {},
   "source": [
    "### Getting Phase data  "
   ]
  },
  {
   "cell_type": "code",
   "execution_count": 209,
   "metadata": {
    "scrolled": true
   },
   "outputs": [],
   "source": [
    "sql = \\\n",
    "    '''\n",
    "    select a.cmdm_study_id,\n",
    "           case\n",
    "                when phase = 'I' then 'I'\n",
    "                when phase = 'II' then 'II'\n",
    "                when phase in ('II/III', 'IIIb', 'III') then 'III'\n",
    "                when phase = 'IV' then 'IV'\n",
    "                else 'Other'\n",
    "            end as b_phase,\n",
    "           crs_current_status\n",
    "    from transformed.STUDY_PROTOCOL_DEVIATION_METRICS a \n",
    "    inner join raw_data.dim_study b \n",
    "        on a.cmdm_study_id = b.cmdm_study_id\n",
    "    where b_phase not in ('Other')\n",
    "    \n",
    "    '''\n",
    "\n",
    "temp100 = pd.read_sql(sql, pxl)\n",
    "## we can include studies from slected status'es based on crs_current_status"
   ]
  },
  {
   "cell_type": "code",
   "execution_count": 210,
   "metadata": {
    "scrolled": true
   },
   "outputs": [
    {
     "data": {
      "text/html": [
       "<div>\n",
       "<style scoped>\n",
       "    .dataframe tbody tr th:only-of-type {\n",
       "        vertical-align: middle;\n",
       "    }\n",
       "\n",
       "    .dataframe tbody tr th {\n",
       "        vertical-align: top;\n",
       "    }\n",
       "\n",
       "    .dataframe thead th {\n",
       "        text-align: right;\n",
       "    }\n",
       "</style>\n",
       "<table border=\"1\" class=\"dataframe\">\n",
       "  <thead>\n",
       "    <tr style=\"text-align: right;\">\n",
       "      <th></th>\n",
       "      <th>cmdm_study_id</th>\n",
       "      <th>b_phase</th>\n",
       "      <th>crs_current_status</th>\n",
       "    </tr>\n",
       "  </thead>\n",
       "  <tbody>\n",
       "    <tr>\n",
       "      <th>0</th>\n",
       "      <td>34632</td>\n",
       "      <td>I</td>\n",
       "      <td>Maintenance</td>\n",
       "    </tr>\n",
       "    <tr>\n",
       "      <th>1</th>\n",
       "      <td>3738</td>\n",
       "      <td>III</td>\n",
       "      <td>Completed</td>\n",
       "    </tr>\n",
       "    <tr>\n",
       "      <th>2</th>\n",
       "      <td>29772</td>\n",
       "      <td>I</td>\n",
       "      <td>Completed</td>\n",
       "    </tr>\n",
       "    <tr>\n",
       "      <th>3</th>\n",
       "      <td>4215</td>\n",
       "      <td>III</td>\n",
       "      <td>Recruiting</td>\n",
       "    </tr>\n",
       "    <tr>\n",
       "      <th>4</th>\n",
       "      <td>30812</td>\n",
       "      <td>III</td>\n",
       "      <td>Completed</td>\n",
       "    </tr>\n",
       "  </tbody>\n",
       "</table>\n",
       "</div>"
      ],
      "text/plain": [
       "  cmdm_study_id b_phase crs_current_status\n",
       "0         34632       I        Maintenance\n",
       "1          3738     III          Completed\n",
       "2         29772       I          Completed\n",
       "3          4215     III         Recruiting\n",
       "4         30812     III          Completed"
      ]
     },
     "execution_count": 210,
     "metadata": {},
     "output_type": "execute_result"
    }
   ],
   "source": [
    "temp100.head()"
   ]
  },
  {
   "cell_type": "code",
   "execution_count": 211,
   "metadata": {
    "scrolled": false
   },
   "outputs": [
    {
     "data": {
      "text/plain": [
       "cmdm_study_id         190\n",
       "b_phase               190\n",
       "crs_current_status    190\n",
       "dtype: int64"
      ]
     },
     "execution_count": 211,
     "metadata": {},
     "output_type": "execute_result"
    }
   ],
   "source": [
    "temp100.count()"
   ]
  },
  {
   "cell_type": "code",
   "execution_count": 212,
   "metadata": {},
   "outputs": [],
   "source": [
    "## Joining both the Lokavant and lokavant japan tables with temp100(phase lvl data) table "
   ]
  },
  {
   "cell_type": "markdown",
   "metadata": {},
   "source": [
    "## 1. pd/subject days "
   ]
  },
  {
   "cell_type": "code",
   "execution_count": 213,
   "metadata": {},
   "outputs": [],
   "source": [
    "lok_glb_met_fin_pds = pd.merge(lkvt_gb_pd_by_sd_rate,temp100,on='cmdm_study_id',how='inner') "
   ]
  },
  {
   "cell_type": "code",
   "execution_count": 214,
   "metadata": {
    "scrolled": false
   },
   "outputs": [
    {
     "data": {
      "text/html": [
       "<div>\n",
       "<style scoped>\n",
       "    .dataframe tbody tr th:only-of-type {\n",
       "        vertical-align: middle;\n",
       "    }\n",
       "\n",
       "    .dataframe tbody tr th {\n",
       "        vertical-align: top;\n",
       "    }\n",
       "\n",
       "    .dataframe thead th {\n",
       "        text-align: right;\n",
       "    }\n",
       "</style>\n",
       "<table border=\"1\" class=\"dataframe\">\n",
       "  <thead>\n",
       "    <tr style=\"text-align: right;\">\n",
       "      <th></th>\n",
       "      <th>cmdm_study_id</th>\n",
       "      <th>SUM(SUBJECT_DAYS)</th>\n",
       "      <th>total_pd</th>\n",
       "      <th>totalpd_by_sum_subdays</th>\n",
       "      <th>b_phase</th>\n",
       "      <th>crs_current_status</th>\n",
       "    </tr>\n",
       "  </thead>\n",
       "  <tbody>\n",
       "    <tr>\n",
       "      <th>0</th>\n",
       "      <td>32312</td>\n",
       "      <td>659782.0</td>\n",
       "      <td>5671</td>\n",
       "      <td>8.595263</td>\n",
       "      <td>III</td>\n",
       "      <td>Maintenance</td>\n",
       "    </tr>\n",
       "    <tr>\n",
       "      <th>1</th>\n",
       "      <td>46952</td>\n",
       "      <td>56344.0</td>\n",
       "      <td>1235</td>\n",
       "      <td>21.918927</td>\n",
       "      <td>II</td>\n",
       "      <td>Recruiting</td>\n",
       "    </tr>\n",
       "    <tr>\n",
       "      <th>2</th>\n",
       "      <td>3239</td>\n",
       "      <td>84717.0</td>\n",
       "      <td>256</td>\n",
       "      <td>3.021826</td>\n",
       "      <td>III</td>\n",
       "      <td>Completed</td>\n",
       "    </tr>\n",
       "    <tr>\n",
       "      <th>3</th>\n",
       "      <td>38352</td>\n",
       "      <td>84390.0</td>\n",
       "      <td>2867</td>\n",
       "      <td>33.973220</td>\n",
       "      <td>II</td>\n",
       "      <td>Recruiting</td>\n",
       "    </tr>\n",
       "    <tr>\n",
       "      <th>4</th>\n",
       "      <td>41332</td>\n",
       "      <td>3086.0</td>\n",
       "      <td>317</td>\n",
       "      <td>102.721970</td>\n",
       "      <td>II</td>\n",
       "      <td>Recruiting</td>\n",
       "    </tr>\n",
       "  </tbody>\n",
       "</table>\n",
       "</div>"
      ],
      "text/plain": [
       "  cmdm_study_id  SUM(SUBJECT_DAYS)  total_pd  totalpd_by_sum_subdays b_phase  \\\n",
       "0         32312           659782.0      5671                8.595263     III   \n",
       "1         46952            56344.0      1235               21.918927      II   \n",
       "2          3239            84717.0       256                3.021826     III   \n",
       "3         38352            84390.0      2867               33.973220      II   \n",
       "4         41332             3086.0       317              102.721970      II   \n",
       "\n",
       "  crs_current_status  \n",
       "0        Maintenance  \n",
       "1         Recruiting  \n",
       "2          Completed  \n",
       "3         Recruiting  \n",
       "4         Recruiting  "
      ]
     },
     "execution_count": 214,
     "metadata": {},
     "output_type": "execute_result"
    }
   ],
   "source": [
    "lok_glb_met_fin_pds.head()"
   ]
  },
  {
   "cell_type": "code",
   "execution_count": 215,
   "metadata": {
    "scrolled": true
   },
   "outputs": [
    {
     "data": {
      "text/plain": [
       "cmdm_study_id             85\n",
       "SUM(SUBJECT_DAYS)         85\n",
       "total_pd                  85\n",
       "totalpd_by_sum_subdays    85\n",
       "b_phase                   85\n",
       "crs_current_status        85\n",
       "dtype: int64"
      ]
     },
     "execution_count": 215,
     "metadata": {},
     "output_type": "execute_result"
    }
   ],
   "source": [
    "lok_glb_met_fin_pds.count()"
   ]
  },
  {
   "cell_type": "code",
   "execution_count": 216,
   "metadata": {},
   "outputs": [],
   "source": [
    "ph_psr_lvk_glb = lok_glb_met_fin_pds.groupby('b_phase').totalpd_by_sum_subdays.describe()"
   ]
  },
  {
   "cell_type": "code",
   "execution_count": 217,
   "metadata": {
    "scrolled": true
   },
   "outputs": [
    {
     "data": {
      "text/html": [
       "<div>\n",
       "<style scoped>\n",
       "    .dataframe tbody tr th:only-of-type {\n",
       "        vertical-align: middle;\n",
       "    }\n",
       "\n",
       "    .dataframe tbody tr th {\n",
       "        vertical-align: top;\n",
       "    }\n",
       "\n",
       "    .dataframe thead th {\n",
       "        text-align: right;\n",
       "    }\n",
       "</style>\n",
       "<table border=\"1\" class=\"dataframe\">\n",
       "  <thead>\n",
       "    <tr style=\"text-align: right;\">\n",
       "      <th></th>\n",
       "      <th>count</th>\n",
       "      <th>mean</th>\n",
       "      <th>std</th>\n",
       "      <th>min</th>\n",
       "      <th>25%</th>\n",
       "      <th>50%</th>\n",
       "      <th>75%</th>\n",
       "      <th>max</th>\n",
       "    </tr>\n",
       "    <tr>\n",
       "      <th>b_phase</th>\n",
       "      <th></th>\n",
       "      <th></th>\n",
       "      <th></th>\n",
       "      <th></th>\n",
       "      <th></th>\n",
       "      <th></th>\n",
       "      <th></th>\n",
       "      <th></th>\n",
       "    </tr>\n",
       "  </thead>\n",
       "  <tbody>\n",
       "    <tr>\n",
       "      <th>I</th>\n",
       "      <td>7.0</td>\n",
       "      <td>65.770604</td>\n",
       "      <td>105.684360</td>\n",
       "      <td>0.989446</td>\n",
       "      <td>1.980184</td>\n",
       "      <td>4.685650</td>\n",
       "      <td>109.131625</td>\n",
       "      <td>232.495512</td>\n",
       "    </tr>\n",
       "    <tr>\n",
       "      <th>II</th>\n",
       "      <td>24.0</td>\n",
       "      <td>61.296798</td>\n",
       "      <td>153.939816</td>\n",
       "      <td>1.369863</td>\n",
       "      <td>12.706589</td>\n",
       "      <td>22.323100</td>\n",
       "      <td>38.281582</td>\n",
       "      <td>768.621236</td>\n",
       "    </tr>\n",
       "    <tr>\n",
       "      <th>III</th>\n",
       "      <td>47.0</td>\n",
       "      <td>18.658985</td>\n",
       "      <td>28.219815</td>\n",
       "      <td>1.055927</td>\n",
       "      <td>4.547794</td>\n",
       "      <td>9.323784</td>\n",
       "      <td>20.567883</td>\n",
       "      <td>166.666667</td>\n",
       "    </tr>\n",
       "    <tr>\n",
       "      <th>IV</th>\n",
       "      <td>7.0</td>\n",
       "      <td>7.194270</td>\n",
       "      <td>2.116780</td>\n",
       "      <td>5.037855</td>\n",
       "      <td>5.527052</td>\n",
       "      <td>7.281553</td>\n",
       "      <td>7.949004</td>\n",
       "      <td>11.088366</td>\n",
       "    </tr>\n",
       "  </tbody>\n",
       "</table>\n",
       "</div>"
      ],
      "text/plain": [
       "         count       mean         std       min        25%        50%  \\\n",
       "b_phase                                                                 \n",
       "I          7.0  65.770604  105.684360  0.989446   1.980184   4.685650   \n",
       "II        24.0  61.296798  153.939816  1.369863  12.706589  22.323100   \n",
       "III       47.0  18.658985   28.219815  1.055927   4.547794   9.323784   \n",
       "IV         7.0   7.194270    2.116780  5.037855   5.527052   7.281553   \n",
       "\n",
       "                75%         max  \n",
       "b_phase                          \n",
       "I        109.131625  232.495512  \n",
       "II        38.281582  768.621236  \n",
       "III       20.567883  166.666667  \n",
       "IV         7.949004   11.088366  "
      ]
     },
     "execution_count": 217,
     "metadata": {},
     "output_type": "execute_result"
    }
   ],
   "source": [
    "ph_psr_lvk_glb"
   ]
  },
  {
   "cell_type": "markdown",
   "metadata": {},
   "source": [
    "### 2. Major PD by Total PD rate"
   ]
  },
  {
   "cell_type": "code",
   "execution_count": 220,
   "metadata": {
    "scrolled": true
   },
   "outputs": [],
   "source": [
    "lok_glb_met_fin_mtp = pd.merge(lkvt_gb_mp_by_tp_rate,temp100,on='cmdm_study_id',how='inner') "
   ]
  },
  {
   "cell_type": "code",
   "execution_count": 221,
   "metadata": {
    "scrolled": false
   },
   "outputs": [
    {
     "data": {
      "text/html": [
       "<div>\n",
       "<style scoped>\n",
       "    .dataframe tbody tr th:only-of-type {\n",
       "        vertical-align: middle;\n",
       "    }\n",
       "\n",
       "    .dataframe tbody tr th {\n",
       "        vertical-align: top;\n",
       "    }\n",
       "\n",
       "    .dataframe thead th {\n",
       "        text-align: right;\n",
       "    }\n",
       "</style>\n",
       "<table border=\"1\" class=\"dataframe\">\n",
       "  <thead>\n",
       "    <tr style=\"text-align: right;\">\n",
       "      <th></th>\n",
       "      <th>cmdm_study_id</th>\n",
       "      <th>count_major_pd</th>\n",
       "      <th>total_pd</th>\n",
       "      <th>totalmajpd_by_totpd</th>\n",
       "      <th>b_phase</th>\n",
       "      <th>crs_current_status</th>\n",
       "    </tr>\n",
       "  </thead>\n",
       "  <tbody>\n",
       "    <tr>\n",
       "      <th>0</th>\n",
       "      <td>41332</td>\n",
       "      <td>5</td>\n",
       "      <td>317</td>\n",
       "      <td>15.772871</td>\n",
       "      <td>II</td>\n",
       "      <td>Recruiting</td>\n",
       "    </tr>\n",
       "    <tr>\n",
       "      <th>1</th>\n",
       "      <td>32312</td>\n",
       "      <td>60</td>\n",
       "      <td>5671</td>\n",
       "      <td>10.580145</td>\n",
       "      <td>III</td>\n",
       "      <td>Maintenance</td>\n",
       "    </tr>\n",
       "    <tr>\n",
       "      <th>2</th>\n",
       "      <td>3239</td>\n",
       "      <td>31</td>\n",
       "      <td>256</td>\n",
       "      <td>121.093750</td>\n",
       "      <td>III</td>\n",
       "      <td>Completed</td>\n",
       "    </tr>\n",
       "    <tr>\n",
       "      <th>3</th>\n",
       "      <td>35792</td>\n",
       "      <td>116</td>\n",
       "      <td>518</td>\n",
       "      <td>223.938224</td>\n",
       "      <td>I</td>\n",
       "      <td>Recruiting</td>\n",
       "    </tr>\n",
       "    <tr>\n",
       "      <th>4</th>\n",
       "      <td>46952</td>\n",
       "      <td>113</td>\n",
       "      <td>1235</td>\n",
       "      <td>91.497976</td>\n",
       "      <td>II</td>\n",
       "      <td>Recruiting</td>\n",
       "    </tr>\n",
       "  </tbody>\n",
       "</table>\n",
       "</div>"
      ],
      "text/plain": [
       "  cmdm_study_id  count_major_pd  total_pd  totalmajpd_by_totpd b_phase  \\\n",
       "0         41332               5       317            15.772871      II   \n",
       "1         32312              60      5671            10.580145     III   \n",
       "2          3239              31       256           121.093750     III   \n",
       "3         35792             116       518           223.938224       I   \n",
       "4         46952             113      1235            91.497976      II   \n",
       "\n",
       "  crs_current_status  \n",
       "0         Recruiting  \n",
       "1        Maintenance  \n",
       "2          Completed  \n",
       "3         Recruiting  \n",
       "4         Recruiting  "
      ]
     },
     "execution_count": 221,
     "metadata": {},
     "output_type": "execute_result"
    }
   ],
   "source": [
    "lok_glb_met_fin_mtp.head()"
   ]
  },
  {
   "cell_type": "code",
   "execution_count": 222,
   "metadata": {
    "scrolled": false
   },
   "outputs": [
    {
     "data": {
      "text/plain": [
       "cmdm_study_id          72\n",
       "count_major_pd         72\n",
       "total_pd               72\n",
       "totalmajpd_by_totpd    72\n",
       "b_phase                72\n",
       "crs_current_status     72\n",
       "dtype: int64"
      ]
     },
     "execution_count": 222,
     "metadata": {},
     "output_type": "execute_result"
    }
   ],
   "source": [
    "lok_glb_met_fin_mtp.count()"
   ]
  },
  {
   "cell_type": "code",
   "execution_count": 223,
   "metadata": {},
   "outputs": [],
   "source": [
    "ph_mtr_lvk_glb = lok_glb_met_fin_mtp.groupby('b_phase').totalmajpd_by_totpd.describe()"
   ]
  },
  {
   "cell_type": "code",
   "execution_count": 227,
   "metadata": {
    "scrolled": true
   },
   "outputs": [
    {
     "data": {
      "text/html": [
       "<div>\n",
       "<style scoped>\n",
       "    .dataframe tbody tr th:only-of-type {\n",
       "        vertical-align: middle;\n",
       "    }\n",
       "\n",
       "    .dataframe tbody tr th {\n",
       "        vertical-align: top;\n",
       "    }\n",
       "\n",
       "    .dataframe thead th {\n",
       "        text-align: right;\n",
       "    }\n",
       "</style>\n",
       "<table border=\"1\" class=\"dataframe\">\n",
       "  <thead>\n",
       "    <tr style=\"text-align: right;\">\n",
       "      <th></th>\n",
       "      <th>count</th>\n",
       "      <th>mean</th>\n",
       "      <th>std</th>\n",
       "      <th>min</th>\n",
       "      <th>25%</th>\n",
       "      <th>50%</th>\n",
       "      <th>75%</th>\n",
       "      <th>max</th>\n",
       "    </tr>\n",
       "    <tr>\n",
       "      <th>b_phase</th>\n",
       "      <th></th>\n",
       "      <th></th>\n",
       "      <th></th>\n",
       "      <th></th>\n",
       "      <th></th>\n",
       "      <th></th>\n",
       "      <th></th>\n",
       "      <th></th>\n",
       "    </tr>\n",
       "  </thead>\n",
       "  <tbody>\n",
       "    <tr>\n",
       "      <th>I</th>\n",
       "      <td>8.0</td>\n",
       "      <td>143.329985</td>\n",
       "      <td>124.894109</td>\n",
       "      <td>22.015241</td>\n",
       "      <td>47.692686</td>\n",
       "      <td>102.159852</td>\n",
       "      <td>229.274423</td>\n",
       "      <td>368.421053</td>\n",
       "    </tr>\n",
       "    <tr>\n",
       "      <th>II</th>\n",
       "      <td>25.0</td>\n",
       "      <td>180.536391</td>\n",
       "      <td>206.750550</td>\n",
       "      <td>12.820513</td>\n",
       "      <td>47.422680</td>\n",
       "      <td>128.205128</td>\n",
       "      <td>179.039301</td>\n",
       "      <td>825.000000</td>\n",
       "    </tr>\n",
       "    <tr>\n",
       "      <th>III</th>\n",
       "      <td>34.0</td>\n",
       "      <td>104.344796</td>\n",
       "      <td>99.287997</td>\n",
       "      <td>2.926829</td>\n",
       "      <td>22.235549</td>\n",
       "      <td>78.792645</td>\n",
       "      <td>160.584653</td>\n",
       "      <td>397.683398</td>\n",
       "    </tr>\n",
       "    <tr>\n",
       "      <th>IV</th>\n",
       "      <td>5.0</td>\n",
       "      <td>305.890156</td>\n",
       "      <td>158.982273</td>\n",
       "      <td>76.923077</td>\n",
       "      <td>217.888716</td>\n",
       "      <td>372.395833</td>\n",
       "      <td>380.414313</td>\n",
       "      <td>481.828839</td>\n",
       "    </tr>\n",
       "  </tbody>\n",
       "</table>\n",
       "</div>"
      ],
      "text/plain": [
       "         count        mean         std        min         25%         50%  \\\n",
       "b_phase                                                                     \n",
       "I          8.0  143.329985  124.894109  22.015241   47.692686  102.159852   \n",
       "II        25.0  180.536391  206.750550  12.820513   47.422680  128.205128   \n",
       "III       34.0  104.344796   99.287997   2.926829   22.235549   78.792645   \n",
       "IV         5.0  305.890156  158.982273  76.923077  217.888716  372.395833   \n",
       "\n",
       "                75%         max  \n",
       "b_phase                          \n",
       "I        229.274423  368.421053  \n",
       "II       179.039301  825.000000  \n",
       "III      160.584653  397.683398  \n",
       "IV       380.414313  481.828839  "
      ]
     },
     "execution_count": 227,
     "metadata": {},
     "output_type": "execute_result"
    }
   ],
   "source": [
    "ph_mtr_lvk_glb"
   ]
  },
  {
   "cell_type": "markdown",
   "metadata": {},
   "source": [
    "## Phase wise comparision Lokavant japan Rate"
   ]
  },
  {
   "cell_type": "markdown",
   "metadata": {},
   "source": [
    "## 1. total pd / subject days "
   ]
  },
  {
   "cell_type": "code",
   "execution_count": 228,
   "metadata": {
    "scrolled": true
   },
   "outputs": [
    {
     "data": {
      "text/html": [
       "<div>\n",
       "<style scoped>\n",
       "    .dataframe tbody tr th:only-of-type {\n",
       "        vertical-align: middle;\n",
       "    }\n",
       "\n",
       "    .dataframe tbody tr th {\n",
       "        vertical-align: top;\n",
       "    }\n",
       "\n",
       "    .dataframe thead th {\n",
       "        text-align: right;\n",
       "    }\n",
       "</style>\n",
       "<table border=\"1\" class=\"dataframe\">\n",
       "  <thead>\n",
       "    <tr style=\"text-align: right;\">\n",
       "      <th></th>\n",
       "      <th>cmdm_study_id</th>\n",
       "      <th>total_pd</th>\n",
       "      <th>total_subdays</th>\n",
       "      <th>totalpd_by_sum_subdays</th>\n",
       "    </tr>\n",
       "  </thead>\n",
       "  <tbody>\n",
       "    <tr>\n",
       "      <th>0</th>\n",
       "      <td>2472</td>\n",
       "      <td>45</td>\n",
       "      <td>65013.0</td>\n",
       "      <td>0.692169</td>\n",
       "    </tr>\n",
       "    <tr>\n",
       "      <th>1</th>\n",
       "      <td>25465</td>\n",
       "      <td>92</td>\n",
       "      <td>63465.0</td>\n",
       "      <td>1.449618</td>\n",
       "    </tr>\n",
       "    <tr>\n",
       "      <th>2</th>\n",
       "      <td>27272</td>\n",
       "      <td>39</td>\n",
       "      <td>8140.0</td>\n",
       "      <td>4.791155</td>\n",
       "    </tr>\n",
       "    <tr>\n",
       "      <th>3</th>\n",
       "      <td>28312</td>\n",
       "      <td>110</td>\n",
       "      <td>16170.0</td>\n",
       "      <td>6.802721</td>\n",
       "    </tr>\n",
       "    <tr>\n",
       "      <th>4</th>\n",
       "      <td>28372</td>\n",
       "      <td>76</td>\n",
       "      <td>40617.0</td>\n",
       "      <td>1.871138</td>\n",
       "    </tr>\n",
       "  </tbody>\n",
       "</table>\n",
       "</div>"
      ],
      "text/plain": [
       "  cmdm_study_id  total_pd  total_subdays  totalpd_by_sum_subdays\n",
       "0          2472        45        65013.0                0.692169\n",
       "1         25465        92        63465.0                1.449618\n",
       "2         27272        39         8140.0                4.791155\n",
       "3         28312       110        16170.0                6.802721\n",
       "4         28372        76        40617.0                1.871138"
      ]
     },
     "execution_count": 228,
     "metadata": {},
     "output_type": "execute_result"
    }
   ],
   "source": [
    "lkvt_jp_pd_by_sd_rate.head()"
   ]
  },
  {
   "cell_type": "code",
   "execution_count": 229,
   "metadata": {
    "scrolled": true
   },
   "outputs": [
    {
     "data": {
      "text/plain": [
       "cmdm_study_id             33\n",
       "total_pd                  33\n",
       "total_subdays             33\n",
       "totalpd_by_sum_subdays    33\n",
       "dtype: int64"
      ]
     },
     "execution_count": 229,
     "metadata": {},
     "output_type": "execute_result"
    }
   ],
   "source": [
    "lkvt_jp_pd_by_sd_rate.count()"
   ]
  },
  {
   "cell_type": "code",
   "execution_count": 230,
   "metadata": {},
   "outputs": [],
   "source": [
    "## Joining both lkvt_jp_pd_by_sd_rate table and temp100(phase wise data)"
   ]
  },
  {
   "cell_type": "code",
   "execution_count": 231,
   "metadata": {},
   "outputs": [],
   "source": [
    "lok_jp_met_fin_pds = pd.merge(lkvt_jp_pd_by_sd_rate,temp100,on='cmdm_study_id',how='inner')"
   ]
  },
  {
   "cell_type": "code",
   "execution_count": 232,
   "metadata": {
    "scrolled": true
   },
   "outputs": [
    {
     "data": {
      "text/html": [
       "<div>\n",
       "<style scoped>\n",
       "    .dataframe tbody tr th:only-of-type {\n",
       "        vertical-align: middle;\n",
       "    }\n",
       "\n",
       "    .dataframe tbody tr th {\n",
       "        vertical-align: top;\n",
       "    }\n",
       "\n",
       "    .dataframe thead th {\n",
       "        text-align: right;\n",
       "    }\n",
       "</style>\n",
       "<table border=\"1\" class=\"dataframe\">\n",
       "  <thead>\n",
       "    <tr style=\"text-align: right;\">\n",
       "      <th></th>\n",
       "      <th>cmdm_study_id</th>\n",
       "      <th>total_pd</th>\n",
       "      <th>total_subdays</th>\n",
       "      <th>totalpd_by_sum_subdays</th>\n",
       "      <th>b_phase</th>\n",
       "      <th>crs_current_status</th>\n",
       "    </tr>\n",
       "  </thead>\n",
       "  <tbody>\n",
       "    <tr>\n",
       "      <th>0</th>\n",
       "      <td>2472</td>\n",
       "      <td>45</td>\n",
       "      <td>65013.0</td>\n",
       "      <td>0.692169</td>\n",
       "      <td>III</td>\n",
       "      <td>Completed</td>\n",
       "    </tr>\n",
       "    <tr>\n",
       "      <th>1</th>\n",
       "      <td>25465</td>\n",
       "      <td>92</td>\n",
       "      <td>63465.0</td>\n",
       "      <td>1.449618</td>\n",
       "      <td>III</td>\n",
       "      <td>Recruiting</td>\n",
       "    </tr>\n",
       "    <tr>\n",
       "      <th>2</th>\n",
       "      <td>27272</td>\n",
       "      <td>39</td>\n",
       "      <td>8140.0</td>\n",
       "      <td>4.791155</td>\n",
       "      <td>III</td>\n",
       "      <td>Recruiting</td>\n",
       "    </tr>\n",
       "    <tr>\n",
       "      <th>3</th>\n",
       "      <td>28312</td>\n",
       "      <td>110</td>\n",
       "      <td>16170.0</td>\n",
       "      <td>6.802721</td>\n",
       "      <td>III</td>\n",
       "      <td>Maintenance</td>\n",
       "    </tr>\n",
       "    <tr>\n",
       "      <th>4</th>\n",
       "      <td>28372</td>\n",
       "      <td>76</td>\n",
       "      <td>40617.0</td>\n",
       "      <td>1.871138</td>\n",
       "      <td>III</td>\n",
       "      <td>Completed</td>\n",
       "    </tr>\n",
       "  </tbody>\n",
       "</table>\n",
       "</div>"
      ],
      "text/plain": [
       "  cmdm_study_id  total_pd  total_subdays  totalpd_by_sum_subdays b_phase  \\\n",
       "0          2472        45        65013.0                0.692169     III   \n",
       "1         25465        92        63465.0                1.449618     III   \n",
       "2         27272        39         8140.0                4.791155     III   \n",
       "3         28312       110        16170.0                6.802721     III   \n",
       "4         28372        76        40617.0                1.871138     III   \n",
       "\n",
       "  crs_current_status  \n",
       "0          Completed  \n",
       "1         Recruiting  \n",
       "2         Recruiting  \n",
       "3        Maintenance  \n",
       "4          Completed  "
      ]
     },
     "execution_count": 232,
     "metadata": {},
     "output_type": "execute_result"
    }
   ],
   "source": [
    "lok_jp_met_fin_pds.head()"
   ]
  },
  {
   "cell_type": "code",
   "execution_count": 233,
   "metadata": {
    "scrolled": true
   },
   "outputs": [
    {
     "data": {
      "text/plain": [
       "cmdm_study_id             33\n",
       "total_pd                  33\n",
       "total_subdays             33\n",
       "totalpd_by_sum_subdays    33\n",
       "b_phase                   33\n",
       "crs_current_status        33\n",
       "dtype: int64"
      ]
     },
     "execution_count": 233,
     "metadata": {},
     "output_type": "execute_result"
    }
   ],
   "source": [
    "lok_jp_met_fin_pds.count()"
   ]
  },
  {
   "cell_type": "code",
   "execution_count": 234,
   "metadata": {},
   "outputs": [],
   "source": [
    "# group by phase"
   ]
  },
  {
   "cell_type": "code",
   "execution_count": 235,
   "metadata": {},
   "outputs": [],
   "source": [
    "ph_psr_lvk_jpn = lok_jp_met_fin_pds.groupby('b_phase').totalpd_by_sum_subdays.describe()"
   ]
  },
  {
   "cell_type": "code",
   "execution_count": 239,
   "metadata": {
    "scrolled": true
   },
   "outputs": [
    {
     "data": {
      "text/html": [
       "<div>\n",
       "<style scoped>\n",
       "    .dataframe tbody tr th:only-of-type {\n",
       "        vertical-align: middle;\n",
       "    }\n",
       "\n",
       "    .dataframe tbody tr th {\n",
       "        vertical-align: top;\n",
       "    }\n",
       "\n",
       "    .dataframe thead th {\n",
       "        text-align: right;\n",
       "    }\n",
       "</style>\n",
       "<table border=\"1\" class=\"dataframe\">\n",
       "  <thead>\n",
       "    <tr style=\"text-align: right;\">\n",
       "      <th></th>\n",
       "      <th>count</th>\n",
       "      <th>mean</th>\n",
       "      <th>std</th>\n",
       "      <th>min</th>\n",
       "      <th>25%</th>\n",
       "      <th>50%</th>\n",
       "      <th>75%</th>\n",
       "      <th>max</th>\n",
       "    </tr>\n",
       "    <tr>\n",
       "      <th>b_phase</th>\n",
       "      <th></th>\n",
       "      <th></th>\n",
       "      <th></th>\n",
       "      <th></th>\n",
       "      <th></th>\n",
       "      <th></th>\n",
       "      <th></th>\n",
       "      <th></th>\n",
       "    </tr>\n",
       "  </thead>\n",
       "  <tbody>\n",
       "    <tr>\n",
       "      <th>I</th>\n",
       "      <td>1.0</td>\n",
       "      <td>0.989446</td>\n",
       "      <td>NaN</td>\n",
       "      <td>0.989446</td>\n",
       "      <td>0.989446</td>\n",
       "      <td>0.989446</td>\n",
       "      <td>0.989446</td>\n",
       "      <td>0.989446</td>\n",
       "    </tr>\n",
       "    <tr>\n",
       "      <th>II</th>\n",
       "      <td>4.0</td>\n",
       "      <td>6.024431</td>\n",
       "      <td>1.829957</td>\n",
       "      <td>3.528226</td>\n",
       "      <td>5.350946</td>\n",
       "      <td>6.374947</td>\n",
       "      <td>7.048431</td>\n",
       "      <td>7.819604</td>\n",
       "    </tr>\n",
       "    <tr>\n",
       "      <th>III</th>\n",
       "      <td>28.0</td>\n",
       "      <td>7.213452</td>\n",
       "      <td>11.214769</td>\n",
       "      <td>0.557077</td>\n",
       "      <td>2.074820</td>\n",
       "      <td>4.843046</td>\n",
       "      <td>7.024378</td>\n",
       "      <td>59.523810</td>\n",
       "    </tr>\n",
       "  </tbody>\n",
       "</table>\n",
       "</div>"
      ],
      "text/plain": [
       "         count      mean        std       min       25%       50%       75%  \\\n",
       "b_phase                                                                       \n",
       "I          1.0  0.989446        NaN  0.989446  0.989446  0.989446  0.989446   \n",
       "II         4.0  6.024431   1.829957  3.528226  5.350946  6.374947  7.048431   \n",
       "III       28.0  7.213452  11.214769  0.557077  2.074820  4.843046  7.024378   \n",
       "\n",
       "               max  \n",
       "b_phase             \n",
       "I         0.989446  \n",
       "II        7.819604  \n",
       "III      59.523810  "
      ]
     },
     "execution_count": 239,
     "metadata": {},
     "output_type": "execute_result"
    }
   ],
   "source": [
    "ph_psr_lvk_jpn"
   ]
  },
  {
   "cell_type": "markdown",
   "metadata": {},
   "source": [
    "### 2. Major PD / Total PD rate"
   ]
  },
  {
   "cell_type": "code",
   "execution_count": 240,
   "metadata": {},
   "outputs": [],
   "source": [
    "## Joining both lkvt_jp_mp_by_tp_rate table and temp200(phase wise data)"
   ]
  },
  {
   "cell_type": "code",
   "execution_count": 241,
   "metadata": {},
   "outputs": [],
   "source": [
    "lok_jp_met_fin_mtp = pd.merge(lkvt_jp_mp_by_tp_rate,temp100,on='cmdm_study_id',how='inner')"
   ]
  },
  {
   "cell_type": "code",
   "execution_count": 242,
   "metadata": {
    "scrolled": false
   },
   "outputs": [
    {
     "data": {
      "text/html": [
       "<div>\n",
       "<style scoped>\n",
       "    .dataframe tbody tr th:only-of-type {\n",
       "        vertical-align: middle;\n",
       "    }\n",
       "\n",
       "    .dataframe tbody tr th {\n",
       "        vertical-align: top;\n",
       "    }\n",
       "\n",
       "    .dataframe thead th {\n",
       "        text-align: right;\n",
       "    }\n",
       "</style>\n",
       "<table border=\"1\" class=\"dataframe\">\n",
       "  <thead>\n",
       "    <tr style=\"text-align: right;\">\n",
       "      <th></th>\n",
       "      <th>cmdm_study_id</th>\n",
       "      <th>total_pd</th>\n",
       "      <th>total_majorpd</th>\n",
       "      <th>totalmajpd_by_totpd</th>\n",
       "      <th>b_phase</th>\n",
       "      <th>crs_current_status</th>\n",
       "    </tr>\n",
       "  </thead>\n",
       "  <tbody>\n",
       "    <tr>\n",
       "      <th>0</th>\n",
       "      <td>2472</td>\n",
       "      <td>45</td>\n",
       "      <td>6</td>\n",
       "      <td>133.333333</td>\n",
       "      <td>III</td>\n",
       "      <td>Completed</td>\n",
       "    </tr>\n",
       "    <tr>\n",
       "      <th>1</th>\n",
       "      <td>27272</td>\n",
       "      <td>39</td>\n",
       "      <td>11</td>\n",
       "      <td>282.051282</td>\n",
       "      <td>III</td>\n",
       "      <td>Recruiting</td>\n",
       "    </tr>\n",
       "    <tr>\n",
       "      <th>2</th>\n",
       "      <td>31112</td>\n",
       "      <td>14</td>\n",
       "      <td>1</td>\n",
       "      <td>71.428571</td>\n",
       "      <td>II</td>\n",
       "      <td>Completed</td>\n",
       "    </tr>\n",
       "    <tr>\n",
       "      <th>3</th>\n",
       "      <td>31854</td>\n",
       "      <td>15</td>\n",
       "      <td>1</td>\n",
       "      <td>66.666667</td>\n",
       "      <td>III</td>\n",
       "      <td>Recruiting</td>\n",
       "    </tr>\n",
       "    <tr>\n",
       "      <th>4</th>\n",
       "      <td>31872</td>\n",
       "      <td>67</td>\n",
       "      <td>12</td>\n",
       "      <td>179.104478</td>\n",
       "      <td>III</td>\n",
       "      <td>Maintenance</td>\n",
       "    </tr>\n",
       "  </tbody>\n",
       "</table>\n",
       "</div>"
      ],
      "text/plain": [
       "  cmdm_study_id  total_pd  total_majorpd  totalmajpd_by_totpd b_phase  \\\n",
       "0          2472        45              6           133.333333     III   \n",
       "1         27272        39             11           282.051282     III   \n",
       "2         31112        14              1            71.428571      II   \n",
       "3         31854        15              1            66.666667     III   \n",
       "4         31872        67             12           179.104478     III   \n",
       "\n",
       "  crs_current_status  \n",
       "0          Completed  \n",
       "1         Recruiting  \n",
       "2          Completed  \n",
       "3         Recruiting  \n",
       "4        Maintenance  "
      ]
     },
     "execution_count": 242,
     "metadata": {},
     "output_type": "execute_result"
    }
   ],
   "source": [
    "lok_jp_met_fin_mtp.head()"
   ]
  },
  {
   "cell_type": "code",
   "execution_count": 243,
   "metadata": {
    "scrolled": true
   },
   "outputs": [
    {
     "data": {
      "text/plain": [
       "cmdm_study_id          19\n",
       "total_pd               19\n",
       "total_majorpd          19\n",
       "totalmajpd_by_totpd    19\n",
       "b_phase                19\n",
       "crs_current_status     19\n",
       "dtype: int64"
      ]
     },
     "execution_count": 243,
     "metadata": {},
     "output_type": "execute_result"
    }
   ],
   "source": [
    "lok_jp_met_fin_mtp.count()"
   ]
  },
  {
   "cell_type": "code",
   "execution_count": 244,
   "metadata": {},
   "outputs": [],
   "source": [
    "## grouping by phase"
   ]
  },
  {
   "cell_type": "code",
   "execution_count": 245,
   "metadata": {},
   "outputs": [],
   "source": [
    "ph_mtr_lvk_jpn = lok_jp_met_fin_mtp.groupby('b_phase').totalmajpd_by_totpd.describe()"
   ]
  },
  {
   "cell_type": "code",
   "execution_count": 249,
   "metadata": {
    "scrolled": true
   },
   "outputs": [
    {
     "data": {
      "text/html": [
       "<div>\n",
       "<style scoped>\n",
       "    .dataframe tbody tr th:only-of-type {\n",
       "        vertical-align: middle;\n",
       "    }\n",
       "\n",
       "    .dataframe tbody tr th {\n",
       "        vertical-align: top;\n",
       "    }\n",
       "\n",
       "    .dataframe thead th {\n",
       "        text-align: right;\n",
       "    }\n",
       "</style>\n",
       "<table border=\"1\" class=\"dataframe\">\n",
       "  <thead>\n",
       "    <tr style=\"text-align: right;\">\n",
       "      <th></th>\n",
       "      <th>count</th>\n",
       "      <th>mean</th>\n",
       "      <th>std</th>\n",
       "      <th>min</th>\n",
       "      <th>25%</th>\n",
       "      <th>50%</th>\n",
       "      <th>75%</th>\n",
       "      <th>max</th>\n",
       "    </tr>\n",
       "    <tr>\n",
       "      <th>b_phase</th>\n",
       "      <th></th>\n",
       "      <th></th>\n",
       "      <th></th>\n",
       "      <th></th>\n",
       "      <th></th>\n",
       "      <th></th>\n",
       "      <th></th>\n",
       "      <th></th>\n",
       "    </tr>\n",
       "  </thead>\n",
       "  <tbody>\n",
       "    <tr>\n",
       "      <th>II</th>\n",
       "      <td>4.0</td>\n",
       "      <td>107.981268</td>\n",
       "      <td>59.316504</td>\n",
       "      <td>43.859649</td>\n",
       "      <td>64.536341</td>\n",
       "      <td>112.637363</td>\n",
       "      <td>156.082290</td>\n",
       "      <td>162.790698</td>\n",
       "    </tr>\n",
       "    <tr>\n",
       "      <th>III</th>\n",
       "      <td>15.0</td>\n",
       "      <td>203.445153</td>\n",
       "      <td>175.177363</td>\n",
       "      <td>7.168459</td>\n",
       "      <td>71.794872</td>\n",
       "      <td>144.000000</td>\n",
       "      <td>301.393728</td>\n",
       "      <td>666.666667</td>\n",
       "    </tr>\n",
       "  </tbody>\n",
       "</table>\n",
       "</div>"
      ],
      "text/plain": [
       "         count        mean         std        min        25%         50%  \\\n",
       "b_phase                                                                    \n",
       "II         4.0  107.981268   59.316504  43.859649  64.536341  112.637363   \n",
       "III       15.0  203.445153  175.177363   7.168459  71.794872  144.000000   \n",
       "\n",
       "                75%         max  \n",
       "b_phase                          \n",
       "II       156.082290  162.790698  \n",
       "III      301.393728  666.666667  "
      ]
     },
     "execution_count": 249,
     "metadata": {},
     "output_type": "execute_result"
    }
   ],
   "source": [
    "ph_mtr_lvk_jpn"
   ]
  },
  {
   "cell_type": "markdown",
   "metadata": {},
   "source": [
    "## Extarcting Mesh data"
   ]
  },
  {
   "cell_type": "code",
   "execution_count": 250,
   "metadata": {},
   "outputs": [],
   "source": [
    "\n",
    "# helper function to establish snowflake credentials\n",
    "# NOTE to reader: assumes you are using environment vars\n",
    "    # SNOWFLAKE_USERNAME = USERNAME\n",
    "    # SNOWFLAKE_PASSWORD = PASSWORD\n",
    "\n",
    "from snowflake.sqlalchemy import URL\n",
    "from sqlalchemy import create_engine\n",
    "import logging\n",
    "import os\n",
    "\n",
    "def cmic_connection2(schema='RAW'):\n",
    "    \"\"\"\n",
    "    Establish connection to Snowflake DB using SQLAlchemy\n",
    "    \"\"\"\n",
    "    user = dict(os.environ)['SNOWFLAKE_USERNAME']\n",
    "    password = dict(os.environ)['SNOWFLAKE_PASSWORD']\n",
    "\n",
    "# turn off Snowflake logging\n",
    "    # https://stackoverflow.com/questions/56525319/turning-off-snowflake-db-logging-while-still-keeping-log-level-as-debug\n",
    "    for name in logging.Logger.manager.loggerDict.keys():\n",
    "        if 'snowflake' in name:\n",
    "            logging.getLogger(name).setLevel(logging.WARNING)\n",
    "            logging.getLogger(name).propagate = False\n",
    "\n",
    "    \n",
    "    engine = create_engine(URL(\n",
    "    account = 'yk42692.us-east-1',\n",
    "    user = user,\n",
    "    password = password,\n",
    "    database = 'CMIC_HISTORICAL',\n",
    "    schema = schema,\n",
    "    warehouse = 'DS_DL_WH_01',\n",
    "    role='READ_WRITE_USER_CMIC_HISTORICAL',\n",
    "    ))\n",
    "\n",
    "    return engine"
   ]
  },
  {
   "cell_type": "code",
   "execution_count": 251,
   "metadata": {},
   "outputs": [],
   "source": [
    "cmic2 = cmic_connection2()"
   ]
  },
  {
   "cell_type": "code",
   "execution_count": 252,
   "metadata": {},
   "outputs": [],
   "source": [
    "sql = \\\n",
    "    '''\n",
    "    select protocol_code,cross.ICD_10,ICD10_MESH_MAPPING.MESH,ICD10_MESH_MAPPING.ICD10_DESC,ICD10_MESH_MAPPING.MESH_DESC\n",
    "from RAW.cross\n",
    "INNER JOIN RAW.ICD10_MESH_MAPPING \n",
    "on left(cross.ICD_10,3) = ICD10_MESH_MAPPING.ICD10\n",
    "    \n",
    "    '''\n",
    "\n",
    "\n",
    "temp80 = pd.read_sql(sql, cmic2)"
   ]
  },
  {
   "cell_type": "code",
   "execution_count": 253,
   "metadata": {
    "scrolled": true
   },
   "outputs": [
    {
     "data": {
      "text/plain": [
       "protocol_code    591\n",
       "icd_10           591\n",
       "mesh             591\n",
       "icd10_desc       591\n",
       "mesh_desc        591\n",
       "dtype: int64"
      ]
     },
     "execution_count": 253,
     "metadata": {},
     "output_type": "execute_result"
    }
   ],
   "source": [
    "temp80.count()"
   ]
  },
  {
   "cell_type": "markdown",
   "metadata": {},
   "source": [
    "## Using Listagg to get the list of aggregates for Mesh data"
   ]
  },
  {
   "cell_type": "code",
   "execution_count": 254,
   "metadata": {},
   "outputs": [],
   "source": [
    "sql = \\\n",
    "    '''\n",
    "select distinct protocol_code,listagg (cross.ICD_10, '||'), listagg(ICD10_MESH_MAPPING.MESH, '||'),listagg(ICD10_MESH_MAPPING.ICD10_DESC, '||'),listagg(ICD10_MESH_MAPPING.MESH_DESC)\n",
    "from RAW.cross\n",
    "INNER JOIN RAW.ICD10_MESH_MAPPING \n",
    "on left(cross.ICD_10,3) = ICD10_MESH_MAPPING.ICD10\n",
    "group by protocol_code;\n",
    "  '''\n",
    "\n",
    "temp100 = pd.read_sql(sql, cmic2)"
   ]
  },
  {
   "cell_type": "code",
   "execution_count": 255,
   "metadata": {
    "scrolled": true
   },
   "outputs": [
    {
     "data": {
      "text/plain": [
       "protocol_code                                   367\n",
       "LISTAGG (CROSS.ICD_10, '||')                    367\n",
       "LISTAGG(ICD10_MESH_MAPPING.MESH, '||')          367\n",
       "LISTAGG(ICD10_MESH_MAPPING.ICD10_DESC, '||')    367\n",
       "LISTAGG(ICD10_MESH_MAPPING.MESH_DESC)           367\n",
       "dtype: int64"
      ]
     },
     "execution_count": 255,
     "metadata": {},
     "output_type": "execute_result"
    }
   ],
   "source": [
    "temp100.count()"
   ]
  },
  {
   "cell_type": "code",
   "execution_count": 256,
   "metadata": {
    "scrolled": true
   },
   "outputs": [
    {
     "data": {
      "text/plain": [
       "protocol_code             50\n",
       "tot_sub_days              50\n",
       "total_pd                  50\n",
       "totalpd_by_sum_subdays    50\n",
       "start_of_work             50\n",
       "rbm                       50\n",
       "phase                     50\n",
       "dtype: int64"
      ]
     },
     "execution_count": 256,
     "metadata": {},
     "output_type": "execute_result"
    }
   ],
   "source": [
    "cmic_glb_met_fin_pds.count()"
   ]
  },
  {
   "cell_type": "code",
   "execution_count": 257,
   "metadata": {},
   "outputs": [],
   "source": [
    "cmic_glb_met_fin_pds['protocol_code'] = cmic_glb_met_fin_pds['protocol_code'].astype(str)\n",
    "temp100['protocol_code'] = temp100['protocol_code'].astype(str)"
   ]
  },
  {
   "cell_type": "markdown",
   "metadata": {},
   "source": [
    "## Merging cmic global total_pd_sum_subdays with mesh data"
   ]
  },
  {
   "cell_type": "code",
   "execution_count": 258,
   "metadata": {},
   "outputs": [],
   "source": [
    "cmic_mesh_pds = pd.DataFrame.merge(cmic_glb_met_fin_pds,temp100,on='protocol_code',how='left')"
   ]
  },
  {
   "cell_type": "code",
   "execution_count": 259,
   "metadata": {},
   "outputs": [],
   "source": [
    "cmic_mesh_pds_asc = cmic_mesh_pds.sort_values([\"protocol_code\"], ascending=True)"
   ]
  },
  {
   "cell_type": "code",
   "execution_count": 260,
   "metadata": {
    "scrolled": true
   },
   "outputs": [
    {
     "data": {
      "text/html": [
       "<div>\n",
       "<style scoped>\n",
       "    .dataframe tbody tr th:only-of-type {\n",
       "        vertical-align: middle;\n",
       "    }\n",
       "\n",
       "    .dataframe tbody tr th {\n",
       "        vertical-align: top;\n",
       "    }\n",
       "\n",
       "    .dataframe thead th {\n",
       "        text-align: right;\n",
       "    }\n",
       "</style>\n",
       "<table border=\"1\" class=\"dataframe\">\n",
       "  <thead>\n",
       "    <tr style=\"text-align: right;\">\n",
       "      <th></th>\n",
       "      <th>protocol_code</th>\n",
       "      <th>tot_sub_days</th>\n",
       "      <th>total_pd</th>\n",
       "      <th>totalpd_by_sum_subdays</th>\n",
       "      <th>start_of_work</th>\n",
       "      <th>rbm</th>\n",
       "      <th>phase</th>\n",
       "      <th>LISTAGG (CROSS.ICD_10, '||')</th>\n",
       "      <th>LISTAGG(ICD10_MESH_MAPPING.MESH, '||')</th>\n",
       "      <th>LISTAGG(ICD10_MESH_MAPPING.ICD10_DESC, '||')</th>\n",
       "      <th>LISTAGG(ICD10_MESH_MAPPING.MESH_DESC)</th>\n",
       "    </tr>\n",
       "  </thead>\n",
       "  <tbody>\n",
       "    <tr>\n",
       "      <th>24</th>\n",
       "      <td>AKA0010</td>\n",
       "      <td>82040.0</td>\n",
       "      <td>91</td>\n",
       "      <td>1.109215</td>\n",
       "      <td>2018-12-01</td>\n",
       "      <td>1</td>\n",
       "      <td>III</td>\n",
       "      <td>N80.子宮内膜症</td>\n",
       "      <td>C13</td>\n",
       "      <td>Endometriosis</td>\n",
       "      <td>Female Urogenital Diseases and Pregnancy Compl...</td>\n",
       "    </tr>\n",
       "    <tr>\n",
       "      <th>35</th>\n",
       "      <td>APC0013</td>\n",
       "      <td>3232.0</td>\n",
       "      <td>72</td>\n",
       "      <td>22.277228</td>\n",
       "      <td>2016-06-01</td>\n",
       "      <td>0</td>\n",
       "      <td>III</td>\n",
       "      <td>D59.後天性溶血性貧血</td>\n",
       "      <td>C15</td>\n",
       "      <td>Acquired hemolytic anemia</td>\n",
       "      <td>Hemic and Lymphatic Diseases</td>\n",
       "    </tr>\n",
       "    <tr>\n",
       "      <th>0</th>\n",
       "      <td>AST0018</td>\n",
       "      <td>21435.0</td>\n",
       "      <td>163</td>\n",
       "      <td>7.604385</td>\n",
       "      <td>2014-05-01</td>\n",
       "      <td>0</td>\n",
       "      <td>III</td>\n",
       "      <td>M05.血清反応陽性関節リウマチ||M05.血清反応陽性関節リウマチ</td>\n",
       "      <td>C05||C20</td>\n",
       "      <td>Rheumatoid arthritis with rheumatoid factor||R...</td>\n",
       "      <td>Musculoskeletal DiseasesImmune System Diseases</td>\n",
       "    </tr>\n",
       "    <tr>\n",
       "      <th>5</th>\n",
       "      <td>AST0019</td>\n",
       "      <td>282139.0</td>\n",
       "      <td>345</td>\n",
       "      <td>1.222802</td>\n",
       "      <td>2014-05-01</td>\n",
       "      <td>0</td>\n",
       "      <td>III</td>\n",
       "      <td>M05.血清反応陽性関節リウマチ||M05.血清反応陽性関節リウマチ</td>\n",
       "      <td>C05||C20</td>\n",
       "      <td>Rheumatoid arthritis with rheumatoid factor||R...</td>\n",
       "      <td>Musculoskeletal DiseasesImmune System Diseases</td>\n",
       "    </tr>\n",
       "    <tr>\n",
       "      <th>29</th>\n",
       "      <td>AST0020</td>\n",
       "      <td>37631.0</td>\n",
       "      <td>63</td>\n",
       "      <td>1.674152</td>\n",
       "      <td>2016-10-01</td>\n",
       "      <td>0</td>\n",
       "      <td>IV</td>\n",
       "      <td>G25.その他の錐体外路障害及び異常運動</td>\n",
       "      <td>C10</td>\n",
       "      <td>Other extrapyramidal and movement disorders</td>\n",
       "      <td>Nervous System Diseases</td>\n",
       "    </tr>\n",
       "  </tbody>\n",
       "</table>\n",
       "</div>"
      ],
      "text/plain": [
       "   protocol_code  tot_sub_days  total_pd  totalpd_by_sum_subdays  \\\n",
       "24       AKA0010       82040.0        91                1.109215   \n",
       "35       APC0013        3232.0        72               22.277228   \n",
       "0        AST0018       21435.0       163                7.604385   \n",
       "5        AST0019      282139.0       345                1.222802   \n",
       "29       AST0020       37631.0        63                1.674152   \n",
       "\n",
       "   start_of_work  rbm phase        LISTAGG (CROSS.ICD_10, '||')  \\\n",
       "24    2018-12-01    1   III                           N80.子宮内膜症   \n",
       "35    2016-06-01    0   III                        D59.後天性溶血性貧血   \n",
       "0     2014-05-01    0   III  M05.血清反応陽性関節リウマチ||M05.血清反応陽性関節リウマチ   \n",
       "5     2014-05-01    0   III  M05.血清反応陽性関節リウマチ||M05.血清反応陽性関節リウマチ   \n",
       "29    2016-10-01    0    IV                G25.その他の錐体外路障害及び異常運動   \n",
       "\n",
       "   LISTAGG(ICD10_MESH_MAPPING.MESH, '||')  \\\n",
       "24                                    C13   \n",
       "35                                    C15   \n",
       "0                                C05||C20   \n",
       "5                                C05||C20   \n",
       "29                                    C10   \n",
       "\n",
       "         LISTAGG(ICD10_MESH_MAPPING.ICD10_DESC, '||')  \\\n",
       "24                                      Endometriosis   \n",
       "35                          Acquired hemolytic anemia   \n",
       "0   Rheumatoid arthritis with rheumatoid factor||R...   \n",
       "5   Rheumatoid arthritis with rheumatoid factor||R...   \n",
       "29        Other extrapyramidal and movement disorders   \n",
       "\n",
       "                LISTAGG(ICD10_MESH_MAPPING.MESH_DESC)  \n",
       "24  Female Urogenital Diseases and Pregnancy Compl...  \n",
       "35                       Hemic and Lymphatic Diseases  \n",
       "0      Musculoskeletal DiseasesImmune System Diseases  \n",
       "5      Musculoskeletal DiseasesImmune System Diseases  \n",
       "29                            Nervous System Diseases  "
      ]
     },
     "execution_count": 260,
     "metadata": {},
     "output_type": "execute_result"
    }
   ],
   "source": [
    "cmic_mesh_pds_asc.head()"
   ]
  },
  {
   "cell_type": "code",
   "execution_count": 261,
   "metadata": {
    "scrolled": true
   },
   "outputs": [
    {
     "data": {
      "text/plain": [
       "protocol_code                                   50\n",
       "tot_sub_days                                    50\n",
       "total_pd                                        50\n",
       "totalpd_by_sum_subdays                          50\n",
       "start_of_work                                   50\n",
       "rbm                                             50\n",
       "phase                                           50\n",
       "LISTAGG (CROSS.ICD_10, '||')                    44\n",
       "LISTAGG(ICD10_MESH_MAPPING.MESH, '||')          44\n",
       "LISTAGG(ICD10_MESH_MAPPING.ICD10_DESC, '||')    44\n",
       "LISTAGG(ICD10_MESH_MAPPING.MESH_DESC)           44\n",
       "dtype: int64"
      ]
     },
     "execution_count": 261,
     "metadata": {},
     "output_type": "execute_result"
    }
   ],
   "source": [
    "cmic_mesh_pds_asc.count()"
   ]
  },
  {
   "cell_type": "code",
   "execution_count": 262,
   "metadata": {},
   "outputs": [],
   "source": [
    "writer = pd.ExcelWriter('~/Downloads/Benchmarking_data/mesh_cmic.xlsx', engine='xlsxwriter')\n"
   ]
  },
  {
   "cell_type": "code",
   "execution_count": 263,
   "metadata": {},
   "outputs": [],
   "source": [
    "## getting mesh data for cmic mtp metric"
   ]
  },
  {
   "cell_type": "code",
   "execution_count": 264,
   "metadata": {},
   "outputs": [],
   "source": [
    "cmic_glb_met_fin_mtp['protocol_code'] = cmic_glb_met_fin_mtp['protocol_code'].astype(str)\n",
    "temp100['protocol_code'] = temp100['protocol_code'].astype(str)"
   ]
  },
  {
   "cell_type": "code",
   "execution_count": 265,
   "metadata": {},
   "outputs": [],
   "source": [
    "cmic_mesh_mtp = pd.DataFrame.merge(cmic_glb_met_fin_mtp,temp100,on='protocol_code',how='left')"
   ]
  },
  {
   "cell_type": "code",
   "execution_count": 266,
   "metadata": {},
   "outputs": [],
   "source": [
    "cmic_mesh_mtp_asc = cmic_mesh_mtp.sort_values([\"protocol_code\"], ascending=True)"
   ]
  },
  {
   "cell_type": "code",
   "execution_count": 267,
   "metadata": {},
   "outputs": [],
   "source": [
    "writer = pd.ExcelWriter('~/Downloads/Benchmarking_data/mesh_cmic.xlsx', engine='xlsxwriter')"
   ]
  },
  {
   "cell_type": "code",
   "execution_count": 268,
   "metadata": {},
   "outputs": [],
   "source": [
    "cmic_mesh_pds_asc.to_excel(writer, sheet_name='cmic_mesh_pds')\n",
    "cmic_mesh_mtp_asc.to_excel(writer, sheet_name='cmic_mesh_mtp')\n",
    "writer.save()"
   ]
  },
  {
   "cell_type": "code",
   "execution_count": 269,
   "metadata": {},
   "outputs": [],
   "source": [
    "## plotting box and line graph for entire data(including those 7 studies of CMIC)"
   ]
  },
  {
   "cell_type": "code",
   "execution_count": 270,
   "metadata": {},
   "outputs": [],
   "source": [
    "## Function for getting start of date \n",
    "def add_start_date(df):\n",
    "    df['cmdm_study_id'] = df['cmdm_study_id'].astype(int)\n",
    "    m = df.merge(pxl_all_dates, how='left')\n",
    "    m = m.iloc[m['start_of_work'].dropna().index,:].reset_index(drop=True)\n",
    "\n",
    "    return m"
   ]
  },
  {
   "cell_type": "code",
   "execution_count": 271,
   "metadata": {},
   "outputs": [],
   "source": [
    "## 1. # PD/Subject Days Global Lokavant"
   ]
  },
  {
   "cell_type": "code",
   "execution_count": 272,
   "metadata": {
    "scrolled": true
   },
   "outputs": [
    {
     "data": {
      "text/html": [
       "<div>\n",
       "<style scoped>\n",
       "    .dataframe tbody tr th:only-of-type {\n",
       "        vertical-align: middle;\n",
       "    }\n",
       "\n",
       "    .dataframe tbody tr th {\n",
       "        vertical-align: top;\n",
       "    }\n",
       "\n",
       "    .dataframe thead th {\n",
       "        text-align: right;\n",
       "    }\n",
       "</style>\n",
       "<table border=\"1\" class=\"dataframe\">\n",
       "  <thead>\n",
       "    <tr style=\"text-align: right;\">\n",
       "      <th></th>\n",
       "      <th>cmdm_study_id</th>\n",
       "      <th>SUM(SUBJECT_DAYS)</th>\n",
       "      <th>total_pd</th>\n",
       "      <th>totalpd_by_sum_subdays</th>\n",
       "      <th>b_phase</th>\n",
       "      <th>crs_current_status</th>\n",
       "    </tr>\n",
       "  </thead>\n",
       "  <tbody>\n",
       "    <tr>\n",
       "      <th>0</th>\n",
       "      <td>32312</td>\n",
       "      <td>659782.0</td>\n",
       "      <td>5671</td>\n",
       "      <td>8.595263</td>\n",
       "      <td>III</td>\n",
       "      <td>Maintenance</td>\n",
       "    </tr>\n",
       "    <tr>\n",
       "      <th>1</th>\n",
       "      <td>46952</td>\n",
       "      <td>56344.0</td>\n",
       "      <td>1235</td>\n",
       "      <td>21.918927</td>\n",
       "      <td>II</td>\n",
       "      <td>Recruiting</td>\n",
       "    </tr>\n",
       "    <tr>\n",
       "      <th>2</th>\n",
       "      <td>3239</td>\n",
       "      <td>84717.0</td>\n",
       "      <td>256</td>\n",
       "      <td>3.021826</td>\n",
       "      <td>III</td>\n",
       "      <td>Completed</td>\n",
       "    </tr>\n",
       "    <tr>\n",
       "      <th>3</th>\n",
       "      <td>38352</td>\n",
       "      <td>84390.0</td>\n",
       "      <td>2867</td>\n",
       "      <td>33.973220</td>\n",
       "      <td>II</td>\n",
       "      <td>Recruiting</td>\n",
       "    </tr>\n",
       "    <tr>\n",
       "      <th>4</th>\n",
       "      <td>41332</td>\n",
       "      <td>3086.0</td>\n",
       "      <td>317</td>\n",
       "      <td>102.721970</td>\n",
       "      <td>II</td>\n",
       "      <td>Recruiting</td>\n",
       "    </tr>\n",
       "  </tbody>\n",
       "</table>\n",
       "</div>"
      ],
      "text/plain": [
       "  cmdm_study_id  SUM(SUBJECT_DAYS)  total_pd  totalpd_by_sum_subdays b_phase  \\\n",
       "0         32312           659782.0      5671                8.595263     III   \n",
       "1         46952            56344.0      1235               21.918927      II   \n",
       "2          3239            84717.0       256                3.021826     III   \n",
       "3         38352            84390.0      2867               33.973220      II   \n",
       "4         41332             3086.0       317              102.721970      II   \n",
       "\n",
       "  crs_current_status  \n",
       "0        Maintenance  \n",
       "1         Recruiting  \n",
       "2          Completed  \n",
       "3         Recruiting  \n",
       "4         Recruiting  "
      ]
     },
     "execution_count": 272,
     "metadata": {},
     "output_type": "execute_result"
    }
   ],
   "source": [
    "lok_glb_met_fin_pds.head()"
   ]
  },
  {
   "cell_type": "markdown",
   "metadata": {},
   "source": [
    "## Extracting start of work data for plotting line graph"
   ]
  },
  {
   "cell_type": "code",
   "execution_count": 273,
   "metadata": {},
   "outputs": [],
   "source": [
    "sql = \\\n",
    "    '''\n",
    "    with \n",
    "\n",
    "    cte_start as (\n",
    "    select b.event_name,\n",
    "            a.cmdm_study_id::int as cmdm_study_id, \n",
    "            date(dim_date.calendar_dt) as actual_date\n",
    "\n",
    "    -- grab study level data\n",
    "    from raw_data.facts_study_accum_activity a\n",
    "\n",
    "    -- merge on event codes\n",
    "    inner join raw_data.dim_event_type b\n",
    "    on a.cmdm_evt_typ_id = b.cmdm_evt_type_id\n",
    "\n",
    "    -- get the calendar date conversion\n",
    "    inner join raw_data.dim_date dim_date\n",
    "    on a.cmdm_actual_date_id = dim_date.cmdm_date_id\n",
    "\n",
    "    where b.cmdm_evt_type_id in (2, 132)\n",
    "            and a.cmdm_actual_date_id > 1  \n",
    "    ),\n",
    "\n",
    "    cte_pivot as (\n",
    "    select *\n",
    "    from cte_start\n",
    "\n",
    "    -- pivot to get one row per study\n",
    "    pivot (min(actual_date) for event_name in ('Study Started', 'Study Closed at PAREXEL')) as p (cmdm_study_id, study_start, study_end)\n",
    "    order by cmdm_study_id            \n",
    "    ),\n",
    "\n",
    "    cte_start_end as (\n",
    "    select *, (study_end - study_start)/30 as time_elapsed\n",
    "    from cte_pivot\n",
    "    ),\n",
    "\n",
    "    cte_fpi_lpi as (\n",
    "    select  accum.cmdm_study_id::int as cmdm_study_id,\n",
    "            date(min(dim_date.calendar_dt)) as FPI,\n",
    "            date(max(dim_date.calendar_dt)) as LPI,\n",
    "            (LPI - FPI)/30 as time_elapsed\n",
    "\n",
    "    from raw_data.facts_subject_lifecycle_accum accum\n",
    "\n",
    "    inner join raw_data.dim_date dim_date\n",
    "    on accum.cmdm_randomized_date_id = dim_date.cmdm_date_id\n",
    "\n",
    "    where cmdm_randomized_date_id > 1 \n",
    "    group by cmdm_study_id\n",
    "    ), \n",
    "\n",
    "    cte_lpo as (\n",
    "    select  accum.cmdm_study_id::int as cmdm_study_id,\n",
    "            date(max(dim_date.calendar_dt)) as LPO\n",
    "\n",
    "    from raw_data.facts_subject_lifecycle_accum accum\n",
    "\n",
    "    inner join raw_data.dim_date dim_date\n",
    "    on accum.cmdm_completed_date_id = dim_date.cmdm_date_id\n",
    "\n",
    "    where cmdm_completed_date_id > 1 \n",
    "    group by cmdm_study_id\n",
    "    )\n",
    "\n",
    "    select  a.cmdm_study_id,\n",
    "            a.study_start,\n",
    "            a.study_end,\n",
    "            b.fpi,\n",
    "            b.lpi,\n",
    "            c.lpo\n",
    "            \n",
    "    from cte_start_end a\n",
    "\n",
    "    full outer join cte_fpi_lpi b\n",
    "    on a.cmdm_study_id = b.cmdm_study_id\n",
    "\n",
    "    full outer join cte_lpo c\n",
    "    on a.cmdm_study_id = c.cmdm_study_id\n",
    "    ; \n",
    "    '''\n",
    "\n",
    "pxl_all_dates = pd.read_sql(sql, pxl)"
   ]
  },
  {
   "cell_type": "code",
   "execution_count": 274,
   "metadata": {
    "scrolled": false
   },
   "outputs": [
    {
     "data": {
      "text/html": [
       "<div>\n",
       "<style scoped>\n",
       "    .dataframe tbody tr th:only-of-type {\n",
       "        vertical-align: middle;\n",
       "    }\n",
       "\n",
       "    .dataframe tbody tr th {\n",
       "        vertical-align: top;\n",
       "    }\n",
       "\n",
       "    .dataframe thead th {\n",
       "        text-align: right;\n",
       "    }\n",
       "</style>\n",
       "<table border=\"1\" class=\"dataframe\">\n",
       "  <thead>\n",
       "    <tr style=\"text-align: right;\">\n",
       "      <th></th>\n",
       "      <th>cmdm_study_id</th>\n",
       "      <th>start_of_work</th>\n",
       "      <th>study_end</th>\n",
       "      <th>fpi</th>\n",
       "      <th>lpi</th>\n",
       "      <th>lpo</th>\n",
       "    </tr>\n",
       "  </thead>\n",
       "  <tbody>\n",
       "    <tr>\n",
       "      <th>0</th>\n",
       "      <td>46952.0</td>\n",
       "      <td>2020-02-24</td>\n",
       "      <td>None</td>\n",
       "      <td>2020-12-16</td>\n",
       "      <td>2022-02-21</td>\n",
       "      <td>2022-02-17</td>\n",
       "    </tr>\n",
       "    <tr>\n",
       "      <th>1</th>\n",
       "      <td>32312.0</td>\n",
       "      <td>2017-12-01</td>\n",
       "      <td>None</td>\n",
       "      <td>2018-07-10</td>\n",
       "      <td>2019-05-07</td>\n",
       "      <td>2019-09-18</td>\n",
       "    </tr>\n",
       "    <tr>\n",
       "      <th>2</th>\n",
       "      <td>30352.0</td>\n",
       "      <td>2014-12-08</td>\n",
       "      <td>None</td>\n",
       "      <td>2015-08-24</td>\n",
       "      <td>2018-10-10</td>\n",
       "      <td>2017-06-02</td>\n",
       "    </tr>\n",
       "    <tr>\n",
       "      <th>3</th>\n",
       "      <td>41332.0</td>\n",
       "      <td>2020-02-03</td>\n",
       "      <td>None</td>\n",
       "      <td>2021-04-28</td>\n",
       "      <td>2022-02-08</td>\n",
       "      <td>2021-11-08</td>\n",
       "    </tr>\n",
       "    <tr>\n",
       "      <th>4</th>\n",
       "      <td>3239.0</td>\n",
       "      <td>2015-06-15</td>\n",
       "      <td>2020-10-30</td>\n",
       "      <td>2016-01-18</td>\n",
       "      <td>2016-11-29</td>\n",
       "      <td>2020-01-06</td>\n",
       "    </tr>\n",
       "  </tbody>\n",
       "</table>\n",
       "</div>"
      ],
      "text/plain": [
       "   cmdm_study_id start_of_work   study_end         fpi         lpi         lpo\n",
       "0        46952.0    2020-02-24        None  2020-12-16  2022-02-21  2022-02-17\n",
       "1        32312.0    2017-12-01        None  2018-07-10  2019-05-07  2019-09-18\n",
       "2        30352.0    2014-12-08        None  2015-08-24  2018-10-10  2017-06-02\n",
       "3        41332.0    2020-02-03        None  2021-04-28  2022-02-08  2021-11-08\n",
       "4         3239.0    2015-06-15  2020-10-30  2016-01-18  2016-11-29  2020-01-06"
      ]
     },
     "execution_count": 274,
     "metadata": {},
     "output_type": "execute_result"
    }
   ],
   "source": [
    "pxl_all_dates.rename(columns={'study_start': 'start_of_work'}, inplace=True)\n",
    "pxl_all_dates.head()"
   ]
  },
  {
   "cell_type": "markdown",
   "metadata": {},
   "source": [
    "## Aggregating the pd by sum of subdays(median) metric by 1 year"
   ]
  },
  {
   "cell_type": "code",
   "execution_count": 275,
   "metadata": {},
   "outputs": [],
   "source": [
    "def shift_index(gb):\n",
    "    idx = gb.index - pd.Timedelta(364, 'days')\n",
    "    gb = gb.set_index(idx)\n",
    "    return gb"
   ]
  },
  {
   "cell_type": "code",
   "execution_count": 276,
   "metadata": {
    "scrolled": true
   },
   "outputs": [],
   "source": [
    "df = add_start_date(lok_glb_met_fin_pds)"
   ]
  },
  {
   "cell_type": "code",
   "execution_count": 277,
   "metadata": {},
   "outputs": [],
   "source": [
    "df['start_of_work'] = pd.to_datetime(df['start_of_work'])\n",
    "\n",
    "med1 = shift_index(df.groupby(pd.Grouper(key='start_of_work', freq='Y')).median() )['totalpd_by_sum_subdays']"
   ]
  },
  {
   "cell_type": "code",
   "execution_count": 278,
   "metadata": {
    "scrolled": true
   },
   "outputs": [
    {
     "data": {
      "text/html": [
       "<div>\n",
       "<style scoped>\n",
       "    .dataframe tbody tr th:only-of-type {\n",
       "        vertical-align: middle;\n",
       "    }\n",
       "\n",
       "    .dataframe tbody tr th {\n",
       "        vertical-align: top;\n",
       "    }\n",
       "\n",
       "    .dataframe thead th {\n",
       "        text-align: right;\n",
       "    }\n",
       "</style>\n",
       "<table border=\"1\" class=\"dataframe\">\n",
       "  <thead>\n",
       "    <tr style=\"text-align: right;\">\n",
       "      <th></th>\n",
       "      <th>totalpd_by_sum_subdays</th>\n",
       "    </tr>\n",
       "    <tr>\n",
       "      <th>start_of_work</th>\n",
       "      <th></th>\n",
       "    </tr>\n",
       "  </thead>\n",
       "  <tbody>\n",
       "    <tr>\n",
       "      <th>2010-01-01</th>\n",
       "      <td>1.805144</td>\n",
       "    </tr>\n",
       "    <tr>\n",
       "      <th>2011-01-01</th>\n",
       "      <td>5.527052</td>\n",
       "    </tr>\n",
       "    <tr>\n",
       "      <th>2012-01-02</th>\n",
       "      <td>3.296443</td>\n",
       "    </tr>\n",
       "    <tr>\n",
       "      <th>2013-01-01</th>\n",
       "      <td>4.299511</td>\n",
       "    </tr>\n",
       "    <tr>\n",
       "      <th>2014-01-01</th>\n",
       "      <td>9.650291</td>\n",
       "    </tr>\n",
       "    <tr>\n",
       "      <th>2015-01-01</th>\n",
       "      <td>10.298967</td>\n",
       "    </tr>\n",
       "    <tr>\n",
       "      <th>2016-01-02</th>\n",
       "      <td>6.818485</td>\n",
       "    </tr>\n",
       "    <tr>\n",
       "      <th>2017-01-01</th>\n",
       "      <td>6.038945</td>\n",
       "    </tr>\n",
       "    <tr>\n",
       "      <th>2018-01-01</th>\n",
       "      <td>34.129258</td>\n",
       "    </tr>\n",
       "    <tr>\n",
       "      <th>2019-01-01</th>\n",
       "      <td>22.004404</td>\n",
       "    </tr>\n",
       "    <tr>\n",
       "      <th>2020-01-02</th>\n",
       "      <td>35.135410</td>\n",
       "    </tr>\n",
       "  </tbody>\n",
       "</table>\n",
       "</div>"
      ],
      "text/plain": [
       "               totalpd_by_sum_subdays\n",
       "start_of_work                        \n",
       "2010-01-01                   1.805144\n",
       "2011-01-01                   5.527052\n",
       "2012-01-02                   3.296443\n",
       "2013-01-01                   4.299511\n",
       "2014-01-01                   9.650291\n",
       "2015-01-01                  10.298967\n",
       "2016-01-02                   6.818485\n",
       "2017-01-01                   6.038945\n",
       "2018-01-01                  34.129258\n",
       "2019-01-01                  22.004404\n",
       "2020-01-02                  35.135410"
      ]
     },
     "execution_count": 278,
     "metadata": {},
     "output_type": "execute_result"
    }
   ],
   "source": [
    "med1.to_frame()"
   ]
  },
  {
   "cell_type": "code",
   "execution_count": 279,
   "metadata": {},
   "outputs": [],
   "source": [
    "# # Major PD/Total PD Global Lokavant"
   ]
  },
  {
   "cell_type": "code",
   "execution_count": 280,
   "metadata": {},
   "outputs": [],
   "source": [
    "df = add_start_date(lok_glb_met_fin_mtp)"
   ]
  },
  {
   "cell_type": "code",
   "execution_count": 281,
   "metadata": {},
   "outputs": [],
   "source": [
    "df['start_of_work'] = pd.to_datetime(df['start_of_work'])"
   ]
  },
  {
   "cell_type": "code",
   "execution_count": 282,
   "metadata": {},
   "outputs": [],
   "source": [
    "med4 = shift_index(df.groupby(pd.Grouper(key='start_of_work', freq='Y')).median() )['totalmajpd_by_totpd']"
   ]
  },
  {
   "cell_type": "code",
   "execution_count": 283,
   "metadata": {
    "scrolled": false
   },
   "outputs": [
    {
     "data": {
      "text/html": [
       "<div>\n",
       "<style scoped>\n",
       "    .dataframe tbody tr th:only-of-type {\n",
       "        vertical-align: middle;\n",
       "    }\n",
       "\n",
       "    .dataframe tbody tr th {\n",
       "        vertical-align: top;\n",
       "    }\n",
       "\n",
       "    .dataframe thead th {\n",
       "        text-align: right;\n",
       "    }\n",
       "</style>\n",
       "<table border=\"1\" class=\"dataframe\">\n",
       "  <thead>\n",
       "    <tr style=\"text-align: right;\">\n",
       "      <th></th>\n",
       "      <th>totalmajpd_by_totpd</th>\n",
       "    </tr>\n",
       "    <tr>\n",
       "      <th>start_of_work</th>\n",
       "      <th></th>\n",
       "    </tr>\n",
       "  </thead>\n",
       "  <tbody>\n",
       "    <tr>\n",
       "      <th>2014-01-01</th>\n",
       "      <td>136.634448</td>\n",
       "    </tr>\n",
       "    <tr>\n",
       "      <th>2015-01-01</th>\n",
       "      <td>140.546875</td>\n",
       "    </tr>\n",
       "    <tr>\n",
       "      <th>2016-01-02</th>\n",
       "      <td>129.627752</td>\n",
       "    </tr>\n",
       "    <tr>\n",
       "      <th>2017-01-01</th>\n",
       "      <td>360.596542</td>\n",
       "    </tr>\n",
       "    <tr>\n",
       "      <th>2018-01-01</th>\n",
       "      <td>55.232504</td>\n",
       "    </tr>\n",
       "    <tr>\n",
       "      <th>2019-01-01</th>\n",
       "      <td>73.443798</td>\n",
       "    </tr>\n",
       "    <tr>\n",
       "      <th>2020-01-02</th>\n",
       "      <td>53.225229</td>\n",
       "    </tr>\n",
       "  </tbody>\n",
       "</table>\n",
       "</div>"
      ],
      "text/plain": [
       "               totalmajpd_by_totpd\n",
       "start_of_work                     \n",
       "2014-01-01              136.634448\n",
       "2015-01-01              140.546875\n",
       "2016-01-02              129.627752\n",
       "2017-01-01              360.596542\n",
       "2018-01-01               55.232504\n",
       "2019-01-01               73.443798\n",
       "2020-01-02               53.225229"
      ]
     },
     "execution_count": 283,
     "metadata": {},
     "output_type": "execute_result"
    }
   ],
   "source": [
    "med4.to_frame()"
   ]
  },
  {
   "cell_type": "code",
   "execution_count": 284,
   "metadata": {},
   "outputs": [],
   "source": [
    "df['start_of_work'] = pd.to_datetime(df['start_of_work'])\n",
    "\n",
    "med4 = shift_index(df.groupby(pd.Grouper(key='start_of_work', freq='Y')).median() )['totalmajpd_by_totpd']"
   ]
  },
  {
   "cell_type": "code",
   "execution_count": 285,
   "metadata": {
    "scrolled": true
   },
   "outputs": [
    {
     "data": {
      "text/plain": [
       "start_of_work\n",
       "2014-01-01    136.634448\n",
       "2015-01-01    140.546875\n",
       "2016-01-02    129.627752\n",
       "2017-01-01    360.596542\n",
       "2018-01-01     55.232504\n",
       "Name: totalmajpd_by_totpd, dtype: float64"
      ]
     },
     "execution_count": 285,
     "metadata": {},
     "output_type": "execute_result"
    }
   ],
   "source": [
    "med4.head()"
   ]
  },
  {
   "cell_type": "code",
   "execution_count": 286,
   "metadata": {},
   "outputs": [],
   "source": [
    "# PD/Subject Days Japan Lokavant"
   ]
  },
  {
   "cell_type": "code",
   "execution_count": 287,
   "metadata": {},
   "outputs": [],
   "source": [
    "df = add_start_date(lok_jp_met_fin_pds)"
   ]
  },
  {
   "cell_type": "code",
   "execution_count": 288,
   "metadata": {},
   "outputs": [],
   "source": [
    "df['start_of_work'] = pd.to_datetime(df['start_of_work'])\n",
    "\n",
    "med2 = shift_index(df.groupby(pd.Grouper(key='start_of_work', freq='Y')).median() )['totalpd_by_sum_subdays']"
   ]
  },
  {
   "cell_type": "code",
   "execution_count": 289,
   "metadata": {
    "scrolled": true
   },
   "outputs": [
    {
     "data": {
      "text/html": [
       "<div>\n",
       "<style scoped>\n",
       "    .dataframe tbody tr th:only-of-type {\n",
       "        vertical-align: middle;\n",
       "    }\n",
       "\n",
       "    .dataframe tbody tr th {\n",
       "        vertical-align: top;\n",
       "    }\n",
       "\n",
       "    .dataframe thead th {\n",
       "        text-align: right;\n",
       "    }\n",
       "</style>\n",
       "<table border=\"1\" class=\"dataframe\">\n",
       "  <thead>\n",
       "    <tr style=\"text-align: right;\">\n",
       "      <th></th>\n",
       "      <th>totalpd_by_sum_subdays</th>\n",
       "    </tr>\n",
       "    <tr>\n",
       "      <th>start_of_work</th>\n",
       "      <th></th>\n",
       "    </tr>\n",
       "  </thead>\n",
       "  <tbody>\n",
       "    <tr>\n",
       "      <th>2010-01-01</th>\n",
       "      <td>0.557077</td>\n",
       "    </tr>\n",
       "    <tr>\n",
       "      <th>2011-01-01</th>\n",
       "      <td>NaN</td>\n",
       "    </tr>\n",
       "    <tr>\n",
       "      <th>2012-01-02</th>\n",
       "      <td>1.907236</td>\n",
       "    </tr>\n",
       "    <tr>\n",
       "      <th>2013-01-01</th>\n",
       "      <td>4.299511</td>\n",
       "    </tr>\n",
       "    <tr>\n",
       "      <th>2014-01-01</th>\n",
       "      <td>2.595557</td>\n",
       "    </tr>\n",
       "    <tr>\n",
       "      <th>2015-01-01</th>\n",
       "      <td>3.528226</td>\n",
       "    </tr>\n",
       "    <tr>\n",
       "      <th>2016-01-02</th>\n",
       "      <td>4.791155</td>\n",
       "    </tr>\n",
       "    <tr>\n",
       "      <th>2017-01-01</th>\n",
       "      <td>2.292549</td>\n",
       "    </tr>\n",
       "    <tr>\n",
       "      <th>2018-01-01</th>\n",
       "      <td>6.825939</td>\n",
       "    </tr>\n",
       "    <tr>\n",
       "      <th>2019-01-01</th>\n",
       "      <td>4.676110</td>\n",
       "    </tr>\n",
       "    <tr>\n",
       "      <th>2020-01-02</th>\n",
       "      <td>6.791374</td>\n",
       "    </tr>\n",
       "  </tbody>\n",
       "</table>\n",
       "</div>"
      ],
      "text/plain": [
       "               totalpd_by_sum_subdays\n",
       "start_of_work                        \n",
       "2010-01-01                   0.557077\n",
       "2011-01-01                        NaN\n",
       "2012-01-02                   1.907236\n",
       "2013-01-01                   4.299511\n",
       "2014-01-01                   2.595557\n",
       "2015-01-01                   3.528226\n",
       "2016-01-02                   4.791155\n",
       "2017-01-01                   2.292549\n",
       "2018-01-01                   6.825939\n",
       "2019-01-01                   4.676110\n",
       "2020-01-02                   6.791374"
      ]
     },
     "execution_count": 289,
     "metadata": {},
     "output_type": "execute_result"
    }
   ],
   "source": [
    "med2.to_frame()"
   ]
  },
  {
   "cell_type": "code",
   "execution_count": 290,
   "metadata": {},
   "outputs": [],
   "source": [
    "# merging both med1 and med2"
   ]
  },
  {
   "cell_type": "code",
   "execution_count": 291,
   "metadata": {},
   "outputs": [],
   "source": [
    "tempa= pd.merge(med1,med2,on='start_of_work',how='outer')"
   ]
  },
  {
   "cell_type": "code",
   "execution_count": 292,
   "metadata": {
    "scrolled": true
   },
   "outputs": [
    {
     "data": {
      "text/html": [
       "<div>\n",
       "<style scoped>\n",
       "    .dataframe tbody tr th:only-of-type {\n",
       "        vertical-align: middle;\n",
       "    }\n",
       "\n",
       "    .dataframe tbody tr th {\n",
       "        vertical-align: top;\n",
       "    }\n",
       "\n",
       "    .dataframe thead th {\n",
       "        text-align: right;\n",
       "    }\n",
       "</style>\n",
       "<table border=\"1\" class=\"dataframe\">\n",
       "  <thead>\n",
       "    <tr style=\"text-align: right;\">\n",
       "      <th></th>\n",
       "      <th>totalpd_by_sum_subdays_x</th>\n",
       "      <th>totalpd_by_sum_subdays_y</th>\n",
       "    </tr>\n",
       "    <tr>\n",
       "      <th>start_of_work</th>\n",
       "      <th></th>\n",
       "      <th></th>\n",
       "    </tr>\n",
       "  </thead>\n",
       "  <tbody>\n",
       "    <tr>\n",
       "      <th>2010-01-01</th>\n",
       "      <td>1.805144</td>\n",
       "      <td>0.557077</td>\n",
       "    </tr>\n",
       "    <tr>\n",
       "      <th>2011-01-01</th>\n",
       "      <td>5.527052</td>\n",
       "      <td>NaN</td>\n",
       "    </tr>\n",
       "    <tr>\n",
       "      <th>2012-01-02</th>\n",
       "      <td>3.296443</td>\n",
       "      <td>1.907236</td>\n",
       "    </tr>\n",
       "    <tr>\n",
       "      <th>2013-01-01</th>\n",
       "      <td>4.299511</td>\n",
       "      <td>4.299511</td>\n",
       "    </tr>\n",
       "    <tr>\n",
       "      <th>2014-01-01</th>\n",
       "      <td>9.650291</td>\n",
       "      <td>2.595557</td>\n",
       "    </tr>\n",
       "    <tr>\n",
       "      <th>2015-01-01</th>\n",
       "      <td>10.298967</td>\n",
       "      <td>3.528226</td>\n",
       "    </tr>\n",
       "    <tr>\n",
       "      <th>2016-01-02</th>\n",
       "      <td>6.818485</td>\n",
       "      <td>4.791155</td>\n",
       "    </tr>\n",
       "    <tr>\n",
       "      <th>2017-01-01</th>\n",
       "      <td>6.038945</td>\n",
       "      <td>2.292549</td>\n",
       "    </tr>\n",
       "    <tr>\n",
       "      <th>2018-01-01</th>\n",
       "      <td>34.129258</td>\n",
       "      <td>6.825939</td>\n",
       "    </tr>\n",
       "    <tr>\n",
       "      <th>2019-01-01</th>\n",
       "      <td>22.004404</td>\n",
       "      <td>4.676110</td>\n",
       "    </tr>\n",
       "    <tr>\n",
       "      <th>2020-01-02</th>\n",
       "      <td>35.135410</td>\n",
       "      <td>6.791374</td>\n",
       "    </tr>\n",
       "  </tbody>\n",
       "</table>\n",
       "</div>"
      ],
      "text/plain": [
       "               totalpd_by_sum_subdays_x  totalpd_by_sum_subdays_y\n",
       "start_of_work                                                    \n",
       "2010-01-01                     1.805144                  0.557077\n",
       "2011-01-01                     5.527052                       NaN\n",
       "2012-01-02                     3.296443                  1.907236\n",
       "2013-01-01                     4.299511                  4.299511\n",
       "2014-01-01                     9.650291                  2.595557\n",
       "2015-01-01                    10.298967                  3.528226\n",
       "2016-01-02                     6.818485                  4.791155\n",
       "2017-01-01                     6.038945                  2.292549\n",
       "2018-01-01                    34.129258                  6.825939\n",
       "2019-01-01                    22.004404                  4.676110\n",
       "2020-01-02                    35.135410                  6.791374"
      ]
     },
     "execution_count": 292,
     "metadata": {},
     "output_type": "execute_result"
    }
   ],
   "source": [
    "tempa"
   ]
  },
  {
   "cell_type": "code",
   "execution_count": 293,
   "metadata": {},
   "outputs": [],
   "source": [
    "# PD/Subject Days CMIC"
   ]
  },
  {
   "cell_type": "code",
   "execution_count": 294,
   "metadata": {},
   "outputs": [],
   "source": [
    "cmic_glb_met_fin_pds['start_of_work'] = pd.to_datetime(cmic_glb_met_fin_pds['start_of_work'])"
   ]
  },
  {
   "cell_type": "code",
   "execution_count": 295,
   "metadata": {
    "scrolled": true
   },
   "outputs": [
    {
     "data": {
      "text/html": [
       "<div>\n",
       "<style scoped>\n",
       "    .dataframe tbody tr th:only-of-type {\n",
       "        vertical-align: middle;\n",
       "    }\n",
       "\n",
       "    .dataframe tbody tr th {\n",
       "        vertical-align: top;\n",
       "    }\n",
       "\n",
       "    .dataframe thead th {\n",
       "        text-align: right;\n",
       "    }\n",
       "</style>\n",
       "<table border=\"1\" class=\"dataframe\">\n",
       "  <thead>\n",
       "    <tr style=\"text-align: right;\">\n",
       "      <th></th>\n",
       "      <th>protocol_code</th>\n",
       "      <th>tot_sub_days</th>\n",
       "      <th>total_pd</th>\n",
       "      <th>totalpd_by_sum_subdays</th>\n",
       "      <th>start_of_work</th>\n",
       "      <th>rbm</th>\n",
       "      <th>phase</th>\n",
       "    </tr>\n",
       "  </thead>\n",
       "  <tbody>\n",
       "    <tr>\n",
       "      <th>0</th>\n",
       "      <td>AST0018</td>\n",
       "      <td>21435.0</td>\n",
       "      <td>163</td>\n",
       "      <td>7.604385</td>\n",
       "      <td>2014-05-01</td>\n",
       "      <td>0</td>\n",
       "      <td>III</td>\n",
       "    </tr>\n",
       "    <tr>\n",
       "      <th>1</th>\n",
       "      <td>BNP0026</td>\n",
       "      <td>11473.0</td>\n",
       "      <td>57</td>\n",
       "      <td>4.968186</td>\n",
       "      <td>2016-01-04</td>\n",
       "      <td>0</td>\n",
       "      <td>II</td>\n",
       "    </tr>\n",
       "    <tr>\n",
       "      <th>2</th>\n",
       "      <td>CGS0014</td>\n",
       "      <td>15997.0</td>\n",
       "      <td>94</td>\n",
       "      <td>5.876102</td>\n",
       "      <td>2017-11-01</td>\n",
       "      <td>1</td>\n",
       "      <td>III</td>\n",
       "    </tr>\n",
       "    <tr>\n",
       "      <th>3</th>\n",
       "      <td>FJY0011</td>\n",
       "      <td>22131.0</td>\n",
       "      <td>4</td>\n",
       "      <td>0.180742</td>\n",
       "      <td>2017-02-01</td>\n",
       "      <td>0</td>\n",
       "      <td>III</td>\n",
       "    </tr>\n",
       "    <tr>\n",
       "      <th>4</th>\n",
       "      <td>PIL0010</td>\n",
       "      <td>6420.0</td>\n",
       "      <td>1</td>\n",
       "      <td>0.155763</td>\n",
       "      <td>2018-12-03</td>\n",
       "      <td>0</td>\n",
       "      <td>II</td>\n",
       "    </tr>\n",
       "  </tbody>\n",
       "</table>\n",
       "</div>"
      ],
      "text/plain": [
       "  protocol_code  tot_sub_days  total_pd  totalpd_by_sum_subdays start_of_work  \\\n",
       "0       AST0018       21435.0       163                7.604385    2014-05-01   \n",
       "1       BNP0026       11473.0        57                4.968186    2016-01-04   \n",
       "2       CGS0014       15997.0        94                5.876102    2017-11-01   \n",
       "3       FJY0011       22131.0         4                0.180742    2017-02-01   \n",
       "4       PIL0010        6420.0         1                0.155763    2018-12-03   \n",
       "\n",
       "   rbm phase  \n",
       "0    0   III  \n",
       "1    0    II  \n",
       "2    1   III  \n",
       "3    0   III  \n",
       "4    0    II  "
      ]
     },
     "execution_count": 295,
     "metadata": {},
     "output_type": "execute_result"
    }
   ],
   "source": [
    "cmic_glb_met_fin_pds.head()"
   ]
  },
  {
   "cell_type": "code",
   "execution_count": 296,
   "metadata": {},
   "outputs": [],
   "source": [
    "cmic_glb_met_fin_pds['start_of_work'] = pd.to_datetime(cmic_glb_met_fin_pds['start_of_work'])"
   ]
  },
  {
   "cell_type": "code",
   "execution_count": 297,
   "metadata": {
    "scrolled": true
   },
   "outputs": [],
   "source": [
    "med3 = shift_index(cmic_glb_met_fin_pds.groupby(pd.Grouper(key='start_of_work', freq='Y')).median() )['totalpd_by_sum_subdays']"
   ]
  },
  {
   "cell_type": "code",
   "execution_count": 298,
   "metadata": {
    "scrolled": true
   },
   "outputs": [
    {
     "data": {
      "text/html": [
       "<div>\n",
       "<style scoped>\n",
       "    .dataframe tbody tr th:only-of-type {\n",
       "        vertical-align: middle;\n",
       "    }\n",
       "\n",
       "    .dataframe tbody tr th {\n",
       "        vertical-align: top;\n",
       "    }\n",
       "\n",
       "    .dataframe thead th {\n",
       "        text-align: right;\n",
       "    }\n",
       "</style>\n",
       "<table border=\"1\" class=\"dataframe\">\n",
       "  <thead>\n",
       "    <tr style=\"text-align: right;\">\n",
       "      <th></th>\n",
       "      <th>totalpd_by_sum_subdays</th>\n",
       "    </tr>\n",
       "    <tr>\n",
       "      <th>start_of_work</th>\n",
       "      <th></th>\n",
       "    </tr>\n",
       "  </thead>\n",
       "  <tbody>\n",
       "    <tr>\n",
       "      <th>2011-01-01</th>\n",
       "      <td>0.758676</td>\n",
       "    </tr>\n",
       "    <tr>\n",
       "      <th>2012-01-02</th>\n",
       "      <td>NaN</td>\n",
       "    </tr>\n",
       "    <tr>\n",
       "      <th>2013-01-01</th>\n",
       "      <td>3.529565</td>\n",
       "    </tr>\n",
       "    <tr>\n",
       "      <th>2014-01-01</th>\n",
       "      <td>5.899705</td>\n",
       "    </tr>\n",
       "    <tr>\n",
       "      <th>2015-01-01</th>\n",
       "      <td>2.951884</td>\n",
       "    </tr>\n",
       "    <tr>\n",
       "      <th>2016-01-02</th>\n",
       "      <td>4.968186</td>\n",
       "    </tr>\n",
       "    <tr>\n",
       "      <th>2017-01-01</th>\n",
       "      <td>3.069518</td>\n",
       "    </tr>\n",
       "    <tr>\n",
       "      <th>2018-01-01</th>\n",
       "      <td>1.109215</td>\n",
       "    </tr>\n",
       "    <tr>\n",
       "      <th>2019-01-01</th>\n",
       "      <td>1.426342</td>\n",
       "    </tr>\n",
       "    <tr>\n",
       "      <th>2020-01-02</th>\n",
       "      <td>6.426005</td>\n",
       "    </tr>\n",
       "  </tbody>\n",
       "</table>\n",
       "</div>"
      ],
      "text/plain": [
       "               totalpd_by_sum_subdays\n",
       "start_of_work                        \n",
       "2011-01-01                   0.758676\n",
       "2012-01-02                        NaN\n",
       "2013-01-01                   3.529565\n",
       "2014-01-01                   5.899705\n",
       "2015-01-01                   2.951884\n",
       "2016-01-02                   4.968186\n",
       "2017-01-01                   3.069518\n",
       "2018-01-01                   1.109215\n",
       "2019-01-01                   1.426342\n",
       "2020-01-02                   6.426005"
      ]
     },
     "execution_count": 298,
     "metadata": {},
     "output_type": "execute_result"
    }
   ],
   "source": [
    "med3.to_frame()"
   ]
  },
  {
   "cell_type": "code",
   "execution_count": 299,
   "metadata": {},
   "outputs": [],
   "source": [
    "## merging tempa with med3. Now we have all 3(Cmic, Lok glb and lok japan's metric aggregated by a year) "
   ]
  },
  {
   "cell_type": "code",
   "execution_count": 300,
   "metadata": {},
   "outputs": [],
   "source": [
    "tempaa = pd.merge(tempa,med3,on='start_of_work',how='outer')"
   ]
  },
  {
   "cell_type": "code",
   "execution_count": 301,
   "metadata": {
    "scrolled": false
   },
   "outputs": [
    {
     "data": {
      "text/html": [
       "<div>\n",
       "<style scoped>\n",
       "    .dataframe tbody tr th:only-of-type {\n",
       "        vertical-align: middle;\n",
       "    }\n",
       "\n",
       "    .dataframe tbody tr th {\n",
       "        vertical-align: top;\n",
       "    }\n",
       "\n",
       "    .dataframe thead th {\n",
       "        text-align: right;\n",
       "    }\n",
       "</style>\n",
       "<table border=\"1\" class=\"dataframe\">\n",
       "  <thead>\n",
       "    <tr style=\"text-align: right;\">\n",
       "      <th></th>\n",
       "      <th>totalpd_by_sum_subdays_x</th>\n",
       "      <th>totalpd_by_sum_subdays_y</th>\n",
       "      <th>totalpd_by_sum_subdays</th>\n",
       "    </tr>\n",
       "    <tr>\n",
       "      <th>start_of_work</th>\n",
       "      <th></th>\n",
       "      <th></th>\n",
       "      <th></th>\n",
       "    </tr>\n",
       "  </thead>\n",
       "  <tbody>\n",
       "    <tr>\n",
       "      <th>2010-01-01</th>\n",
       "      <td>1.805144</td>\n",
       "      <td>0.557077</td>\n",
       "      <td>NaN</td>\n",
       "    </tr>\n",
       "    <tr>\n",
       "      <th>2011-01-01</th>\n",
       "      <td>5.527052</td>\n",
       "      <td>NaN</td>\n",
       "      <td>0.758676</td>\n",
       "    </tr>\n",
       "    <tr>\n",
       "      <th>2012-01-02</th>\n",
       "      <td>3.296443</td>\n",
       "      <td>1.907236</td>\n",
       "      <td>NaN</td>\n",
       "    </tr>\n",
       "    <tr>\n",
       "      <th>2013-01-01</th>\n",
       "      <td>4.299511</td>\n",
       "      <td>4.299511</td>\n",
       "      <td>3.529565</td>\n",
       "    </tr>\n",
       "    <tr>\n",
       "      <th>2014-01-01</th>\n",
       "      <td>9.650291</td>\n",
       "      <td>2.595557</td>\n",
       "      <td>5.899705</td>\n",
       "    </tr>\n",
       "    <tr>\n",
       "      <th>2015-01-01</th>\n",
       "      <td>10.298967</td>\n",
       "      <td>3.528226</td>\n",
       "      <td>2.951884</td>\n",
       "    </tr>\n",
       "    <tr>\n",
       "      <th>2016-01-02</th>\n",
       "      <td>6.818485</td>\n",
       "      <td>4.791155</td>\n",
       "      <td>4.968186</td>\n",
       "    </tr>\n",
       "    <tr>\n",
       "      <th>2017-01-01</th>\n",
       "      <td>6.038945</td>\n",
       "      <td>2.292549</td>\n",
       "      <td>3.069518</td>\n",
       "    </tr>\n",
       "    <tr>\n",
       "      <th>2018-01-01</th>\n",
       "      <td>34.129258</td>\n",
       "      <td>6.825939</td>\n",
       "      <td>1.109215</td>\n",
       "    </tr>\n",
       "    <tr>\n",
       "      <th>2019-01-01</th>\n",
       "      <td>22.004404</td>\n",
       "      <td>4.676110</td>\n",
       "      <td>1.426342</td>\n",
       "    </tr>\n",
       "    <tr>\n",
       "      <th>2020-01-02</th>\n",
       "      <td>35.135410</td>\n",
       "      <td>6.791374</td>\n",
       "      <td>6.426005</td>\n",
       "    </tr>\n",
       "  </tbody>\n",
       "</table>\n",
       "</div>"
      ],
      "text/plain": [
       "               totalpd_by_sum_subdays_x  totalpd_by_sum_subdays_y  \\\n",
       "start_of_work                                                       \n",
       "2010-01-01                     1.805144                  0.557077   \n",
       "2011-01-01                     5.527052                       NaN   \n",
       "2012-01-02                     3.296443                  1.907236   \n",
       "2013-01-01                     4.299511                  4.299511   \n",
       "2014-01-01                     9.650291                  2.595557   \n",
       "2015-01-01                    10.298967                  3.528226   \n",
       "2016-01-02                     6.818485                  4.791155   \n",
       "2017-01-01                     6.038945                  2.292549   \n",
       "2018-01-01                    34.129258                  6.825939   \n",
       "2019-01-01                    22.004404                  4.676110   \n",
       "2020-01-02                    35.135410                  6.791374   \n",
       "\n",
       "               totalpd_by_sum_subdays  \n",
       "start_of_work                          \n",
       "2010-01-01                        NaN  \n",
       "2011-01-01                   0.758676  \n",
       "2012-01-02                        NaN  \n",
       "2013-01-01                   3.529565  \n",
       "2014-01-01                   5.899705  \n",
       "2015-01-01                   2.951884  \n",
       "2016-01-02                   4.968186  \n",
       "2017-01-01                   3.069518  \n",
       "2018-01-01                   1.109215  \n",
       "2019-01-01                   1.426342  \n",
       "2020-01-02                   6.426005  "
      ]
     },
     "execution_count": 301,
     "metadata": {},
     "output_type": "execute_result"
    }
   ],
   "source": [
    "tempaa"
   ]
  },
  {
   "cell_type": "code",
   "execution_count": 302,
   "metadata": {},
   "outputs": [],
   "source": [
    "## Renaming columns"
   ]
  },
  {
   "cell_type": "code",
   "execution_count": 303,
   "metadata": {},
   "outputs": [],
   "source": [
    "tempaa = tempaa.rename(columns={\"totalpd_by_sum_subdays_x\" : \"Loka Glb\", \"totalpd_by_sum_subdays_y\" : \"Loka Jpn\", \"totalpd_by_sum_subdays\" : \"CMIC\"})"
   ]
  },
  {
   "cell_type": "markdown",
   "metadata": {},
   "source": [
    "## Plotting line graph"
   ]
  },
  {
   "cell_type": "code",
   "execution_count": 304,
   "metadata": {
    "scrolled": true
   },
   "outputs": [
    {
     "data": {
      "image/png": "[encoded data removed]",
      "text/plain": [
       "<Figure size 432x288 with 1 Axes>"
      ]
     },
     "metadata": {},
     "output_type": "display_data"
    }
   ],
   "source": [
    "for col in tempaa.columns:\n",
    "    plt.plot(tempaa[col], linewidth=2, label=col)\n",
    "\n",
    "plt.xlabel('Year', fontsize=16)\n",
    "plt.ylabel('Total PDs per 1000 subj days', fontsize=14)\n",
    "plt.xticks(fontsize=12)\n",
    "plt.yticks(fontsize=12)\n",
    "plt.legend(fontsize=12)\n",
    "# plt.set_cmap('Paired') # You can set the colormap to the graph\n",
    "plt.show()"
   ]
  },
  {
   "cell_type": "code",
   "execution_count": 305,
   "metadata": {},
   "outputs": [],
   "source": [
    "## Doing the same for 2nd metric - major pd by total pd"
   ]
  },
  {
   "cell_type": "code",
   "execution_count": 306,
   "metadata": {},
   "outputs": [],
   "source": [
    "# Major PD/Total Japan Lokavant"
   ]
  },
  {
   "cell_type": "code",
   "execution_count": 307,
   "metadata": {},
   "outputs": [],
   "source": [
    "df = add_start_date(lok_jp_met_fin_mtp)"
   ]
  },
  {
   "cell_type": "code",
   "execution_count": 308,
   "metadata": {},
   "outputs": [],
   "source": [
    "df['start_of_work'] = pd.to_datetime(df['start_of_work'])\n",
    "\n",
    "med5 = shift_index(df.groupby(pd.Grouper(key='start_of_work', freq='Y')).median() )['totalmajpd_by_totpd']"
   ]
  },
  {
   "cell_type": "code",
   "execution_count": 309,
   "metadata": {
    "scrolled": true
   },
   "outputs": [
    {
     "data": {
      "text/html": [
       "<div>\n",
       "<style scoped>\n",
       "    .dataframe tbody tr th:only-of-type {\n",
       "        vertical-align: middle;\n",
       "    }\n",
       "\n",
       "    .dataframe tbody tr th {\n",
       "        vertical-align: top;\n",
       "    }\n",
       "\n",
       "    .dataframe thead th {\n",
       "        text-align: right;\n",
       "    }\n",
       "</style>\n",
       "<table border=\"1\" class=\"dataframe\">\n",
       "  <thead>\n",
       "    <tr style=\"text-align: right;\">\n",
       "      <th></th>\n",
       "      <th>totalmajpd_by_totpd</th>\n",
       "    </tr>\n",
       "    <tr>\n",
       "      <th>start_of_work</th>\n",
       "      <th></th>\n",
       "    </tr>\n",
       "  </thead>\n",
       "  <tbody>\n",
       "    <tr>\n",
       "      <th>2014-01-01</th>\n",
       "      <td>245.437616</td>\n",
       "    </tr>\n",
       "    <tr>\n",
       "      <th>2015-01-01</th>\n",
       "      <td>162.790698</td>\n",
       "    </tr>\n",
       "    <tr>\n",
       "      <th>2016-01-02</th>\n",
       "      <td>282.051282</td>\n",
       "    </tr>\n",
       "    <tr>\n",
       "      <th>2017-01-01</th>\n",
       "      <td>NaN</td>\n",
       "    </tr>\n",
       "    <tr>\n",
       "      <th>2018-01-01</th>\n",
       "      <td>111.111111</td>\n",
       "    </tr>\n",
       "    <tr>\n",
       "      <th>2019-01-01</th>\n",
       "      <td>144.000000</td>\n",
       "    </tr>\n",
       "    <tr>\n",
       "      <th>2020-01-02</th>\n",
       "      <td>43.859649</td>\n",
       "    </tr>\n",
       "  </tbody>\n",
       "</table>\n",
       "</div>"
      ],
      "text/plain": [
       "               totalmajpd_by_totpd\n",
       "start_of_work                     \n",
       "2014-01-01              245.437616\n",
       "2015-01-01              162.790698\n",
       "2016-01-02              282.051282\n",
       "2017-01-01                     NaN\n",
       "2018-01-01              111.111111\n",
       "2019-01-01              144.000000\n",
       "2020-01-02               43.859649"
      ]
     },
     "execution_count": 309,
     "metadata": {},
     "output_type": "execute_result"
    }
   ],
   "source": [
    "med5.to_frame()"
   ]
  },
  {
   "cell_type": "code",
   "execution_count": 310,
   "metadata": {},
   "outputs": [],
   "source": [
    "# Major pd by total pd CMIC"
   ]
  },
  {
   "cell_type": "code",
   "execution_count": 311,
   "metadata": {},
   "outputs": [],
   "source": [
    "cmic_glb_met_fin_mtp['start_of_work'] = pd.to_datetime(cmic_glb_met_fin_mtp['start_of_work'])"
   ]
  },
  {
   "cell_type": "code",
   "execution_count": 312,
   "metadata": {},
   "outputs": [],
   "source": [
    "med6 = shift_index(cmic_glb_met_fin_mtp.groupby(pd.Grouper(key='start_of_work', freq='Y')).median() )['totalmajpd_by_totpd']"
   ]
  },
  {
   "cell_type": "code",
   "execution_count": 313,
   "metadata": {
    "scrolled": true
   },
   "outputs": [
    {
     "data": {
      "text/html": [
       "<div>\n",
       "<style scoped>\n",
       "    .dataframe tbody tr th:only-of-type {\n",
       "        vertical-align: middle;\n",
       "    }\n",
       "\n",
       "    .dataframe tbody tr th {\n",
       "        vertical-align: top;\n",
       "    }\n",
       "\n",
       "    .dataframe thead th {\n",
       "        text-align: right;\n",
       "    }\n",
       "</style>\n",
       "<table border=\"1\" class=\"dataframe\">\n",
       "  <thead>\n",
       "    <tr style=\"text-align: right;\">\n",
       "      <th></th>\n",
       "      <th>totalmajpd_by_totpd</th>\n",
       "    </tr>\n",
       "    <tr>\n",
       "      <th>start_of_work</th>\n",
       "      <th></th>\n",
       "    </tr>\n",
       "  </thead>\n",
       "  <tbody>\n",
       "    <tr>\n",
       "      <th>2012-01-02</th>\n",
       "      <td>100.000000</td>\n",
       "    </tr>\n",
       "    <tr>\n",
       "      <th>2013-01-01</th>\n",
       "      <td>NaN</td>\n",
       "    </tr>\n",
       "    <tr>\n",
       "      <th>2014-01-01</th>\n",
       "      <td>204.428112</td>\n",
       "    </tr>\n",
       "    <tr>\n",
       "      <th>2015-01-01</th>\n",
       "      <td>279.069767</td>\n",
       "    </tr>\n",
       "    <tr>\n",
       "      <th>2016-01-02</th>\n",
       "      <td>240.000000</td>\n",
       "    </tr>\n",
       "    <tr>\n",
       "      <th>2017-01-01</th>\n",
       "      <td>152.925532</td>\n",
       "    </tr>\n",
       "    <tr>\n",
       "      <th>2018-01-01</th>\n",
       "      <td>76.767677</td>\n",
       "    </tr>\n",
       "    <tr>\n",
       "      <th>2019-01-01</th>\n",
       "      <td>NaN</td>\n",
       "    </tr>\n",
       "    <tr>\n",
       "      <th>2020-01-02</th>\n",
       "      <td>375.000000</td>\n",
       "    </tr>\n",
       "  </tbody>\n",
       "</table>\n",
       "</div>"
      ],
      "text/plain": [
       "               totalmajpd_by_totpd\n",
       "start_of_work                     \n",
       "2012-01-02              100.000000\n",
       "2013-01-01                     NaN\n",
       "2014-01-01              204.428112\n",
       "2015-01-01              279.069767\n",
       "2016-01-02              240.000000\n",
       "2017-01-01              152.925532\n",
       "2018-01-01               76.767677\n",
       "2019-01-01                     NaN\n",
       "2020-01-02              375.000000"
      ]
     },
     "execution_count": 313,
     "metadata": {},
     "output_type": "execute_result"
    }
   ],
   "source": [
    "med6.to_frame()"
   ]
  },
  {
   "cell_type": "code",
   "execution_count": 314,
   "metadata": {},
   "outputs": [],
   "source": [
    "tempb= pd.merge(med4,med5,on='start_of_work',how='outer')"
   ]
  },
  {
   "cell_type": "code",
   "execution_count": 315,
   "metadata": {
    "scrolled": false
   },
   "outputs": [
    {
     "data": {
      "text/html": [
       "<div>\n",
       "<style scoped>\n",
       "    .dataframe tbody tr th:only-of-type {\n",
       "        vertical-align: middle;\n",
       "    }\n",
       "\n",
       "    .dataframe tbody tr th {\n",
       "        vertical-align: top;\n",
       "    }\n",
       "\n",
       "    .dataframe thead th {\n",
       "        text-align: right;\n",
       "    }\n",
       "</style>\n",
       "<table border=\"1\" class=\"dataframe\">\n",
       "  <thead>\n",
       "    <tr style=\"text-align: right;\">\n",
       "      <th></th>\n",
       "      <th>totalmajpd_by_totpd_x</th>\n",
       "      <th>totalmajpd_by_totpd_y</th>\n",
       "    </tr>\n",
       "    <tr>\n",
       "      <th>start_of_work</th>\n",
       "      <th></th>\n",
       "      <th></th>\n",
       "    </tr>\n",
       "  </thead>\n",
       "  <tbody>\n",
       "    <tr>\n",
       "      <th>2014-01-01</th>\n",
       "      <td>136.634448</td>\n",
       "      <td>245.437616</td>\n",
       "    </tr>\n",
       "    <tr>\n",
       "      <th>2015-01-01</th>\n",
       "      <td>140.546875</td>\n",
       "      <td>162.790698</td>\n",
       "    </tr>\n",
       "    <tr>\n",
       "      <th>2016-01-02</th>\n",
       "      <td>129.627752</td>\n",
       "      <td>282.051282</td>\n",
       "    </tr>\n",
       "    <tr>\n",
       "      <th>2017-01-01</th>\n",
       "      <td>360.596542</td>\n",
       "      <td>NaN</td>\n",
       "    </tr>\n",
       "    <tr>\n",
       "      <th>2018-01-01</th>\n",
       "      <td>55.232504</td>\n",
       "      <td>111.111111</td>\n",
       "    </tr>\n",
       "    <tr>\n",
       "      <th>2019-01-01</th>\n",
       "      <td>73.443798</td>\n",
       "      <td>144.000000</td>\n",
       "    </tr>\n",
       "    <tr>\n",
       "      <th>2020-01-02</th>\n",
       "      <td>53.225229</td>\n",
       "      <td>43.859649</td>\n",
       "    </tr>\n",
       "  </tbody>\n",
       "</table>\n",
       "</div>"
      ],
      "text/plain": [
       "               totalmajpd_by_totpd_x  totalmajpd_by_totpd_y\n",
       "start_of_work                                              \n",
       "2014-01-01                136.634448             245.437616\n",
       "2015-01-01                140.546875             162.790698\n",
       "2016-01-02                129.627752             282.051282\n",
       "2017-01-01                360.596542                    NaN\n",
       "2018-01-01                 55.232504             111.111111\n",
       "2019-01-01                 73.443798             144.000000\n",
       "2020-01-02                 53.225229              43.859649"
      ]
     },
     "execution_count": 315,
     "metadata": {},
     "output_type": "execute_result"
    }
   ],
   "source": [
    "tempb"
   ]
  },
  {
   "cell_type": "code",
   "execution_count": 316,
   "metadata": {},
   "outputs": [],
   "source": [
    "tempbb = pd.merge(med6,tempb,on='start_of_work',how='outer')"
   ]
  },
  {
   "cell_type": "code",
   "execution_count": 317,
   "metadata": {
    "scrolled": true
   },
   "outputs": [
    {
     "data": {
      "text/html": [
       "<div>\n",
       "<style scoped>\n",
       "    .dataframe tbody tr th:only-of-type {\n",
       "        vertical-align: middle;\n",
       "    }\n",
       "\n",
       "    .dataframe tbody tr th {\n",
       "        vertical-align: top;\n",
       "    }\n",
       "\n",
       "    .dataframe thead th {\n",
       "        text-align: right;\n",
       "    }\n",
       "</style>\n",
       "<table border=\"1\" class=\"dataframe\">\n",
       "  <thead>\n",
       "    <tr style=\"text-align: right;\">\n",
       "      <th></th>\n",
       "      <th>totalmajpd_by_totpd</th>\n",
       "      <th>totalmajpd_by_totpd_x</th>\n",
       "      <th>totalmajpd_by_totpd_y</th>\n",
       "    </tr>\n",
       "    <tr>\n",
       "      <th>start_of_work</th>\n",
       "      <th></th>\n",
       "      <th></th>\n",
       "      <th></th>\n",
       "    </tr>\n",
       "  </thead>\n",
       "  <tbody>\n",
       "    <tr>\n",
       "      <th>2012-01-02</th>\n",
       "      <td>100.000000</td>\n",
       "      <td>NaN</td>\n",
       "      <td>NaN</td>\n",
       "    </tr>\n",
       "    <tr>\n",
       "      <th>2013-01-01</th>\n",
       "      <td>NaN</td>\n",
       "      <td>NaN</td>\n",
       "      <td>NaN</td>\n",
       "    </tr>\n",
       "    <tr>\n",
       "      <th>2014-01-01</th>\n",
       "      <td>204.428112</td>\n",
       "      <td>136.634448</td>\n",
       "      <td>245.437616</td>\n",
       "    </tr>\n",
       "    <tr>\n",
       "      <th>2015-01-01</th>\n",
       "      <td>279.069767</td>\n",
       "      <td>140.546875</td>\n",
       "      <td>162.790698</td>\n",
       "    </tr>\n",
       "    <tr>\n",
       "      <th>2016-01-02</th>\n",
       "      <td>240.000000</td>\n",
       "      <td>129.627752</td>\n",
       "      <td>282.051282</td>\n",
       "    </tr>\n",
       "    <tr>\n",
       "      <th>2017-01-01</th>\n",
       "      <td>152.925532</td>\n",
       "      <td>360.596542</td>\n",
       "      <td>NaN</td>\n",
       "    </tr>\n",
       "    <tr>\n",
       "      <th>2018-01-01</th>\n",
       "      <td>76.767677</td>\n",
       "      <td>55.232504</td>\n",
       "      <td>111.111111</td>\n",
       "    </tr>\n",
       "    <tr>\n",
       "      <th>2019-01-01</th>\n",
       "      <td>NaN</td>\n",
       "      <td>73.443798</td>\n",
       "      <td>144.000000</td>\n",
       "    </tr>\n",
       "    <tr>\n",
       "      <th>2020-01-02</th>\n",
       "      <td>375.000000</td>\n",
       "      <td>53.225229</td>\n",
       "      <td>43.859649</td>\n",
       "    </tr>\n",
       "  </tbody>\n",
       "</table>\n",
       "</div>"
      ],
      "text/plain": [
       "               totalmajpd_by_totpd  totalmajpd_by_totpd_x  \\\n",
       "start_of_work                                               \n",
       "2012-01-02              100.000000                    NaN   \n",
       "2013-01-01                     NaN                    NaN   \n",
       "2014-01-01              204.428112             136.634448   \n",
       "2015-01-01              279.069767             140.546875   \n",
       "2016-01-02              240.000000             129.627752   \n",
       "2017-01-01              152.925532             360.596542   \n",
       "2018-01-01               76.767677              55.232504   \n",
       "2019-01-01                     NaN              73.443798   \n",
       "2020-01-02              375.000000              53.225229   \n",
       "\n",
       "               totalmajpd_by_totpd_y  \n",
       "start_of_work                         \n",
       "2012-01-02                       NaN  \n",
       "2013-01-01                       NaN  \n",
       "2014-01-01                245.437616  \n",
       "2015-01-01                162.790698  \n",
       "2016-01-02                282.051282  \n",
       "2017-01-01                       NaN  \n",
       "2018-01-01                111.111111  \n",
       "2019-01-01                144.000000  \n",
       "2020-01-02                 43.859649  "
      ]
     },
     "execution_count": 317,
     "metadata": {},
     "output_type": "execute_result"
    }
   ],
   "source": [
    "tempbb"
   ]
  },
  {
   "cell_type": "code",
   "execution_count": 318,
   "metadata": {},
   "outputs": [],
   "source": [
    "tempbb = tempbb.rename(columns={\"totalmajpd_by_totpd_x\" : \"Loka Glb\", \"totalmajpd_by_totpd_y\" : \"Loka Jpn\", \"totalmajpd_by_totpd\" : \"CMIC\"})"
   ]
  },
  {
   "cell_type": "markdown",
   "metadata": {},
   "source": [
    "## plotting line graph for 2nd metric - mtr"
   ]
  },
  {
   "cell_type": "code",
   "execution_count": 323,
   "metadata": {
    "scrolled": true
   },
   "outputs": [
    {
     "data": {
      "text/plain": [
       "<matplotlib.legend.Legend at 0x7fcb3f075cd0>"
      ]
     },
     "execution_count": 323,
     "metadata": {},
     "output_type": "execute_result"
    },
    {
     "data": {
      "image/png": "[encoded data removed]",
      "text/plain": [
       "<Figure size 432x288 with 1 Axes>"
      ]
     },
     "metadata": {},
     "output_type": "display_data"
    }
   ],
   "source": [
    "for col in tempbb.columns:\n",
    "    plt.plot(tempbb[col], linewidth=2, label=col)\n",
    "\n",
    "plt.xlabel('Year', fontsize=18)\n",
    "plt.ylabel('Major PDs per 1000 Total PDs', fontsize=15)\n",
    "plt.xticks(fontsize=12)\n",
    "plt.yticks(fontsize=12)\n",
    "plt.legend(fontsize=12)\n",
    "#fig.set_figheight(10)\n",
    "#fig.set_figwidth(15)\n",
    "#plt.figure(figsize=(20,20))\n",
    "# plt.set"
   ]
  },
  {
   "cell_type": "code",
   "execution_count": 324,
   "metadata": {},
   "outputs": [],
   "source": [
    "## Functions for plotting graphs"
   ]
  },
  {
   "cell_type": "code",
   "execution_count": 325,
   "metadata": {},
   "outputs": [],
   "source": [
    "\n",
    "def overall_boxplot(lok_global, lok_japan, cmic, kri, row_num, japan_on=True):\n",
    "    l_g = lok_global[kri].dropna()\n",
    "    l_j = lok_japan[kri].dropna()\n",
    "    c   = cmic[kri].dropna()\n",
    "\n",
    "    if japan_on:\n",
    "        data = [l_g, l_j, c]\n",
    "        fig, ax = plt.subplots()\n",
    "        ax.boxplot(data, showfliers=False)\n",
    "        ax.set_ylabel('Percentage')\n",
    "        ax.set_title(kri)\n",
    "        plt.xticks((1,2,3), ['Lokavant - Global', 'Lokavant - Japan', 'CMIC'])\n",
    "        fig.tight_layout()\n",
    "        fig.savefig(f'/home/ajay.keshava/Downloads/Pd_Analysis/{row_num}_overall_boxplot_w_japan.jpg')\n",
    "\n",
    "    else:\n",
    "        data = [l_g, c]\n",
    "        fig, ax = plt.subplots()\n",
    "        ax.boxplot(data, showfliers=False)\n",
    "        ax.set_ylabel('Percentage')\n",
    "        ax.set_title(kri)\n",
    "        plt.xticks((1,2), ['Lokavant - Global', 'CMIC'])\n",
    "        fig.tight_layout()\n",
    "        fig.savefig(f'/home/ajay.keshava/Downloads/Pd_Analysis/{row_num}_overall_boxplot_wo_japan.jpg')\n",
    "\n",
    "\n",
    "\n",
    "    return None\n",
    "\n",
    "\n",
    "def multiple_comparisons_phases(pxl, pxl_japan, cmic, kri, row_num=None, japan_on=True):\n",
    "    # attatch string for grouping later\n",
    "    pxl['group'] = 'Lokavant Global'\n",
    "    pxl_japan['group'] = 'Lokavant Japan'\n",
    "    cmic['group'] = 'CMIC'\n",
    "\n",
    "    cmic.rename(columns={'phase':'b_phase'}, inplace=True)\n",
    "\n",
    "    if japan_on:\n",
    "        # concatenate tables\n",
    "        multi_df = pd.concat([pxl[[kri, 'b_phase', 'group']],\n",
    "                            pxl_japan[[kri, 'b_phase','group']],\n",
    "                            cmic[[kri,'b_phase','group']]])\n",
    "\n",
    "        # only cutting by phase I, II, III, and IV\n",
    "        multi_df = multi_df.loc[(multi_df['b_phase']=='I') | (multi_df['b_phase']=='II') | (multi_df['b_phase']=='III') | (multi_df['b_phase']=='IV')]\n",
    "        multi_df = multi_df.sort_values(by='b_phase')\n",
    "\n",
    "        # phase boxplot\n",
    "        fig1, ax1 = plt.subplots()\n",
    "        sns.boxplot(x='b_phase', y=kri, data=multi_df, hue='group', showfliers=False)\n",
    "        plt.ylabel('Percentage')\n",
    "        plt.title(f'kri across phases', fontsize=16)\n",
    "        plt.legend(bbox_to_anchor=(1.05, 0.9))\n",
    "        fpath = f'/home/ajay.keshava/Downloads/Pd_Analysis/{row_num}_grouped_boxplot_w_japan.jpg'\n",
    "        fig1.tight_layout()\n",
    "        fig1.savefig(fpath)\n",
    "\n",
    "        # tukeys multiple comparisons\n",
    "        multi_df['group_phase'] = multi_df['group'] + '_' + multi_df['b_phase']\n",
    "\n",
    "        tukey = pairwise_tukeyhsd(endog=multi_df[kri].to_numpy(),\n",
    "                                groups=multi_df['group_phase'].tolist(),\n",
    "                                alpha=0.05)\n",
    "        fig2, ax2 = plt.subplots()\n",
    "        tukey.plot_simultaneous(ax=ax2);\n",
    "        plt.xlabel(f'{kri} [%]');\n",
    "        fig2.tight_layout()\n",
    "        fpath = f'/home/ajay.keshava/Downloads/Pd_Analysis/{row_num}_tukeys_w_japan.jpg'\n",
    "        print(tukey.summary())\n",
    "        \n",
    "        with open(f'/home/ajay.keshava/Downloads/Pd_Analysis/{row_num}_tukeys_w_japan.txt', 'w') as f:\n",
    "            f.write(str(tukey.summary()))\n",
    "\n",
    "    else:\n",
    "        # concatenate tables\n",
    "        multi_df = pd.concat([pxl[[kri, 'b_phase', 'group']],\n",
    "                            cmic[[kri,'b_phase','group']]])\n",
    "\n",
    "        # only cutting by phase I, II, III, and IV\n",
    "        multi_df = multi_df.loc[(multi_df['b_phase']=='I') | (multi_df['b_phase']=='II') | (multi_df['b_phase']=='III') | (multi_df['b_phase']=='IV')]\n",
    "        multi_df = multi_df.sort_values(by='b_phase')\n",
    "\n",
    "        # phase boxplot\n",
    "        fig1, ax1 = plt.subplots()\n",
    "        sns.boxplot(x='b_phase', y=kri, data=multi_df, hue='group', showfliers=False)\n",
    "        plt.ylabel('Percentage')\n",
    "        plt.title(f'kri across phases', fontsize=16)\n",
    "        plt.legend(bbox_to_anchor=(1.05, 0.9))\n",
    "        fpath = f'/home/ajay.keshava/Downloads/Pd_Analysis/{row_num}_grouped_boxplot_wo_japan.jpg'\n",
    "        fig1.tight_layout()\n",
    "        fig1.savefig(fpath)\n",
    "\n",
    "        # tukeys multiple comparisons\n",
    "        multi_df['group_phase'] = multi_df['group'] + '_' + multi_df['b_phase']\n",
    "\n",
    "        tukey = pairwise_tukeyhsd(endog=multi_df[kri].to_numpy(),\n",
    "                                groups=multi_df['group_phase'].tolist(),\n",
    "                                alpha=0.05)\n",
    "\n",
    "        fig2, ax2 = plt.subplots()\n",
    "        tukey.plot_simultaneous(ax=ax2);\n",
    "        plt.xlabel(f'{kri} [%]');\n",
    "        fig2.tight_layout()\n",
    "        fpath = f'/home/ajay.keshava/Downloads/Pd_Analysis/{row_num}_tukeys_wo_japan.jpg'\n",
    "        print(tukey.summary())\n",
    "\n",
    "        with open(f'/home/ajay.keshava/Downloads/Pd_Analysis/{row_num}_tukeys_wo_japan.txt', 'w') as f:\n",
    "            f.write(str(tukey.summary()))\n",
    "\n",
    "    return None\n",
    "\n",
    "\n",
    "def shift_index(gb):\n",
    "    idx = gb.index - pd.Timedelta(364, 'days')\n",
    "    gb = gb.set_index(idx)\n",
    "    return gb\n",
    "\n",
    "\n",
    "def time_linegraph(df, kri, sheet_name=None, writer=None):\n",
    "    # calculate median, 75 and 25 %tile and shift the index to start at the beginning of the cal year\n",
    "    df['start_of_work'] = pd.to_datetime(df['start_of_work'])\n",
    "\n",
    "    med = shift_index( df.groupby(pd.Grouper(key='start_of_work', freq='Y')).median() )[kri]\n",
    "    ub  = shift_index( df.groupby(pd.Grouper(key='start_of_work', freq='Y')).quantile(0.75) )[kri]\n",
    "    lb  = shift_index( df.groupby(pd.Grouper(key='start_of_work', freq='Y')).quantile(0.25) )[kri]\n",
    "\n",
    "    fig, ax = plt.subplots(figsize=(8,6))\n",
    "    ax.plot(med, label='Median')\n",
    "    x_axis = [x - pd.Timedelta(364, 'days') for x in med.index.tolist()]\n",
    "\n",
    "\n",
    "    ax.fill_between(med.index.tolist(), ub, lb, alpha=0.5, label='IQR')\n",
    "    ax.set_xlim([datetime.datetime(2010, 1, 1), datetime.datetime(2021, 1, 1)])\n",
    "    #ax.legend()\n",
    "    ax.set_ylabel(kri, color='tab:blue')\n",
    "    ax.set_xlabel('Start of Work Date')\n",
    "    ax.set_title('{} Over Time'.format(kri), fontsize=16)\n",
    "\n",
    "    fig.legend(bbox_to_anchor=(1.2, 0.9))\n",
    "\n",
    "    ax.grid(False)\n",
    "    #ax2.grid(False)\n",
    "\n",
    "    desc = df.groupby(pd.Grouper(key='start_of_work', freq='Y')).describe()\n",
    "    desc = desc.set_index(desc.index - pd.Timedelta(364, 'days'))\n",
    "\n",
    "    if (sheet_name is not None) & (writer is not None):\n",
    "        desc[kri].to_excel(writer, sheet_name=sheet_name)\n",
    "        fig.tight_layout()\n",
    "        file_name = f'/home/ajay.keshava/Downloads/Pd_Analysis/{sheet_name}.jpg'\n",
    "        fig.savefig(file_name)\n",
    "    \n",
    "    return desc[kri]"
   ]
  },
  {
   "cell_type": "markdown",
   "metadata": {},
   "source": [
    "## extracting to get pivoted data"
   ]
  },
  {
   "cell_type": "code",
   "execution_count": 326,
   "metadata": {
    "scrolled": true
   },
   "outputs": [
    {
     "data": {
      "text/plain": [
       "\"\\nsql =     \\n    with \\n\\n    cte_start as (\\n    select b.event_name,\\n            a.cmdm_study_id::int as cmdm_study_id, \\n            date(dim_date.calendar_dt) as actual_date\\n\\n    -- grab study level data\\n    from raw_data.facts_study_accum_activity a\\n\\n    -- merge on event codes\\n    inner join raw_data.dim_event_type b\\n    on a.cmdm_evt_typ_id = b.cmdm_evt_type_id\\n\\n    -- get the calendar date conversion\\n    inner join raw_data.dim_date dim_date\\n    on a.cmdm_actual_date_id = dim_date.cmdm_date_id\\n\\n    where b.cmdm_evt_type_id in (2, 132)\\n            and a.cmdm_actual_date_id > 1  \\n    ),\\n\\n    cte_pivot as (\\n    select *\\n    from cte_start\\n\\n    -- pivot to get one row per study\\n    pivot (min(actual_date) for event_name in ('Study Started', 'Study Closed at PAREXEL')) as p (cmdm_study_id, study_start, study_end)\\n    order by cmdm_study_id            \\n    ),\\n\\n    cte_start_end as (\\n    select *, (study_end - study_start)/30 as time_elapsed\\n    from cte_pivot\\n    ),\\n\\n    cte_fpi_lpi as (\\n    select  accum.cmdm_study_id::int as cmdm_study_id,\\n            date(min(dim_date.calendar_dt)) as FPI,\\n            date(max(dim_date.calendar_dt)) as LPI,\\n            (LPI - FPI)/30 as time_elapsed\\n\\n    from raw_data.facts_subject_lifecycle_accum accum\\n\\n    inner join raw_data.dim_date dim_date\\n    on accum.cmdm_randomized_date_id = dim_date.cmdm_date_id\\n\\n    where cmdm_randomized_date_id > 1 \\n    group by cmdm_study_id\\n    ), \\n\\n    cte_lpo as (\\n    select  accum.cmdm_study_id::int as cmdm_study_id,\\n            date(max(dim_date.calendar_dt)) as LPO\\n\\n    from raw_data.facts_subject_lifecycle_accum accum\\n\\n    inner join raw_data.dim_date dim_date\\n    on accum.cmdm_completed_date_id = dim_date.cmdm_date_id\\n\\n    where cmdm_completed_date_id > 1 \\n    group by cmdm_study_id\\n    )\\n\\n    select  a.cmdm_study_id,\\n            a.study_start,\\n            a.study_end,\\n            b.fpi,\\n            b.lpi,\\n            c.lpo\\n            \\n    from cte_start_end a\\n\\n    full outer join cte_fpi_lpi b\\n    on a.cmdm_study_id = b.cmdm_study_id\\n\\n    full outer join cte_lpo c\\n    on a.cmdm_study_id = c.cmdm_study_id\\n    ; \\n    \\n\\npxl_all_dates = pd.read_sql(sql, pxl)\\n\""
      ]
     },
     "execution_count": 326,
     "metadata": {},
     "output_type": "execute_result"
    }
   ],
   "source": [
    "'''\n",
    "sql = \\\n",
    "    \n",
    "    with \n",
    "\n",
    "    cte_start as (\n",
    "    select b.event_name,\n",
    "            a.cmdm_study_id::int as cmdm_study_id, \n",
    "            date(dim_date.calendar_dt) as actual_date\n",
    "\n",
    "    -- grab study level data\n",
    "    from raw_data.facts_study_accum_activity a\n",
    "\n",
    "    -- merge on event codes\n",
    "    inner join raw_data.dim_event_type b\n",
    "    on a.cmdm_evt_typ_id = b.cmdm_evt_type_id\n",
    "\n",
    "    -- get the calendar date conversion\n",
    "    inner join raw_data.dim_date dim_date\n",
    "    on a.cmdm_actual_date_id = dim_date.cmdm_date_id\n",
    "\n",
    "    where b.cmdm_evt_type_id in (2, 132)\n",
    "            and a.cmdm_actual_date_id > 1  \n",
    "    ),\n",
    "\n",
    "    cte_pivot as (\n",
    "    select *\n",
    "    from cte_start\n",
    "\n",
    "    -- pivot to get one row per study\n",
    "    pivot (min(actual_date) for event_name in ('Study Started', 'Study Closed at PAREXEL')) as p (cmdm_study_id, study_start, study_end)\n",
    "    order by cmdm_study_id            \n",
    "    ),\n",
    "\n",
    "    cte_start_end as (\n",
    "    select *, (study_end - study_start)/30 as time_elapsed\n",
    "    from cte_pivot\n",
    "    ),\n",
    "\n",
    "    cte_fpi_lpi as (\n",
    "    select  accum.cmdm_study_id::int as cmdm_study_id,\n",
    "            date(min(dim_date.calendar_dt)) as FPI,\n",
    "            date(max(dim_date.calendar_dt)) as LPI,\n",
    "            (LPI - FPI)/30 as time_elapsed\n",
    "\n",
    "    from raw_data.facts_subject_lifecycle_accum accum\n",
    "\n",
    "    inner join raw_data.dim_date dim_date\n",
    "    on accum.cmdm_randomized_date_id = dim_date.cmdm_date_id\n",
    "\n",
    "    where cmdm_randomized_date_id > 1 \n",
    "    group by cmdm_study_id\n",
    "    ), \n",
    "\n",
    "    cte_lpo as (\n",
    "    select  accum.cmdm_study_id::int as cmdm_study_id,\n",
    "            date(max(dim_date.calendar_dt)) as LPO\n",
    "\n",
    "    from raw_data.facts_subject_lifecycle_accum accum\n",
    "\n",
    "    inner join raw_data.dim_date dim_date\n",
    "    on accum.cmdm_completed_date_id = dim_date.cmdm_date_id\n",
    "\n",
    "    where cmdm_completed_date_id > 1 \n",
    "    group by cmdm_study_id\n",
    "    )\n",
    "\n",
    "    select  a.cmdm_study_id,\n",
    "            a.study_start,\n",
    "            a.study_end,\n",
    "            b.fpi,\n",
    "            b.lpi,\n",
    "            c.lpo\n",
    "            \n",
    "    from cte_start_end a\n",
    "\n",
    "    full outer join cte_fpi_lpi b\n",
    "    on a.cmdm_study_id = b.cmdm_study_id\n",
    "\n",
    "    full outer join cte_lpo c\n",
    "    on a.cmdm_study_id = c.cmdm_study_id\n",
    "    ; \n",
    "    \n",
    "\n",
    "pxl_all_dates = pd.read_sql(sql, pxl)\n",
    "'''"
   ]
  },
  {
   "cell_type": "code",
   "execution_count": 327,
   "metadata": {
    "scrolled": true
   },
   "outputs": [],
   "source": [
    "#pxl_all_dates.rename(columns={'study_start': 'start_of_work'}, inplace=True)\n",
    "#pxl_all_dates.head()"
   ]
  },
  {
   "cell_type": "code",
   "execution_count": 328,
   "metadata": {
    "scrolled": true
   },
   "outputs": [
    {
     "data": {
      "text/plain": [
       "cmdm_study_id    278\n",
       "start_of_work    263\n",
       "study_end        168\n",
       "fpi               80\n",
       "lpi               80\n",
       "lpo               43\n",
       "dtype: int64"
      ]
     },
     "execution_count": 328,
     "metadata": {},
     "output_type": "execute_result"
    }
   ],
   "source": [
    "pxl_all_dates.count()"
   ]
  },
  {
   "cell_type": "code",
   "execution_count": 329,
   "metadata": {},
   "outputs": [],
   "source": [
    "def add_start_date(df):\n",
    "    df['cmdm_study_id'] = df['cmdm_study_id'].astype(int)\n",
    "    m = df.merge(pxl_all_dates, how='left')\n",
    "    m = m.iloc[m['start_of_work'].dropna().index,:].reset_index(drop=True)\n",
    "\n",
    "    return m"
   ]
  },
  {
   "cell_type": "code",
   "execution_count": 330,
   "metadata": {},
   "outputs": [],
   "source": [
    "## Now lets segregate the data phase wise(ph1,ph2,ph3 and ph4),for both metrics(totalpd_by_sum_subdays and totalmajpd_by_totpd)\n",
    "## and for all 3 sources(Lokavant global,lokavant japan and CMIC)"
   ]
  },
  {
   "cell_type": "code",
   "execution_count": 331,
   "metadata": {},
   "outputs": [],
   "source": [
    "# 1.Lokavant global data with phases and metrics"
   ]
  },
  {
   "cell_type": "code",
   "execution_count": 332,
   "metadata": {
    "scrolled": false
   },
   "outputs": [
    {
     "data": {
      "text/html": [
       "<div>\n",
       "<style scoped>\n",
       "    .dataframe tbody tr th:only-of-type {\n",
       "        vertical-align: middle;\n",
       "    }\n",
       "\n",
       "    .dataframe tbody tr th {\n",
       "        vertical-align: top;\n",
       "    }\n",
       "\n",
       "    .dataframe thead th {\n",
       "        text-align: right;\n",
       "    }\n",
       "</style>\n",
       "<table border=\"1\" class=\"dataframe\">\n",
       "  <thead>\n",
       "    <tr style=\"text-align: right;\">\n",
       "      <th></th>\n",
       "      <th>cmdm_study_id</th>\n",
       "      <th>SUM(SUBJECT_DAYS)</th>\n",
       "      <th>total_pd</th>\n",
       "      <th>totalpd_by_sum_subdays</th>\n",
       "      <th>b_phase</th>\n",
       "      <th>crs_current_status</th>\n",
       "    </tr>\n",
       "  </thead>\n",
       "  <tbody>\n",
       "    <tr>\n",
       "      <th>0</th>\n",
       "      <td>32312</td>\n",
       "      <td>659782.0</td>\n",
       "      <td>5671</td>\n",
       "      <td>8.595263</td>\n",
       "      <td>III</td>\n",
       "      <td>Maintenance</td>\n",
       "    </tr>\n",
       "    <tr>\n",
       "      <th>1</th>\n",
       "      <td>46952</td>\n",
       "      <td>56344.0</td>\n",
       "      <td>1235</td>\n",
       "      <td>21.918927</td>\n",
       "      <td>II</td>\n",
       "      <td>Recruiting</td>\n",
       "    </tr>\n",
       "    <tr>\n",
       "      <th>2</th>\n",
       "      <td>3239</td>\n",
       "      <td>84717.0</td>\n",
       "      <td>256</td>\n",
       "      <td>3.021826</td>\n",
       "      <td>III</td>\n",
       "      <td>Completed</td>\n",
       "    </tr>\n",
       "    <tr>\n",
       "      <th>3</th>\n",
       "      <td>38352</td>\n",
       "      <td>84390.0</td>\n",
       "      <td>2867</td>\n",
       "      <td>33.973220</td>\n",
       "      <td>II</td>\n",
       "      <td>Recruiting</td>\n",
       "    </tr>\n",
       "    <tr>\n",
       "      <th>4</th>\n",
       "      <td>41332</td>\n",
       "      <td>3086.0</td>\n",
       "      <td>317</td>\n",
       "      <td>102.721970</td>\n",
       "      <td>II</td>\n",
       "      <td>Recruiting</td>\n",
       "    </tr>\n",
       "  </tbody>\n",
       "</table>\n",
       "</div>"
      ],
      "text/plain": [
       "   cmdm_study_id  SUM(SUBJECT_DAYS)  total_pd  totalpd_by_sum_subdays b_phase  \\\n",
       "0          32312           659782.0      5671                8.595263     III   \n",
       "1          46952            56344.0      1235               21.918927      II   \n",
       "2           3239            84717.0       256                3.021826     III   \n",
       "3          38352            84390.0      2867               33.973220      II   \n",
       "4          41332             3086.0       317              102.721970      II   \n",
       "\n",
       "  crs_current_status  \n",
       "0        Maintenance  \n",
       "1         Recruiting  \n",
       "2          Completed  \n",
       "3         Recruiting  \n",
       "4         Recruiting  "
      ]
     },
     "execution_count": 332,
     "metadata": {},
     "output_type": "execute_result"
    }
   ],
   "source": [
    "lok_glb_met_fin_pds.head()"
   ]
  },
  {
   "cell_type": "markdown",
   "metadata": {},
   "source": [
    "### 1. Lokavant global, total pd/subject days metric and phase 1"
   ]
  },
  {
   "cell_type": "code",
   "execution_count": 333,
   "metadata": {},
   "outputs": [],
   "source": [
    "##  lokavant global,metric -totalpd_by_sum_subdays and for phase1. -> \n",
    "##  lok_glb_met_fin_pds,totalpd_by_sum_subdays and phase1\n",
    "lok_glb_pds_ph1 =  lok_glb_met_fin_pds[lok_glb_met_fin_pds['b_phase']== 'I']"
   ]
  },
  {
   "cell_type": "code",
   "execution_count": 334,
   "metadata": {
    "scrolled": true
   },
   "outputs": [
    {
     "data": {
      "text/html": [
       "<div>\n",
       "<style scoped>\n",
       "    .dataframe tbody tr th:only-of-type {\n",
       "        vertical-align: middle;\n",
       "    }\n",
       "\n",
       "    .dataframe tbody tr th {\n",
       "        vertical-align: top;\n",
       "    }\n",
       "\n",
       "    .dataframe thead th {\n",
       "        text-align: right;\n",
       "    }\n",
       "</style>\n",
       "<table border=\"1\" class=\"dataframe\">\n",
       "  <thead>\n",
       "    <tr style=\"text-align: right;\">\n",
       "      <th></th>\n",
       "      <th>cmdm_study_id</th>\n",
       "      <th>SUM(SUBJECT_DAYS)</th>\n",
       "      <th>total_pd</th>\n",
       "      <th>totalpd_by_sum_subdays</th>\n",
       "      <th>b_phase</th>\n",
       "      <th>crs_current_status</th>\n",
       "    </tr>\n",
       "  </thead>\n",
       "  <tbody>\n",
       "    <tr>\n",
       "      <th>5</th>\n",
       "      <td>35792</td>\n",
       "      <td>2228.0</td>\n",
       "      <td>518</td>\n",
       "      <td>232.495512</td>\n",
       "      <td>I</td>\n",
       "      <td>Recruiting</td>\n",
       "    </tr>\n",
       "    <tr>\n",
       "      <th>24</th>\n",
       "      <td>38892</td>\n",
       "      <td>5689.0</td>\n",
       "      <td>1181</td>\n",
       "      <td>207.593602</td>\n",
       "      <td>I</td>\n",
       "      <td>Maintenance</td>\n",
       "    </tr>\n",
       "    <tr>\n",
       "      <th>27</th>\n",
       "      <td>38552</td>\n",
       "      <td>3032.0</td>\n",
       "      <td>3</td>\n",
       "      <td>0.989446</td>\n",
       "      <td>I</td>\n",
       "      <td>Completed</td>\n",
       "    </tr>\n",
       "    <tr>\n",
       "      <th>33</th>\n",
       "      <td>36472</td>\n",
       "      <td>9841.0</td>\n",
       "      <td>105</td>\n",
       "      <td>10.669647</td>\n",
       "      <td>I</td>\n",
       "      <td>Maintenance</td>\n",
       "    </tr>\n",
       "    <tr>\n",
       "      <th>48</th>\n",
       "      <td>42892</td>\n",
       "      <td>12840.0</td>\n",
       "      <td>37</td>\n",
       "      <td>2.881620</td>\n",
       "      <td>I</td>\n",
       "      <td>Recruiting</td>\n",
       "    </tr>\n",
       "  </tbody>\n",
       "</table>\n",
       "</div>"
      ],
      "text/plain": [
       "    cmdm_study_id  SUM(SUBJECT_DAYS)  total_pd  totalpd_by_sum_subdays  \\\n",
       "5           35792             2228.0       518              232.495512   \n",
       "24          38892             5689.0      1181              207.593602   \n",
       "27          38552             3032.0         3                0.989446   \n",
       "33          36472             9841.0       105               10.669647   \n",
       "48          42892            12840.0        37                2.881620   \n",
       "\n",
       "   b_phase crs_current_status  \n",
       "5        I         Recruiting  \n",
       "24       I        Maintenance  \n",
       "27       I          Completed  \n",
       "33       I        Maintenance  \n",
       "48       I         Recruiting  "
      ]
     },
     "execution_count": 334,
     "metadata": {},
     "output_type": "execute_result"
    }
   ],
   "source": [
    "lok_glb_pds_ph1.head()"
   ]
  },
  {
   "cell_type": "code",
   "execution_count": 335,
   "metadata": {
    "scrolled": false
   },
   "outputs": [
    {
     "data": {
      "text/plain": [
       "cmdm_study_id             7\n",
       "SUM(SUBJECT_DAYS)         7\n",
       "total_pd                  7\n",
       "totalpd_by_sum_subdays    7\n",
       "b_phase                   7\n",
       "crs_current_status        7\n",
       "dtype: int64"
      ]
     },
     "execution_count": 335,
     "metadata": {},
     "output_type": "execute_result"
    }
   ],
   "source": [
    "lok_glb_pds_ph1.count()"
   ]
  },
  {
   "cell_type": "markdown",
   "metadata": {},
   "source": [
    "### 2. Lokavant global, total pd/subject days metric and phase 2"
   ]
  },
  {
   "cell_type": "code",
   "execution_count": 336,
   "metadata": {},
   "outputs": [],
   "source": [
    "##  lokavant global,metric -totalpd_by_sum_subdays and for phase2. -> \n",
    "##  lok_glb_met_fin_pds,totalpd_by_sum_subdays and phase2\n",
    "lok_glb_pds_ph2 =  lok_glb_met_fin_pds[lok_glb_met_fin_pds['b_phase']== 'II']"
   ]
  },
  {
   "cell_type": "code",
   "execution_count": 337,
   "metadata": {
    "scrolled": true
   },
   "outputs": [
    {
     "data": {
      "text/html": [
       "<div>\n",
       "<style scoped>\n",
       "    .dataframe tbody tr th:only-of-type {\n",
       "        vertical-align: middle;\n",
       "    }\n",
       "\n",
       "    .dataframe tbody tr th {\n",
       "        vertical-align: top;\n",
       "    }\n",
       "\n",
       "    .dataframe thead th {\n",
       "        text-align: right;\n",
       "    }\n",
       "</style>\n",
       "<table border=\"1\" class=\"dataframe\">\n",
       "  <thead>\n",
       "    <tr style=\"text-align: right;\">\n",
       "      <th></th>\n",
       "      <th>cmdm_study_id</th>\n",
       "      <th>SUM(SUBJECT_DAYS)</th>\n",
       "      <th>total_pd</th>\n",
       "      <th>totalpd_by_sum_subdays</th>\n",
       "      <th>b_phase</th>\n",
       "      <th>crs_current_status</th>\n",
       "    </tr>\n",
       "  </thead>\n",
       "  <tbody>\n",
       "    <tr>\n",
       "      <th>1</th>\n",
       "      <td>46952</td>\n",
       "      <td>56344.0</td>\n",
       "      <td>1235</td>\n",
       "      <td>21.918927</td>\n",
       "      <td>II</td>\n",
       "      <td>Recruiting</td>\n",
       "    </tr>\n",
       "    <tr>\n",
       "      <th>3</th>\n",
       "      <td>38352</td>\n",
       "      <td>84390.0</td>\n",
       "      <td>2867</td>\n",
       "      <td>33.973220</td>\n",
       "      <td>II</td>\n",
       "      <td>Recruiting</td>\n",
       "    </tr>\n",
       "    <tr>\n",
       "      <th>4</th>\n",
       "      <td>41332</td>\n",
       "      <td>3086.0</td>\n",
       "      <td>317</td>\n",
       "      <td>102.721970</td>\n",
       "      <td>II</td>\n",
       "      <td>Recruiting</td>\n",
       "    </tr>\n",
       "    <tr>\n",
       "      <th>6</th>\n",
       "      <td>38612</td>\n",
       "      <td>264.0</td>\n",
       "      <td>6</td>\n",
       "      <td>22.727273</td>\n",
       "      <td>II</td>\n",
       "      <td>Closeout</td>\n",
       "    </tr>\n",
       "    <tr>\n",
       "      <th>7</th>\n",
       "      <td>3251</td>\n",
       "      <td>14004.0</td>\n",
       "      <td>237</td>\n",
       "      <td>16.923736</td>\n",
       "      <td>II</td>\n",
       "      <td>Closeout</td>\n",
       "    </tr>\n",
       "  </tbody>\n",
       "</table>\n",
       "</div>"
      ],
      "text/plain": [
       "   cmdm_study_id  SUM(SUBJECT_DAYS)  total_pd  totalpd_by_sum_subdays b_phase  \\\n",
       "1          46952            56344.0      1235               21.918927      II   \n",
       "3          38352            84390.0      2867               33.973220      II   \n",
       "4          41332             3086.0       317              102.721970      II   \n",
       "6          38612              264.0         6               22.727273      II   \n",
       "7           3251            14004.0       237               16.923736      II   \n",
       "\n",
       "  crs_current_status  \n",
       "1         Recruiting  \n",
       "3         Recruiting  \n",
       "4         Recruiting  \n",
       "6           Closeout  \n",
       "7           Closeout  "
      ]
     },
     "execution_count": 337,
     "metadata": {},
     "output_type": "execute_result"
    }
   ],
   "source": [
    "lok_glb_pds_ph2.head()"
   ]
  },
  {
   "cell_type": "code",
   "execution_count": 338,
   "metadata": {
    "scrolled": true
   },
   "outputs": [
    {
     "data": {
      "text/plain": [
       "cmdm_study_id             24\n",
       "SUM(SUBJECT_DAYS)         24\n",
       "total_pd                  24\n",
       "totalpd_by_sum_subdays    24\n",
       "b_phase                   24\n",
       "crs_current_status        24\n",
       "dtype: int64"
      ]
     },
     "execution_count": 338,
     "metadata": {},
     "output_type": "execute_result"
    }
   ],
   "source": [
    "lok_glb_pds_ph2.count()"
   ]
  },
  {
   "cell_type": "markdown",
   "metadata": {},
   "source": [
    "## 3. Lokavant global, total pd/subject days metric and phase 3"
   ]
  },
  {
   "cell_type": "code",
   "execution_count": 339,
   "metadata": {},
   "outputs": [],
   "source": [
    "##  lokavant global,metric -totalpd_by_sum_subdays and for phase 3. -> \n",
    "##  lok_glb_met_fin_pds,totalpd_by_sum_subdays and phase 3\n",
    "lok_glb_pds_ph3 =  lok_glb_met_fin_pds[lok_glb_met_fin_pds['b_phase']== 'III']"
   ]
  },
  {
   "cell_type": "code",
   "execution_count": 340,
   "metadata": {
    "scrolled": false
   },
   "outputs": [
    {
     "data": {
      "text/html": [
       "<div>\n",
       "<style scoped>\n",
       "    .dataframe tbody tr th:only-of-type {\n",
       "        vertical-align: middle;\n",
       "    }\n",
       "\n",
       "    .dataframe tbody tr th {\n",
       "        vertical-align: top;\n",
       "    }\n",
       "\n",
       "    .dataframe thead th {\n",
       "        text-align: right;\n",
       "    }\n",
       "</style>\n",
       "<table border=\"1\" class=\"dataframe\">\n",
       "  <thead>\n",
       "    <tr style=\"text-align: right;\">\n",
       "      <th></th>\n",
       "      <th>cmdm_study_id</th>\n",
       "      <th>SUM(SUBJECT_DAYS)</th>\n",
       "      <th>total_pd</th>\n",
       "      <th>totalpd_by_sum_subdays</th>\n",
       "      <th>b_phase</th>\n",
       "      <th>crs_current_status</th>\n",
       "    </tr>\n",
       "  </thead>\n",
       "  <tbody>\n",
       "    <tr>\n",
       "      <th>0</th>\n",
       "      <td>32312</td>\n",
       "      <td>659782.0</td>\n",
       "      <td>5671</td>\n",
       "      <td>8.595263</td>\n",
       "      <td>III</td>\n",
       "      <td>Maintenance</td>\n",
       "    </tr>\n",
       "    <tr>\n",
       "      <th>2</th>\n",
       "      <td>3239</td>\n",
       "      <td>84717.0</td>\n",
       "      <td>256</td>\n",
       "      <td>3.021826</td>\n",
       "      <td>III</td>\n",
       "      <td>Completed</td>\n",
       "    </tr>\n",
       "    <tr>\n",
       "      <th>8</th>\n",
       "      <td>29313</td>\n",
       "      <td>237310.0</td>\n",
       "      <td>1120</td>\n",
       "      <td>4.719565</td>\n",
       "      <td>III</td>\n",
       "      <td>Maintenance</td>\n",
       "    </tr>\n",
       "    <tr>\n",
       "      <th>10</th>\n",
       "      <td>39652</td>\n",
       "      <td>127056.0</td>\n",
       "      <td>556</td>\n",
       "      <td>4.376023</td>\n",
       "      <td>III</td>\n",
       "      <td>Recruiting</td>\n",
       "    </tr>\n",
       "    <tr>\n",
       "      <th>11</th>\n",
       "      <td>6272</td>\n",
       "      <td>8114.0</td>\n",
       "      <td>49</td>\n",
       "      <td>6.038945</td>\n",
       "      <td>III</td>\n",
       "      <td>Completed</td>\n",
       "    </tr>\n",
       "  </tbody>\n",
       "</table>\n",
       "</div>"
      ],
      "text/plain": [
       "    cmdm_study_id  SUM(SUBJECT_DAYS)  total_pd  totalpd_by_sum_subdays  \\\n",
       "0           32312           659782.0      5671                8.595263   \n",
       "2            3239            84717.0       256                3.021826   \n",
       "8           29313           237310.0      1120                4.719565   \n",
       "10          39652           127056.0       556                4.376023   \n",
       "11           6272             8114.0        49                6.038945   \n",
       "\n",
       "   b_phase crs_current_status  \n",
       "0      III        Maintenance  \n",
       "2      III          Completed  \n",
       "8      III        Maintenance  \n",
       "10     III         Recruiting  \n",
       "11     III          Completed  "
      ]
     },
     "execution_count": 340,
     "metadata": {},
     "output_type": "execute_result"
    }
   ],
   "source": [
    "lok_glb_pds_ph3.head()"
   ]
  },
  {
   "cell_type": "code",
   "execution_count": 341,
   "metadata": {
    "scrolled": true
   },
   "outputs": [
    {
     "data": {
      "text/plain": [
       "cmdm_study_id             47\n",
       "SUM(SUBJECT_DAYS)         47\n",
       "total_pd                  47\n",
       "totalpd_by_sum_subdays    47\n",
       "b_phase                   47\n",
       "crs_current_status        47\n",
       "dtype: int64"
      ]
     },
     "execution_count": 341,
     "metadata": {},
     "output_type": "execute_result"
    }
   ],
   "source": [
    "lok_glb_pds_ph3.count()"
   ]
  },
  {
   "cell_type": "markdown",
   "metadata": {},
   "source": [
    "### 4. Lokavant global, total pd/subject days metric and phase 4"
   ]
  },
  {
   "cell_type": "code",
   "execution_count": 342,
   "metadata": {},
   "outputs": [],
   "source": [
    "##  lokavant global,metric -totalpd_by_sum_subdays and for phase 4. -> \n",
    "##  lok_glb_met_fin_pds,totalpd_by_sum_subdays and phase 4\n",
    "lok_glb_pds_ph4 =  lok_glb_met_fin_pds[lok_glb_met_fin_pds['b_phase']== 'IV']"
   ]
  },
  {
   "cell_type": "code",
   "execution_count": 343,
   "metadata": {
    "scrolled": true
   },
   "outputs": [
    {
     "data": {
      "text/html": [
       "<div>\n",
       "<style scoped>\n",
       "    .dataframe tbody tr th:only-of-type {\n",
       "        vertical-align: middle;\n",
       "    }\n",
       "\n",
       "    .dataframe tbody tr th {\n",
       "        vertical-align: top;\n",
       "    }\n",
       "\n",
       "    .dataframe thead th {\n",
       "        text-align: right;\n",
       "    }\n",
       "</style>\n",
       "<table border=\"1\" class=\"dataframe\">\n",
       "  <thead>\n",
       "    <tr style=\"text-align: right;\">\n",
       "      <th></th>\n",
       "      <th>cmdm_study_id</th>\n",
       "      <th>SUM(SUBJECT_DAYS)</th>\n",
       "      <th>total_pd</th>\n",
       "      <th>totalpd_by_sum_subdays</th>\n",
       "      <th>b_phase</th>\n",
       "      <th>crs_current_status</th>\n",
       "    </tr>\n",
       "  </thead>\n",
       "  <tbody>\n",
       "    <tr>\n",
       "      <th>12</th>\n",
       "      <td>34992</td>\n",
       "      <td>5862.0</td>\n",
       "      <td>65</td>\n",
       "      <td>11.088366</td>\n",
       "      <td>IV</td>\n",
       "      <td>Recruiting</td>\n",
       "    </tr>\n",
       "    <tr>\n",
       "      <th>20</th>\n",
       "      <td>31133</td>\n",
       "      <td>103399.0</td>\n",
       "      <td>853</td>\n",
       "      <td>8.249596</td>\n",
       "      <td>IV</td>\n",
       "      <td>Completed</td>\n",
       "    </tr>\n",
       "    <tr>\n",
       "      <th>21</th>\n",
       "      <td>5332</td>\n",
       "      <td>264092.0</td>\n",
       "      <td>1923</td>\n",
       "      <td>7.281553</td>\n",
       "      <td>IV</td>\n",
       "      <td>Closeout</td>\n",
       "    </tr>\n",
       "    <tr>\n",
       "      <th>32</th>\n",
       "      <td>5</td>\n",
       "      <td>2479692.0</td>\n",
       "      <td>12954</td>\n",
       "      <td>5.224036</td>\n",
       "      <td>IV</td>\n",
       "      <td>Completed</td>\n",
       "    </tr>\n",
       "    <tr>\n",
       "      <th>35</th>\n",
       "      <td>31152</td>\n",
       "      <td>105402.0</td>\n",
       "      <td>531</td>\n",
       "      <td>5.037855</td>\n",
       "      <td>IV</td>\n",
       "      <td>Completed</td>\n",
       "    </tr>\n",
       "  </tbody>\n",
       "</table>\n",
       "</div>"
      ],
      "text/plain": [
       "    cmdm_study_id  SUM(SUBJECT_DAYS)  total_pd  totalpd_by_sum_subdays  \\\n",
       "12          34992             5862.0        65               11.088366   \n",
       "20          31133           103399.0       853                8.249596   \n",
       "21           5332           264092.0      1923                7.281553   \n",
       "32              5          2479692.0     12954                5.224036   \n",
       "35          31152           105402.0       531                5.037855   \n",
       "\n",
       "   b_phase crs_current_status  \n",
       "12      IV         Recruiting  \n",
       "20      IV          Completed  \n",
       "21      IV           Closeout  \n",
       "32      IV          Completed  \n",
       "35      IV          Completed  "
      ]
     },
     "execution_count": 343,
     "metadata": {},
     "output_type": "execute_result"
    }
   ],
   "source": [
    "lok_glb_pds_ph4.head()"
   ]
  },
  {
   "cell_type": "code",
   "execution_count": 344,
   "metadata": {
    "scrolled": false
   },
   "outputs": [
    {
     "data": {
      "text/plain": [
       "cmdm_study_id             7\n",
       "SUM(SUBJECT_DAYS)         7\n",
       "total_pd                  7\n",
       "totalpd_by_sum_subdays    7\n",
       "b_phase                   7\n",
       "crs_current_status        7\n",
       "dtype: int64"
      ]
     },
     "execution_count": 344,
     "metadata": {},
     "output_type": "execute_result"
    }
   ],
   "source": [
    "lok_glb_pds_ph4.count()"
   ]
  },
  {
   "cell_type": "markdown",
   "metadata": {},
   "source": [
    "### 5. Lokavant global, Major pd/Total pd metric and phase 1"
   ]
  },
  {
   "cell_type": "code",
   "execution_count": 345,
   "metadata": {},
   "outputs": [],
   "source": [
    "##  lokavant global,metric -lok_glb_met_fin_mtp and for phase 1 -> \n",
    "##  lok_glb_met_fin_mtp, totalmajpd_by_totpd and phase 1\n",
    "lok_glb_mtp_ph1  =  lok_glb_met_fin_mtp[lok_glb_met_fin_mtp['b_phase']== 'I']"
   ]
  },
  {
   "cell_type": "code",
   "execution_count": 346,
   "metadata": {
    "scrolled": true
   },
   "outputs": [
    {
     "data": {
      "text/html": [
       "<div>\n",
       "<style scoped>\n",
       "    .dataframe tbody tr th:only-of-type {\n",
       "        vertical-align: middle;\n",
       "    }\n",
       "\n",
       "    .dataframe tbody tr th {\n",
       "        vertical-align: top;\n",
       "    }\n",
       "\n",
       "    .dataframe thead th {\n",
       "        text-align: right;\n",
       "    }\n",
       "</style>\n",
       "<table border=\"1\" class=\"dataframe\">\n",
       "  <thead>\n",
       "    <tr style=\"text-align: right;\">\n",
       "      <th></th>\n",
       "      <th>cmdm_study_id</th>\n",
       "      <th>count_major_pd</th>\n",
       "      <th>total_pd</th>\n",
       "      <th>totalmajpd_by_totpd</th>\n",
       "      <th>b_phase</th>\n",
       "      <th>crs_current_status</th>\n",
       "    </tr>\n",
       "  </thead>\n",
       "  <tbody>\n",
       "    <tr>\n",
       "      <th>3</th>\n",
       "      <td>35792</td>\n",
       "      <td>116</td>\n",
       "      <td>518</td>\n",
       "      <td>223.938224</td>\n",
       "      <td>I</td>\n",
       "      <td>Recruiting</td>\n",
       "    </tr>\n",
       "    <tr>\n",
       "      <th>13</th>\n",
       "      <td>34172</td>\n",
       "      <td>22</td>\n",
       "      <td>769</td>\n",
       "      <td>28.608583</td>\n",
       "      <td>I</td>\n",
       "      <td>Recruiting</td>\n",
       "    </tr>\n",
       "    <tr>\n",
       "      <th>24</th>\n",
       "      <td>38892</td>\n",
       "      <td>26</td>\n",
       "      <td>1181</td>\n",
       "      <td>22.015241</td>\n",
       "      <td>I</td>\n",
       "      <td>Maintenance</td>\n",
       "    </tr>\n",
       "    <tr>\n",
       "      <th>25</th>\n",
       "      <td>40352</td>\n",
       "      <td>14</td>\n",
       "      <td>38</td>\n",
       "      <td>368.421053</td>\n",
       "      <td>I</td>\n",
       "      <td>Recruiting</td>\n",
       "    </tr>\n",
       "    <tr>\n",
       "      <th>32</th>\n",
       "      <td>34632</td>\n",
       "      <td>13</td>\n",
       "      <td>53</td>\n",
       "      <td>245.283019</td>\n",
       "      <td>I</td>\n",
       "      <td>Maintenance</td>\n",
       "    </tr>\n",
       "    <tr>\n",
       "      <th>41</th>\n",
       "      <td>41052</td>\n",
       "      <td>16</td>\n",
       "      <td>117</td>\n",
       "      <td>136.752137</td>\n",
       "      <td>I</td>\n",
       "      <td>Recruiting</td>\n",
       "    </tr>\n",
       "    <tr>\n",
       "      <th>42</th>\n",
       "      <td>42892</td>\n",
       "      <td>2</td>\n",
       "      <td>37</td>\n",
       "      <td>54.054054</td>\n",
       "      <td>I</td>\n",
       "      <td>Recruiting</td>\n",
       "    </tr>\n",
       "    <tr>\n",
       "      <th>59</th>\n",
       "      <td>34712</td>\n",
       "      <td>10</td>\n",
       "      <td>148</td>\n",
       "      <td>67.567568</td>\n",
       "      <td>I</td>\n",
       "      <td>Closeout</td>\n",
       "    </tr>\n",
       "  </tbody>\n",
       "</table>\n",
       "</div>"
      ],
      "text/plain": [
       "    cmdm_study_id  count_major_pd  total_pd  totalmajpd_by_totpd b_phase  \\\n",
       "3           35792             116       518           223.938224       I   \n",
       "13          34172              22       769            28.608583       I   \n",
       "24          38892              26      1181            22.015241       I   \n",
       "25          40352              14        38           368.421053       I   \n",
       "32          34632              13        53           245.283019       I   \n",
       "41          41052              16       117           136.752137       I   \n",
       "42          42892               2        37            54.054054       I   \n",
       "59          34712              10       148            67.567568       I   \n",
       "\n",
       "   crs_current_status  \n",
       "3          Recruiting  \n",
       "13         Recruiting  \n",
       "24        Maintenance  \n",
       "25         Recruiting  \n",
       "32        Maintenance  \n",
       "41         Recruiting  \n",
       "42         Recruiting  \n",
       "59           Closeout  "
      ]
     },
     "execution_count": 346,
     "metadata": {},
     "output_type": "execute_result"
    }
   ],
   "source": [
    "lok_glb_mtp_ph1.head(10)"
   ]
  },
  {
   "cell_type": "code",
   "execution_count": 347,
   "metadata": {
    "scrolled": true
   },
   "outputs": [
    {
     "data": {
      "text/html": [
       "<div>\n",
       "<style scoped>\n",
       "    .dataframe tbody tr th:only-of-type {\n",
       "        vertical-align: middle;\n",
       "    }\n",
       "\n",
       "    .dataframe tbody tr th {\n",
       "        vertical-align: top;\n",
       "    }\n",
       "\n",
       "    .dataframe thead th {\n",
       "        text-align: right;\n",
       "    }\n",
       "</style>\n",
       "<table border=\"1\" class=\"dataframe\">\n",
       "  <thead>\n",
       "    <tr style=\"text-align: right;\">\n",
       "      <th></th>\n",
       "      <th>cmdm_study_id</th>\n",
       "      <th>total_pd</th>\n",
       "      <th>total_majorpd</th>\n",
       "      <th>totalmajpd_by_totpd</th>\n",
       "      <th>b_phase</th>\n",
       "      <th>crs_current_status</th>\n",
       "      <th>start_of_work</th>\n",
       "      <th>study_end</th>\n",
       "      <th>fpi</th>\n",
       "      <th>lpi</th>\n",
       "      <th>lpo</th>\n",
       "    </tr>\n",
       "  </thead>\n",
       "  <tbody>\n",
       "    <tr>\n",
       "      <th>0</th>\n",
       "      <td>2472</td>\n",
       "      <td>45</td>\n",
       "      <td>6</td>\n",
       "      <td>133.333333</td>\n",
       "      <td>III</td>\n",
       "      <td>Completed</td>\n",
       "      <td>2014-11-24</td>\n",
       "      <td>2017-12-29</td>\n",
       "      <td>2015-11-17</td>\n",
       "      <td>2019-01-31</td>\n",
       "      <td>None</td>\n",
       "    </tr>\n",
       "    <tr>\n",
       "      <th>1</th>\n",
       "      <td>27272</td>\n",
       "      <td>39</td>\n",
       "      <td>11</td>\n",
       "      <td>282.051282</td>\n",
       "      <td>III</td>\n",
       "      <td>Recruiting</td>\n",
       "      <td>2016-09-01</td>\n",
       "      <td>None</td>\n",
       "      <td>2017-11-20</td>\n",
       "      <td>2021-09-27</td>\n",
       "      <td>2022-02-21</td>\n",
       "    </tr>\n",
       "    <tr>\n",
       "      <th>2</th>\n",
       "      <td>31112</td>\n",
       "      <td>14</td>\n",
       "      <td>1</td>\n",
       "      <td>71.428571</td>\n",
       "      <td>II</td>\n",
       "      <td>Completed</td>\n",
       "      <td>2015-07-15</td>\n",
       "      <td>2017-12-05</td>\n",
       "      <td>None</td>\n",
       "      <td>None</td>\n",
       "      <td>2016-10-03</td>\n",
       "    </tr>\n",
       "    <tr>\n",
       "      <th>3</th>\n",
       "      <td>3239</td>\n",
       "      <td>3</td>\n",
       "      <td>2</td>\n",
       "      <td>666.666667</td>\n",
       "      <td>III</td>\n",
       "      <td>Completed</td>\n",
       "      <td>2015-06-15</td>\n",
       "      <td>2020-10-30</td>\n",
       "      <td>2016-01-18</td>\n",
       "      <td>2016-11-29</td>\n",
       "      <td>2020-01-06</td>\n",
       "    </tr>\n",
       "    <tr>\n",
       "      <th>4</th>\n",
       "      <td>33672</td>\n",
       "      <td>52</td>\n",
       "      <td>8</td>\n",
       "      <td>153.846154</td>\n",
       "      <td>II</td>\n",
       "      <td>Completed</td>\n",
       "      <td>2018-03-01</td>\n",
       "      <td>2021-08-31</td>\n",
       "      <td>2019-01-24</td>\n",
       "      <td>2019-07-16</td>\n",
       "      <td>2019-09-23</td>\n",
       "    </tr>\n",
       "  </tbody>\n",
       "</table>\n",
       "</div>"
      ],
      "text/plain": [
       "   cmdm_study_id  total_pd  total_majorpd  totalmajpd_by_totpd b_phase  \\\n",
       "0           2472        45              6           133.333333     III   \n",
       "1          27272        39             11           282.051282     III   \n",
       "2          31112        14              1            71.428571      II   \n",
       "3           3239         3              2           666.666667     III   \n",
       "4          33672        52              8           153.846154      II   \n",
       "\n",
       "  crs_current_status start_of_work   study_end         fpi         lpi  \\\n",
       "0          Completed    2014-11-24  2017-12-29  2015-11-17  2019-01-31   \n",
       "1         Recruiting    2016-09-01        None  2017-11-20  2021-09-27   \n",
       "2          Completed    2015-07-15  2017-12-05        None        None   \n",
       "3          Completed    2015-06-15  2020-10-30  2016-01-18  2016-11-29   \n",
       "4          Completed    2018-03-01  2021-08-31  2019-01-24  2019-07-16   \n",
       "\n",
       "          lpo  \n",
       "0        None  \n",
       "1  2022-02-21  \n",
       "2  2016-10-03  \n",
       "3  2020-01-06  \n",
       "4  2019-09-23  "
      ]
     },
     "execution_count": 347,
     "metadata": {},
     "output_type": "execute_result"
    }
   ],
   "source": [
    "df.head()"
   ]
  },
  {
   "cell_type": "code",
   "execution_count": 348,
   "metadata": {
    "scrolled": false
   },
   "outputs": [
    {
     "data": {
      "text/plain": [
       "cmdm_study_id          8\n",
       "count_major_pd         8\n",
       "total_pd               8\n",
       "totalmajpd_by_totpd    8\n",
       "b_phase                8\n",
       "crs_current_status     8\n",
       "dtype: int64"
      ]
     },
     "execution_count": 348,
     "metadata": {},
     "output_type": "execute_result"
    }
   ],
   "source": [
    "lok_glb_mtp_ph1.count()"
   ]
  },
  {
   "cell_type": "markdown",
   "metadata": {},
   "source": [
    "### 6. Lokavant global, Major pd/Total pd metric and phase 2"
   ]
  },
  {
   "cell_type": "code",
   "execution_count": 349,
   "metadata": {},
   "outputs": [],
   "source": [
    "##  lokavant global,metric -lok_glb_met_fin_mtp and for phase 2. -> \n",
    "##  lok_glb_met_fin_mtp, totalmajpd_by_totpd and phase 2\n",
    "lok_glb_mtp_ph2  =  lok_glb_met_fin_mtp[lok_glb_met_fin_mtp['b_phase']== 'II']"
   ]
  },
  {
   "cell_type": "code",
   "execution_count": 350,
   "metadata": {
    "scrolled": true
   },
   "outputs": [
    {
     "data": {
      "text/html": [
       "<div>\n",
       "<style scoped>\n",
       "    .dataframe tbody tr th:only-of-type {\n",
       "        vertical-align: middle;\n",
       "    }\n",
       "\n",
       "    .dataframe tbody tr th {\n",
       "        vertical-align: top;\n",
       "    }\n",
       "\n",
       "    .dataframe thead th {\n",
       "        text-align: right;\n",
       "    }\n",
       "</style>\n",
       "<table border=\"1\" class=\"dataframe\">\n",
       "  <thead>\n",
       "    <tr style=\"text-align: right;\">\n",
       "      <th></th>\n",
       "      <th>cmdm_study_id</th>\n",
       "      <th>count_major_pd</th>\n",
       "      <th>total_pd</th>\n",
       "      <th>totalmajpd_by_totpd</th>\n",
       "      <th>b_phase</th>\n",
       "      <th>crs_current_status</th>\n",
       "    </tr>\n",
       "  </thead>\n",
       "  <tbody>\n",
       "    <tr>\n",
       "      <th>0</th>\n",
       "      <td>41332</td>\n",
       "      <td>5</td>\n",
       "      <td>317</td>\n",
       "      <td>15.772871</td>\n",
       "      <td>II</td>\n",
       "      <td>Recruiting</td>\n",
       "    </tr>\n",
       "    <tr>\n",
       "      <th>4</th>\n",
       "      <td>46952</td>\n",
       "      <td>113</td>\n",
       "      <td>1235</td>\n",
       "      <td>91.497976</td>\n",
       "      <td>II</td>\n",
       "      <td>Recruiting</td>\n",
       "    </tr>\n",
       "    <tr>\n",
       "      <th>5</th>\n",
       "      <td>38352</td>\n",
       "      <td>115</td>\n",
       "      <td>2867</td>\n",
       "      <td>40.111615</td>\n",
       "      <td>II</td>\n",
       "      <td>Recruiting</td>\n",
       "    </tr>\n",
       "    <tr>\n",
       "      <th>6</th>\n",
       "      <td>40413</td>\n",
       "      <td>82</td>\n",
       "      <td>458</td>\n",
       "      <td>179.039301</td>\n",
       "      <td>II</td>\n",
       "      <td>Closeout</td>\n",
       "    </tr>\n",
       "    <tr>\n",
       "      <th>8</th>\n",
       "      <td>3251</td>\n",
       "      <td>71</td>\n",
       "      <td>237</td>\n",
       "      <td>299.578059</td>\n",
       "      <td>II</td>\n",
       "      <td>Closeout</td>\n",
       "    </tr>\n",
       "  </tbody>\n",
       "</table>\n",
       "</div>"
      ],
      "text/plain": [
       "   cmdm_study_id  count_major_pd  total_pd  totalmajpd_by_totpd b_phase  \\\n",
       "0          41332               5       317            15.772871      II   \n",
       "4          46952             113      1235            91.497976      II   \n",
       "5          38352             115      2867            40.111615      II   \n",
       "6          40413              82       458           179.039301      II   \n",
       "8           3251              71       237           299.578059      II   \n",
       "\n",
       "  crs_current_status  \n",
       "0         Recruiting  \n",
       "4         Recruiting  \n",
       "5         Recruiting  \n",
       "6           Closeout  \n",
       "8           Closeout  "
      ]
     },
     "execution_count": 350,
     "metadata": {},
     "output_type": "execute_result"
    }
   ],
   "source": [
    "lok_glb_mtp_ph2.head()"
   ]
  },
  {
   "cell_type": "code",
   "execution_count": 351,
   "metadata": {},
   "outputs": [
    {
     "data": {
      "text/plain": [
       "cmdm_study_id          25\n",
       "count_major_pd         25\n",
       "total_pd               25\n",
       "totalmajpd_by_totpd    25\n",
       "b_phase                25\n",
       "crs_current_status     25\n",
       "dtype: int64"
      ]
     },
     "execution_count": 351,
     "metadata": {},
     "output_type": "execute_result"
    }
   ],
   "source": [
    "lok_glb_mtp_ph2.count()"
   ]
  },
  {
   "cell_type": "markdown",
   "metadata": {},
   "source": [
    "### 7. Lokavant global, Major pd/Total pd metric and phase 3"
   ]
  },
  {
   "cell_type": "code",
   "execution_count": 352,
   "metadata": {},
   "outputs": [],
   "source": [
    "##  lokavant global,metric -lok_glb_met_fin_mtp and for phase 3. -> \n",
    "##  lok_glb_met_fin_mtp, totalmajpd_by_totpd and phase 3\n",
    "lok_glb_mtp_ph3  =  lok_glb_met_fin_mtp[lok_glb_met_fin_mtp['b_phase']== 'III']"
   ]
  },
  {
   "cell_type": "code",
   "execution_count": 353,
   "metadata": {
    "scrolled": true
   },
   "outputs": [
    {
     "data": {
      "text/html": [
       "<div>\n",
       "<style scoped>\n",
       "    .dataframe tbody tr th:only-of-type {\n",
       "        vertical-align: middle;\n",
       "    }\n",
       "\n",
       "    .dataframe tbody tr th {\n",
       "        vertical-align: top;\n",
       "    }\n",
       "\n",
       "    .dataframe thead th {\n",
       "        text-align: right;\n",
       "    }\n",
       "</style>\n",
       "<table border=\"1\" class=\"dataframe\">\n",
       "  <thead>\n",
       "    <tr style=\"text-align: right;\">\n",
       "      <th></th>\n",
       "      <th>cmdm_study_id</th>\n",
       "      <th>count_major_pd</th>\n",
       "      <th>total_pd</th>\n",
       "      <th>totalmajpd_by_totpd</th>\n",
       "      <th>b_phase</th>\n",
       "      <th>crs_current_status</th>\n",
       "    </tr>\n",
       "  </thead>\n",
       "  <tbody>\n",
       "    <tr>\n",
       "      <th>1</th>\n",
       "      <td>32312</td>\n",
       "      <td>60</td>\n",
       "      <td>5671</td>\n",
       "      <td>10.580145</td>\n",
       "      <td>III</td>\n",
       "      <td>Maintenance</td>\n",
       "    </tr>\n",
       "    <tr>\n",
       "      <th>2</th>\n",
       "      <td>3239</td>\n",
       "      <td>31</td>\n",
       "      <td>256</td>\n",
       "      <td>121.093750</td>\n",
       "      <td>III</td>\n",
       "      <td>Completed</td>\n",
       "    </tr>\n",
       "    <tr>\n",
       "      <th>9</th>\n",
       "      <td>4242</td>\n",
       "      <td>181</td>\n",
       "      <td>1016</td>\n",
       "      <td>178.149606</td>\n",
       "      <td>III</td>\n",
       "      <td>Maintenance</td>\n",
       "    </tr>\n",
       "    <tr>\n",
       "      <th>10</th>\n",
       "      <td>39652</td>\n",
       "      <td>2</td>\n",
       "      <td>556</td>\n",
       "      <td>3.597122</td>\n",
       "      <td>III</td>\n",
       "      <td>Recruiting</td>\n",
       "    </tr>\n",
       "    <tr>\n",
       "      <th>12</th>\n",
       "      <td>3252</td>\n",
       "      <td>417</td>\n",
       "      <td>2083</td>\n",
       "      <td>200.192031</td>\n",
       "      <td>III</td>\n",
       "      <td>Recruiting</td>\n",
       "    </tr>\n",
       "  </tbody>\n",
       "</table>\n",
       "</div>"
      ],
      "text/plain": [
       "    cmdm_study_id  count_major_pd  total_pd  totalmajpd_by_totpd b_phase  \\\n",
       "1           32312              60      5671            10.580145     III   \n",
       "2            3239              31       256           121.093750     III   \n",
       "9            4242             181      1016           178.149606     III   \n",
       "10          39652               2       556             3.597122     III   \n",
       "12           3252             417      2083           200.192031     III   \n",
       "\n",
       "   crs_current_status  \n",
       "1         Maintenance  \n",
       "2           Completed  \n",
       "9         Maintenance  \n",
       "10         Recruiting  \n",
       "12         Recruiting  "
      ]
     },
     "execution_count": 353,
     "metadata": {},
     "output_type": "execute_result"
    }
   ],
   "source": [
    "lok_glb_mtp_ph3.head()"
   ]
  },
  {
   "cell_type": "code",
   "execution_count": 354,
   "metadata": {
    "scrolled": true
   },
   "outputs": [
    {
     "data": {
      "text/plain": [
       "cmdm_study_id          34\n",
       "count_major_pd         34\n",
       "total_pd               34\n",
       "totalmajpd_by_totpd    34\n",
       "b_phase                34\n",
       "crs_current_status     34\n",
       "dtype: int64"
      ]
     },
     "execution_count": 354,
     "metadata": {},
     "output_type": "execute_result"
    }
   ],
   "source": [
    "lok_glb_mtp_ph3.count()"
   ]
  },
  {
   "cell_type": "markdown",
   "metadata": {},
   "source": [
    "\n",
    "### 8. Lokavant global, Major pd/Total pd metric and phase 4"
   ]
  },
  {
   "cell_type": "code",
   "execution_count": 355,
   "metadata": {},
   "outputs": [],
   "source": [
    "##  lokavant global,metric -lok_glb_met_fin_mtp and for phase 4. -> \n",
    "##  lok_glb_met_fin_mtp, totalmajpd_by_totpd and phase 4\n",
    "lok_glb_mtp_ph4 =  lok_glb_met_fin_mtp[lok_glb_met_fin_mtp['b_phase']== 'IV']"
   ]
  },
  {
   "cell_type": "code",
   "execution_count": 356,
   "metadata": {
    "scrolled": false
   },
   "outputs": [
    {
     "data": {
      "text/html": [
       "<div>\n",
       "<style scoped>\n",
       "    .dataframe tbody tr th:only-of-type {\n",
       "        vertical-align: middle;\n",
       "    }\n",
       "\n",
       "    .dataframe tbody tr th {\n",
       "        vertical-align: top;\n",
       "    }\n",
       "\n",
       "    .dataframe thead th {\n",
       "        text-align: right;\n",
       "    }\n",
       "</style>\n",
       "<table border=\"1\" class=\"dataframe\">\n",
       "  <thead>\n",
       "    <tr style=\"text-align: right;\">\n",
       "      <th></th>\n",
       "      <th>cmdm_study_id</th>\n",
       "      <th>count_major_pd</th>\n",
       "      <th>total_pd</th>\n",
       "      <th>totalmajpd_by_totpd</th>\n",
       "      <th>b_phase</th>\n",
       "      <th>crs_current_status</th>\n",
       "    </tr>\n",
       "  </thead>\n",
       "  <tbody>\n",
       "    <tr>\n",
       "      <th>7</th>\n",
       "      <td>34992</td>\n",
       "      <td>5</td>\n",
       "      <td>65</td>\n",
       "      <td>76.923077</td>\n",
       "      <td>IV</td>\n",
       "      <td>Recruiting</td>\n",
       "    </tr>\n",
       "    <tr>\n",
       "      <th>20</th>\n",
       "      <td>5332</td>\n",
       "      <td>419</td>\n",
       "      <td>1923</td>\n",
       "      <td>217.888716</td>\n",
       "      <td>IV</td>\n",
       "      <td>Closeout</td>\n",
       "    </tr>\n",
       "    <tr>\n",
       "      <th>23</th>\n",
       "      <td>31133</td>\n",
       "      <td>411</td>\n",
       "      <td>853</td>\n",
       "      <td>481.828839</td>\n",
       "      <td>IV</td>\n",
       "      <td>Completed</td>\n",
       "    </tr>\n",
       "    <tr>\n",
       "      <th>33</th>\n",
       "      <td>31152</td>\n",
       "      <td>202</td>\n",
       "      <td>531</td>\n",
       "      <td>380.414313</td>\n",
       "      <td>IV</td>\n",
       "      <td>Completed</td>\n",
       "    </tr>\n",
       "    <tr>\n",
       "      <th>69</th>\n",
       "      <td>31132</td>\n",
       "      <td>286</td>\n",
       "      <td>768</td>\n",
       "      <td>372.395833</td>\n",
       "      <td>IV</td>\n",
       "      <td>Completed</td>\n",
       "    </tr>\n",
       "  </tbody>\n",
       "</table>\n",
       "</div>"
      ],
      "text/plain": [
       "    cmdm_study_id  count_major_pd  total_pd  totalmajpd_by_totpd b_phase  \\\n",
       "7           34992               5        65            76.923077      IV   \n",
       "20           5332             419      1923           217.888716      IV   \n",
       "23          31133             411       853           481.828839      IV   \n",
       "33          31152             202       531           380.414313      IV   \n",
       "69          31132             286       768           372.395833      IV   \n",
       "\n",
       "   crs_current_status  \n",
       "7          Recruiting  \n",
       "20           Closeout  \n",
       "23          Completed  \n",
       "33          Completed  \n",
       "69          Completed  "
      ]
     },
     "execution_count": 356,
     "metadata": {},
     "output_type": "execute_result"
    }
   ],
   "source": [
    "lok_glb_mtp_ph4.head()"
   ]
  },
  {
   "cell_type": "code",
   "execution_count": 357,
   "metadata": {
    "scrolled": true
   },
   "outputs": [
    {
     "data": {
      "text/plain": [
       "cmdm_study_id          5\n",
       "count_major_pd         5\n",
       "total_pd               5\n",
       "totalmajpd_by_totpd    5\n",
       "b_phase                5\n",
       "crs_current_status     5\n",
       "dtype: int64"
      ]
     },
     "execution_count": 357,
     "metadata": {},
     "output_type": "execute_result"
    }
   ],
   "source": [
    "lok_glb_mtp_ph4.count()"
   ]
  },
  {
   "cell_type": "markdown",
   "metadata": {},
   "source": [
    "### 9. Lokavant Japan, Major pd/Total pd metric and phase 1"
   ]
  },
  {
   "cell_type": "code",
   "execution_count": 358,
   "metadata": {},
   "outputs": [],
   "source": [
    "##  lokavant Japan,metric -lok_jp_met_fin_pds  and for phase 1 -> \n",
    "##  lok_jp_met_fin_pds,  totalpd_by_sum_subdays and phase 1\n",
    "lok_jpn_pds_ph1 =  lok_jp_met_fin_pds[lok_jp_met_fin_pds['b_phase']== 'I']"
   ]
  },
  {
   "cell_type": "code",
   "execution_count": 359,
   "metadata": {
    "scrolled": true
   },
   "outputs": [
    {
     "data": {
      "text/html": [
       "<div>\n",
       "<style scoped>\n",
       "    .dataframe tbody tr th:only-of-type {\n",
       "        vertical-align: middle;\n",
       "    }\n",
       "\n",
       "    .dataframe tbody tr th {\n",
       "        vertical-align: top;\n",
       "    }\n",
       "\n",
       "    .dataframe thead th {\n",
       "        text-align: right;\n",
       "    }\n",
       "</style>\n",
       "<table border=\"1\" class=\"dataframe\">\n",
       "  <thead>\n",
       "    <tr style=\"text-align: right;\">\n",
       "      <th></th>\n",
       "      <th>cmdm_study_id</th>\n",
       "      <th>total_pd</th>\n",
       "      <th>total_subdays</th>\n",
       "      <th>totalpd_by_sum_subdays</th>\n",
       "      <th>b_phase</th>\n",
       "      <th>crs_current_status</th>\n",
       "    </tr>\n",
       "  </thead>\n",
       "  <tbody>\n",
       "    <tr>\n",
       "      <th>24</th>\n",
       "      <td>38552</td>\n",
       "      <td>3</td>\n",
       "      <td>3032.0</td>\n",
       "      <td>0.989446</td>\n",
       "      <td>I</td>\n",
       "      <td>Completed</td>\n",
       "    </tr>\n",
       "  </tbody>\n",
       "</table>\n",
       "</div>"
      ],
      "text/plain": [
       "    cmdm_study_id  total_pd  total_subdays  totalpd_by_sum_subdays b_phase  \\\n",
       "24          38552         3         3032.0                0.989446       I   \n",
       "\n",
       "   crs_current_status  \n",
       "24          Completed  "
      ]
     },
     "execution_count": 359,
     "metadata": {},
     "output_type": "execute_result"
    }
   ],
   "source": [
    "lok_jpn_pds_ph1.head()"
   ]
  },
  {
   "cell_type": "code",
   "execution_count": 360,
   "metadata": {
    "scrolled": false
   },
   "outputs": [
    {
     "data": {
      "text/plain": [
       "cmdm_study_id             1\n",
       "total_pd                  1\n",
       "total_subdays             1\n",
       "totalpd_by_sum_subdays    1\n",
       "b_phase                   1\n",
       "crs_current_status        1\n",
       "dtype: int64"
      ]
     },
     "execution_count": 360,
     "metadata": {},
     "output_type": "execute_result"
    }
   ],
   "source": [
    "lok_jpn_pds_ph1.count()"
   ]
  },
  {
   "cell_type": "markdown",
   "metadata": {},
   "source": [
    "### 10. Lokavant Japan, Major pd/Total pd metric and phase 2"
   ]
  },
  {
   "cell_type": "code",
   "execution_count": 361,
   "metadata": {},
   "outputs": [],
   "source": [
    "##  lokavant Japan,metric -lok_jp_met_fin_pds  and for phase 2 -> \n",
    "##  lok_jp_met_fin_pds,  totalpd_by_sum_subdays and phase 2\n",
    "lok_jpn_pds_ph2 =  lok_jp_met_fin_pds[lok_jp_met_fin_pds['b_phase']== 'II']"
   ]
  },
  {
   "cell_type": "code",
   "execution_count": 362,
   "metadata": {
    "scrolled": false
   },
   "outputs": [
    {
     "data": {
      "text/html": [
       "<div>\n",
       "<style scoped>\n",
       "    .dataframe tbody tr th:only-of-type {\n",
       "        vertical-align: middle;\n",
       "    }\n",
       "\n",
       "    .dataframe tbody tr th {\n",
       "        vertical-align: top;\n",
       "    }\n",
       "\n",
       "    .dataframe thead th {\n",
       "        text-align: right;\n",
       "    }\n",
       "</style>\n",
       "<table border=\"1\" class=\"dataframe\">\n",
       "  <thead>\n",
       "    <tr style=\"text-align: right;\">\n",
       "      <th></th>\n",
       "      <th>cmdm_study_id</th>\n",
       "      <th>total_pd</th>\n",
       "      <th>total_subdays</th>\n",
       "      <th>totalpd_by_sum_subdays</th>\n",
       "      <th>b_phase</th>\n",
       "      <th>crs_current_status</th>\n",
       "    </tr>\n",
       "  </thead>\n",
       "  <tbody>\n",
       "    <tr>\n",
       "      <th>8</th>\n",
       "      <td>31112</td>\n",
       "      <td>14</td>\n",
       "      <td>3968.0</td>\n",
       "      <td>3.528226</td>\n",
       "      <td>II</td>\n",
       "      <td>Completed</td>\n",
       "    </tr>\n",
       "    <tr>\n",
       "      <th>15</th>\n",
       "      <td>33672</td>\n",
       "      <td>52</td>\n",
       "      <td>8727.0</td>\n",
       "      <td>5.958520</td>\n",
       "      <td>II</td>\n",
       "      <td>Completed</td>\n",
       "    </tr>\n",
       "    <tr>\n",
       "      <th>30</th>\n",
       "      <td>46952</td>\n",
       "      <td>114</td>\n",
       "      <td>16786.0</td>\n",
       "      <td>6.791374</td>\n",
       "      <td>II</td>\n",
       "      <td>Recruiting</td>\n",
       "    </tr>\n",
       "    <tr>\n",
       "      <th>31</th>\n",
       "      <td>4713</td>\n",
       "      <td>43</td>\n",
       "      <td>5499.0</td>\n",
       "      <td>7.819604</td>\n",
       "      <td>II</td>\n",
       "      <td>Completed</td>\n",
       "    </tr>\n",
       "  </tbody>\n",
       "</table>\n",
       "</div>"
      ],
      "text/plain": [
       "    cmdm_study_id  total_pd  total_subdays  totalpd_by_sum_subdays b_phase  \\\n",
       "8           31112        14         3968.0                3.528226      II   \n",
       "15          33672        52         8727.0                5.958520      II   \n",
       "30          46952       114        16786.0                6.791374      II   \n",
       "31           4713        43         5499.0                7.819604      II   \n",
       "\n",
       "   crs_current_status  \n",
       "8           Completed  \n",
       "15          Completed  \n",
       "30         Recruiting  \n",
       "31          Completed  "
      ]
     },
     "execution_count": 362,
     "metadata": {},
     "output_type": "execute_result"
    }
   ],
   "source": [
    "lok_jpn_pds_ph2.head()"
   ]
  },
  {
   "cell_type": "code",
   "execution_count": 363,
   "metadata": {
    "scrolled": false
   },
   "outputs": [
    {
     "data": {
      "text/plain": [
       "cmdm_study_id             4\n",
       "total_pd                  4\n",
       "total_subdays             4\n",
       "totalpd_by_sum_subdays    4\n",
       "b_phase                   4\n",
       "crs_current_status        4\n",
       "dtype: int64"
      ]
     },
     "execution_count": 363,
     "metadata": {},
     "output_type": "execute_result"
    }
   ],
   "source": [
    "lok_jpn_pds_ph2.count()"
   ]
  },
  {
   "cell_type": "markdown",
   "metadata": {},
   "source": [
    "### 11. Lokavant Japan, totalpd_by_sum_subdays metric and phase 3"
   ]
  },
  {
   "cell_type": "code",
   "execution_count": 364,
   "metadata": {},
   "outputs": [],
   "source": [
    "##  lokavant Japan,metric -lok_jp_met_fin_pds  and for phase 3 -> \n",
    "##  lok_jp_met_fin_pds,  totalpd_by_sum_subdays and phase 3\n",
    "lok_jpn_pds_ph3 =  lok_jp_met_fin_pds[lok_jp_met_fin_pds['b_phase']== 'III']"
   ]
  },
  {
   "cell_type": "code",
   "execution_count": 365,
   "metadata": {},
   "outputs": [
    {
     "data": {
      "text/html": [
       "<div>\n",
       "<style scoped>\n",
       "    .dataframe tbody tr th:only-of-type {\n",
       "        vertical-align: middle;\n",
       "    }\n",
       "\n",
       "    .dataframe tbody tr th {\n",
       "        vertical-align: top;\n",
       "    }\n",
       "\n",
       "    .dataframe thead th {\n",
       "        text-align: right;\n",
       "    }\n",
       "</style>\n",
       "<table border=\"1\" class=\"dataframe\">\n",
       "  <thead>\n",
       "    <tr style=\"text-align: right;\">\n",
       "      <th></th>\n",
       "      <th>cmdm_study_id</th>\n",
       "      <th>total_pd</th>\n",
       "      <th>total_subdays</th>\n",
       "      <th>totalpd_by_sum_subdays</th>\n",
       "      <th>b_phase</th>\n",
       "      <th>crs_current_status</th>\n",
       "    </tr>\n",
       "  </thead>\n",
       "  <tbody>\n",
       "    <tr>\n",
       "      <th>0</th>\n",
       "      <td>2472</td>\n",
       "      <td>45</td>\n",
       "      <td>65013.0</td>\n",
       "      <td>0.692169</td>\n",
       "      <td>III</td>\n",
       "      <td>Completed</td>\n",
       "    </tr>\n",
       "    <tr>\n",
       "      <th>1</th>\n",
       "      <td>25465</td>\n",
       "      <td>92</td>\n",
       "      <td>63465.0</td>\n",
       "      <td>1.449618</td>\n",
       "      <td>III</td>\n",
       "      <td>Recruiting</td>\n",
       "    </tr>\n",
       "    <tr>\n",
       "      <th>2</th>\n",
       "      <td>27272</td>\n",
       "      <td>39</td>\n",
       "      <td>8140.0</td>\n",
       "      <td>4.791155</td>\n",
       "      <td>III</td>\n",
       "      <td>Recruiting</td>\n",
       "    </tr>\n",
       "    <tr>\n",
       "      <th>3</th>\n",
       "      <td>28312</td>\n",
       "      <td>110</td>\n",
       "      <td>16170.0</td>\n",
       "      <td>6.802721</td>\n",
       "      <td>III</td>\n",
       "      <td>Maintenance</td>\n",
       "    </tr>\n",
       "    <tr>\n",
       "      <th>4</th>\n",
       "      <td>28372</td>\n",
       "      <td>76</td>\n",
       "      <td>40617.0</td>\n",
       "      <td>1.871138</td>\n",
       "      <td>III</td>\n",
       "      <td>Completed</td>\n",
       "    </tr>\n",
       "  </tbody>\n",
       "</table>\n",
       "</div>"
      ],
      "text/plain": [
       "   cmdm_study_id  total_pd  total_subdays  totalpd_by_sum_subdays b_phase  \\\n",
       "0           2472        45        65013.0                0.692169     III   \n",
       "1          25465        92        63465.0                1.449618     III   \n",
       "2          27272        39         8140.0                4.791155     III   \n",
       "3          28312       110        16170.0                6.802721     III   \n",
       "4          28372        76        40617.0                1.871138     III   \n",
       "\n",
       "  crs_current_status  \n",
       "0          Completed  \n",
       "1         Recruiting  \n",
       "2         Recruiting  \n",
       "3        Maintenance  \n",
       "4          Completed  "
      ]
     },
     "execution_count": 365,
     "metadata": {},
     "output_type": "execute_result"
    }
   ],
   "source": [
    "lok_jpn_pds_ph3.head()"
   ]
  },
  {
   "cell_type": "code",
   "execution_count": 366,
   "metadata": {
    "scrolled": true
   },
   "outputs": [
    {
     "data": {
      "text/plain": [
       "cmdm_study_id             28\n",
       "total_pd                  28\n",
       "total_subdays             28\n",
       "totalpd_by_sum_subdays    28\n",
       "b_phase                   28\n",
       "crs_current_status        28\n",
       "dtype: int64"
      ]
     },
     "execution_count": 366,
     "metadata": {},
     "output_type": "execute_result"
    }
   ],
   "source": [
    "lok_jpn_pds_ph3.count()"
   ]
  },
  {
   "cell_type": "markdown",
   "metadata": {},
   "source": [
    "### 12. Lokavant Japan, totalpd_by_sum_subdays metric and phase 4"
   ]
  },
  {
   "cell_type": "code",
   "execution_count": 367,
   "metadata": {},
   "outputs": [],
   "source": [
    "##  lokavant Japan,metric -lok_jp_met_fin_pds  and for phase 4 -> \n",
    "##  lok_jp_met_fin_pds,  totalpd_by_sum_subdays and phase 4\n",
    "lok_jpn_pds_ph4 =  lok_jp_met_fin_pds[lok_jp_met_fin_pds['b_phase']== 'IV']"
   ]
  },
  {
   "cell_type": "code",
   "execution_count": 368,
   "metadata": {
    "scrolled": true
   },
   "outputs": [
    {
     "data": {
      "text/html": [
       "<div>\n",
       "<style scoped>\n",
       "    .dataframe tbody tr th:only-of-type {\n",
       "        vertical-align: middle;\n",
       "    }\n",
       "\n",
       "    .dataframe tbody tr th {\n",
       "        vertical-align: top;\n",
       "    }\n",
       "\n",
       "    .dataframe thead th {\n",
       "        text-align: right;\n",
       "    }\n",
       "</style>\n",
       "<table border=\"1\" class=\"dataframe\">\n",
       "  <thead>\n",
       "    <tr style=\"text-align: right;\">\n",
       "      <th></th>\n",
       "      <th>cmdm_study_id</th>\n",
       "      <th>total_pd</th>\n",
       "      <th>total_subdays</th>\n",
       "      <th>totalpd_by_sum_subdays</th>\n",
       "      <th>b_phase</th>\n",
       "      <th>crs_current_status</th>\n",
       "    </tr>\n",
       "  </thead>\n",
       "  <tbody>\n",
       "  </tbody>\n",
       "</table>\n",
       "</div>"
      ],
      "text/plain": [
       "Empty DataFrame\n",
       "Columns: [cmdm_study_id, total_pd, total_subdays, totalpd_by_sum_subdays, b_phase, crs_current_status]\n",
       "Index: []"
      ]
     },
     "execution_count": 368,
     "metadata": {},
     "output_type": "execute_result"
    }
   ],
   "source": [
    "lok_jpn_pds_ph4.head()"
   ]
  },
  {
   "cell_type": "code",
   "execution_count": 369,
   "metadata": {},
   "outputs": [],
   "source": [
    "## There is no data for phase 4"
   ]
  },
  {
   "cell_type": "markdown",
   "metadata": {},
   "source": [
    "### 13. Lokavant Japan, totalmajpd_by_totpd metric and phase 1"
   ]
  },
  {
   "cell_type": "code",
   "execution_count": 370,
   "metadata": {},
   "outputs": [],
   "source": [
    "##  lokavant Japan,metric -lok_jp_met_fin_mtp  and for phase 1 -> \n",
    "##  lok_jp_met_fin_mtp,  totalmajpd_by_totpd and phase 1\n",
    "lok_jpn_mtp_ph1 =  lok_jp_met_fin_mtp[lok_jp_met_fin_mtp['b_phase']== 'I']"
   ]
  },
  {
   "cell_type": "code",
   "execution_count": 371,
   "metadata": {},
   "outputs": [
    {
     "data": {
      "text/html": [
       "<div>\n",
       "<style scoped>\n",
       "    .dataframe tbody tr th:only-of-type {\n",
       "        vertical-align: middle;\n",
       "    }\n",
       "\n",
       "    .dataframe tbody tr th {\n",
       "        vertical-align: top;\n",
       "    }\n",
       "\n",
       "    .dataframe thead th {\n",
       "        text-align: right;\n",
       "    }\n",
       "</style>\n",
       "<table border=\"1\" class=\"dataframe\">\n",
       "  <thead>\n",
       "    <tr style=\"text-align: right;\">\n",
       "      <th></th>\n",
       "      <th>cmdm_study_id</th>\n",
       "      <th>total_pd</th>\n",
       "      <th>total_majorpd</th>\n",
       "      <th>totalmajpd_by_totpd</th>\n",
       "      <th>b_phase</th>\n",
       "      <th>crs_current_status</th>\n",
       "    </tr>\n",
       "  </thead>\n",
       "  <tbody>\n",
       "  </tbody>\n",
       "</table>\n",
       "</div>"
      ],
      "text/plain": [
       "Empty DataFrame\n",
       "Columns: [cmdm_study_id, total_pd, total_majorpd, totalmajpd_by_totpd, b_phase, crs_current_status]\n",
       "Index: []"
      ]
     },
     "execution_count": 371,
     "metadata": {},
     "output_type": "execute_result"
    }
   ],
   "source": [
    "lok_jpn_mtp_ph1 .head()"
   ]
  },
  {
   "cell_type": "code",
   "execution_count": 372,
   "metadata": {},
   "outputs": [],
   "source": [
    "## There is no data for phase 1"
   ]
  },
  {
   "cell_type": "markdown",
   "metadata": {},
   "source": [
    "### 14. Lokavant Japan, totalmajpd_by_totpd metric and phase 2"
   ]
  },
  {
   "cell_type": "code",
   "execution_count": 373,
   "metadata": {},
   "outputs": [],
   "source": [
    "##  lokavant Japan,metric -lok_jp_met_fin_mtp  and for phase 2 -> \n",
    "##  lok_jp_met_fin_mtp,  totalmajpd_by_totpd and phase 2\n",
    "lok_jpn_mtp_ph2 =  lok_jp_met_fin_mtp[lok_jp_met_fin_mtp['b_phase']== 'II']"
   ]
  },
  {
   "cell_type": "code",
   "execution_count": 374,
   "metadata": {
    "scrolled": false
   },
   "outputs": [
    {
     "data": {
      "text/html": [
       "<div>\n",
       "<style scoped>\n",
       "    .dataframe tbody tr th:only-of-type {\n",
       "        vertical-align: middle;\n",
       "    }\n",
       "\n",
       "    .dataframe tbody tr th {\n",
       "        vertical-align: top;\n",
       "    }\n",
       "\n",
       "    .dataframe thead th {\n",
       "        text-align: right;\n",
       "    }\n",
       "</style>\n",
       "<table border=\"1\" class=\"dataframe\">\n",
       "  <thead>\n",
       "    <tr style=\"text-align: right;\">\n",
       "      <th></th>\n",
       "      <th>cmdm_study_id</th>\n",
       "      <th>total_pd</th>\n",
       "      <th>total_majorpd</th>\n",
       "      <th>totalmajpd_by_totpd</th>\n",
       "      <th>b_phase</th>\n",
       "      <th>crs_current_status</th>\n",
       "    </tr>\n",
       "  </thead>\n",
       "  <tbody>\n",
       "    <tr>\n",
       "      <th>2</th>\n",
       "      <td>31112</td>\n",
       "      <td>14</td>\n",
       "      <td>1</td>\n",
       "      <td>71.428571</td>\n",
       "      <td>II</td>\n",
       "      <td>Completed</td>\n",
       "    </tr>\n",
       "    <tr>\n",
       "      <th>6</th>\n",
       "      <td>33672</td>\n",
       "      <td>52</td>\n",
       "      <td>8</td>\n",
       "      <td>153.846154</td>\n",
       "      <td>II</td>\n",
       "      <td>Completed</td>\n",
       "    </tr>\n",
       "    <tr>\n",
       "      <th>17</th>\n",
       "      <td>46952</td>\n",
       "      <td>114</td>\n",
       "      <td>5</td>\n",
       "      <td>43.859649</td>\n",
       "      <td>II</td>\n",
       "      <td>Recruiting</td>\n",
       "    </tr>\n",
       "    <tr>\n",
       "      <th>18</th>\n",
       "      <td>4713</td>\n",
       "      <td>43</td>\n",
       "      <td>7</td>\n",
       "      <td>162.790698</td>\n",
       "      <td>II</td>\n",
       "      <td>Completed</td>\n",
       "    </tr>\n",
       "  </tbody>\n",
       "</table>\n",
       "</div>"
      ],
      "text/plain": [
       "    cmdm_study_id  total_pd  total_majorpd  totalmajpd_by_totpd b_phase  \\\n",
       "2           31112        14              1            71.428571      II   \n",
       "6           33672        52              8           153.846154      II   \n",
       "17          46952       114              5            43.859649      II   \n",
       "18           4713        43              7           162.790698      II   \n",
       "\n",
       "   crs_current_status  \n",
       "2           Completed  \n",
       "6           Completed  \n",
       "17         Recruiting  \n",
       "18          Completed  "
      ]
     },
     "execution_count": 374,
     "metadata": {},
     "output_type": "execute_result"
    }
   ],
   "source": [
    "lok_jpn_mtp_ph2.head()"
   ]
  },
  {
   "cell_type": "code",
   "execution_count": 375,
   "metadata": {
    "scrolled": true
   },
   "outputs": [
    {
     "data": {
      "text/plain": [
       "cmdm_study_id          4\n",
       "total_pd               4\n",
       "total_majorpd          4\n",
       "totalmajpd_by_totpd    4\n",
       "b_phase                4\n",
       "crs_current_status     4\n",
       "dtype: int64"
      ]
     },
     "execution_count": 375,
     "metadata": {},
     "output_type": "execute_result"
    }
   ],
   "source": [
    "lok_jpn_mtp_ph2.count()"
   ]
  },
  {
   "cell_type": "markdown",
   "metadata": {},
   "source": [
    "### 15. Lokavant Japan, totalmajpd_by_totpd metric and phase 3"
   ]
  },
  {
   "cell_type": "code",
   "execution_count": 376,
   "metadata": {},
   "outputs": [],
   "source": [
    "##  lokavant Japan,metric -lok_jp_met_fin_mtp  and for phase 3 -> \n",
    "##  lok_jp_met_fin_mtp,  totalmajpd_by_totpd and phase 3\n",
    "lok_jpn_mtp_ph3 =  lok_jp_met_fin_mtp[lok_jp_met_fin_mtp['b_phase']== 'III']"
   ]
  },
  {
   "cell_type": "code",
   "execution_count": 377,
   "metadata": {
    "scrolled": true
   },
   "outputs": [
    {
     "data": {
      "text/html": [
       "<div>\n",
       "<style scoped>\n",
       "    .dataframe tbody tr th:only-of-type {\n",
       "        vertical-align: middle;\n",
       "    }\n",
       "\n",
       "    .dataframe tbody tr th {\n",
       "        vertical-align: top;\n",
       "    }\n",
       "\n",
       "    .dataframe thead th {\n",
       "        text-align: right;\n",
       "    }\n",
       "</style>\n",
       "<table border=\"1\" class=\"dataframe\">\n",
       "  <thead>\n",
       "    <tr style=\"text-align: right;\">\n",
       "      <th></th>\n",
       "      <th>cmdm_study_id</th>\n",
       "      <th>total_pd</th>\n",
       "      <th>total_majorpd</th>\n",
       "      <th>totalmajpd_by_totpd</th>\n",
       "      <th>b_phase</th>\n",
       "      <th>crs_current_status</th>\n",
       "    </tr>\n",
       "  </thead>\n",
       "  <tbody>\n",
       "    <tr>\n",
       "      <th>0</th>\n",
       "      <td>2472</td>\n",
       "      <td>45</td>\n",
       "      <td>6</td>\n",
       "      <td>133.333333</td>\n",
       "      <td>III</td>\n",
       "      <td>Completed</td>\n",
       "    </tr>\n",
       "    <tr>\n",
       "      <th>1</th>\n",
       "      <td>27272</td>\n",
       "      <td>39</td>\n",
       "      <td>11</td>\n",
       "      <td>282.051282</td>\n",
       "      <td>III</td>\n",
       "      <td>Recruiting</td>\n",
       "    </tr>\n",
       "    <tr>\n",
       "      <th>3</th>\n",
       "      <td>31854</td>\n",
       "      <td>15</td>\n",
       "      <td>1</td>\n",
       "      <td>66.666667</td>\n",
       "      <td>III</td>\n",
       "      <td>Recruiting</td>\n",
       "    </tr>\n",
       "    <tr>\n",
       "      <th>4</th>\n",
       "      <td>31872</td>\n",
       "      <td>67</td>\n",
       "      <td>12</td>\n",
       "      <td>179.104478</td>\n",
       "      <td>III</td>\n",
       "      <td>Maintenance</td>\n",
       "    </tr>\n",
       "    <tr>\n",
       "      <th>5</th>\n",
       "      <td>3239</td>\n",
       "      <td>3</td>\n",
       "      <td>2</td>\n",
       "      <td>666.666667</td>\n",
       "      <td>III</td>\n",
       "      <td>Completed</td>\n",
       "    </tr>\n",
       "  </tbody>\n",
       "</table>\n",
       "</div>"
      ],
      "text/plain": [
       "   cmdm_study_id  total_pd  total_majorpd  totalmajpd_by_totpd b_phase  \\\n",
       "0           2472        45              6           133.333333     III   \n",
       "1          27272        39             11           282.051282     III   \n",
       "3          31854        15              1            66.666667     III   \n",
       "4          31872        67             12           179.104478     III   \n",
       "5           3239         3              2           666.666667     III   \n",
       "\n",
       "  crs_current_status  \n",
       "0          Completed  \n",
       "1         Recruiting  \n",
       "3         Recruiting  \n",
       "4        Maintenance  \n",
       "5          Completed  "
      ]
     },
     "execution_count": 377,
     "metadata": {},
     "output_type": "execute_result"
    }
   ],
   "source": [
    "lok_jpn_mtp_ph3.head()"
   ]
  },
  {
   "cell_type": "code",
   "execution_count": 378,
   "metadata": {},
   "outputs": [
    {
     "data": {
      "text/plain": [
       "cmdm_study_id          15\n",
       "total_pd               15\n",
       "total_majorpd          15\n",
       "totalmajpd_by_totpd    15\n",
       "b_phase                15\n",
       "crs_current_status     15\n",
       "dtype: int64"
      ]
     },
     "execution_count": 378,
     "metadata": {},
     "output_type": "execute_result"
    }
   ],
   "source": [
    "lok_jpn_mtp_ph3.count()"
   ]
  },
  {
   "cell_type": "markdown",
   "metadata": {},
   "source": [
    "### 16. Lokavant Japan, totalmajpd_by_totpd metric and phase 4"
   ]
  },
  {
   "cell_type": "code",
   "execution_count": 379,
   "metadata": {},
   "outputs": [],
   "source": [
    "##  lokavant Japan,metric -lok_jp_met_fin_mtp  and for phase 4 -> \n",
    "##  lok_jp_met_fin_mtp,  totalmajpd_by_totpd and phase 4\n",
    "lok_jpn_mtp_ph4 =  lok_jp_met_fin_mtp[lok_jp_met_fin_mtp['b_phase']== 'IV']"
   ]
  },
  {
   "cell_type": "code",
   "execution_count": 380,
   "metadata": {
    "scrolled": true
   },
   "outputs": [
    {
     "data": {
      "text/html": [
       "<div>\n",
       "<style scoped>\n",
       "    .dataframe tbody tr th:only-of-type {\n",
       "        vertical-align: middle;\n",
       "    }\n",
       "\n",
       "    .dataframe tbody tr th {\n",
       "        vertical-align: top;\n",
       "    }\n",
       "\n",
       "    .dataframe thead th {\n",
       "        text-align: right;\n",
       "    }\n",
       "</style>\n",
       "<table border=\"1\" class=\"dataframe\">\n",
       "  <thead>\n",
       "    <tr style=\"text-align: right;\">\n",
       "      <th></th>\n",
       "      <th>cmdm_study_id</th>\n",
       "      <th>total_pd</th>\n",
       "      <th>total_majorpd</th>\n",
       "      <th>totalmajpd_by_totpd</th>\n",
       "      <th>b_phase</th>\n",
       "      <th>crs_current_status</th>\n",
       "    </tr>\n",
       "  </thead>\n",
       "  <tbody>\n",
       "  </tbody>\n",
       "</table>\n",
       "</div>"
      ],
      "text/plain": [
       "Empty DataFrame\n",
       "Columns: [cmdm_study_id, total_pd, total_majorpd, totalmajpd_by_totpd, b_phase, crs_current_status]\n",
       "Index: []"
      ]
     },
     "execution_count": 380,
     "metadata": {},
     "output_type": "execute_result"
    }
   ],
   "source": [
    "lok_jpn_mtp_ph4.head()"
   ]
  },
  {
   "cell_type": "code",
   "execution_count": 381,
   "metadata": {},
   "outputs": [],
   "source": [
    "## No data for phase 4"
   ]
  },
  {
   "cell_type": "markdown",
   "metadata": {},
   "source": [
    "### 17. CMIC, totalpd_by_sum_subdays metric and phase 1"
   ]
  },
  {
   "cell_type": "code",
   "execution_count": 382,
   "metadata": {
    "scrolled": false
   },
   "outputs": [
    {
     "data": {
      "text/html": [
       "<div>\n",
       "<style scoped>\n",
       "    .dataframe tbody tr th:only-of-type {\n",
       "        vertical-align: middle;\n",
       "    }\n",
       "\n",
       "    .dataframe tbody tr th {\n",
       "        vertical-align: top;\n",
       "    }\n",
       "\n",
       "    .dataframe thead th {\n",
       "        text-align: right;\n",
       "    }\n",
       "</style>\n",
       "<table border=\"1\" class=\"dataframe\">\n",
       "  <thead>\n",
       "    <tr style=\"text-align: right;\">\n",
       "      <th></th>\n",
       "      <th>protocol_code</th>\n",
       "      <th>tot_sub_days</th>\n",
       "      <th>total_pd</th>\n",
       "      <th>totalpd_by_sum_subdays</th>\n",
       "      <th>start_of_work</th>\n",
       "      <th>rbm</th>\n",
       "      <th>phase</th>\n",
       "    </tr>\n",
       "  </thead>\n",
       "  <tbody>\n",
       "    <tr>\n",
       "      <th>0</th>\n",
       "      <td>AST0018</td>\n",
       "      <td>21435.0</td>\n",
       "      <td>163</td>\n",
       "      <td>7.604385</td>\n",
       "      <td>2014-05-01</td>\n",
       "      <td>0</td>\n",
       "      <td>III</td>\n",
       "    </tr>\n",
       "    <tr>\n",
       "      <th>1</th>\n",
       "      <td>BNP0026</td>\n",
       "      <td>11473.0</td>\n",
       "      <td>57</td>\n",
       "      <td>4.968186</td>\n",
       "      <td>2016-01-04</td>\n",
       "      <td>0</td>\n",
       "      <td>II</td>\n",
       "    </tr>\n",
       "    <tr>\n",
       "      <th>2</th>\n",
       "      <td>CGS0014</td>\n",
       "      <td>15997.0</td>\n",
       "      <td>94</td>\n",
       "      <td>5.876102</td>\n",
       "      <td>2017-11-01</td>\n",
       "      <td>1</td>\n",
       "      <td>III</td>\n",
       "    </tr>\n",
       "    <tr>\n",
       "      <th>3</th>\n",
       "      <td>FJY0011</td>\n",
       "      <td>22131.0</td>\n",
       "      <td>4</td>\n",
       "      <td>0.180742</td>\n",
       "      <td>2017-02-01</td>\n",
       "      <td>0</td>\n",
       "      <td>III</td>\n",
       "    </tr>\n",
       "    <tr>\n",
       "      <th>4</th>\n",
       "      <td>PIL0010</td>\n",
       "      <td>6420.0</td>\n",
       "      <td>1</td>\n",
       "      <td>0.155763</td>\n",
       "      <td>2018-12-03</td>\n",
       "      <td>0</td>\n",
       "      <td>II</td>\n",
       "    </tr>\n",
       "  </tbody>\n",
       "</table>\n",
       "</div>"
      ],
      "text/plain": [
       "  protocol_code  tot_sub_days  total_pd  totalpd_by_sum_subdays start_of_work  \\\n",
       "0       AST0018       21435.0       163                7.604385    2014-05-01   \n",
       "1       BNP0026       11473.0        57                4.968186    2016-01-04   \n",
       "2       CGS0014       15997.0        94                5.876102    2017-11-01   \n",
       "3       FJY0011       22131.0         4                0.180742    2017-02-01   \n",
       "4       PIL0010        6420.0         1                0.155763    2018-12-03   \n",
       "\n",
       "   rbm phase  \n",
       "0    0   III  \n",
       "1    0    II  \n",
       "2    1   III  \n",
       "3    0   III  \n",
       "4    0    II  "
      ]
     },
     "execution_count": 382,
     "metadata": {},
     "output_type": "execute_result"
    }
   ],
   "source": [
    "cmic_glb_met_fin_pds.head()"
   ]
  },
  {
   "cell_type": "code",
   "execution_count": 383,
   "metadata": {},
   "outputs": [],
   "source": [
    "## CMIC,metric - cmic_glb_met_fin_pds  and for phase 1 -> \n",
    "##  cmic_glb_met_fin_pds,  totalpd_by_sum_subdays and phase 1\n",
    "cmic_glb_pds_ph1 =  cmic_glb_met_fin_pds[cmic_glb_met_fin_pds['phase']== 'I']"
   ]
  },
  {
   "cell_type": "code",
   "execution_count": 384,
   "metadata": {
    "scrolled": false
   },
   "outputs": [
    {
     "data": {
      "text/html": [
       "<div>\n",
       "<style scoped>\n",
       "    .dataframe tbody tr th:only-of-type {\n",
       "        vertical-align: middle;\n",
       "    }\n",
       "\n",
       "    .dataframe tbody tr th {\n",
       "        vertical-align: top;\n",
       "    }\n",
       "\n",
       "    .dataframe thead th {\n",
       "        text-align: right;\n",
       "    }\n",
       "</style>\n",
       "<table border=\"1\" class=\"dataframe\">\n",
       "  <thead>\n",
       "    <tr style=\"text-align: right;\">\n",
       "      <th></th>\n",
       "      <th>protocol_code</th>\n",
       "      <th>tot_sub_days</th>\n",
       "      <th>total_pd</th>\n",
       "      <th>totalpd_by_sum_subdays</th>\n",
       "      <th>start_of_work</th>\n",
       "      <th>rbm</th>\n",
       "      <th>phase</th>\n",
       "    </tr>\n",
       "  </thead>\n",
       "  <tbody>\n",
       "    <tr>\n",
       "      <th>11</th>\n",
       "      <td>BNE0001</td>\n",
       "      <td>2076.0</td>\n",
       "      <td>10</td>\n",
       "      <td>4.816956</td>\n",
       "      <td>2020-09-01</td>\n",
       "      <td>0</td>\n",
       "      <td>I</td>\n",
       "    </tr>\n",
       "    <tr>\n",
       "      <th>15</th>\n",
       "      <td>DIS0019</td>\n",
       "      <td>270.0</td>\n",
       "      <td>25</td>\n",
       "      <td>92.592593</td>\n",
       "      <td>2016-10-01</td>\n",
       "      <td>0</td>\n",
       "      <td>I</td>\n",
       "    </tr>\n",
       "    <tr>\n",
       "      <th>18</th>\n",
       "      <td>BYP0018</td>\n",
       "      <td>1695.0</td>\n",
       "      <td>10</td>\n",
       "      <td>5.899705</td>\n",
       "      <td>2014-09-01</td>\n",
       "      <td>0</td>\n",
       "      <td>I</td>\n",
       "    </tr>\n",
       "    <tr>\n",
       "      <th>22</th>\n",
       "      <td>FUS0010</td>\n",
       "      <td>2249.0</td>\n",
       "      <td>53</td>\n",
       "      <td>23.566029</td>\n",
       "      <td>2016-07-01</td>\n",
       "      <td>0</td>\n",
       "      <td>I</td>\n",
       "    </tr>\n",
       "    <tr>\n",
       "      <th>25</th>\n",
       "      <td>BYP0024</td>\n",
       "      <td>218.0</td>\n",
       "      <td>65</td>\n",
       "      <td>298.165138</td>\n",
       "      <td>2015-11-01</td>\n",
       "      <td>0</td>\n",
       "      <td>I</td>\n",
       "    </tr>\n",
       "  </tbody>\n",
       "</table>\n",
       "</div>"
      ],
      "text/plain": [
       "   protocol_code  tot_sub_days  total_pd  totalpd_by_sum_subdays  \\\n",
       "11       BNE0001        2076.0        10                4.816956   \n",
       "15       DIS0019         270.0        25               92.592593   \n",
       "18       BYP0018        1695.0        10                5.899705   \n",
       "22       FUS0010        2249.0        53               23.566029   \n",
       "25       BYP0024         218.0        65              298.165138   \n",
       "\n",
       "   start_of_work  rbm phase  \n",
       "11    2020-09-01    0     I  \n",
       "15    2016-10-01    0     I  \n",
       "18    2014-09-01    0     I  \n",
       "22    2016-07-01    0     I  \n",
       "25    2015-11-01    0     I  "
      ]
     },
     "execution_count": 384,
     "metadata": {},
     "output_type": "execute_result"
    }
   ],
   "source": [
    "cmic_glb_pds_ph1.head()"
   ]
  },
  {
   "cell_type": "code",
   "execution_count": 385,
   "metadata": {
    "scrolled": false
   },
   "outputs": [
    {
     "data": {
      "text/plain": [
       "protocol_code             5\n",
       "tot_sub_days              5\n",
       "total_pd                  5\n",
       "totalpd_by_sum_subdays    5\n",
       "start_of_work             5\n",
       "rbm                       5\n",
       "phase                     5\n",
       "dtype: int64"
      ]
     },
     "execution_count": 385,
     "metadata": {},
     "output_type": "execute_result"
    }
   ],
   "source": [
    "cmic_glb_pds_ph1.count()"
   ]
  },
  {
   "cell_type": "markdown",
   "metadata": {},
   "source": [
    "### 18. CMIC, totalpd_by_sum_subdays metric and phase 2"
   ]
  },
  {
   "cell_type": "code",
   "execution_count": 386,
   "metadata": {},
   "outputs": [],
   "source": [
    "## CMIC,metric - cmic_glb_met_fin_pds  and for phase 2 -> \n",
    "##  cmic_glb_met_fin_pds,  totalpd_by_sum_subdays and phase 2\n",
    "cmic_glb_pds_ph2 =  cmic_glb_met_fin_pds[cmic_glb_met_fin_pds['phase']== 'II']"
   ]
  },
  {
   "cell_type": "code",
   "execution_count": 387,
   "metadata": {
    "scrolled": true
   },
   "outputs": [
    {
     "data": {
      "text/html": [
       "<div>\n",
       "<style scoped>\n",
       "    .dataframe tbody tr th:only-of-type {\n",
       "        vertical-align: middle;\n",
       "    }\n",
       "\n",
       "    .dataframe tbody tr th {\n",
       "        vertical-align: top;\n",
       "    }\n",
       "\n",
       "    .dataframe thead th {\n",
       "        text-align: right;\n",
       "    }\n",
       "</style>\n",
       "<table border=\"1\" class=\"dataframe\">\n",
       "  <thead>\n",
       "    <tr style=\"text-align: right;\">\n",
       "      <th></th>\n",
       "      <th>protocol_code</th>\n",
       "      <th>tot_sub_days</th>\n",
       "      <th>total_pd</th>\n",
       "      <th>totalpd_by_sum_subdays</th>\n",
       "      <th>start_of_work</th>\n",
       "      <th>rbm</th>\n",
       "      <th>phase</th>\n",
       "    </tr>\n",
       "  </thead>\n",
       "  <tbody>\n",
       "    <tr>\n",
       "      <th>1</th>\n",
       "      <td>BNP0026</td>\n",
       "      <td>11473.0</td>\n",
       "      <td>57</td>\n",
       "      <td>4.968186</td>\n",
       "      <td>2016-01-04</td>\n",
       "      <td>0</td>\n",
       "      <td>II</td>\n",
       "    </tr>\n",
       "    <tr>\n",
       "      <th>4</th>\n",
       "      <td>PIL0010</td>\n",
       "      <td>6420.0</td>\n",
       "      <td>1</td>\n",
       "      <td>0.155763</td>\n",
       "      <td>2018-12-03</td>\n",
       "      <td>0</td>\n",
       "      <td>II</td>\n",
       "    </tr>\n",
       "    <tr>\n",
       "      <th>8</th>\n",
       "      <td>KWK0021</td>\n",
       "      <td>10163.0</td>\n",
       "      <td>30</td>\n",
       "      <td>2.951884</td>\n",
       "      <td>2015-12-01</td>\n",
       "      <td>0</td>\n",
       "      <td>II</td>\n",
       "    </tr>\n",
       "    <tr>\n",
       "      <th>13</th>\n",
       "      <td>KOK0011</td>\n",
       "      <td>17997.0</td>\n",
       "      <td>23</td>\n",
       "      <td>1.277991</td>\n",
       "      <td>2017-10-01</td>\n",
       "      <td>0</td>\n",
       "      <td>II</td>\n",
       "    </tr>\n",
       "    <tr>\n",
       "      <th>20</th>\n",
       "      <td>SNG0021</td>\n",
       "      <td>26111.0</td>\n",
       "      <td>95</td>\n",
       "      <td>3.638313</td>\n",
       "      <td>2015-05-01</td>\n",
       "      <td>0</td>\n",
       "      <td>II</td>\n",
       "    </tr>\n",
       "  </tbody>\n",
       "</table>\n",
       "</div>"
      ],
      "text/plain": [
       "   protocol_code  tot_sub_days  total_pd  totalpd_by_sum_subdays  \\\n",
       "1        BNP0026       11473.0        57                4.968186   \n",
       "4        PIL0010        6420.0         1                0.155763   \n",
       "8        KWK0021       10163.0        30                2.951884   \n",
       "13       KOK0011       17997.0        23                1.277991   \n",
       "20       SNG0021       26111.0        95                3.638313   \n",
       "\n",
       "   start_of_work  rbm phase  \n",
       "1     2016-01-04    0    II  \n",
       "4     2018-12-03    0    II  \n",
       "8     2015-12-01    0    II  \n",
       "13    2017-10-01    0    II  \n",
       "20    2015-05-01    0    II  "
      ]
     },
     "execution_count": 387,
     "metadata": {},
     "output_type": "execute_result"
    }
   ],
   "source": [
    "cmic_glb_pds_ph2.head()"
   ]
  },
  {
   "cell_type": "code",
   "execution_count": 388,
   "metadata": {
    "scrolled": true
   },
   "outputs": [
    {
     "data": {
      "text/plain": [
       "protocol_code             9\n",
       "tot_sub_days              9\n",
       "total_pd                  9\n",
       "totalpd_by_sum_subdays    9\n",
       "start_of_work             9\n",
       "rbm                       9\n",
       "phase                     9\n",
       "dtype: int64"
      ]
     },
     "execution_count": 388,
     "metadata": {},
     "output_type": "execute_result"
    }
   ],
   "source": [
    "cmic_glb_pds_ph2.count()"
   ]
  },
  {
   "cell_type": "markdown",
   "metadata": {},
   "source": [
    "### 19. CMIC, totalpd_by_sum_subdays metric and phase 3"
   ]
  },
  {
   "cell_type": "code",
   "execution_count": 389,
   "metadata": {},
   "outputs": [],
   "source": [
    "## CMIC,metric - cmic_glb_met_fin_pds  and for phase 3 -> \n",
    "##  cmic_glb_met_fin_pds,  totalpd_by_sum_subdays and phase 3\n",
    "cmic_glb_pds_ph3 =  cmic_glb_met_fin_pds[cmic_glb_met_fin_pds['phase']== 'III']"
   ]
  },
  {
   "cell_type": "code",
   "execution_count": 390,
   "metadata": {
    "scrolled": true
   },
   "outputs": [
    {
     "data": {
      "text/html": [
       "<div>\n",
       "<style scoped>\n",
       "    .dataframe tbody tr th:only-of-type {\n",
       "        vertical-align: middle;\n",
       "    }\n",
       "\n",
       "    .dataframe tbody tr th {\n",
       "        vertical-align: top;\n",
       "    }\n",
       "\n",
       "    .dataframe thead th {\n",
       "        text-align: right;\n",
       "    }\n",
       "</style>\n",
       "<table border=\"1\" class=\"dataframe\">\n",
       "  <thead>\n",
       "    <tr style=\"text-align: right;\">\n",
       "      <th></th>\n",
       "      <th>protocol_code</th>\n",
       "      <th>tot_sub_days</th>\n",
       "      <th>total_pd</th>\n",
       "      <th>totalpd_by_sum_subdays</th>\n",
       "      <th>start_of_work</th>\n",
       "      <th>rbm</th>\n",
       "      <th>phase</th>\n",
       "    </tr>\n",
       "  </thead>\n",
       "  <tbody>\n",
       "    <tr>\n",
       "      <th>0</th>\n",
       "      <td>AST0018</td>\n",
       "      <td>21435.0</td>\n",
       "      <td>163</td>\n",
       "      <td>7.604385</td>\n",
       "      <td>2014-05-01</td>\n",
       "      <td>0</td>\n",
       "      <td>III</td>\n",
       "    </tr>\n",
       "    <tr>\n",
       "      <th>2</th>\n",
       "      <td>CGS0014</td>\n",
       "      <td>15997.0</td>\n",
       "      <td>94</td>\n",
       "      <td>5.876102</td>\n",
       "      <td>2017-11-01</td>\n",
       "      <td>1</td>\n",
       "      <td>III</td>\n",
       "    </tr>\n",
       "    <tr>\n",
       "      <th>3</th>\n",
       "      <td>FJY0011</td>\n",
       "      <td>22131.0</td>\n",
       "      <td>4</td>\n",
       "      <td>0.180742</td>\n",
       "      <td>2017-02-01</td>\n",
       "      <td>0</td>\n",
       "      <td>III</td>\n",
       "    </tr>\n",
       "    <tr>\n",
       "      <th>5</th>\n",
       "      <td>AST0019</td>\n",
       "      <td>282139.0</td>\n",
       "      <td>345</td>\n",
       "      <td>1.222802</td>\n",
       "      <td>2014-05-01</td>\n",
       "      <td>0</td>\n",
       "      <td>III</td>\n",
       "    </tr>\n",
       "    <tr>\n",
       "      <th>6</th>\n",
       "      <td>BNP0025</td>\n",
       "      <td>27987.0</td>\n",
       "      <td>4</td>\n",
       "      <td>0.142924</td>\n",
       "      <td>2016-01-01</td>\n",
       "      <td>0</td>\n",
       "      <td>III</td>\n",
       "    </tr>\n",
       "  </tbody>\n",
       "</table>\n",
       "</div>"
      ],
      "text/plain": [
       "  protocol_code  tot_sub_days  total_pd  totalpd_by_sum_subdays start_of_work  \\\n",
       "0       AST0018       21435.0       163                7.604385    2014-05-01   \n",
       "2       CGS0014       15997.0        94                5.876102    2017-11-01   \n",
       "3       FJY0011       22131.0         4                0.180742    2017-02-01   \n",
       "5       AST0019      282139.0       345                1.222802    2014-05-01   \n",
       "6       BNP0025       27987.0         4                0.142924    2016-01-01   \n",
       "\n",
       "   rbm phase  \n",
       "0    0   III  \n",
       "2    1   III  \n",
       "3    0   III  \n",
       "5    0   III  \n",
       "6    0   III  "
      ]
     },
     "execution_count": 390,
     "metadata": {},
     "output_type": "execute_result"
    }
   ],
   "source": [
    "cmic_glb_pds_ph3.head()"
   ]
  },
  {
   "cell_type": "code",
   "execution_count": 391,
   "metadata": {
    "scrolled": false
   },
   "outputs": [
    {
     "data": {
      "text/plain": [
       "protocol_code             34\n",
       "tot_sub_days              34\n",
       "total_pd                  34\n",
       "totalpd_by_sum_subdays    34\n",
       "start_of_work             34\n",
       "rbm                       34\n",
       "phase                     34\n",
       "dtype: int64"
      ]
     },
     "execution_count": 391,
     "metadata": {},
     "output_type": "execute_result"
    }
   ],
   "source": [
    "cmic_glb_pds_ph3.count()"
   ]
  },
  {
   "cell_type": "code",
   "execution_count": 392,
   "metadata": {},
   "outputs": [],
   "source": [
    "#writer = pd.ExcelWriter('~/Downloads/Cmic_Analysis/CMIC_ph3_pds.xlsx', engine='xlsxwriter')\n",
    "#cmic_glb_pds_ph3.to_excel(writer, sheet_name='cmic_pds')\n",
    "#writer.save()"
   ]
  },
  {
   "cell_type": "markdown",
   "metadata": {},
   "source": [
    "### 20. CMIC, totalpd_by_sum_subdays metric and phase 4"
   ]
  },
  {
   "cell_type": "code",
   "execution_count": 393,
   "metadata": {},
   "outputs": [],
   "source": [
    "## CMIC,metric - cmic_glb_met_fin_pds  and for phase 4 -> \n",
    "##  cmic_glb_met_fin_pds,  totalpd_by_sum_subdays and phase 4\n",
    "cmic_glb_pds_ph4 =  cmic_glb_met_fin_pds[cmic_glb_met_fin_pds['phase']== 'IV']"
   ]
  },
  {
   "cell_type": "code",
   "execution_count": 394,
   "metadata": {
    "scrolled": false
   },
   "outputs": [
    {
     "data": {
      "text/html": [
       "<div>\n",
       "<style scoped>\n",
       "    .dataframe tbody tr th:only-of-type {\n",
       "        vertical-align: middle;\n",
       "    }\n",
       "\n",
       "    .dataframe tbody tr th {\n",
       "        vertical-align: top;\n",
       "    }\n",
       "\n",
       "    .dataframe thead th {\n",
       "        text-align: right;\n",
       "    }\n",
       "</style>\n",
       "<table border=\"1\" class=\"dataframe\">\n",
       "  <thead>\n",
       "    <tr style=\"text-align: right;\">\n",
       "      <th></th>\n",
       "      <th>protocol_code</th>\n",
       "      <th>tot_sub_days</th>\n",
       "      <th>total_pd</th>\n",
       "      <th>totalpd_by_sum_subdays</th>\n",
       "      <th>start_of_work</th>\n",
       "      <th>rbm</th>\n",
       "      <th>phase</th>\n",
       "    </tr>\n",
       "  </thead>\n",
       "  <tbody>\n",
       "    <tr>\n",
       "      <th>26</th>\n",
       "      <td>DSC0015</td>\n",
       "      <td>48289.0</td>\n",
       "      <td>39</td>\n",
       "      <td>0.807637</td>\n",
       "      <td>2016-04-01</td>\n",
       "      <td>0</td>\n",
       "      <td>IV</td>\n",
       "    </tr>\n",
       "    <tr>\n",
       "      <th>29</th>\n",
       "      <td>AST0020</td>\n",
       "      <td>37631.0</td>\n",
       "      <td>63</td>\n",
       "      <td>1.674152</td>\n",
       "      <td>2016-10-01</td>\n",
       "      <td>0</td>\n",
       "      <td>IV</td>\n",
       "    </tr>\n",
       "  </tbody>\n",
       "</table>\n",
       "</div>"
      ],
      "text/plain": [
       "   protocol_code  tot_sub_days  total_pd  totalpd_by_sum_subdays  \\\n",
       "26       DSC0015       48289.0        39                0.807637   \n",
       "29       AST0020       37631.0        63                1.674152   \n",
       "\n",
       "   start_of_work  rbm phase  \n",
       "26    2016-04-01    0    IV  \n",
       "29    2016-10-01    0    IV  "
      ]
     },
     "execution_count": 394,
     "metadata": {},
     "output_type": "execute_result"
    }
   ],
   "source": [
    "cmic_glb_pds_ph4.head()"
   ]
  },
  {
   "cell_type": "markdown",
   "metadata": {},
   "source": [
    "### 21. CMIC, totalmajpd_by_totpd metric and phase 1"
   ]
  },
  {
   "cell_type": "code",
   "execution_count": 395,
   "metadata": {},
   "outputs": [
    {
     "data": {
      "text/html": [
       "<div>\n",
       "<style scoped>\n",
       "    .dataframe tbody tr th:only-of-type {\n",
       "        vertical-align: middle;\n",
       "    }\n",
       "\n",
       "    .dataframe tbody tr th {\n",
       "        vertical-align: top;\n",
       "    }\n",
       "\n",
       "    .dataframe thead th {\n",
       "        text-align: right;\n",
       "    }\n",
       "</style>\n",
       "<table border=\"1\" class=\"dataframe\">\n",
       "  <thead>\n",
       "    <tr style=\"text-align: right;\">\n",
       "      <th></th>\n",
       "      <th>protocol_code</th>\n",
       "      <th>major_pd_count</th>\n",
       "      <th>total_pd</th>\n",
       "      <th>totalmajpd_by_totpd</th>\n",
       "      <th>start_of_work</th>\n",
       "      <th>rbm</th>\n",
       "      <th>phase</th>\n",
       "    </tr>\n",
       "  </thead>\n",
       "  <tbody>\n",
       "    <tr>\n",
       "      <th>0</th>\n",
       "      <td>FJY0011</td>\n",
       "      <td>1</td>\n",
       "      <td>4</td>\n",
       "      <td>250.000000</td>\n",
       "      <td>2017-02-01</td>\n",
       "      <td>0</td>\n",
       "      <td>III</td>\n",
       "    </tr>\n",
       "    <tr>\n",
       "      <th>1</th>\n",
       "      <td>ZLY0010</td>\n",
       "      <td>2</td>\n",
       "      <td>29</td>\n",
       "      <td>68.965517</td>\n",
       "      <td>2018-09-10</td>\n",
       "      <td>0</td>\n",
       "      <td>I</td>\n",
       "    </tr>\n",
       "    <tr>\n",
       "      <th>2</th>\n",
       "      <td>DIS0020</td>\n",
       "      <td>17</td>\n",
       "      <td>337</td>\n",
       "      <td>50.445104</td>\n",
       "      <td>2017-02-01</td>\n",
       "      <td>1</td>\n",
       "      <td>II</td>\n",
       "    </tr>\n",
       "    <tr>\n",
       "      <th>3</th>\n",
       "      <td>RTS0001</td>\n",
       "      <td>18</td>\n",
       "      <td>18</td>\n",
       "      <td>1000.000000</td>\n",
       "      <td>2020-05-19</td>\n",
       "      <td>0</td>\n",
       "      <td>I</td>\n",
       "    </tr>\n",
       "    <tr>\n",
       "      <th>4</th>\n",
       "      <td>CFE0018</td>\n",
       "      <td>1</td>\n",
       "      <td>49</td>\n",
       "      <td>20.408163</td>\n",
       "      <td>2018-07-01</td>\n",
       "      <td>0</td>\n",
       "      <td>III</td>\n",
       "    </tr>\n",
       "  </tbody>\n",
       "</table>\n",
       "</div>"
      ],
      "text/plain": [
       "  protocol_code  major_pd_count  total_pd  totalmajpd_by_totpd start_of_work  \\\n",
       "0       FJY0011               1         4           250.000000    2017-02-01   \n",
       "1       ZLY0010               2        29            68.965517    2018-09-10   \n",
       "2       DIS0020              17       337            50.445104    2017-02-01   \n",
       "3       RTS0001              18        18          1000.000000    2020-05-19   \n",
       "4       CFE0018               1        49            20.408163    2018-07-01   \n",
       "\n",
       "   rbm phase  \n",
       "0    0   III  \n",
       "1    0     I  \n",
       "2    1    II  \n",
       "3    0     I  \n",
       "4    0   III  "
      ]
     },
     "execution_count": 395,
     "metadata": {},
     "output_type": "execute_result"
    }
   ],
   "source": [
    "cmic_glb_met_fin_mtp.head()"
   ]
  },
  {
   "cell_type": "code",
   "execution_count": 396,
   "metadata": {
    "scrolled": false
   },
   "outputs": [],
   "source": [
    "## CMIC,metric - cmic_glb_met_fin_mtp   and for phase 1 -> \n",
    "##  cmic_glb_met_fin_mtp ,  totalmajpd_by_totpd and phase 1\n",
    "cmic_glb_mtp_ph1 = cmic_glb_met_fin_mtp[cmic_glb_met_fin_mtp['phase']== 'I']"
   ]
  },
  {
   "cell_type": "code",
   "execution_count": 397,
   "metadata": {
    "scrolled": true
   },
   "outputs": [
    {
     "data": {
      "text/html": [
       "<div>\n",
       "<style scoped>\n",
       "    .dataframe tbody tr th:only-of-type {\n",
       "        vertical-align: middle;\n",
       "    }\n",
       "\n",
       "    .dataframe tbody tr th {\n",
       "        vertical-align: top;\n",
       "    }\n",
       "\n",
       "    .dataframe thead th {\n",
       "        text-align: right;\n",
       "    }\n",
       "</style>\n",
       "<table border=\"1\" class=\"dataframe\">\n",
       "  <thead>\n",
       "    <tr style=\"text-align: right;\">\n",
       "      <th></th>\n",
       "      <th>protocol_code</th>\n",
       "      <th>major_pd_count</th>\n",
       "      <th>total_pd</th>\n",
       "      <th>totalmajpd_by_totpd</th>\n",
       "      <th>start_of_work</th>\n",
       "      <th>rbm</th>\n",
       "      <th>phase</th>\n",
       "    </tr>\n",
       "  </thead>\n",
       "  <tbody>\n",
       "    <tr>\n",
       "      <th>1</th>\n",
       "      <td>ZLY0010</td>\n",
       "      <td>2</td>\n",
       "      <td>29</td>\n",
       "      <td>68.965517</td>\n",
       "      <td>2018-09-10</td>\n",
       "      <td>0</td>\n",
       "      <td>I</td>\n",
       "    </tr>\n",
       "    <tr>\n",
       "      <th>3</th>\n",
       "      <td>RTS0001</td>\n",
       "      <td>18</td>\n",
       "      <td>18</td>\n",
       "      <td>1000.000000</td>\n",
       "      <td>2020-05-19</td>\n",
       "      <td>0</td>\n",
       "      <td>I</td>\n",
       "    </tr>\n",
       "    <tr>\n",
       "      <th>25</th>\n",
       "      <td>DIS0019</td>\n",
       "      <td>6</td>\n",
       "      <td>25</td>\n",
       "      <td>240.000000</td>\n",
       "      <td>2016-10-01</td>\n",
       "      <td>0</td>\n",
       "      <td>I</td>\n",
       "    </tr>\n",
       "  </tbody>\n",
       "</table>\n",
       "</div>"
      ],
      "text/plain": [
       "   protocol_code  major_pd_count  total_pd  totalmajpd_by_totpd start_of_work  \\\n",
       "1        ZLY0010               2        29            68.965517    2018-09-10   \n",
       "3        RTS0001              18        18          1000.000000    2020-05-19   \n",
       "25       DIS0019               6        25           240.000000    2016-10-01   \n",
       "\n",
       "    rbm phase  \n",
       "1     0     I  \n",
       "3     0     I  \n",
       "25    0     I  "
      ]
     },
     "execution_count": 397,
     "metadata": {},
     "output_type": "execute_result"
    }
   ],
   "source": [
    "cmic_glb_mtp_ph1.head()"
   ]
  },
  {
   "cell_type": "markdown",
   "metadata": {},
   "source": [
    "### 22. CMIC, totalmajpd_by_totpd metric and phase 2"
   ]
  },
  {
   "cell_type": "code",
   "execution_count": 398,
   "metadata": {},
   "outputs": [],
   "source": [
    "## CMIC,metric - cmic_glb_met_fin_mtp   and for phase 2 -> \n",
    "##  cmic_glb_met_fin_mtp ,  totalmajpd_by_totpd and phase 2\n",
    "cmic_glb_mtp_ph2 = cmic_glb_met_fin_mtp[cmic_glb_met_fin_mtp['phase']== 'II']"
   ]
  },
  {
   "cell_type": "code",
   "execution_count": 399,
   "metadata": {
    "scrolled": false
   },
   "outputs": [
    {
     "data": {
      "text/html": [
       "<div>\n",
       "<style scoped>\n",
       "    .dataframe tbody tr th:only-of-type {\n",
       "        vertical-align: middle;\n",
       "    }\n",
       "\n",
       "    .dataframe tbody tr th {\n",
       "        vertical-align: top;\n",
       "    }\n",
       "\n",
       "    .dataframe thead th {\n",
       "        text-align: right;\n",
       "    }\n",
       "</style>\n",
       "<table border=\"1\" class=\"dataframe\">\n",
       "  <thead>\n",
       "    <tr style=\"text-align: right;\">\n",
       "      <th></th>\n",
       "      <th>protocol_code</th>\n",
       "      <th>major_pd_count</th>\n",
       "      <th>total_pd</th>\n",
       "      <th>totalmajpd_by_totpd</th>\n",
       "      <th>start_of_work</th>\n",
       "      <th>rbm</th>\n",
       "      <th>phase</th>\n",
       "    </tr>\n",
       "  </thead>\n",
       "  <tbody>\n",
       "    <tr>\n",
       "      <th>2</th>\n",
       "      <td>DIS0020</td>\n",
       "      <td>17</td>\n",
       "      <td>337</td>\n",
       "      <td>50.445104</td>\n",
       "      <td>2017-02-01</td>\n",
       "      <td>1</td>\n",
       "      <td>II</td>\n",
       "    </tr>\n",
       "    <tr>\n",
       "      <th>8</th>\n",
       "      <td>AST0016</td>\n",
       "      <td>6</td>\n",
       "      <td>60</td>\n",
       "      <td>100.000000</td>\n",
       "      <td>2012-02-01</td>\n",
       "      <td>0</td>\n",
       "      <td>II</td>\n",
       "    </tr>\n",
       "    <tr>\n",
       "      <th>11</th>\n",
       "      <td>UJF0011</td>\n",
       "      <td>8</td>\n",
       "      <td>64</td>\n",
       "      <td>125.000000</td>\n",
       "      <td>2017-06-01</td>\n",
       "      <td>0</td>\n",
       "      <td>II</td>\n",
       "    </tr>\n",
       "    <tr>\n",
       "      <th>19</th>\n",
       "      <td>BYP0059</td>\n",
       "      <td>6</td>\n",
       "      <td>16</td>\n",
       "      <td>375.000000</td>\n",
       "      <td>2020-05-07</td>\n",
       "      <td>1</td>\n",
       "      <td>II</td>\n",
       "    </tr>\n",
       "    <tr>\n",
       "      <th>23</th>\n",
       "      <td>PIL0010</td>\n",
       "      <td>1</td>\n",
       "      <td>1</td>\n",
       "      <td>1000.000000</td>\n",
       "      <td>2018-12-03</td>\n",
       "      <td>0</td>\n",
       "      <td>II</td>\n",
       "    </tr>\n",
       "  </tbody>\n",
       "</table>\n",
       "</div>"
      ],
      "text/plain": [
       "   protocol_code  major_pd_count  total_pd  totalmajpd_by_totpd start_of_work  \\\n",
       "2        DIS0020              17       337            50.445104    2017-02-01   \n",
       "8        AST0016               6        60           100.000000    2012-02-01   \n",
       "11       UJF0011               8        64           125.000000    2017-06-01   \n",
       "19       BYP0059               6        16           375.000000    2020-05-07   \n",
       "23       PIL0010               1         1          1000.000000    2018-12-03   \n",
       "\n",
       "    rbm phase  \n",
       "2     1    II  \n",
       "8     0    II  \n",
       "11    0    II  \n",
       "19    1    II  \n",
       "23    0    II  "
      ]
     },
     "execution_count": 399,
     "metadata": {},
     "output_type": "execute_result"
    }
   ],
   "source": [
    "cmic_glb_mtp_ph2.head()"
   ]
  },
  {
   "cell_type": "code",
   "execution_count": 400,
   "metadata": {
    "scrolled": false
   },
   "outputs": [
    {
     "data": {
      "text/plain": [
       "protocol_code          6\n",
       "major_pd_count         6\n",
       "total_pd               6\n",
       "totalmajpd_by_totpd    6\n",
       "start_of_work          6\n",
       "rbm                    6\n",
       "phase                  6\n",
       "dtype: int64"
      ]
     },
     "execution_count": 400,
     "metadata": {},
     "output_type": "execute_result"
    }
   ],
   "source": [
    "cmic_glb_mtp_ph2.count()"
   ]
  },
  {
   "cell_type": "markdown",
   "metadata": {},
   "source": [
    "### 23. CMIC, totalmajpd_by_totpd metric and phase 3"
   ]
  },
  {
   "cell_type": "code",
   "execution_count": 401,
   "metadata": {},
   "outputs": [],
   "source": [
    "## CMIC,metric - cmic_glb_met_fin_mtp   and for phase 3 -> \n",
    "##  cmic_glb_met_fin_mtp ,  totalmajpd_by_totpd and phase 3\n",
    "cmic_glb_mtp_ph3 = cmic_glb_met_fin_mtp[cmic_glb_met_fin_mtp['phase']== 'III']"
   ]
  },
  {
   "cell_type": "code",
   "execution_count": 402,
   "metadata": {
    "scrolled": false
   },
   "outputs": [
    {
     "data": {
      "text/html": [
       "<div>\n",
       "<style scoped>\n",
       "    .dataframe tbody tr th:only-of-type {\n",
       "        vertical-align: middle;\n",
       "    }\n",
       "\n",
       "    .dataframe tbody tr th {\n",
       "        vertical-align: top;\n",
       "    }\n",
       "\n",
       "    .dataframe thead th {\n",
       "        text-align: right;\n",
       "    }\n",
       "</style>\n",
       "<table border=\"1\" class=\"dataframe\">\n",
       "  <thead>\n",
       "    <tr style=\"text-align: right;\">\n",
       "      <th></th>\n",
       "      <th>protocol_code</th>\n",
       "      <th>major_pd_count</th>\n",
       "      <th>total_pd</th>\n",
       "      <th>totalmajpd_by_totpd</th>\n",
       "      <th>start_of_work</th>\n",
       "      <th>rbm</th>\n",
       "      <th>phase</th>\n",
       "    </tr>\n",
       "  </thead>\n",
       "  <tbody>\n",
       "    <tr>\n",
       "      <th>0</th>\n",
       "      <td>FJY0011</td>\n",
       "      <td>1</td>\n",
       "      <td>4</td>\n",
       "      <td>250.000000</td>\n",
       "      <td>2017-02-01</td>\n",
       "      <td>0</td>\n",
       "      <td>III</td>\n",
       "    </tr>\n",
       "    <tr>\n",
       "      <th>4</th>\n",
       "      <td>CFE0018</td>\n",
       "      <td>1</td>\n",
       "      <td>49</td>\n",
       "      <td>20.408163</td>\n",
       "      <td>2018-07-01</td>\n",
       "      <td>0</td>\n",
       "      <td>III</td>\n",
       "    </tr>\n",
       "    <tr>\n",
       "      <th>5</th>\n",
       "      <td>DSC0014</td>\n",
       "      <td>68</td>\n",
       "      <td>437</td>\n",
       "      <td>155.606407</td>\n",
       "      <td>2015-02-01</td>\n",
       "      <td>0</td>\n",
       "      <td>III</td>\n",
       "    </tr>\n",
       "    <tr>\n",
       "      <th>7</th>\n",
       "      <td>CFE0010</td>\n",
       "      <td>32</td>\n",
       "      <td>101</td>\n",
       "      <td>316.831683</td>\n",
       "      <td>2014-06-09</td>\n",
       "      <td>0</td>\n",
       "      <td>III</td>\n",
       "    </tr>\n",
       "    <tr>\n",
       "      <th>9</th>\n",
       "      <td>BNP0033</td>\n",
       "      <td>3</td>\n",
       "      <td>82</td>\n",
       "      <td>36.585366</td>\n",
       "      <td>2016-11-01</td>\n",
       "      <td>0</td>\n",
       "      <td>III</td>\n",
       "    </tr>\n",
       "  </tbody>\n",
       "</table>\n",
       "</div>"
      ],
      "text/plain": [
       "  protocol_code  major_pd_count  total_pd  totalmajpd_by_totpd start_of_work  \\\n",
       "0       FJY0011               1         4           250.000000    2017-02-01   \n",
       "4       CFE0018               1        49            20.408163    2018-07-01   \n",
       "5       DSC0014              68       437           155.606407    2015-02-01   \n",
       "7       CFE0010              32       101           316.831683    2014-06-09   \n",
       "9       BNP0033               3        82            36.585366    2016-11-01   \n",
       "\n",
       "   rbm phase  \n",
       "0    0   III  \n",
       "4    0   III  \n",
       "5    0   III  \n",
       "7    0   III  \n",
       "9    0   III  "
      ]
     },
     "execution_count": 402,
     "metadata": {},
     "output_type": "execute_result"
    }
   ],
   "source": [
    "cmic_glb_mtp_ph3.head()"
   ]
  },
  {
   "cell_type": "code",
   "execution_count": 403,
   "metadata": {
    "scrolled": false
   },
   "outputs": [
    {
     "data": {
      "text/plain": [
       "protocol_code          17\n",
       "major_pd_count         17\n",
       "total_pd               17\n",
       "totalmajpd_by_totpd    17\n",
       "start_of_work          17\n",
       "rbm                    17\n",
       "phase                  17\n",
       "dtype: int64"
      ]
     },
     "execution_count": 403,
     "metadata": {},
     "output_type": "execute_result"
    }
   ],
   "source": [
    "cmic_glb_mtp_ph3.count()"
   ]
  },
  {
   "cell_type": "markdown",
   "metadata": {},
   "source": [
    "### 24. CMIC, totalmajpd_by_totpd metric and phase 4"
   ]
  },
  {
   "cell_type": "code",
   "execution_count": 404,
   "metadata": {},
   "outputs": [],
   "source": [
    "## CMIC,metric - cmic_glb_met_fin_mtp   and for phase 4 -> \n",
    "##  cmic_glb_met_fin_mtp ,  totalmajpd_by_totpd and phase 4\n",
    "cmic_glb_mtp_ph4 = cmic_glb_met_fin_mtp[cmic_glb_met_fin_mtp['phase']== 'IV']"
   ]
  },
  {
   "cell_type": "code",
   "execution_count": 405,
   "metadata": {
    "scrolled": true
   },
   "outputs": [
    {
     "data": {
      "text/html": [
       "<div>\n",
       "<style scoped>\n",
       "    .dataframe tbody tr th:only-of-type {\n",
       "        vertical-align: middle;\n",
       "    }\n",
       "\n",
       "    .dataframe tbody tr th {\n",
       "        vertical-align: top;\n",
       "    }\n",
       "\n",
       "    .dataframe thead th {\n",
       "        text-align: right;\n",
       "    }\n",
       "</style>\n",
       "<table border=\"1\" class=\"dataframe\">\n",
       "  <thead>\n",
       "    <tr style=\"text-align: right;\">\n",
       "      <th></th>\n",
       "      <th>protocol_code</th>\n",
       "      <th>major_pd_count</th>\n",
       "      <th>total_pd</th>\n",
       "      <th>totalmajpd_by_totpd</th>\n",
       "      <th>start_of_work</th>\n",
       "      <th>rbm</th>\n",
       "      <th>phase</th>\n",
       "    </tr>\n",
       "  </thead>\n",
       "  <tbody>\n",
       "    <tr>\n",
       "      <th>6</th>\n",
       "      <td>DSC0015</td>\n",
       "      <td>9</td>\n",
       "      <td>39</td>\n",
       "      <td>230.769231</td>\n",
       "      <td>2016-04-01</td>\n",
       "      <td>0</td>\n",
       "      <td>IV</td>\n",
       "    </tr>\n",
       "  </tbody>\n",
       "</table>\n",
       "</div>"
      ],
      "text/plain": [
       "  protocol_code  major_pd_count  total_pd  totalmajpd_by_totpd start_of_work  \\\n",
       "6       DSC0015               9        39           230.769231    2016-04-01   \n",
       "\n",
       "   rbm phase  \n",
       "6    0    IV  "
      ]
     },
     "execution_count": 405,
     "metadata": {},
     "output_type": "execute_result"
    }
   ],
   "source": [
    "cmic_glb_mtp_ph4.head()"
   ]
  },
  {
   "cell_type": "markdown",
   "metadata": {},
   "source": [
    "## Line plot individual phases"
   ]
  },
  {
   "cell_type": "code",
   "execution_count": 431,
   "metadata": {},
   "outputs": [],
   "source": [
    "#line_pds_ph1"
   ]
  },
  {
   "cell_type": "code",
   "execution_count": 432,
   "metadata": {
    "scrolled": true
   },
   "outputs": [
    {
     "data": {
      "text/plain": [
       "(0.0, 15.0)"
      ]
     },
     "execution_count": 432,
     "metadata": {},
     "output_type": "execute_result"
    },
    {
     "data": {
      "image/png": "[encoded data removed]",
      "text/plain": [
       "<Figure size 432x288 with 2 Axes>"
      ]
     },
     "metadata": {},
     "output_type": "display_data"
    }
   ],
   "source": [
    "fig, ax = plt.subplots()\n",
    "data = [lok_glb_pds_ph1.totalpd_by_sum_subdays.dropna(), lok_jpn_pds_ph1.totalpd_by_sum_subdays.dropna(),cmic_glb_pds_ph1.totalpd_by_sum_subdays.dropna() ]\n",
    "ax.boxplot(data, showfliers=False) #showfliers = false will remove the outliers while plotting the boxplot.\n",
    "plt.xticks((1,2,3), ('Lokavant - Global','Lokavant - JPN', 'CMIC'))\n",
    "#ax.set_title(title, fontsize=16)\n",
    "ax.grid(False)\n",
    "ax.set_ylabel('total PDs per 1000 subj days')\n",
    "ax2 = ax.twinx()\n",
    "data = [len(x) for x in data]\n",
    "ax2.scatter((1,2,3), data)\n",
    "ax2.set_ylabel('Number of Studies')\n",
    "ax2.grid(False)\n",
    "ax2.set_ylim([0,15])"
   ]
  },
  {
   "cell_type": "code",
   "execution_count": 433,
   "metadata": {},
   "outputs": [],
   "source": [
    "## line_pds_ph2"
   ]
  },
  {
   "cell_type": "code",
   "execution_count": 434,
   "metadata": {
    "scrolled": false
   },
   "outputs": [
    {
     "data": {
      "text/plain": [
       "(0.0, 50.0)"
      ]
     },
     "execution_count": 434,
     "metadata": {},
     "output_type": "execute_result"
    },
    {
     "data": {
      "image/png": "[encoded data removed]",
      "text/plain": [
       "<Figure size 432x288 with 2 Axes>"
      ]
     },
     "metadata": {},
     "output_type": "display_data"
    }
   ],
   "source": [
    "fig, ax = plt.subplots()\n",
    "data = [lok_glb_pds_ph2.totalpd_by_sum_subdays.dropna(), lok_jpn_pds_ph2.totalpd_by_sum_subdays.dropna(),cmic_glb_pds_ph2.totalpd_by_sum_subdays.dropna() ]\n",
    "ax.boxplot(data, showfliers=False) #showfliers = false will remove the outliers while plotting the boxplot.\n",
    "plt.xticks((1,2,3), ('Lokavant - Global','Lokavant - JPN', 'CMIC'))\n",
    "#ax.set_title(title, fontsize=16)\n",
    "ax.grid(False)\n",
    "ax.set_ylabel('total PDs per 1000 subj days')\n",
    "ax2 = ax.twinx()\n",
    "data = [len(x) for x in data]\n",
    "ax2.scatter((1,2,3), data)\n",
    "ax2.set_ylabel('Number of Studies')\n",
    "ax2.grid(False)\n",
    "ax2.set_ylim([0,50])"
   ]
  },
  {
   "cell_type": "code",
   "execution_count": 435,
   "metadata": {},
   "outputs": [],
   "source": [
    "##line_pds_ph3"
   ]
  },
  {
   "cell_type": "code",
   "execution_count": 436,
   "metadata": {
    "scrolled": true
   },
   "outputs": [
    {
     "data": {
      "text/plain": [
       "(0.0, 60.0)"
      ]
     },
     "execution_count": 436,
     "metadata": {},
     "output_type": "execute_result"
    },
    {
     "data": {
      "image/png": "[encoded data removed]",
      "text/plain": [
       "<Figure size 432x288 with 2 Axes>"
      ]
     },
     "metadata": {},
     "output_type": "display_data"
    }
   ],
   "source": [
    "fig, ax = plt.subplots()\n",
    "data = [lok_glb_pds_ph3.totalpd_by_sum_subdays.dropna(), lok_jpn_pds_ph3.totalpd_by_sum_subdays.dropna(),cmic_glb_pds_ph3.totalpd_by_sum_subdays.dropna() ]\n",
    "ax.boxplot(data, showfliers=False) #showfliers = false will remove the outliers while plotting the boxplot.\n",
    "plt.xticks((1,2,3), ('Lokavant - Global','Lokavant - JPN', 'CMIC'))\n",
    "#ax.set_title(title, fontsize=16)\n",
    "ax.grid(False)\n",
    "ax.set_ylabel('total PDs per 1000 subj days')\n",
    "ax2 = ax.twinx()\n",
    "data = [len(x) for x in data]\n",
    "ax2.scatter((1,2,3), data)\n",
    "ax2.set_ylabel('Number of Studies')\n",
    "ax2.grid(False)\n",
    "ax2.set_ylim([0,60])"
   ]
  },
  {
   "cell_type": "code",
   "execution_count": 437,
   "metadata": {},
   "outputs": [],
   "source": [
    "#line_pds_ph4"
   ]
  },
  {
   "cell_type": "code",
   "execution_count": 438,
   "metadata": {
    "scrolled": true
   },
   "outputs": [
    {
     "data": {
      "text/plain": [
       "(0.0, 15.0)"
      ]
     },
     "execution_count": 438,
     "metadata": {},
     "output_type": "execute_result"
    },
    {
     "data": {
      "image/png": "[encoded data removed]",
      "text/plain": [
       "<Figure size 432x288 with 2 Axes>"
      ]
     },
     "metadata": {},
     "output_type": "display_data"
    }
   ],
   "source": [
    "fig, ax = plt.subplots()\n",
    "data = [lok_glb_pds_ph4.totalpd_by_sum_subdays.dropna(), lok_jpn_pds_ph4.totalpd_by_sum_subdays.dropna(),cmic_glb_pds_ph4.totalpd_by_sum_subdays.dropna() ]\n",
    "ax.boxplot(data, showfliers=False) #showfliers = false will remove the outliers while plotting the boxplot.\n",
    "plt.xticks((1,2,3), ('Lokavant - Global','Lokavant - JPN', 'CMIC'))\n",
    "#ax.set_title(title, fontsize=16)\n",
    "ax.grid(False)\n",
    "ax.set_ylabel('total PDs per 1000 subj days')\n",
    "ax2 = ax.twinx()\n",
    "data = [len(x) for x in data]\n",
    "ax2.scatter((1,2,3), data)\n",
    "ax2.set_ylabel('Number of Studies')\n",
    "ax2.grid(False)\n",
    "ax2.set_ylim([0,15])"
   ]
  },
  {
   "cell_type": "code",
   "execution_count": 439,
   "metadata": {},
   "outputs": [],
   "source": [
    "#line_mtp_ph1"
   ]
  },
  {
   "cell_type": "code",
   "execution_count": 440,
   "metadata": {},
   "outputs": [
    {
     "data": {
      "text/plain": [
       "(0.0, 50.0)"
      ]
     },
     "execution_count": 440,
     "metadata": {},
     "output_type": "execute_result"
    },
    {
     "data": {
      "image/png": "[encoded data removed]",
      "text/plain": [
       "<Figure size 432x288 with 2 Axes>"
      ]
     },
     "metadata": {},
     "output_type": "display_data"
    }
   ],
   "source": [
    "fig, ax = plt.subplots()\n",
    "data = [lok_glb_mtp_ph1.totalmajpd_by_totpd.dropna(), lok_jpn_mtp_ph1.totalmajpd_by_totpd.dropna(),cmic_glb_mtp_ph1.totalmajpd_by_totpd.dropna() ]\n",
    "ax.boxplot(data, showfliers=False) #showfliers = false will remove the outliers while plotting the boxplot.\n",
    "plt.xticks((1,2,3), ('Lokavant - Global','Lokavant - JPN', 'CMIC'))\n",
    "#ax.set_title(title, fontsize=16)\n",
    "ax.grid(False)\n",
    "ax.set_ylabel('Major PDs per 1000 Total PDs')\n",
    "ax2 = ax.twinx()\n",
    "data = [len(x) for x in data]\n",
    "ax2.scatter((1,2,3), data)\n",
    "ax2.set_ylabel('Number of Studies')\n",
    "ax2.grid(False)\n",
    "ax2.set_ylim([0,50])"
   ]
  },
  {
   "cell_type": "code",
   "execution_count": 441,
   "metadata": {},
   "outputs": [],
   "source": [
    "#line_mtp_ph2"
   ]
  },
  {
   "cell_type": "code",
   "execution_count": 442,
   "metadata": {},
   "outputs": [
    {
     "data": {
      "text/plain": [
       "(0.0, 40.0)"
      ]
     },
     "execution_count": 442,
     "metadata": {},
     "output_type": "execute_result"
    },
    {
     "data": {
      "image/png": "[encoded data removed]",
      "text/plain": [
       "<Figure size 432x288 with 2 Axes>"
      ]
     },
     "metadata": {},
     "output_type": "display_data"
    }
   ],
   "source": [
    "fig, ax = plt.subplots()\n",
    "data = [lok_glb_mtp_ph2.totalmajpd_by_totpd.dropna(), lok_jpn_mtp_ph2.totalmajpd_by_totpd.dropna(),cmic_glb_mtp_ph2.totalmajpd_by_totpd.dropna() ]\n",
    "ax.boxplot(data, showfliers=False) #showfliers = false will remove the outliers while plotting the boxplot.\n",
    "plt.xticks((1,2,3), ('Lokavant - Global','Lokavant - JPN', 'CMIC'))\n",
    "#ax.set_title(title, fontsize=16)\n",
    "ax.grid(False)\n",
    "ax.set_ylabel('Major PDs per 1000 Total PDs')\n",
    "ax2 = ax.twinx()\n",
    "data = [len(x) for x in data]\n",
    "ax2.scatter((1,2,3), data)\n",
    "ax2.set_ylabel('Number of Studies')\n",
    "ax2.grid(False)\n",
    "ax2.set_ylim([0,40])"
   ]
  },
  {
   "cell_type": "code",
   "execution_count": 443,
   "metadata": {},
   "outputs": [],
   "source": [
    "## line_mtp_ph3"
   ]
  },
  {
   "cell_type": "code",
   "execution_count": 444,
   "metadata": {},
   "outputs": [
    {
     "data": {
      "text/plain": [
       "(0.0, 60.0)"
      ]
     },
     "execution_count": 444,
     "metadata": {},
     "output_type": "execute_result"
    },
    {
     "data": {
      "image/png": "[encoded data removed]",
      "text/plain": [
       "<Figure size 432x288 with 2 Axes>"
      ]
     },
     "metadata": {},
     "output_type": "display_data"
    }
   ],
   "source": [
    "fig, ax = plt.subplots()\n",
    "data = [lok_glb_mtp_ph3.totalmajpd_by_totpd.dropna(), lok_jpn_mtp_ph3.totalmajpd_by_totpd.dropna(),cmic_glb_mtp_ph3.totalmajpd_by_totpd.dropna() ]\n",
    "ax.boxplot(data, showfliers=False) #showfliers = false will remove the outliers while plotting the boxplot.\n",
    "plt.xticks((1,2,3), ('Lokavant - Global','Lokavant - JPN', 'CMIC'))\n",
    "#ax.set_title(title, fontsize=16)\n",
    "ax.grid(False)\n",
    "ax.set_ylabel('Major PDs per 1000 Total PDs')\n",
    "ax2 = ax.twinx()\n",
    "data = [len(x) for x in data]\n",
    "ax2.scatter((1,2,3), data)\n",
    "ax2.set_ylabel('Number of Studies')\n",
    "ax2.grid(False)\n",
    "ax2.set_ylim([0,60])"
   ]
  },
  {
   "cell_type": "code",
   "execution_count": 445,
   "metadata": {},
   "outputs": [],
   "source": [
    "#line mtp ph4"
   ]
  },
  {
   "cell_type": "code",
   "execution_count": 446,
   "metadata": {},
   "outputs": [
    {
     "data": {
      "text/plain": [
       "(0.0, 25.0)"
      ]
     },
     "execution_count": 446,
     "metadata": {},
     "output_type": "execute_result"
    },
    {
     "data": {
      "image/png": "[encoded data removed]",
      "text/plain": [
       "<Figure size 432x288 with 2 Axes>"
      ]
     },
     "metadata": {},
     "output_type": "display_data"
    }
   ],
   "source": [
    "fig, ax = plt.subplots()\n",
    "data = [lok_glb_mtp_ph4.totalmajpd_by_totpd.dropna(), lok_jpn_mtp_ph4.totalmajpd_by_totpd.dropna(),cmic_glb_mtp_ph4.totalmajpd_by_totpd.dropna() ]\n",
    "ax.boxplot(data, showfliers=False) #showfliers = false will remove the outliers while plotting the boxplot.\n",
    "plt.xticks((1,2,3), ('Lokavant - Global','Lokavant - JPN', 'CMIC'))\n",
    "#ax.set_title(title, fontsize=16)\n",
    "ax.grid(False)\n",
    "ax.set_ylabel('Major PDs per 1000 Total PDs')\n",
    "ax2 = ax.twinx()\n",
    "data = [len(x) for x in data]\n",
    "ax2.scatter((1,2,3), data)\n",
    "ax2.set_ylabel('Number of Studies')\n",
    "ax2.grid(False)\n",
    "ax2.set_ylim([0,25])"
   ]
  },
  {
   "cell_type": "code",
   "execution_count": 447,
   "metadata": {},
   "outputs": [],
   "source": [
    "## box plot for pds metric for lok glb, lok jpn and cmic(all phases)"
   ]
  },
  {
   "cell_type": "code",
   "execution_count": 448,
   "metadata": {},
   "outputs": [
    {
     "data": {
      "text/plain": [
       "(0.0, 100.0)"
      ]
     },
     "execution_count": 448,
     "metadata": {},
     "output_type": "execute_result"
    },
    {
     "data": {
      "image/png": "[encoded data removed]",
      "text/plain": [
       "<Figure size 432x288 with 2 Axes>"
      ]
     },
     "metadata": {},
     "output_type": "display_data"
    }
   ],
   "source": [
    "fig, ax = plt.subplots()\n",
    "data = [lok_glb_met_fin_pds.totalpd_by_sum_subdays.dropna(), lok_jp_met_fin_pds.totalpd_by_sum_subdays.dropna(),cmic_glb_met_fin_pds.totalpd_by_sum_subdays.dropna() ]\n",
    "ax.boxplot(data, showfliers=False) #showfliers = false will remove the outliers while plotting the boxplot.\n",
    "plt.xticks((1,2,3), ('Lokavant - Global','Lokavant - JPN', 'CMIC'))\n",
    "#ax.set_title(title, fontsize=16)\n",
    "ax.grid(False)\n",
    "ax.set_ylabel('total PDs per 1000 subj days')\n",
    "ax2 = ax.twinx()\n",
    "data = [len(x) for x in data]\n",
    "ax2.scatter((1,2,3), data)\n",
    "ax2.set_ylabel('Number of Studies')\n",
    "ax2.grid(False)\n",
    "ax2.set_ylim([0,100])"
   ]
  },
  {
   "cell_type": "code",
   "execution_count": 449,
   "metadata": {},
   "outputs": [],
   "source": [
    "## box mtp for lok glb, lok jpn and cmic(including all phases)"
   ]
  },
  {
   "cell_type": "code",
   "execution_count": 450,
   "metadata": {
    "scrolled": true
   },
   "outputs": [
    {
     "data": {
      "text/plain": [
       "(0.0, 100.0)"
      ]
     },
     "execution_count": 450,
     "metadata": {},
     "output_type": "execute_result"
    },
    {
     "data": {
      "image/png": "[encoded data removed]",
      "text/plain": [
       "<Figure size 432x288 with 2 Axes>"
      ]
     },
     "metadata": {},
     "output_type": "display_data"
    }
   ],
   "source": [
    "fig, ax = plt.subplots()\n",
    "data = [lok_glb_met_fin_mtp.totalmajpd_by_totpd.dropna(), lok_jp_met_fin_mtp.totalmajpd_by_totpd.dropna(),cmic_glb_met_fin_mtp.totalmajpd_by_totpd.dropna() ]\n",
    "ax.boxplot(data, showfliers=False) #showfliers = false will remove the outliers while plotting the boxplot.\n",
    "plt.xticks((1,2,3), ('Lokavant - Global','Lokavant - JPN', 'CMIC'))\n",
    "#ax.set_title(title, fontsize=16)\n",
    "ax.grid(False)\n",
    "ax.set_ylabel('Major PDs per 1000 Total PDs')\n",
    "ax2 = ax.twinx()\n",
    "data = [len(x) for x in data]\n",
    "ax2.scatter((1,2,3), data)\n",
    "ax2.set_ylabel('Number of Studies')\n",
    "ax2.grid(False)\n",
    "ax2.set_ylim([0,100])"
   ]
  },
  {
   "cell_type": "code",
   "execution_count": null,
   "metadata": {},
   "outputs": [],
   "source": [
    "## Tukey plot for 1st metric - total pd by total sum of subject days"
   ]
  },
  {
   "cell_type": "code",
   "execution_count": null,
   "metadata": {},
   "outputs": [],
   "source": [
    "multiple_comparisons_phases(lok_glb_met_fin_pds, lok_jp_met_fin_pds, cmic_glb_met_fin_pds, 'totalpd_by_sum_subdays', row_num=None,japan_on=True)"
   ]
  },
  {
   "cell_type": "code",
   "execution_count": null,
   "metadata": {},
   "outputs": [],
   "source": [
    "## Tukey plot for 2nd metric - major pd by total pds"
   ]
  },
  {
   "cell_type": "code",
   "execution_count": null,
   "metadata": {},
   "outputs": [],
   "source": [
    "multiple_comparisons_phases(lok_glb_met_fin_mtp,lok_jp_met_fin_mtp, cmic_glb_met_fin_mtp, 'totalmajpd_by_totpd', row_num=None,japan_on=True)"
   ]
  },
  {
   "cell_type": "code",
   "execution_count": null,
   "metadata": {},
   "outputs": [],
   "source": [
    "## Writing all the data and graphs as output in excel"
   ]
  },
  {
   "cell_type": "code",
   "execution_count": 481,
   "metadata": {
    "scrolled": true
   },
   "outputs": [
    {
     "name": "stderr",
     "output_type": "stream",
     "text": [
      "/home/ajay.keshava/anaconda3/lib/python3.9/site-packages/xlsxwriter/workbook.py:338: UserWarning: Calling close() on already closed file.\n",
      "  warn(\"Calling close() on already closed file.\")\n"
     ]
    }
   ],
   "source": [
    "\n",
    "lkvt_gb_pd_by_sd_rate.to_excel(writer, sheet_name='lok_glb_psr')\n",
    "lkvt_jp_pd_by_sd_rate.to_excel(writer, sheet_name='lok_jpn_psr')\n",
    "#cmic_glb_pd_by_sd_rate.to_excel(writer, sheet_name='cmic_psr')\n",
    "ph_psr_lvk_glb.to_excel(writer, sheet_name='lok_glb_psr_ph')\n",
    "ph_psr_lvk_jpn.to_excel(writer, sheet_name='lok_jpn_psr_ph')\n",
    "ph_psr_cmic_glb.to_excel(writer, sheet_name='cmic_psr_ph')\n",
    "#aa.to_excel(writer, sheet_name='lok_glb_psr_line')\n",
    "#cc.to_excel(writer, sheet_name='lok_jpn_psr_line') \n",
    "#ee.to_excel(writer, sheet_name='cmic_psr_line')\n",
    "#a.to_excel(writer, sheet_name='lok_glb_psr_ph1')\n",
    "#b.to_excel(writer, sheet_name='lok_glb_psr_ph2') \n",
    "#c.to_excel(writer, sheet_name='lok_glb_psr_ph3')\n",
    "#d.to_excel(writer, sheet_name='lok_glb_psr_ph4')\n",
    "#i.to_excel(writer, sheet_name='lok_jpn_psr_ph1')\n",
    "#j.to_excel(writer, sheet_name='lok_jpn_psr_ph2') \n",
    "#k.to_excel(writer, sheet_name='lok_jpn_psr_ph3')\n",
    "#l.to_excel(writer, sheet_name='lok_jpn_psr_ph4')\n",
    "#q.to_excel(writer, sheet_name='cmic_psr_ph1')\n",
    "#r.to_excel(writer, sheet_name='cmic_psr_ph2') \n",
    "#s.to_excel(writer, sheet_name='cmic_psr_ph3')\n",
    "#t.to_excel(writer, sheet_name='cmic_psr_ph4')\n",
    "lkvt_gb_mp_by_tp_rate.to_excel(writer, sheet_name='lok_glb_mtr')\n",
    "lkvt_jp_mp_by_tp_rate.to_excel(writer, sheet_name='lok_jpn_mtr')\n",
    "#cmic_glb_mp_by_tp_rate.to_excel(writer, sheet_name='cmic_mtr')\n",
    "ph_mtr_lvk_glb.to_excel(writer, sheet_name='lok_glb_mtr_ph')\n",
    "#ph_mtr_lvk_jpn.to_excel(writer, sheet_name='lok_jpn_mtr_ph')\n",
    "ph_mtr_cmic_glb.to_excel(writer, sheet_name='cmic_mtr_ph')\n",
    "#bb.to_excel(writer, sheet_name='lok_glb_mtr_line')\n",
    "#dd.to_excel(writer, sheet_name='lok_jpn_mtr_line') \n",
    "#ff.to_excel(writer, sheet_name='cmic_mtr_line')\n",
    "#e.to_excel(writer, sheet_name='lok_glb_mtr_ph1')\n",
    "#f.to_excel(writer, sheet_name='lok_glb_mtr_ph2') \n",
    "#g.to_excel(writer, sheet_name='lok_glb_mtr_ph3')\n",
    "#h.to_excel(writer, sheet_name='lok_glb_mtr_ph4')\n",
    "#m.to_excel(writer, sheet_name='lok_jpn_mtr_ph1')\n",
    "#n.to_excel(writer, sheet_name='lok_jpn_mtr_ph2') \n",
    "#o.to_excel(writer, sheet_name='lok_jpn_mtr_ph3')\n",
    "#p.to_excel(writer, sheet_name='lok_jpn_mtr_ph4')\n",
    "#u.to_excel(writer, sheet_name='cmic_mtr_ph1')\n",
    "#v.to_excel(writer, sheet_name='cmic_mtr_ph2') \n",
    "#w.to_excel(writer, sheet_name='cmic_mtr_ph3')\n",
    "#x.to_excel(writer, sheet_name='cmic_mtr_ph4')\n",
    "\n",
    "writer.save()\n",
    "\n",
    "\n"
   ]
  }
 ],
 "metadata": {
  "interpreter": {
   "hash": "db3d08c9d74354dce751479d7d7ae46fbe52c01e32dc55f99483a0f6b2355258"
  },
  "kernelspec": {
   "display_name": "Python 3 (ipykernel)",
   "language": "python",
   "name": "python3"
  },
  "language_info": {
   "codemirror_mode": {
    "name": "ipython",
    "version": 3
   },
   "file_extension": ".py",
   "mimetype": "text/x-python",
   "name": "python",
   "nbconvert_exporter": "python",
   "pygments_lexer": "ipython3",
   "version": "3.9.7"
  }
 },
 "nbformat": 4,
 "nbformat_minor": 4
}
